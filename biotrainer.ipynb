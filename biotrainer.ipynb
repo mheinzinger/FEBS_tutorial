{
 "cells": [
  {
   "cell_type": "code",
   "execution_count": 1,
   "id": "a7e23c69",
   "metadata": {},
   "outputs": [],
   "source": [
    "from biotrainer.protocols import Protocol\n",
    "\n",
    "# protocols define on a high-level the problem setup (e.g. classification vs regression, protein vs residue)\n",
    "task_protocol = Protocol.sequence_to_class # refers to predicting for a full sequence one class label (e.g. subcellular localization)\n",
    "# alternatively you can use the following protocols:\n",
    "# https://github.com/sacdallago/biotrainer?tab=readme-ov-file#supported-prediction-tasks\n",
    "# in general, we support \n",
    "# - classification and regression tasks for a complete protein (Sequence-* and Residues-* protocols)\n",
    "# - classification and regression tasks for individual residues within a protein (residue level tasks (Residue-* protocols)"
   ]
  },
  {
   "cell_type": "code",
   "execution_count": 2,
   "id": "938a5663",
   "metadata": {},
   "outputs": [],
   "source": [
    "import requests\n",
    "# here we download an existing dataset for training a model.\n",
    "# in this tutorial, we will be predicting for a given protein sequence its subcellular localization.\n",
    "# Background information on this dataset can be found here: \n",
    "# https://academic.oup.com/nar/article/50/W1/W228/6576357\n",
    "# And here (extension of the test set towards a hard, non-redundant hold-out test set): \n",
    "# https://academic.oup.com/bioinformaticsadvances/article/1/1/vbab035/6432029 \n",
    "url = \"http://data.bioembeddings.com/public/FLIP/fasta/scl/mixed_hard.fasta\"\n",
    "headers = {\n",
    "    'User-Agent': 'Mozilla/5.0 (Windows NT 10.0; Win64; x64) AppleWebKit/537.36 (KHTML, like Gecko) Chrome/91.0.4472.124 Safari/537.36'\n",
    "}\n",
    "\n",
    "response = requests.get(url, headers=headers)\n",
    "with open(\"mixed_hard.fasta\", \"wb\") as f:\n",
    "    f.write(response.content)\n",
    "\n",
    "# After writing the file to disk use your favorite text editor/viewer to insepct \n",
    "# the expected data format (e.g. vim, less, head etc). \n",
    "# The file structure follows FASTA-format logic with lines starting with \">\" indicating headers,\n",
    "# and all other lines holding sequences or labels \n",
    "# Here an example:\n",
    "# >Sequence0 TARGET=Cell_membrane SET=train VALIDATION=False\n",
    "# SEQUENCE\n",
    "# >Sequence1 TARGET=Cytoplasm SET=train VALIDATION=True\n",
    "# PRTEIN\n",
    "# >Sequence2 TARGET=Nucleus SET=test VALIDATION=False\n",
    "# MADLDSP"
   ]
  },
  {
   "cell_type": "code",
   "execution_count": 3,
   "id": "d887dc14",
   "metadata": {},
   "outputs": [],
   "source": [
    "from biotrainer.utilities.cli import convert\n",
    "# a recent change in biotrainer data format requires reformatting data\n",
    "# for training a model on top of your own data, you can directly format your data according to the new format and skip this step\n",
    "convert(\"mixed_hard.fasta\") # convert old biotrainer format to new one\n",
    "# similar to the previous step, investigate the resulting data format.\n",
    "# Here an example:\n",
    "# >Sequence0 TARGET=Cell_membrane SET=train \n",
    "# SEQUENCE\n",
    "# >Sequence1 TARGET=Cytoplasm SET=val \n",
    "# PRTEIN\n",
    "# >Sequence2 TARGET=Nucleus SET=test \n",
    "# MADLDSP"
   ]
  },
  {
   "cell_type": "code",
   "execution_count": 5,
   "id": "74d14be3",
   "metadata": {},
   "outputs": [],
   "source": [
    "biotrainer_config_ohe = {\n",
    "    \"protocol\": task_protocol.name,  # We have a per-sequence classification task, so sequence_to_class\n",
    "    \"input_file\": \"converted.fasta\",  # The path (or file name if within the same directory as this notebook) to your dataset file\n",
    "    \"model_choice\": \"FNN\",  # Train a fully connected neural netowrk\n",
    "    \"embedder_name\": \"one_hot_encoding\",  # Name of the embedding model; here: one-hot-encoding as example. alternatively pLM name from huggingface: Rostlab/prot_t5_xl_uniref50 \n",
    "    \"num_epochs\": 10,  # Define how long we want to train at max (will be stopped by early-stopping)\n",
    "    \"loss_choice\": \"cross_entropy_loss\", # which loss function to use for training\n",
    "    \"learning_rate\": 1e-3,  # Default: 1e-3\n",
    "    \"dropout_rate\": 0.25,  # Default: 0.25\n",
    "    \"bootstrapping_iterations\": 30 # adds error bars based on bootstrapping to assess statistical signicance between different results\n",
    "}\n",
    "# for more options see: \n",
    "# https://github.com/sacdallago/biotrainer/blob/main/docs/config_file_options_overview.md"
   ]
  },
  {
   "cell_type": "code",
   "execution_count": 6,
   "id": "f7a82886",
   "metadata": {},
   "outputs": [
    {
     "data": {
      "text/plain": [
       "''"
      ]
     },
     "metadata": {},
     "output_type": "display_data"
    },
    {
     "data": {
      "text/html": [
       "\n",
       "                <div id=\"biotrainer_status\" style=\"margin: 10px 0;\">\n",
       "                    Biotrainer Training Running...\n",
       "                </div>\n",
       "            "
      ],
      "text/plain": [
       "<IPython.core.display.HTML object>"
      ]
     },
     "metadata": {},
     "output_type": "display_data"
    },
    {
     "data": {
      "text/html": [
       "\n",
       "            <script>\n",
       "                document.getElementById(\"biotrainer_status\").innerHTML = \"2025-10-01 09:24:09,889 INFO Creating log-directory: /Users/michael.heinzinger/scripts/biotrainer/output/FNN/one_hot_encoding\";\n",
       "            </script>\n",
       "        "
      ],
      "text/plain": [
       "<IPython.core.display.HTML object>"
      ]
     },
     "metadata": {},
     "output_type": "display_data"
    },
    {
     "data": {
      "text/html": [
       "\n",
       "            <script>\n",
       "                document.getElementById(\"biotrainer_status\").innerHTML = \"2025-10-01 09:24:09,889 INFO ** Running biotrainer (v1.0.0) training routine **\";\n",
       "            </script>\n",
       "        "
      ],
      "text/plain": [
       "<IPython.core.display.HTML object>"
      ]
     },
     "metadata": {},
     "output_type": "display_data"
    },
    {
     "data": {
      "text/html": [
       "\n",
       "            <script>\n",
       "                document.getElementById(\"biotrainer_status\").innerHTML = \"2025-10-01 09:24:09,890 INFO Pipeline start time: 2025-10-01T09:24:09.884924\";\n",
       "            </script>\n",
       "        "
      ],
      "text/plain": [
       "<IPython.core.display.HTML object>"
      ]
     },
     "metadata": {},
     "output_type": "display_data"
    },
    {
     "data": {
      "text/html": [
       "\n",
       "            <script>\n",
       "                document.getElementById(\"biotrainer_status\").innerHTML = \"2025-10-01 09:24:09,896 INFO Training model with hash: b8f136cd115817d3\";\n",
       "            </script>\n",
       "        "
      ],
      "text/plain": [
       "<IPython.core.display.HTML object>"
      ]
     },
     "metadata": {},
     "output_type": "display_data"
    },
    {
     "data": {
      "text/html": [
       "\n",
       "            <script>\n",
       "                document.getElementById(\"biotrainer_status\").innerHTML = \"2025-10-01 09:24:09,899 INFO Using seed: 42\";\n",
       "            </script>\n",
       "        "
      ],
      "text/plain": [
       "<IPython.core.display.HTML object>"
      ]
     },
     "metadata": {},
     "output_type": "display_data"
    },
    {
     "data": {
      "text/html": [
       "\n",
       "            <script>\n",
       "                document.getElementById(\"biotrainer_status\").innerHTML = \"2025-10-01 09:24:09,899 INFO Using device: mps\";\n",
       "            </script>\n",
       "        "
      ],
      "text/plain": [
       "<IPython.core.display.HTML object>"
      ]
     },
     "metadata": {},
     "output_type": "display_data"
    },
    {
     "data": {
      "text/html": [
       "\n",
       "            <script>\n",
       "                document.getElementById(\"biotrainer_status\").innerHTML = \"2025-10-01 09:24:09,901 INFO Executing step: InputValidationStep\";\n",
       "            </script>\n",
       "        "
      ],
      "text/plain": [
       "<IPython.core.display.HTML object>"
      ]
     },
     "metadata": {},
     "output_type": "display_data"
    },
    {
     "data": {
      "text/html": [
       "\n",
       "            <script>\n",
       "                document.getElementById(\"biotrainer_status\").innerHTML = \"2025-10-01 09:24:09,953 INFO Executing step: EmbeddingStep\";\n",
       "            </script>\n",
       "        "
      ],
      "text/plain": [
       "<IPython.core.display.HTML object>"
      ]
     },
     "metadata": {},
     "output_type": "display_data"
    },
    {
     "data": {
      "text/html": [
       "\n",
       "            <script>\n",
       "                document.getElementById(\"biotrainer_status\").innerHTML = \"2025-10-01 09:24:09,954 INFO Using predefined embedder: one_hot_encoding\";\n",
       "            </script>\n",
       "        "
      ],
      "text/plain": [
       "<IPython.core.display.HTML object>"
      ]
     },
     "metadata": {},
     "output_type": "display_data"
    },
    {
     "data": {
      "text/html": [
       "\n",
       "            <script>\n",
       "                document.getElementById(\"biotrainer_status\").innerHTML = \"2025-10-01 09:24:09,955 INFO Computing embeddings to: /Users/michael.heinzinger/scripts/biotrainer/output/sequence_to_class/one_hot_encoding/reduced_embeddings_file_one_hot_encoding.h5\";\n",
       "            </script>\n",
       "        "
      ],
      "text/plain": [
       "<IPython.core.display.HTML object>"
      ]
     },
     "metadata": {},
     "output_type": "display_data"
    },
    {
     "data": {
      "text/html": [
       "\n",
       "            <script>\n",
       "                document.getElementById(\"biotrainer_status\").innerHTML = \"2025-10-01 09:24:09,982 WARNING A sequence is 13100 residues long, which is longer than your `batch_size` parameter which is 6553\";\n",
       "            </script>\n",
       "        "
      ],
      "text/plain": [
       "<IPython.core.display.HTML object>"
      ]
     },
     "metadata": {},
     "output_type": "display_data"
    },
    {
     "data": {
      "text/html": [
       "\n",
       "            <script>\n",
       "                document.getElementById(\"biotrainer_status\").innerHTML = \"2025-10-01 09:24:09,985 WARNING A sequence is 6620 residues long, which is longer than your `batch_size` parameter which is 6553\";\n",
       "            </script>\n",
       "        "
      ],
      "text/plain": [
       "<IPython.core.display.HTML object>"
      ]
     },
     "metadata": {},
     "output_type": "display_data"
    },
    {
     "data": {
      "text/html": [
       "\n",
       "            <script>\n",
       "                document.getElementById(\"biotrainer_status\").innerHTML = \"2025-10-01 09:24:11,030 INFO Time elapsed for computing embeddings: 1.07[s]\";\n",
       "            </script>\n",
       "        "
      ],
      "text/plain": [
       "<IPython.core.display.HTML object>"
      ]
     },
     "metadata": {},
     "output_type": "display_data"
    },
    {
     "data": {
      "text/html": [
       "\n",
       "            <script>\n",
       "                document.getElementById(\"biotrainer_status\").innerHTML = \"2025-10-01 09:24:11,094 INFO Loading embeddings from: /Users/michael.heinzinger/scripts/biotrainer/output/sequence_to_class/one_hot_encoding/reduced_embeddings_file_one_hot_encoding.h5\";\n",
       "            </script>\n",
       "        "
      ],
      "text/plain": [
       "<IPython.core.display.HTML object>"
      ]
     },
     "metadata": {},
     "output_type": "display_data"
    },
    {
     "data": {
      "text/html": [
       "\n",
       "            <script>\n",
       "                document.getElementById(\"biotrainer_status\").innerHTML = \"2025-10-01 09:24:11,519 INFO Read 11671 entries.\";\n",
       "            </script>\n",
       "        "
      ],
      "text/plain": [
       "<IPython.core.display.HTML object>"
      ]
     },
     "metadata": {},
     "output_type": "display_data"
    },
    {
     "data": {
      "text/html": [
       "\n",
       "            <script>\n",
       "                document.getElementById(\"biotrainer_status\").innerHTML = \"2025-10-01 09:24:11,520 INFO Time elapsed for reading embeddings: 0.4[s]\";\n",
       "            </script>\n",
       "        "
      ],
      "text/plain": [
       "<IPython.core.display.HTML object>"
      ]
     },
     "metadata": {},
     "output_type": "display_data"
    },
    {
     "data": {
      "text/html": [
       "\n",
       "            <script>\n",
       "                document.getElementById(\"biotrainer_status\").innerHTML = \"2025-10-01 09:24:11,532 INFO Executing step: ProjectionStep\";\n",
       "            </script>\n",
       "        "
      ],
      "text/plain": [
       "<IPython.core.display.HTML object>"
      ]
     },
     "metadata": {},
     "output_type": "display_data"
    },
    {
     "data": {
      "text/html": [
       "\n",
       "            <script>\n",
       "                document.getElementById(\"biotrainer_status\").innerHTML = \"2025-10-01 09:24:11,533 INFO No dimension reduction performed (as configured).\";\n",
       "            </script>\n",
       "        "
      ],
      "text/plain": [
       "<IPython.core.display.HTML object>"
      ]
     },
     "metadata": {},
     "output_type": "display_data"
    },
    {
     "data": {
      "text/html": [
       "\n",
       "            <script>\n",
       "                document.getElementById(\"biotrainer_status\").innerHTML = \"2025-10-01 09:24:11,533 INFO Executing step: DataLoadingStep\";\n",
       "            </script>\n",
       "        "
      ],
      "text/plain": [
       "<IPython.core.display.HTML object>"
      ]
     },
     "metadata": {},
     "output_type": "display_data"
    },
    {
     "data": {
      "text/html": [
       "\n",
       "            <script>\n",
       "                document.getElementById(\"biotrainer_status\").innerHTML = \"2025-10-01 09:24:11,601 INFO Number of features: 21\";\n",
       "            </script>\n",
       "        "
      ],
      "text/plain": [
       "<IPython.core.display.HTML object>"
      ]
     },
     "metadata": {},
     "output_type": "display_data"
    },
    {
     "data": {
      "text/html": [
       "\n",
       "            <script>\n",
       "                document.getElementById(\"biotrainer_status\").innerHTML = \"2025-10-01 09:24:11,602 INFO Number of outputs (i.e. classes, equals 1 for regression): 10\";\n",
       "            </script>\n",
       "        "
      ],
      "text/plain": [
       "<IPython.core.display.HTML object>"
      ]
     },
     "metadata": {},
     "output_type": "display_data"
    },
    {
     "data": {
      "text/html": [
       "\n",
       "            <script>\n",
       "                document.getElementById(\"biotrainer_status\").innerHTML = \"2025-10-01 09:24:11,604 INFO Total number of sequences/residues: 9503\";\n",
       "            </script>\n",
       "        "
      ],
      "text/plain": [
       "<IPython.core.display.HTML object>"
      ]
     },
     "metadata": {},
     "output_type": "display_data"
    },
    {
     "data": {
      "text/html": [
       "\n",
       "            <script>\n",
       "                document.getElementById(\"biotrainer_status\").innerHTML = \"2025-10-01 09:24:11,604 INFO Individual class counts and weights (training set):\";\n",
       "            </script>\n",
       "        "
      ],
      "text/plain": [
       "<IPython.core.display.HTML object>"
      ]
     },
     "metadata": {},
     "output_type": "display_data"
    },
    {
     "data": {
      "text/html": [
       "\n",
       "            <script>\n",
       "                document.getElementById(\"biotrainer_status\").innerHTML = \"2025-10-01 09:24:11,605 INFO \tCell_membrane : 906 (1.049)\";\n",
       "            </script>\n",
       "        "
      ],
      "text/plain": [
       "<IPython.core.display.HTML object>"
      ]
     },
     "metadata": {},
     "output_type": "display_data"
    },
    {
     "data": {
      "text/html": [
       "\n",
       "            <script>\n",
       "                document.getElementById(\"biotrainer_status\").innerHTML = \"2025-10-01 09:24:11,605 INFO \tCytoplasm : 1862 (0.510)\";\n",
       "            </script>\n",
       "        "
      ],
      "text/plain": [
       "<IPython.core.display.HTML object>"
      ]
     },
     "metadata": {},
     "output_type": "display_data"
    },
    {
     "data": {
      "text/html": [
       "\n",
       "            <script>\n",
       "                document.getElementById(\"biotrainer_status\").innerHTML = \"2025-10-01 09:24:11,606 INFO \tEndoplasmic_reticulum : 594 (1.600)\";\n",
       "            </script>\n",
       "        "
      ],
      "text/plain": [
       "<IPython.core.display.HTML object>"
      ]
     },
     "metadata": {},
     "output_type": "display_data"
    },
    {
     "data": {
      "text/html": [
       "\n",
       "            <script>\n",
       "                document.getElementById(\"biotrainer_status\").innerHTML = \"2025-10-01 09:24:11,606 INFO \tExtracellular : 1322 (0.719)\";\n",
       "            </script>\n",
       "        "
      ],
      "text/plain": [
       "<IPython.core.display.HTML object>"
      ]
     },
     "metadata": {},
     "output_type": "display_data"
    },
    {
     "data": {
      "text/html": [
       "\n",
       "            <script>\n",
       "                document.getElementById(\"biotrainer_status\").innerHTML = \"2025-10-01 09:24:11,607 INFO \tGolgi_apparatus : 238 (3.993)\";\n",
       "            </script>\n",
       "        "
      ],
      "text/plain": [
       "<IPython.core.display.HTML object>"
      ]
     },
     "metadata": {},
     "output_type": "display_data"
    },
    {
     "data": {
      "text/html": [
       "\n",
       "            <script>\n",
       "                document.getElementById(\"biotrainer_status\").innerHTML = \"2025-10-01 09:24:11,607 INFO \tLysosome : 214 (4.441)\";\n",
       "            </script>\n",
       "        "
      ],
      "text/plain": [
       "<IPython.core.display.HTML object>"
      ]
     },
     "metadata": {},
     "output_type": "display_data"
    },
    {
     "data": {
      "text/html": [
       "\n",
       "            <script>\n",
       "                document.getElementById(\"biotrainer_status\").innerHTML = \"2025-10-01 09:24:11,607 INFO \tMitochondrion : 1003 (0.947)\";\n",
       "            </script>\n",
       "        "
      ],
      "text/plain": [
       "<IPython.core.display.HTML object>"
      ]
     },
     "metadata": {},
     "output_type": "display_data"
    },
    {
     "data": {
      "text/html": [
       "\n",
       "            <script>\n",
       "                document.getElementById(\"biotrainer_status\").innerHTML = \"2025-10-01 09:24:11,608 INFO \tNucleus : 2752 (0.345)\";\n",
       "            </script>\n",
       "        "
      ],
      "text/plain": [
       "<IPython.core.display.HTML object>"
      ]
     },
     "metadata": {},
     "output_type": "display_data"
    },
    {
     "data": {
      "text/html": [
       "\n",
       "            <script>\n",
       "                document.getElementById(\"biotrainer_status\").innerHTML = \"2025-10-01 09:24:11,608 INFO \tPeroxisome : 101 (9.409)\";\n",
       "            </script>\n",
       "        "
      ],
      "text/plain": [
       "<IPython.core.display.HTML object>"
      ]
     },
     "metadata": {},
     "output_type": "display_data"
    },
    {
     "data": {
      "text/html": [
       "\n",
       "            <script>\n",
       "                document.getElementById(\"biotrainer_status\").innerHTML = \"2025-10-01 09:24:11,609 INFO \tPlastid : 511 (1.860)\";\n",
       "            </script>\n",
       "        "
      ],
      "text/plain": [
       "<IPython.core.display.HTML object>"
      ]
     },
     "metadata": {},
     "output_type": "display_data"
    },
    {
     "data": {
      "text/html": [
       "\n",
       "            <script>\n",
       "                document.getElementById(\"biotrainer_status\").innerHTML = \"2025-10-01 09:24:11,609 INFO Executing step: TrainingStep\";\n",
       "            </script>\n",
       "        "
      ],
      "text/plain": [
       "<IPython.core.display.HTML object>"
      ]
     },
     "metadata": {},
     "output_type": "display_data"
    },
    {
     "data": {
      "text/html": [
       "\n",
       "            <script>\n",
       "                document.getElementById(\"biotrainer_status\").innerHTML = \"2025-10-01 09:24:11,610 INFO Training model for split hold_out:\";\n",
       "            </script>\n",
       "        "
      ],
      "text/plain": [
       "<IPython.core.display.HTML object>"
      ]
     },
     "metadata": {},
     "output_type": "display_data"
    },
    {
     "data": {
      "text/html": [
       "\n",
       "            <script>\n",
       "                document.getElementById(\"biotrainer_status\").innerHTML = \"2025-10-01 09:24:11,626 INFO Checkpoint(s) will be stored at /Users/michael.heinzinger/scripts/biotrainer/output/FNN/one_hot_encoding/hold_out_checkpoint.safetensors\";\n",
       "            </script>\n",
       "        "
      ],
      "text/plain": [
       "<IPython.core.display.HTML object>"
      ]
     },
     "metadata": {},
     "output_type": "display_data"
    },
    {
     "data": {
      "text/html": [
       "\n",
       "            <script>\n",
       "                document.getElementById(\"biotrainer_status\").innerHTML = \"2025-10-01 09:24:12,386 INFO Epoch 0\";\n",
       "            </script>\n",
       "        "
      ],
      "text/plain": [
       "<IPython.core.display.HTML object>"
      ]
     },
     "metadata": {},
     "output_type": "display_data"
    },
    {
     "data": {
      "text/html": [
       "\n",
       "            <script>\n",
       "                document.getElementById(\"biotrainer_status\").innerHTML = \"2025-10-01 09:24:12,387 INFO Training results\";\n",
       "            </script>\n",
       "        "
      ],
      "text/plain": [
       "<IPython.core.display.HTML object>"
      ]
     },
     "metadata": {},
     "output_type": "display_data"
    },
    {
     "data": {
      "text/html": [
       "\n",
       "            <script>\n",
       "                document.getElementById(\"biotrainer_status\").innerHTML = \"2025-10-01 09:24:12,387 INFO \tloss: 2.31\";\n",
       "            </script>\n",
       "        "
      ],
      "text/plain": [
       "<IPython.core.display.HTML object>"
      ]
     },
     "metadata": {},
     "output_type": "display_data"
    },
    {
     "data": {
      "text/html": [
       "\n",
       "            <script>\n",
       "                document.getElementById(\"biotrainer_status\").innerHTML = \"2025-10-01 09:24:12,388 INFO \taccuracy: 0.07\";\n",
       "            </script>\n",
       "        "
      ],
      "text/plain": [
       "<IPython.core.display.HTML object>"
      ]
     },
     "metadata": {},
     "output_type": "display_data"
    },
    {
     "data": {
      "text/html": [
       "\n",
       "            <script>\n",
       "                document.getElementById(\"biotrainer_status\").innerHTML = \"2025-10-01 09:24:12,388 INFO \tmacro-precision: 0.08\";\n",
       "            </script>\n",
       "        "
      ],
      "text/plain": [
       "<IPython.core.display.HTML object>"
      ]
     },
     "metadata": {},
     "output_type": "display_data"
    },
    {
     "data": {
      "text/html": [
       "\n",
       "            <script>\n",
       "                document.getElementById(\"biotrainer_status\").innerHTML = \"2025-10-01 09:24:12,389 INFO \tmicro-precision: 0.07\";\n",
       "            </script>\n",
       "        "
      ],
      "text/plain": [
       "<IPython.core.display.HTML object>"
      ]
     },
     "metadata": {},
     "output_type": "display_data"
    },
    {
     "data": {
      "text/html": [
       "\n",
       "            <script>\n",
       "                document.getElementById(\"biotrainer_status\").innerHTML = \"2025-10-01 09:24:12,389 INFO \t- precision class 0: 0.11\";\n",
       "            </script>\n",
       "        "
      ],
      "text/plain": [
       "<IPython.core.display.HTML object>"
      ]
     },
     "metadata": {},
     "output_type": "display_data"
    },
    {
     "data": {
      "text/html": [
       "\n",
       "            <script>\n",
       "                document.getElementById(\"biotrainer_status\").innerHTML = \"2025-10-01 09:24:12,390 INFO \t- precision class 1: 0.25\";\n",
       "            </script>\n",
       "        "
      ],
      "text/plain": [
       "<IPython.core.display.HTML object>"
      ]
     },
     "metadata": {},
     "output_type": "display_data"
    },
    {
     "data": {
      "text/html": [
       "\n",
       "            <script>\n",
       "                document.getElementById(\"biotrainer_status\").innerHTML = \"2025-10-01 09:24:12,390 INFO \t- precision class 2: 0.06\";\n",
       "            </script>\n",
       "        "
      ],
      "text/plain": [
       "<IPython.core.display.HTML object>"
      ]
     },
     "metadata": {},
     "output_type": "display_data"
    },
    {
     "data": {
      "text/html": [
       "\n",
       "            <script>\n",
       "                document.getElementById(\"biotrainer_status\").innerHTML = \"2025-10-01 09:24:12,390 INFO \t- precision class 3: 0.23\";\n",
       "            </script>\n",
       "        "
      ],
      "text/plain": [
       "<IPython.core.display.HTML object>"
      ]
     },
     "metadata": {},
     "output_type": "display_data"
    },
    {
     "data": {
      "text/html": [
       "\n",
       "            <script>\n",
       "                document.getElementById(\"biotrainer_status\").innerHTML = \"2025-10-01 09:24:12,391 INFO \t- precision class 4: 0.03\";\n",
       "            </script>\n",
       "        "
      ],
      "text/plain": [
       "<IPython.core.display.HTML object>"
      ]
     },
     "metadata": {},
     "output_type": "display_data"
    },
    {
     "data": {
      "text/html": [
       "\n",
       "            <script>\n",
       "                document.getElementById(\"biotrainer_status\").innerHTML = \"2025-10-01 09:24:12,391 INFO \t- precision class 5: 0.00\";\n",
       "            </script>\n",
       "        "
      ],
      "text/plain": [
       "<IPython.core.display.HTML object>"
      ]
     },
     "metadata": {},
     "output_type": "display_data"
    },
    {
     "data": {
      "text/html": [
       "\n",
       "            <script>\n",
       "                document.getElementById(\"biotrainer_status\").innerHTML = \"2025-10-01 09:24:12,392 INFO \t- precision class 6: 0.11\";\n",
       "            </script>\n",
       "        "
      ],
      "text/plain": [
       "<IPython.core.display.HTML object>"
      ]
     },
     "metadata": {},
     "output_type": "display_data"
    },
    {
     "data": {
      "text/html": [
       "\n",
       "            <script>\n",
       "                document.getElementById(\"biotrainer_status\").innerHTML = \"2025-10-01 09:24:12,392 INFO \t- precision class 7: 0.00\";\n",
       "            </script>\n",
       "        "
      ],
      "text/plain": [
       "<IPython.core.display.HTML object>"
      ]
     },
     "metadata": {},
     "output_type": "display_data"
    },
    {
     "data": {
      "text/html": [
       "\n",
       "            <script>\n",
       "                document.getElementById(\"biotrainer_status\").innerHTML = \"2025-10-01 09:24:12,392 INFO \t- precision class 8: 0.00\";\n",
       "            </script>\n",
       "        "
      ],
      "text/plain": [
       "<IPython.core.display.HTML object>"
      ]
     },
     "metadata": {},
     "output_type": "display_data"
    },
    {
     "data": {
      "text/html": [
       "\n",
       "            <script>\n",
       "                document.getElementById(\"biotrainer_status\").innerHTML = \"2025-10-01 09:24:12,393 INFO \t- precision class 9: 0.00\";\n",
       "            </script>\n",
       "        "
      ],
      "text/plain": [
       "<IPython.core.display.HTML object>"
      ]
     },
     "metadata": {},
     "output_type": "display_data"
    },
    {
     "data": {
      "text/html": [
       "\n",
       "            <script>\n",
       "                document.getElementById(\"biotrainer_status\").innerHTML = \"2025-10-01 09:24:12,393 INFO \tmacro-recall: 0.10\";\n",
       "            </script>\n",
       "        "
      ],
      "text/plain": [
       "<IPython.core.display.HTML object>"
      ]
     },
     "metadata": {},
     "output_type": "display_data"
    },
    {
     "data": {
      "text/html": [
       "\n",
       "            <script>\n",
       "                document.getElementById(\"biotrainer_status\").innerHTML = \"2025-10-01 09:24:12,394 INFO \tmicro-recall: 0.07\";\n",
       "            </script>\n",
       "        "
      ],
      "text/plain": [
       "<IPython.core.display.HTML object>"
      ]
     },
     "metadata": {},
     "output_type": "display_data"
    },
    {
     "data": {
      "text/html": [
       "\n",
       "            <script>\n",
       "                document.getElementById(\"biotrainer_status\").innerHTML = \"2025-10-01 09:24:12,394 INFO \t- recall class 0: 0.15\";\n",
       "            </script>\n",
       "        "
      ],
      "text/plain": [
       "<IPython.core.display.HTML object>"
      ]
     },
     "metadata": {},
     "output_type": "display_data"
    },
    {
     "data": {
      "text/html": [
       "\n",
       "            <script>\n",
       "                document.getElementById(\"biotrainer_status\").innerHTML = \"2025-10-01 09:24:12,394 INFO \t- recall class 1: 0.00\";\n",
       "            </script>\n",
       "        "
      ],
      "text/plain": [
       "<IPython.core.display.HTML object>"
      ]
     },
     "metadata": {},
     "output_type": "display_data"
    },
    {
     "data": {
      "text/html": [
       "\n",
       "            <script>\n",
       "                document.getElementById(\"biotrainer_status\").innerHTML = \"2025-10-01 09:24:12,395 INFO \t- recall class 2: 0.42\";\n",
       "            </script>\n",
       "        "
      ],
      "text/plain": [
       "<IPython.core.display.HTML object>"
      ]
     },
     "metadata": {},
     "output_type": "display_data"
    },
    {
     "data": {
      "text/html": [
       "\n",
       "            <script>\n",
       "                document.getElementById(\"biotrainer_status\").innerHTML = \"2025-10-01 09:24:12,395 INFO \t- recall class 3: 0.01\";\n",
       "            </script>\n",
       "        "
      ],
      "text/plain": [
       "<IPython.core.display.HTML object>"
      ]
     },
     "metadata": {},
     "output_type": "display_data"
    },
    {
     "data": {
      "text/html": [
       "\n",
       "            <script>\n",
       "                document.getElementById(\"biotrainer_status\").innerHTML = \"2025-10-01 09:24:12,396 INFO \t- recall class 4: 0.20\";\n",
       "            </script>\n",
       "        "
      ],
      "text/plain": [
       "<IPython.core.display.HTML object>"
      ]
     },
     "metadata": {},
     "output_type": "display_data"
    },
    {
     "data": {
      "text/html": [
       "\n",
       "            <script>\n",
       "                document.getElementById(\"biotrainer_status\").innerHTML = \"2025-10-01 09:24:12,396 INFO \t- recall class 5: 0.00\";\n",
       "            </script>\n",
       "        "
      ],
      "text/plain": [
       "<IPython.core.display.HTML object>"
      ]
     },
     "metadata": {},
     "output_type": "display_data"
    },
    {
     "data": {
      "text/html": [
       "\n",
       "            <script>\n",
       "                document.getElementById(\"biotrainer_status\").innerHTML = \"2025-10-01 09:24:12,397 INFO \t- recall class 6: 0.25\";\n",
       "            </script>\n",
       "        "
      ],
      "text/plain": [
       "<IPython.core.display.HTML object>"
      ]
     },
     "metadata": {},
     "output_type": "display_data"
    },
    {
     "data": {
      "text/html": [
       "\n",
       "            <script>\n",
       "                document.getElementById(\"biotrainer_status\").innerHTML = \"2025-10-01 09:24:12,397 INFO \t- recall class 7: 0.00\";\n",
       "            </script>\n",
       "        "
      ],
      "text/plain": [
       "<IPython.core.display.HTML object>"
      ]
     },
     "metadata": {},
     "output_type": "display_data"
    },
    {
     "data": {
      "text/html": [
       "\n",
       "            <script>\n",
       "                document.getElementById(\"biotrainer_status\").innerHTML = \"2025-10-01 09:24:12,397 INFO \t- recall class 8: 0.00\";\n",
       "            </script>\n",
       "        "
      ],
      "text/plain": [
       "<IPython.core.display.HTML object>"
      ]
     },
     "metadata": {},
     "output_type": "display_data"
    },
    {
     "data": {
      "text/html": [
       "\n",
       "            <script>\n",
       "                document.getElementById(\"biotrainer_status\").innerHTML = \"2025-10-01 09:24:12,398 INFO \t- recall class 9: 0.00\";\n",
       "            </script>\n",
       "        "
      ],
      "text/plain": [
       "<IPython.core.display.HTML object>"
      ]
     },
     "metadata": {},
     "output_type": "display_data"
    },
    {
     "data": {
      "text/html": [
       "\n",
       "            <script>\n",
       "                document.getElementById(\"biotrainer_status\").innerHTML = \"2025-10-01 09:24:12,398 INFO \tmacro-f1_score: 0.05\";\n",
       "            </script>\n",
       "        "
      ],
      "text/plain": [
       "<IPython.core.display.HTML object>"
      ]
     },
     "metadata": {},
     "output_type": "display_data"
    },
    {
     "data": {
      "text/html": [
       "\n",
       "            <script>\n",
       "                document.getElementById(\"biotrainer_status\").innerHTML = \"2025-10-01 09:24:12,399 INFO \tmicro-f1_score: 0.07\";\n",
       "            </script>\n",
       "        "
      ],
      "text/plain": [
       "<IPython.core.display.HTML object>"
      ]
     },
     "metadata": {},
     "output_type": "display_data"
    },
    {
     "data": {
      "text/html": [
       "\n",
       "            <script>\n",
       "                document.getElementById(\"biotrainer_status\").innerHTML = \"2025-10-01 09:24:12,399 INFO \t- f1_score class 0: 0.13\";\n",
       "            </script>\n",
       "        "
      ],
      "text/plain": [
       "<IPython.core.display.HTML object>"
      ]
     },
     "metadata": {},
     "output_type": "display_data"
    },
    {
     "data": {
      "text/html": [
       "\n",
       "            <script>\n",
       "                document.getElementById(\"biotrainer_status\").innerHTML = \"2025-10-01 09:24:12,400 INFO \t- f1_score class 1: 0.00\";\n",
       "            </script>\n",
       "        "
      ],
      "text/plain": [
       "<IPython.core.display.HTML object>"
      ]
     },
     "metadata": {},
     "output_type": "display_data"
    },
    {
     "data": {
      "text/html": [
       "\n",
       "            <script>\n",
       "                document.getElementById(\"biotrainer_status\").innerHTML = \"2025-10-01 09:24:12,401 INFO \t- f1_score class 2: 0.11\";\n",
       "            </script>\n",
       "        "
      ],
      "text/plain": [
       "<IPython.core.display.HTML object>"
      ]
     },
     "metadata": {},
     "output_type": "display_data"
    },
    {
     "data": {
      "text/html": [
       "\n",
       "            <script>\n",
       "                document.getElementById(\"biotrainer_status\").innerHTML = \"2025-10-01 09:24:12,401 INFO \t- f1_score class 3: 0.02\";\n",
       "            </script>\n",
       "        "
      ],
      "text/plain": [
       "<IPython.core.display.HTML object>"
      ]
     },
     "metadata": {},
     "output_type": "display_data"
    },
    {
     "data": {
      "text/html": [
       "\n",
       "            <script>\n",
       "                document.getElementById(\"biotrainer_status\").innerHTML = \"2025-10-01 09:24:12,402 INFO \t- f1_score class 4: 0.05\";\n",
       "            </script>\n",
       "        "
      ],
      "text/plain": [
       "<IPython.core.display.HTML object>"
      ]
     },
     "metadata": {},
     "output_type": "display_data"
    },
    {
     "data": {
      "text/html": [
       "\n",
       "            <script>\n",
       "                document.getElementById(\"biotrainer_status\").innerHTML = \"2025-10-01 09:24:12,402 INFO \t- f1_score class 5: 0.00\";\n",
       "            </script>\n",
       "        "
      ],
      "text/plain": [
       "<IPython.core.display.HTML object>"
      ]
     },
     "metadata": {},
     "output_type": "display_data"
    },
    {
     "data": {
      "text/html": [
       "\n",
       "            <script>\n",
       "                document.getElementById(\"biotrainer_status\").innerHTML = \"2025-10-01 09:24:12,403 INFO \t- f1_score class 6: 0.16\";\n",
       "            </script>\n",
       "        "
      ],
      "text/plain": [
       "<IPython.core.display.HTML object>"
      ]
     },
     "metadata": {},
     "output_type": "display_data"
    },
    {
     "data": {
      "text/html": [
       "\n",
       "            <script>\n",
       "                document.getElementById(\"biotrainer_status\").innerHTML = \"2025-10-01 09:24:12,404 INFO \t- f1_score class 7: 0.00\";\n",
       "            </script>\n",
       "        "
      ],
      "text/plain": [
       "<IPython.core.display.HTML object>"
      ]
     },
     "metadata": {},
     "output_type": "display_data"
    },
    {
     "data": {
      "text/html": [
       "\n",
       "            <script>\n",
       "                document.getElementById(\"biotrainer_status\").innerHTML = \"2025-10-01 09:24:12,404 INFO \t- f1_score class 8: 0.00\";\n",
       "            </script>\n",
       "        "
      ],
      "text/plain": [
       "<IPython.core.display.HTML object>"
      ]
     },
     "metadata": {},
     "output_type": "display_data"
    },
    {
     "data": {
      "text/html": [
       "\n",
       "            <script>\n",
       "                document.getElementById(\"biotrainer_status\").innerHTML = \"2025-10-01 09:24:12,405 INFO \t- f1_score class 9: 0.00\";\n",
       "            </script>\n",
       "        "
      ],
      "text/plain": [
       "<IPython.core.display.HTML object>"
      ]
     },
     "metadata": {},
     "output_type": "display_data"
    },
    {
     "data": {
      "text/html": [
       "\n",
       "            <script>\n",
       "                document.getElementById(\"biotrainer_status\").innerHTML = \"2025-10-01 09:24:12,405 INFO \tspearmans-corr-coeff: 0.01\";\n",
       "            </script>\n",
       "        "
      ],
      "text/plain": [
       "<IPython.core.display.HTML object>"
      ]
     },
     "metadata": {},
     "output_type": "display_data"
    },
    {
     "data": {
      "text/html": [
       "\n",
       "            <script>\n",
       "                document.getElementById(\"biotrainer_status\").innerHTML = \"2025-10-01 09:24:12,406 INFO \tmatthews-corr-coeff: 0.01\";\n",
       "            </script>\n",
       "        "
      ],
      "text/plain": [
       "<IPython.core.display.HTML object>"
      ]
     },
     "metadata": {},
     "output_type": "display_data"
    },
    {
     "data": {
      "text/html": [
       "\n",
       "            <script>\n",
       "                document.getElementById(\"biotrainer_status\").innerHTML = \"2025-10-01 09:24:12,406 INFO Validation results\";\n",
       "            </script>\n",
       "        "
      ],
      "text/plain": [
       "<IPython.core.display.HTML object>"
      ]
     },
     "metadata": {},
     "output_type": "display_data"
    },
    {
     "data": {
      "text/html": [
       "\n",
       "            <script>\n",
       "                document.getElementById(\"biotrainer_status\").innerHTML = \"2025-10-01 09:24:12,407 INFO \tloss: 2.30\";\n",
       "            </script>\n",
       "        "
      ],
      "text/plain": [
       "<IPython.core.display.HTML object>"
      ]
     },
     "metadata": {},
     "output_type": "display_data"
    },
    {
     "data": {
      "text/html": [
       "\n",
       "            <script>\n",
       "                document.getElementById(\"biotrainer_status\").innerHTML = \"2025-10-01 09:24:12,407 INFO \taccuracy: 0.07\";\n",
       "            </script>\n",
       "        "
      ],
      "text/plain": [
       "<IPython.core.display.HTML object>"
      ]
     },
     "metadata": {},
     "output_type": "display_data"
    },
    {
     "data": {
      "text/html": [
       "\n",
       "            <script>\n",
       "                document.getElementById(\"biotrainer_status\").innerHTML = \"2025-10-01 09:24:12,408 INFO \tmacro-precision: 0.03\";\n",
       "            </script>\n",
       "        "
      ],
      "text/plain": [
       "<IPython.core.display.HTML object>"
      ]
     },
     "metadata": {},
     "output_type": "display_data"
    },
    {
     "data": {
      "text/html": [
       "\n",
       "            <script>\n",
       "                document.getElementById(\"biotrainer_status\").innerHTML = \"2025-10-01 09:24:12,408 INFO \tmicro-precision: 0.07\";\n",
       "            </script>\n",
       "        "
      ],
      "text/plain": [
       "<IPython.core.display.HTML object>"
      ]
     },
     "metadata": {},
     "output_type": "display_data"
    },
    {
     "data": {
      "text/html": [
       "\n",
       "            <script>\n",
       "                document.getElementById(\"biotrainer_status\").innerHTML = \"2025-10-01 09:24:12,409 INFO \t- precision class 0: 0.07\";\n",
       "            </script>\n",
       "        "
      ],
      "text/plain": [
       "<IPython.core.display.HTML object>"
      ]
     },
     "metadata": {},
     "output_type": "display_data"
    },
    {
     "data": {
      "text/html": [
       "\n",
       "            <script>\n",
       "                document.getElementById(\"biotrainer_status\").innerHTML = \"2025-10-01 09:24:12,409 INFO \t- precision class 1: 0.00\";\n",
       "            </script>\n",
       "        "
      ],
      "text/plain": [
       "<IPython.core.display.HTML object>"
      ]
     },
     "metadata": {},
     "output_type": "display_data"
    },
    {
     "data": {
      "text/html": [
       "\n",
       "            <script>\n",
       "                document.getElementById(\"biotrainer_status\").innerHTML = \"2025-10-01 09:24:12,410 INFO \t- precision class 2: 0.06\";\n",
       "            </script>\n",
       "        "
      ],
      "text/plain": [
       "<IPython.core.display.HTML object>"
      ]
     },
     "metadata": {},
     "output_type": "display_data"
    },
    {
     "data": {
      "text/html": [
       "\n",
       "            <script>\n",
       "                document.getElementById(\"biotrainer_status\").innerHTML = \"2025-10-01 09:24:12,410 INFO \t- precision class 3: 0.00\";\n",
       "            </script>\n",
       "        "
      ],
      "text/plain": [
       "<IPython.core.display.HTML object>"
      ]
     },
     "metadata": {},
     "output_type": "display_data"
    },
    {
     "data": {
      "text/html": [
       "\n",
       "            <script>\n",
       "                document.getElementById(\"biotrainer_status\").innerHTML = \"2025-10-01 09:24:12,411 INFO \t- precision class 4: 0.03\";\n",
       "            </script>\n",
       "        "
      ],
      "text/plain": [
       "<IPython.core.display.HTML object>"
      ]
     },
     "metadata": {},
     "output_type": "display_data"
    },
    {
     "data": {
      "text/html": [
       "\n",
       "            <script>\n",
       "                document.getElementById(\"biotrainer_status\").innerHTML = \"2025-10-01 09:24:12,412 INFO \t- precision class 5: 0.00\";\n",
       "            </script>\n",
       "        "
      ],
      "text/plain": [
       "<IPython.core.display.HTML object>"
      ]
     },
     "metadata": {},
     "output_type": "display_data"
    },
    {
     "data": {
      "text/html": [
       "\n",
       "            <script>\n",
       "                document.getElementById(\"biotrainer_status\").innerHTML = \"2025-10-01 09:24:12,412 INFO \t- precision class 6: 0.12\";\n",
       "            </script>\n",
       "        "
      ],
      "text/plain": [
       "<IPython.core.display.HTML object>"
      ]
     },
     "metadata": {},
     "output_type": "display_data"
    },
    {
     "data": {
      "text/html": [
       "\n",
       "            <script>\n",
       "                document.getElementById(\"biotrainer_status\").innerHTML = \"2025-10-01 09:24:12,413 INFO \t- precision class 7: 0.00\";\n",
       "            </script>\n",
       "        "
      ],
      "text/plain": [
       "<IPython.core.display.HTML object>"
      ]
     },
     "metadata": {},
     "output_type": "display_data"
    },
    {
     "data": {
      "text/html": [
       "\n",
       "            <script>\n",
       "                document.getElementById(\"biotrainer_status\").innerHTML = \"2025-10-01 09:24:12,413 INFO \t- precision class 8: 0.00\";\n",
       "            </script>\n",
       "        "
      ],
      "text/plain": [
       "<IPython.core.display.HTML object>"
      ]
     },
     "metadata": {},
     "output_type": "display_data"
    },
    {
     "data": {
      "text/html": [
       "\n",
       "            <script>\n",
       "                document.getElementById(\"biotrainer_status\").innerHTML = \"2025-10-01 09:24:12,414 INFO \t- precision class 9: 0.00\";\n",
       "            </script>\n",
       "        "
      ],
      "text/plain": [
       "<IPython.core.display.HTML object>"
      ]
     },
     "metadata": {},
     "output_type": "display_data"
    },
    {
     "data": {
      "text/html": [
       "\n",
       "            <script>\n",
       "                document.getElementById(\"biotrainer_status\").innerHTML = \"2025-10-01 09:24:12,415 INFO \tmacro-recall: 0.10\";\n",
       "            </script>\n",
       "        "
      ],
      "text/plain": [
       "<IPython.core.display.HTML object>"
      ]
     },
     "metadata": {},
     "output_type": "display_data"
    },
    {
     "data": {
      "text/html": [
       "\n",
       "            <script>\n",
       "                document.getElementById(\"biotrainer_status\").innerHTML = \"2025-10-01 09:24:12,415 INFO \tmicro-recall: 0.07\";\n",
       "            </script>\n",
       "        "
      ],
      "text/plain": [
       "<IPython.core.display.HTML object>"
      ]
     },
     "metadata": {},
     "output_type": "display_data"
    },
    {
     "data": {
      "text/html": [
       "\n",
       "            <script>\n",
       "                document.getElementById(\"biotrainer_status\").innerHTML = \"2025-10-01 09:24:12,416 INFO \t- recall class 0: 0.10\";\n",
       "            </script>\n",
       "        "
      ],
      "text/plain": [
       "<IPython.core.display.HTML object>"
      ]
     },
     "metadata": {},
     "output_type": "display_data"
    },
    {
     "data": {
      "text/html": [
       "\n",
       "            <script>\n",
       "                document.getElementById(\"biotrainer_status\").innerHTML = \"2025-10-01 09:24:12,416 INFO \t- recall class 1: 0.00\";\n",
       "            </script>\n",
       "        "
      ],
      "text/plain": [
       "<IPython.core.display.HTML object>"
      ]
     },
     "metadata": {},
     "output_type": "display_data"
    },
    {
     "data": {
      "text/html": [
       "\n",
       "            <script>\n",
       "                document.getElementById(\"biotrainer_status\").innerHTML = \"2025-10-01 09:24:12,417 INFO \t- recall class 2: 0.47\";\n",
       "            </script>\n",
       "        "
      ],
      "text/plain": [
       "<IPython.core.display.HTML object>"
      ]
     },
     "metadata": {},
     "output_type": "display_data"
    },
    {
     "data": {
      "text/html": [
       "\n",
       "            <script>\n",
       "                document.getElementById(\"biotrainer_status\").innerHTML = \"2025-10-01 09:24:12,418 INFO \t- recall class 3: 0.00\";\n",
       "            </script>\n",
       "        "
      ],
      "text/plain": [
       "<IPython.core.display.HTML object>"
      ]
     },
     "metadata": {},
     "output_type": "display_data"
    },
    {
     "data": {
      "text/html": [
       "\n",
       "            <script>\n",
       "                document.getElementById(\"biotrainer_status\").innerHTML = \"2025-10-01 09:24:12,418 INFO \t- recall class 4: 0.25\";\n",
       "            </script>\n",
       "        "
      ],
      "text/plain": [
       "<IPython.core.display.HTML object>"
      ]
     },
     "metadata": {},
     "output_type": "display_data"
    },
    {
     "data": {
      "text/html": [
       "\n",
       "            <script>\n",
       "                document.getElementById(\"biotrainer_status\").innerHTML = \"2025-10-01 09:24:12,418 INFO \t- recall class 5: 0.00\";\n",
       "            </script>\n",
       "        "
      ],
      "text/plain": [
       "<IPython.core.display.HTML object>"
      ]
     },
     "metadata": {},
     "output_type": "display_data"
    },
    {
     "data": {
      "text/html": [
       "\n",
       "            <script>\n",
       "                document.getElementById(\"biotrainer_status\").innerHTML = \"2025-10-01 09:24:12,419 INFO \t- recall class 6: 0.22\";\n",
       "            </script>\n",
       "        "
      ],
      "text/plain": [
       "<IPython.core.display.HTML object>"
      ]
     },
     "metadata": {},
     "output_type": "display_data"
    },
    {
     "data": {
      "text/html": [
       "\n",
       "            <script>\n",
       "                document.getElementById(\"biotrainer_status\").innerHTML = \"2025-10-01 09:24:12,419 INFO \t- recall class 7: 0.00\";\n",
       "            </script>\n",
       "        "
      ],
      "text/plain": [
       "<IPython.core.display.HTML object>"
      ]
     },
     "metadata": {},
     "output_type": "display_data"
    },
    {
     "data": {
      "text/html": [
       "\n",
       "            <script>\n",
       "                document.getElementById(\"biotrainer_status\").innerHTML = \"2025-10-01 09:24:12,420 INFO \t- recall class 8: 0.00\";\n",
       "            </script>\n",
       "        "
      ],
      "text/plain": [
       "<IPython.core.display.HTML object>"
      ]
     },
     "metadata": {},
     "output_type": "display_data"
    },
    {
     "data": {
      "text/html": [
       "\n",
       "            <script>\n",
       "                document.getElementById(\"biotrainer_status\").innerHTML = \"2025-10-01 09:24:12,421 INFO \t- recall class 9: 0.00\";\n",
       "            </script>\n",
       "        "
      ],
      "text/plain": [
       "<IPython.core.display.HTML object>"
      ]
     },
     "metadata": {},
     "output_type": "display_data"
    },
    {
     "data": {
      "text/html": [
       "\n",
       "            <script>\n",
       "                document.getElementById(\"biotrainer_status\").innerHTML = \"2025-10-01 09:24:12,421 INFO \tmacro-f1_score: 0.04\";\n",
       "            </script>\n",
       "        "
      ],
      "text/plain": [
       "<IPython.core.display.HTML object>"
      ]
     },
     "metadata": {},
     "output_type": "display_data"
    },
    {
     "data": {
      "text/html": [
       "\n",
       "            <script>\n",
       "                document.getElementById(\"biotrainer_status\").innerHTML = \"2025-10-01 09:24:12,421 INFO \tmicro-f1_score: 0.07\";\n",
       "            </script>\n",
       "        "
      ],
      "text/plain": [
       "<IPython.core.display.HTML object>"
      ]
     },
     "metadata": {},
     "output_type": "display_data"
    },
    {
     "data": {
      "text/html": [
       "\n",
       "            <script>\n",
       "                document.getElementById(\"biotrainer_status\").innerHTML = \"2025-10-01 09:24:12,422 INFO \t- f1_score class 0: 0.08\";\n",
       "            </script>\n",
       "        "
      ],
      "text/plain": [
       "<IPython.core.display.HTML object>"
      ]
     },
     "metadata": {},
     "output_type": "display_data"
    },
    {
     "data": {
      "text/html": [
       "\n",
       "            <script>\n",
       "                document.getElementById(\"biotrainer_status\").innerHTML = \"2025-10-01 09:24:12,422 INFO \t- f1_score class 1: 0.00\";\n",
       "            </script>\n",
       "        "
      ],
      "text/plain": [
       "<IPython.core.display.HTML object>"
      ]
     },
     "metadata": {},
     "output_type": "display_data"
    },
    {
     "data": {
      "text/html": [
       "\n",
       "            <script>\n",
       "                document.getElementById(\"biotrainer_status\").innerHTML = \"2025-10-01 09:24:12,423 INFO \t- f1_score class 2: 0.11\";\n",
       "            </script>\n",
       "        "
      ],
      "text/plain": [
       "<IPython.core.display.HTML object>"
      ]
     },
     "metadata": {},
     "output_type": "display_data"
    },
    {
     "data": {
      "text/html": [
       "\n",
       "            <script>\n",
       "                document.getElementById(\"biotrainer_status\").innerHTML = \"2025-10-01 09:24:12,424 INFO \t- f1_score class 3: 0.00\";\n",
       "            </script>\n",
       "        "
      ],
      "text/plain": [
       "<IPython.core.display.HTML object>"
      ]
     },
     "metadata": {},
     "output_type": "display_data"
    },
    {
     "data": {
      "text/html": [
       "\n",
       "            <script>\n",
       "                document.getElementById(\"biotrainer_status\").innerHTML = \"2025-10-01 09:24:12,424 INFO \t- f1_score class 4: 0.06\";\n",
       "            </script>\n",
       "        "
      ],
      "text/plain": [
       "<IPython.core.display.HTML object>"
      ]
     },
     "metadata": {},
     "output_type": "display_data"
    },
    {
     "data": {
      "text/html": [
       "\n",
       "            <script>\n",
       "                document.getElementById(\"biotrainer_status\").innerHTML = \"2025-10-01 09:24:12,425 INFO \t- f1_score class 5: 0.00\";\n",
       "            </script>\n",
       "        "
      ],
      "text/plain": [
       "<IPython.core.display.HTML object>"
      ]
     },
     "metadata": {},
     "output_type": "display_data"
    },
    {
     "data": {
      "text/html": [
       "\n",
       "            <script>\n",
       "                document.getElementById(\"biotrainer_status\").innerHTML = \"2025-10-01 09:24:12,425 INFO \t- f1_score class 6: 0.16\";\n",
       "            </script>\n",
       "        "
      ],
      "text/plain": [
       "<IPython.core.display.HTML object>"
      ]
     },
     "metadata": {},
     "output_type": "display_data"
    },
    {
     "data": {
      "text/html": [
       "\n",
       "            <script>\n",
       "                document.getElementById(\"biotrainer_status\").innerHTML = \"2025-10-01 09:24:12,426 INFO \t- f1_score class 7: 0.00\";\n",
       "            </script>\n",
       "        "
      ],
      "text/plain": [
       "<IPython.core.display.HTML object>"
      ]
     },
     "metadata": {},
     "output_type": "display_data"
    },
    {
     "data": {
      "text/html": [
       "\n",
       "            <script>\n",
       "                document.getElementById(\"biotrainer_status\").innerHTML = \"2025-10-01 09:24:12,428 INFO \t- f1_score class 8: 0.00\";\n",
       "            </script>\n",
       "        "
      ],
      "text/plain": [
       "<IPython.core.display.HTML object>"
      ]
     },
     "metadata": {},
     "output_type": "display_data"
    },
    {
     "data": {
      "text/html": [
       "\n",
       "            <script>\n",
       "                document.getElementById(\"biotrainer_status\").innerHTML = \"2025-10-01 09:24:12,428 INFO \t- f1_score class 9: 0.00\";\n",
       "            </script>\n",
       "        "
      ],
      "text/plain": [
       "<IPython.core.display.HTML object>"
      ]
     },
     "metadata": {},
     "output_type": "display_data"
    },
    {
     "data": {
      "text/html": [
       "\n",
       "            <script>\n",
       "                document.getElementById(\"biotrainer_status\").innerHTML = \"2025-10-01 09:24:12,428 INFO \tspearmans-corr-coeff: -0.01\";\n",
       "            </script>\n",
       "        "
      ],
      "text/plain": [
       "<IPython.core.display.HTML object>"
      ]
     },
     "metadata": {},
     "output_type": "display_data"
    },
    {
     "data": {
      "text/html": [
       "\n",
       "            <script>\n",
       "                document.getElementById(\"biotrainer_status\").innerHTML = \"2025-10-01 09:24:12,429 INFO \tmatthews-corr-coeff: 0.00\";\n",
       "            </script>\n",
       "        "
      ],
      "text/plain": [
       "<IPython.core.display.HTML object>"
      ]
     },
     "metadata": {},
     "output_type": "display_data"
    },
    {
     "data": {
      "text/html": [
       "\n",
       "            <script>\n",
       "                document.getElementById(\"biotrainer_status\").innerHTML = \"2025-10-01 09:24:12,478 INFO Checkpoint(s) will be stored at /Users/michael.heinzinger/scripts/biotrainer/output/FNN/one_hot_encoding/hold_out_checkpoint.safetensors\";\n",
       "            </script>\n",
       "        "
      ],
      "text/plain": [
       "<IPython.core.display.HTML object>"
      ]
     },
     "metadata": {},
     "output_type": "display_data"
    },
    {
     "data": {
      "text/html": [
       "\n",
       "            <script>\n",
       "                document.getElementById(\"biotrainer_status\").innerHTML = \"2025-10-01 09:24:13,041 INFO Epoch 1\";\n",
       "            </script>\n",
       "        "
      ],
      "text/plain": [
       "<IPython.core.display.HTML object>"
      ]
     },
     "metadata": {},
     "output_type": "display_data"
    },
    {
     "data": {
      "text/html": [
       "\n",
       "            <script>\n",
       "                document.getElementById(\"biotrainer_status\").innerHTML = \"2025-10-01 09:24:13,041 INFO Training results\";\n",
       "            </script>\n",
       "        "
      ],
      "text/plain": [
       "<IPython.core.display.HTML object>"
      ]
     },
     "metadata": {},
     "output_type": "display_data"
    },
    {
     "data": {
      "text/html": [
       "\n",
       "            <script>\n",
       "                document.getElementById(\"biotrainer_status\").innerHTML = \"2025-10-01 09:24:13,042 INFO \tloss: 2.30\";\n",
       "            </script>\n",
       "        "
      ],
      "text/plain": [
       "<IPython.core.display.HTML object>"
      ]
     },
     "metadata": {},
     "output_type": "display_data"
    },
    {
     "data": {
      "text/html": [
       "\n",
       "            <script>\n",
       "                document.getElementById(\"biotrainer_status\").innerHTML = \"2025-10-01 09:24:13,042 INFO \taccuracy: 0.10\";\n",
       "            </script>\n",
       "        "
      ],
      "text/plain": [
       "<IPython.core.display.HTML object>"
      ]
     },
     "metadata": {},
     "output_type": "display_data"
    },
    {
     "data": {
      "text/html": [
       "\n",
       "            <script>\n",
       "                document.getElementById(\"biotrainer_status\").innerHTML = \"2025-10-01 09:24:13,043 INFO \tmacro-precision: 0.13\";\n",
       "            </script>\n",
       "        "
      ],
      "text/plain": [
       "<IPython.core.display.HTML object>"
      ]
     },
     "metadata": {},
     "output_type": "display_data"
    },
    {
     "data": {
      "text/html": [
       "\n",
       "            <script>\n",
       "                document.getElementById(\"biotrainer_status\").innerHTML = \"2025-10-01 09:24:13,043 INFO \tmicro-precision: 0.10\";\n",
       "            </script>\n",
       "        "
      ],
      "text/plain": [
       "<IPython.core.display.HTML object>"
      ]
     },
     "metadata": {},
     "output_type": "display_data"
    },
    {
     "data": {
      "text/html": [
       "\n",
       "            <script>\n",
       "                document.getElementById(\"biotrainer_status\").innerHTML = \"2025-10-01 09:24:13,044 INFO \t- precision class 0: 0.10\";\n",
       "            </script>\n",
       "        "
      ],
      "text/plain": [
       "<IPython.core.display.HTML object>"
      ]
     },
     "metadata": {},
     "output_type": "display_data"
    },
    {
     "data": {
      "text/html": [
       "\n",
       "            <script>\n",
       "                document.getElementById(\"biotrainer_status\").innerHTML = \"2025-10-01 09:24:13,044 INFO \t- precision class 1: 0.19\";\n",
       "            </script>\n",
       "        "
      ],
      "text/plain": [
       "<IPython.core.display.HTML object>"
      ]
     },
     "metadata": {},
     "output_type": "display_data"
    },
    {
     "data": {
      "text/html": [
       "\n",
       "            <script>\n",
       "                document.getElementById(\"biotrainer_status\").innerHTML = \"2025-10-01 09:24:13,045 INFO \t- precision class 2: 0.06\";\n",
       "            </script>\n",
       "        "
      ],
      "text/plain": [
       "<IPython.core.display.HTML object>"
      ]
     },
     "metadata": {},
     "output_type": "display_data"
    },
    {
     "data": {
      "text/html": [
       "\n",
       "            <script>\n",
       "                document.getElementById(\"biotrainer_status\").innerHTML = \"2025-10-01 09:24:13,045 INFO \t- precision class 3: 0.39\";\n",
       "            </script>\n",
       "        "
      ],
      "text/plain": [
       "<IPython.core.display.HTML object>"
      ]
     },
     "metadata": {},
     "output_type": "display_data"
    },
    {
     "data": {
      "text/html": [
       "\n",
       "            <script>\n",
       "                document.getElementById(\"biotrainer_status\").innerHTML = \"2025-10-01 09:24:13,046 INFO \t- precision class 4: 0.02\";\n",
       "            </script>\n",
       "        "
      ],
      "text/plain": [
       "<IPython.core.display.HTML object>"
      ]
     },
     "metadata": {},
     "output_type": "display_data"
    },
    {
     "data": {
      "text/html": [
       "\n",
       "            <script>\n",
       "                document.getElementById(\"biotrainer_status\").innerHTML = \"2025-10-01 09:24:13,046 INFO \t- precision class 5: 0.03\";\n",
       "            </script>\n",
       "        "
      ],
      "text/plain": [
       "<IPython.core.display.HTML object>"
      ]
     },
     "metadata": {},
     "output_type": "display_data"
    },
    {
     "data": {
      "text/html": [
       "\n",
       "            <script>\n",
       "                document.getElementById(\"biotrainer_status\").innerHTML = \"2025-10-01 09:24:13,047 INFO \t- precision class 6: 0.10\";\n",
       "            </script>\n",
       "        "
      ],
      "text/plain": [
       "<IPython.core.display.HTML object>"
      ]
     },
     "metadata": {},
     "output_type": "display_data"
    },
    {
     "data": {
      "text/html": [
       "\n",
       "            <script>\n",
       "                document.getElementById(\"biotrainer_status\").innerHTML = \"2025-10-01 09:24:13,047 INFO \t- precision class 7: 0.40\";\n",
       "            </script>\n",
       "        "
      ],
      "text/plain": [
       "<IPython.core.display.HTML object>"
      ]
     },
     "metadata": {},
     "output_type": "display_data"
    },
    {
     "data": {
      "text/html": [
       "\n",
       "            <script>\n",
       "                document.getElementById(\"biotrainer_status\").innerHTML = \"2025-10-01 09:24:13,048 INFO \t- precision class 8: 0.00\";\n",
       "            </script>\n",
       "        "
      ],
      "text/plain": [
       "<IPython.core.display.HTML object>"
      ]
     },
     "metadata": {},
     "output_type": "display_data"
    },
    {
     "data": {
      "text/html": [
       "\n",
       "            <script>\n",
       "                document.getElementById(\"biotrainer_status\").innerHTML = \"2025-10-01 09:24:13,048 INFO \t- precision class 9: 0.00\";\n",
       "            </script>\n",
       "        "
      ],
      "text/plain": [
       "<IPython.core.display.HTML object>"
      ]
     },
     "metadata": {},
     "output_type": "display_data"
    },
    {
     "data": {
      "text/html": [
       "\n",
       "            <script>\n",
       "                document.getElementById(\"biotrainer_status\").innerHTML = \"2025-10-01 09:24:13,048 INFO \tmacro-recall: 0.11\";\n",
       "            </script>\n",
       "        "
      ],
      "text/plain": [
       "<IPython.core.display.HTML object>"
      ]
     },
     "metadata": {},
     "output_type": "display_data"
    },
    {
     "data": {
      "text/html": [
       "\n",
       "            <script>\n",
       "                document.getElementById(\"biotrainer_status\").innerHTML = \"2025-10-01 09:24:13,049 INFO \tmicro-recall: 0.10\";\n",
       "            </script>\n",
       "        "
      ],
      "text/plain": [
       "<IPython.core.display.HTML object>"
      ]
     },
     "metadata": {},
     "output_type": "display_data"
    },
    {
     "data": {
      "text/html": [
       "\n",
       "            <script>\n",
       "                document.getElementById(\"biotrainer_status\").innerHTML = \"2025-10-01 09:24:13,049 INFO \t- recall class 0: 0.19\";\n",
       "            </script>\n",
       "        "
      ],
      "text/plain": [
       "<IPython.core.display.HTML object>"
      ]
     },
     "metadata": {},
     "output_type": "display_data"
    },
    {
     "data": {
      "text/html": [
       "\n",
       "            <script>\n",
       "                document.getElementById(\"biotrainer_status\").innerHTML = \"2025-10-01 09:24:13,050 INFO \t- recall class 1: 0.09\";\n",
       "            </script>\n",
       "        "
      ],
      "text/plain": [
       "<IPython.core.display.HTML object>"
      ]
     },
     "metadata": {},
     "output_type": "display_data"
    },
    {
     "data": {
      "text/html": [
       "\n",
       "            <script>\n",
       "                document.getElementById(\"biotrainer_status\").innerHTML = \"2025-10-01 09:24:13,050 INFO \t- recall class 2: 0.32\";\n",
       "            </script>\n",
       "        "
      ],
      "text/plain": [
       "<IPython.core.display.HTML object>"
      ]
     },
     "metadata": {},
     "output_type": "display_data"
    },
    {
     "data": {
      "text/html": [
       "\n",
       "            <script>\n",
       "                document.getElementById(\"biotrainer_status\").innerHTML = \"2025-10-01 09:24:13,051 INFO \t- recall class 3: 0.12\";\n",
       "            </script>\n",
       "        "
      ],
      "text/plain": [
       "<IPython.core.display.HTML object>"
      ]
     },
     "metadata": {},
     "output_type": "display_data"
    },
    {
     "data": {
      "text/html": [
       "\n",
       "            <script>\n",
       "                document.getElementById(\"biotrainer_status\").innerHTML = \"2025-10-01 09:24:13,051 INFO \t- recall class 4: 0.12\";\n",
       "            </script>\n",
       "        "
      ],
      "text/plain": [
       "<IPython.core.display.HTML object>"
      ]
     },
     "metadata": {},
     "output_type": "display_data"
    },
    {
     "data": {
      "text/html": [
       "\n",
       "            <script>\n",
       "                document.getElementById(\"biotrainer_status\").innerHTML = \"2025-10-01 09:24:13,052 INFO \t- recall class 5: 0.04\";\n",
       "            </script>\n",
       "        "
      ],
      "text/plain": [
       "<IPython.core.display.HTML object>"
      ]
     },
     "metadata": {},
     "output_type": "display_data"
    },
    {
     "data": {
      "text/html": [
       "\n",
       "            <script>\n",
       "                document.getElementById(\"biotrainer_status\").innerHTML = \"2025-10-01 09:24:13,052 INFO \t- recall class 6: 0.15\";\n",
       "            </script>\n",
       "        "
      ],
      "text/plain": [
       "<IPython.core.display.HTML object>"
      ]
     },
     "metadata": {},
     "output_type": "display_data"
    },
    {
     "data": {
      "text/html": [
       "\n",
       "            <script>\n",
       "                document.getElementById(\"biotrainer_status\").innerHTML = \"2025-10-01 09:24:13,052 INFO \t- recall class 7: 0.04\";\n",
       "            </script>\n",
       "        "
      ],
      "text/plain": [
       "<IPython.core.display.HTML object>"
      ]
     },
     "metadata": {},
     "output_type": "display_data"
    },
    {
     "data": {
      "text/html": [
       "\n",
       "            <script>\n",
       "                document.getElementById(\"biotrainer_status\").innerHTML = \"2025-10-01 09:24:13,053 INFO \t- recall class 8: 0.00\";\n",
       "            </script>\n",
       "        "
      ],
      "text/plain": [
       "<IPython.core.display.HTML object>"
      ]
     },
     "metadata": {},
     "output_type": "display_data"
    },
    {
     "data": {
      "text/html": [
       "\n",
       "            <script>\n",
       "                document.getElementById(\"biotrainer_status\").innerHTML = \"2025-10-01 09:24:13,053 INFO \t- recall class 9: 0.00\";\n",
       "            </script>\n",
       "        "
      ],
      "text/plain": [
       "<IPython.core.display.HTML object>"
      ]
     },
     "metadata": {},
     "output_type": "display_data"
    },
    {
     "data": {
      "text/html": [
       "\n",
       "            <script>\n",
       "                document.getElementById(\"biotrainer_status\").innerHTML = \"2025-10-01 09:24:13,054 INFO \tmacro-f1_score: 0.08\";\n",
       "            </script>\n",
       "        "
      ],
      "text/plain": [
       "<IPython.core.display.HTML object>"
      ]
     },
     "metadata": {},
     "output_type": "display_data"
    },
    {
     "data": {
      "text/html": [
       "\n",
       "            <script>\n",
       "                document.getElementById(\"biotrainer_status\").innerHTML = \"2025-10-01 09:24:13,054 INFO \tmicro-f1_score: 0.10\";\n",
       "            </script>\n",
       "        "
      ],
      "text/plain": [
       "<IPython.core.display.HTML object>"
      ]
     },
     "metadata": {},
     "output_type": "display_data"
    },
    {
     "data": {
      "text/html": [
       "\n",
       "            <script>\n",
       "                document.getElementById(\"biotrainer_status\").innerHTML = \"2025-10-01 09:24:13,055 INFO \t- f1_score class 0: 0.13\";\n",
       "            </script>\n",
       "        "
      ],
      "text/plain": [
       "<IPython.core.display.HTML object>"
      ]
     },
     "metadata": {},
     "output_type": "display_data"
    },
    {
     "data": {
      "text/html": [
       "\n",
       "            <script>\n",
       "                document.getElementById(\"biotrainer_status\").innerHTML = \"2025-10-01 09:24:13,056 INFO \t- f1_score class 1: 0.12\";\n",
       "            </script>\n",
       "        "
      ],
      "text/plain": [
       "<IPython.core.display.HTML object>"
      ]
     },
     "metadata": {},
     "output_type": "display_data"
    },
    {
     "data": {
      "text/html": [
       "\n",
       "            <script>\n",
       "                document.getElementById(\"biotrainer_status\").innerHTML = \"2025-10-01 09:24:13,056 INFO \t- f1_score class 2: 0.10\";\n",
       "            </script>\n",
       "        "
      ],
      "text/plain": [
       "<IPython.core.display.HTML object>"
      ]
     },
     "metadata": {},
     "output_type": "display_data"
    },
    {
     "data": {
      "text/html": [
       "\n",
       "            <script>\n",
       "                document.getElementById(\"biotrainer_status\").innerHTML = \"2025-10-01 09:24:13,057 INFO \t- f1_score class 3: 0.18\";\n",
       "            </script>\n",
       "        "
      ],
      "text/plain": [
       "<IPython.core.display.HTML object>"
      ]
     },
     "metadata": {},
     "output_type": "display_data"
    },
    {
     "data": {
      "text/html": [
       "\n",
       "            <script>\n",
       "                document.getElementById(\"biotrainer_status\").innerHTML = \"2025-10-01 09:24:13,057 INFO \t- f1_score class 4: 0.04\";\n",
       "            </script>\n",
       "        "
      ],
      "text/plain": [
       "<IPython.core.display.HTML object>"
      ]
     },
     "metadata": {},
     "output_type": "display_data"
    },
    {
     "data": {
      "text/html": [
       "\n",
       "            <script>\n",
       "                document.getElementById(\"biotrainer_status\").innerHTML = \"2025-10-01 09:24:13,058 INFO \t- f1_score class 5: 0.03\";\n",
       "            </script>\n",
       "        "
      ],
      "text/plain": [
       "<IPython.core.display.HTML object>"
      ]
     },
     "metadata": {},
     "output_type": "display_data"
    },
    {
     "data": {
      "text/html": [
       "\n",
       "            <script>\n",
       "                document.getElementById(\"biotrainer_status\").innerHTML = \"2025-10-01 09:24:13,058 INFO \t- f1_score class 6: 0.12\";\n",
       "            </script>\n",
       "        "
      ],
      "text/plain": [
       "<IPython.core.display.HTML object>"
      ]
     },
     "metadata": {},
     "output_type": "display_data"
    },
    {
     "data": {
      "text/html": [
       "\n",
       "            <script>\n",
       "                document.getElementById(\"biotrainer_status\").innerHTML = \"2025-10-01 09:24:13,059 INFO \t- f1_score class 7: 0.08\";\n",
       "            </script>\n",
       "        "
      ],
      "text/plain": [
       "<IPython.core.display.HTML object>"
      ]
     },
     "metadata": {},
     "output_type": "display_data"
    },
    {
     "data": {
      "text/html": [
       "\n",
       "            <script>\n",
       "                document.getElementById(\"biotrainer_status\").innerHTML = \"2025-10-01 09:24:13,059 INFO \t- f1_score class 8: 0.00\";\n",
       "            </script>\n",
       "        "
      ],
      "text/plain": [
       "<IPython.core.display.HTML object>"
      ]
     },
     "metadata": {},
     "output_type": "display_data"
    },
    {
     "data": {
      "text/html": [
       "\n",
       "            <script>\n",
       "                document.getElementById(\"biotrainer_status\").innerHTML = \"2025-10-01 09:24:13,060 INFO \t- f1_score class 9: 0.00\";\n",
       "            </script>\n",
       "        "
      ],
      "text/plain": [
       "<IPython.core.display.HTML object>"
      ]
     },
     "metadata": {},
     "output_type": "display_data"
    },
    {
     "data": {
      "text/html": [
       "\n",
       "            <script>\n",
       "                document.getElementById(\"biotrainer_status\").innerHTML = \"2025-10-01 09:24:13,061 INFO \tspearmans-corr-coeff: 0.04\";\n",
       "            </script>\n",
       "        "
      ],
      "text/plain": [
       "<IPython.core.display.HTML object>"
      ]
     },
     "metadata": {},
     "output_type": "display_data"
    },
    {
     "data": {
      "text/html": [
       "\n",
       "            <script>\n",
       "                document.getElementById(\"biotrainer_status\").innerHTML = \"2025-10-01 09:24:13,061 INFO \tmatthews-corr-coeff: 0.01\";\n",
       "            </script>\n",
       "        "
      ],
      "text/plain": [
       "<IPython.core.display.HTML object>"
      ]
     },
     "metadata": {},
     "output_type": "display_data"
    },
    {
     "data": {
      "text/html": [
       "\n",
       "            <script>\n",
       "                document.getElementById(\"biotrainer_status\").innerHTML = \"2025-10-01 09:24:13,062 INFO Validation results\";\n",
       "            </script>\n",
       "        "
      ],
      "text/plain": [
       "<IPython.core.display.HTML object>"
      ]
     },
     "metadata": {},
     "output_type": "display_data"
    },
    {
     "data": {
      "text/html": [
       "\n",
       "            <script>\n",
       "                document.getElementById(\"biotrainer_status\").innerHTML = \"2025-10-01 09:24:13,063 INFO \tloss: 2.30\";\n",
       "            </script>\n",
       "        "
      ],
      "text/plain": [
       "<IPython.core.display.HTML object>"
      ]
     },
     "metadata": {},
     "output_type": "display_data"
    },
    {
     "data": {
      "text/html": [
       "\n",
       "            <script>\n",
       "                document.getElementById(\"biotrainer_status\").innerHTML = \"2025-10-01 09:24:13,063 INFO \taccuracy: 0.09\";\n",
       "            </script>\n",
       "        "
      ],
      "text/plain": [
       "<IPython.core.display.HTML object>"
      ]
     },
     "metadata": {},
     "output_type": "display_data"
    },
    {
     "data": {
      "text/html": [
       "\n",
       "            <script>\n",
       "                document.getElementById(\"biotrainer_status\").innerHTML = \"2025-10-01 09:24:13,064 INFO \tmacro-precision: 0.13\";\n",
       "            </script>\n",
       "        "
      ],
      "text/plain": [
       "<IPython.core.display.HTML object>"
      ]
     },
     "metadata": {},
     "output_type": "display_data"
    },
    {
     "data": {
      "text/html": [
       "\n",
       "            <script>\n",
       "                document.getElementById(\"biotrainer_status\").innerHTML = \"2025-10-01 09:24:13,064 INFO \tmicro-precision: 0.09\";\n",
       "            </script>\n",
       "        "
      ],
      "text/plain": [
       "<IPython.core.display.HTML object>"
      ]
     },
     "metadata": {},
     "output_type": "display_data"
    },
    {
     "data": {
      "text/html": [
       "\n",
       "            <script>\n",
       "                document.getElementById(\"biotrainer_status\").innerHTML = \"2025-10-01 09:24:13,065 INFO \t- precision class 0: 0.12\";\n",
       "            </script>\n",
       "        "
      ],
      "text/plain": [
       "<IPython.core.display.HTML object>"
      ]
     },
     "metadata": {},
     "output_type": "display_data"
    },
    {
     "data": {
      "text/html": [
       "\n",
       "            <script>\n",
       "                document.getElementById(\"biotrainer_status\").innerHTML = \"2025-10-01 09:24:13,065 INFO \t- precision class 1: 0.33\";\n",
       "            </script>\n",
       "        "
      ],
      "text/plain": [
       "<IPython.core.display.HTML object>"
      ]
     },
     "metadata": {},
     "output_type": "display_data"
    },
    {
     "data": {
      "text/html": [
       "\n",
       "            <script>\n",
       "                document.getElementById(\"biotrainer_status\").innerHTML = \"2025-10-01 09:24:13,066 INFO \t- precision class 2: 0.06\";\n",
       "            </script>\n",
       "        "
      ],
      "text/plain": [
       "<IPython.core.display.HTML object>"
      ]
     },
     "metadata": {},
     "output_type": "display_data"
    },
    {
     "data": {
      "text/html": [
       "\n",
       "            <script>\n",
       "                document.getElementById(\"biotrainer_status\").innerHTML = \"2025-10-01 09:24:13,067 INFO \t- precision class 3: 0.61\";\n",
       "            </script>\n",
       "        "
      ],
      "text/plain": [
       "<IPython.core.display.HTML object>"
      ]
     },
     "metadata": {},
     "output_type": "display_data"
    },
    {
     "data": {
      "text/html": [
       "\n",
       "            <script>\n",
       "                document.getElementById(\"biotrainer_status\").innerHTML = \"2025-10-01 09:24:13,067 INFO \t- precision class 4: 0.02\";\n",
       "            </script>\n",
       "        "
      ],
      "text/plain": [
       "<IPython.core.display.HTML object>"
      ]
     },
     "metadata": {},
     "output_type": "display_data"
    },
    {
     "data": {
      "text/html": [
       "\n",
       "            <script>\n",
       "                document.getElementById(\"biotrainer_status\").innerHTML = \"2025-10-01 09:24:13,068 INFO \t- precision class 5: 0.00\";\n",
       "            </script>\n",
       "        "
      ],
      "text/plain": [
       "<IPython.core.display.HTML object>"
      ]
     },
     "metadata": {},
     "output_type": "display_data"
    },
    {
     "data": {
      "text/html": [
       "\n",
       "            <script>\n",
       "                document.getElementById(\"biotrainer_status\").innerHTML = \"2025-10-01 09:24:13,068 INFO \t- precision class 6: 0.11\";\n",
       "            </script>\n",
       "        "
      ],
      "text/plain": [
       "<IPython.core.display.HTML object>"
      ]
     },
     "metadata": {},
     "output_type": "display_data"
    },
    {
     "data": {
      "text/html": [
       "\n",
       "            <script>\n",
       "                document.getElementById(\"biotrainer_status\").innerHTML = \"2025-10-01 09:24:13,069 INFO \t- precision class 7: 0.00\";\n",
       "            </script>\n",
       "        "
      ],
      "text/plain": [
       "<IPython.core.display.HTML object>"
      ]
     },
     "metadata": {},
     "output_type": "display_data"
    },
    {
     "data": {
      "text/html": [
       "\n",
       "            <script>\n",
       "                document.getElementById(\"biotrainer_status\").innerHTML = \"2025-10-01 09:24:13,069 INFO \t- precision class 8: 0.00\";\n",
       "            </script>\n",
       "        "
      ],
      "text/plain": [
       "<IPython.core.display.HTML object>"
      ]
     },
     "metadata": {},
     "output_type": "display_data"
    },
    {
     "data": {
      "text/html": [
       "\n",
       "            <script>\n",
       "                document.getElementById(\"biotrainer_status\").innerHTML = \"2025-10-01 09:24:13,070 INFO \t- precision class 9: 0.00\";\n",
       "            </script>\n",
       "        "
      ],
      "text/plain": [
       "<IPython.core.display.HTML object>"
      ]
     },
     "metadata": {},
     "output_type": "display_data"
    },
    {
     "data": {
      "text/html": [
       "\n",
       "            <script>\n",
       "                document.getElementById(\"biotrainer_status\").innerHTML = \"2025-10-01 09:24:13,070 INFO \tmacro-recall: 0.11\";\n",
       "            </script>\n",
       "        "
      ],
      "text/plain": [
       "<IPython.core.display.HTML object>"
      ]
     },
     "metadata": {},
     "output_type": "display_data"
    },
    {
     "data": {
      "text/html": [
       "\n",
       "            <script>\n",
       "                document.getElementById(\"biotrainer_status\").innerHTML = \"2025-10-01 09:24:13,071 INFO \tmicro-recall: 0.09\";\n",
       "            </script>\n",
       "        "
      ],
      "text/plain": [
       "<IPython.core.display.HTML object>"
      ]
     },
     "metadata": {},
     "output_type": "display_data"
    },
    {
     "data": {
      "text/html": [
       "\n",
       "            <script>\n",
       "                document.getElementById(\"biotrainer_status\").innerHTML = \"2025-10-01 09:24:13,071 INFO \t- recall class 0: 0.31\";\n",
       "            </script>\n",
       "        "
      ],
      "text/plain": [
       "<IPython.core.display.HTML object>"
      ]
     },
     "metadata": {},
     "output_type": "display_data"
    },
    {
     "data": {
      "text/html": [
       "\n",
       "            <script>\n",
       "                document.getElementById(\"biotrainer_status\").innerHTML = \"2025-10-01 09:24:13,072 INFO \t- recall class 1: 0.01\";\n",
       "            </script>\n",
       "        "
      ],
      "text/plain": [
       "<IPython.core.display.HTML object>"
      ]
     },
     "metadata": {},
     "output_type": "display_data"
    },
    {
     "data": {
      "text/html": [
       "\n",
       "            <script>\n",
       "                document.getElementById(\"biotrainer_status\").innerHTML = \"2025-10-01 09:24:13,072 INFO \t- recall class 2: 0.37\";\n",
       "            </script>\n",
       "        "
      ],
      "text/plain": [
       "<IPython.core.display.HTML object>"
      ]
     },
     "metadata": {},
     "output_type": "display_data"
    },
    {
     "data": {
      "text/html": [
       "\n",
       "            <script>\n",
       "                document.getElementById(\"biotrainer_status\").innerHTML = \"2025-10-01 09:24:13,073 INFO \t- recall class 3: 0.05\";\n",
       "            </script>\n",
       "        "
      ],
      "text/plain": [
       "<IPython.core.display.HTML object>"
      ]
     },
     "metadata": {},
     "output_type": "display_data"
    },
    {
     "data": {
      "text/html": [
       "\n",
       "            <script>\n",
       "                document.getElementById(\"biotrainer_status\").innerHTML = \"2025-10-01 09:24:13,073 INFO \t- recall class 4: 0.12\";\n",
       "            </script>\n",
       "        "
      ],
      "text/plain": [
       "<IPython.core.display.HTML object>"
      ]
     },
     "metadata": {},
     "output_type": "display_data"
    },
    {
     "data": {
      "text/html": [
       "\n",
       "            <script>\n",
       "                document.getElementById(\"biotrainer_status\").innerHTML = \"2025-10-01 09:24:13,074 INFO \t- recall class 5: 0.00\";\n",
       "            </script>\n",
       "        "
      ],
      "text/plain": [
       "<IPython.core.display.HTML object>"
      ]
     },
     "metadata": {},
     "output_type": "display_data"
    },
    {
     "data": {
      "text/html": [
       "\n",
       "            <script>\n",
       "                document.getElementById(\"biotrainer_status\").innerHTML = \"2025-10-01 09:24:13,074 INFO \t- recall class 6: 0.20\";\n",
       "            </script>\n",
       "        "
      ],
      "text/plain": [
       "<IPython.core.display.HTML object>"
      ]
     },
     "metadata": {},
     "output_type": "display_data"
    },
    {
     "data": {
      "text/html": [
       "\n",
       "            <script>\n",
       "                document.getElementById(\"biotrainer_status\").innerHTML = \"2025-10-01 09:24:13,075 INFO \t- recall class 7: 0.00\";\n",
       "            </script>\n",
       "        "
      ],
      "text/plain": [
       "<IPython.core.display.HTML object>"
      ]
     },
     "metadata": {},
     "output_type": "display_data"
    },
    {
     "data": {
      "text/html": [
       "\n",
       "            <script>\n",
       "                document.getElementById(\"biotrainer_status\").innerHTML = \"2025-10-01 09:24:13,075 INFO \t- recall class 8: 0.00\";\n",
       "            </script>\n",
       "        "
      ],
      "text/plain": [
       "<IPython.core.display.HTML object>"
      ]
     },
     "metadata": {},
     "output_type": "display_data"
    },
    {
     "data": {
      "text/html": [
       "\n",
       "            <script>\n",
       "                document.getElementById(\"biotrainer_status\").innerHTML = \"2025-10-01 09:24:13,076 INFO \t- recall class 9: 0.00\";\n",
       "            </script>\n",
       "        "
      ],
      "text/plain": [
       "<IPython.core.display.HTML object>"
      ]
     },
     "metadata": {},
     "output_type": "display_data"
    },
    {
     "data": {
      "text/html": [
       "\n",
       "            <script>\n",
       "                document.getElementById(\"biotrainer_status\").innerHTML = \"2025-10-01 09:24:13,077 INFO \tmacro-f1_score: 0.06\";\n",
       "            </script>\n",
       "        "
      ],
      "text/plain": [
       "<IPython.core.display.HTML object>"
      ]
     },
     "metadata": {},
     "output_type": "display_data"
    },
    {
     "data": {
      "text/html": [
       "\n",
       "            <script>\n",
       "                document.getElementById(\"biotrainer_status\").innerHTML = \"2025-10-01 09:24:13,077 INFO \tmicro-f1_score: 0.09\";\n",
       "            </script>\n",
       "        "
      ],
      "text/plain": [
       "<IPython.core.display.HTML object>"
      ]
     },
     "metadata": {},
     "output_type": "display_data"
    },
    {
     "data": {
      "text/html": [
       "\n",
       "            <script>\n",
       "                document.getElementById(\"biotrainer_status\").innerHTML = \"2025-10-01 09:24:13,077 INFO \t- f1_score class 0: 0.18\";\n",
       "            </script>\n",
       "        "
      ],
      "text/plain": [
       "<IPython.core.display.HTML object>"
      ]
     },
     "metadata": {},
     "output_type": "display_data"
    },
    {
     "data": {
      "text/html": [
       "\n",
       "            <script>\n",
       "                document.getElementById(\"biotrainer_status\").innerHTML = \"2025-10-01 09:24:13,078 INFO \t- f1_score class 1: 0.01\";\n",
       "            </script>\n",
       "        "
      ],
      "text/plain": [
       "<IPython.core.display.HTML object>"
      ]
     },
     "metadata": {},
     "output_type": "display_data"
    },
    {
     "data": {
      "text/html": [
       "\n",
       "            <script>\n",
       "                document.getElementById(\"biotrainer_status\").innerHTML = \"2025-10-01 09:24:13,078 INFO \t- f1_score class 2: 0.10\";\n",
       "            </script>\n",
       "        "
      ],
      "text/plain": [
       "<IPython.core.display.HTML object>"
      ]
     },
     "metadata": {},
     "output_type": "display_data"
    },
    {
     "data": {
      "text/html": [
       "\n",
       "            <script>\n",
       "                document.getElementById(\"biotrainer_status\").innerHTML = \"2025-10-01 09:24:13,079 INFO \t- f1_score class 3: 0.08\";\n",
       "            </script>\n",
       "        "
      ],
      "text/plain": [
       "<IPython.core.display.HTML object>"
      ]
     },
     "metadata": {},
     "output_type": "display_data"
    },
    {
     "data": {
      "text/html": [
       "\n",
       "            <script>\n",
       "                document.getElementById(\"biotrainer_status\").innerHTML = \"2025-10-01 09:24:13,079 INFO \t- f1_score class 4: 0.04\";\n",
       "            </script>\n",
       "        "
      ],
      "text/plain": [
       "<IPython.core.display.HTML object>"
      ]
     },
     "metadata": {},
     "output_type": "display_data"
    },
    {
     "data": {
      "text/html": [
       "\n",
       "            <script>\n",
       "                document.getElementById(\"biotrainer_status\").innerHTML = \"2025-10-01 09:24:13,080 INFO \t- f1_score class 5: 0.00\";\n",
       "            </script>\n",
       "        "
      ],
      "text/plain": [
       "<IPython.core.display.HTML object>"
      ]
     },
     "metadata": {},
     "output_type": "display_data"
    },
    {
     "data": {
      "text/html": [
       "\n",
       "            <script>\n",
       "                document.getElementById(\"biotrainer_status\").innerHTML = \"2025-10-01 09:24:13,080 INFO \t- f1_score class 6: 0.15\";\n",
       "            </script>\n",
       "        "
      ],
      "text/plain": [
       "<IPython.core.display.HTML object>"
      ]
     },
     "metadata": {},
     "output_type": "display_data"
    },
    {
     "data": {
      "text/html": [
       "\n",
       "            <script>\n",
       "                document.getElementById(\"biotrainer_status\").innerHTML = \"2025-10-01 09:24:13,081 INFO \t- f1_score class 7: 0.00\";\n",
       "            </script>\n",
       "        "
      ],
      "text/plain": [
       "<IPython.core.display.HTML object>"
      ]
     },
     "metadata": {},
     "output_type": "display_data"
    },
    {
     "data": {
      "text/html": [
       "\n",
       "            <script>\n",
       "                document.getElementById(\"biotrainer_status\").innerHTML = \"2025-10-01 09:24:13,081 INFO \t- f1_score class 8: 0.00\";\n",
       "            </script>\n",
       "        "
      ],
      "text/plain": [
       "<IPython.core.display.HTML object>"
      ]
     },
     "metadata": {},
     "output_type": "display_data"
    },
    {
     "data": {
      "text/html": [
       "\n",
       "            <script>\n",
       "                document.getElementById(\"biotrainer_status\").innerHTML = \"2025-10-01 09:24:13,082 INFO \t- f1_score class 9: 0.00\";\n",
       "            </script>\n",
       "        "
      ],
      "text/plain": [
       "<IPython.core.display.HTML object>"
      ]
     },
     "metadata": {},
     "output_type": "display_data"
    },
    {
     "data": {
      "text/html": [
       "\n",
       "            <script>\n",
       "                document.getElementById(\"biotrainer_status\").innerHTML = \"2025-10-01 09:24:13,084 INFO \tspearmans-corr-coeff: 0.04\";\n",
       "            </script>\n",
       "        "
      ],
      "text/plain": [
       "<IPython.core.display.HTML object>"
      ]
     },
     "metadata": {},
     "output_type": "display_data"
    },
    {
     "data": {
      "text/html": [
       "\n",
       "            <script>\n",
       "                document.getElementById(\"biotrainer_status\").innerHTML = \"2025-10-01 09:24:13,085 INFO \tmatthews-corr-coeff: 0.01\";\n",
       "            </script>\n",
       "        "
      ],
      "text/plain": [
       "<IPython.core.display.HTML object>"
      ]
     },
     "metadata": {},
     "output_type": "display_data"
    },
    {
     "data": {
      "text/html": [
       "\n",
       "            <script>\n",
       "                document.getElementById(\"biotrainer_status\").innerHTML = \"2025-10-01 09:24:13,708 INFO Epoch 2\";\n",
       "            </script>\n",
       "        "
      ],
      "text/plain": [
       "<IPython.core.display.HTML object>"
      ]
     },
     "metadata": {},
     "output_type": "display_data"
    },
    {
     "data": {
      "text/html": [
       "\n",
       "            <script>\n",
       "                document.getElementById(\"biotrainer_status\").innerHTML = \"2025-10-01 09:24:13,709 INFO Training results\";\n",
       "            </script>\n",
       "        "
      ],
      "text/plain": [
       "<IPython.core.display.HTML object>"
      ]
     },
     "metadata": {},
     "output_type": "display_data"
    },
    {
     "data": {
      "text/html": [
       "\n",
       "            <script>\n",
       "                document.getElementById(\"biotrainer_status\").innerHTML = \"2025-10-01 09:24:13,709 INFO \tloss: 2.30\";\n",
       "            </script>\n",
       "        "
      ],
      "text/plain": [
       "<IPython.core.display.HTML object>"
      ]
     },
     "metadata": {},
     "output_type": "display_data"
    },
    {
     "data": {
      "text/html": [
       "\n",
       "            <script>\n",
       "                document.getElementById(\"biotrainer_status\").innerHTML = \"2025-10-01 09:24:13,710 INFO \taccuracy: 0.18\";\n",
       "            </script>\n",
       "        "
      ],
      "text/plain": [
       "<IPython.core.display.HTML object>"
      ]
     },
     "metadata": {},
     "output_type": "display_data"
    },
    {
     "data": {
      "text/html": [
       "\n",
       "            <script>\n",
       "                document.getElementById(\"biotrainer_status\").innerHTML = \"2025-10-01 09:24:13,710 INFO \tmacro-precision: 0.14\";\n",
       "            </script>\n",
       "        "
      ],
      "text/plain": [
       "<IPython.core.display.HTML object>"
      ]
     },
     "metadata": {},
     "output_type": "display_data"
    },
    {
     "data": {
      "text/html": [
       "\n",
       "            <script>\n",
       "                document.getElementById(\"biotrainer_status\").innerHTML = \"2025-10-01 09:24:13,711 INFO \tmicro-precision: 0.18\";\n",
       "            </script>\n",
       "        "
      ],
      "text/plain": [
       "<IPython.core.display.HTML object>"
      ]
     },
     "metadata": {},
     "output_type": "display_data"
    },
    {
     "data": {
      "text/html": [
       "\n",
       "            <script>\n",
       "                document.getElementById(\"biotrainer_status\").innerHTML = \"2025-10-01 09:24:13,711 INFO \t- precision class 0: 0.14\";\n",
       "            </script>\n",
       "        "
      ],
      "text/plain": [
       "<IPython.core.display.HTML object>"
      ]
     },
     "metadata": {},
     "output_type": "display_data"
    },
    {
     "data": {
      "text/html": [
       "\n",
       "            <script>\n",
       "                document.getElementById(\"biotrainer_status\").innerHTML = \"2025-10-01 09:24:13,712 INFO \t- precision class 1: 0.19\";\n",
       "            </script>\n",
       "        "
      ],
      "text/plain": [
       "<IPython.core.display.HTML object>"
      ]
     },
     "metadata": {},
     "output_type": "display_data"
    },
    {
     "data": {
      "text/html": [
       "\n",
       "            <script>\n",
       "                document.getElementById(\"biotrainer_status\").innerHTML = \"2025-10-01 09:24:13,712 INFO \t- precision class 2: 0.07\";\n",
       "            </script>\n",
       "        "
      ],
      "text/plain": [
       "<IPython.core.display.HTML object>"
      ]
     },
     "metadata": {},
     "output_type": "display_data"
    },
    {
     "data": {
      "text/html": [
       "\n",
       "            <script>\n",
       "                document.getElementById(\"biotrainer_status\").innerHTML = \"2025-10-01 09:24:13,713 INFO \t- precision class 3: 0.39\";\n",
       "            </script>\n",
       "        "
      ],
      "text/plain": [
       "<IPython.core.display.HTML object>"
      ]
     },
     "metadata": {},
     "output_type": "display_data"
    },
    {
     "data": {
      "text/html": [
       "\n",
       "            <script>\n",
       "                document.getElementById(\"biotrainer_status\").innerHTML = \"2025-10-01 09:24:13,713 INFO \t- precision class 4: 0.02\";\n",
       "            </script>\n",
       "        "
      ],
      "text/plain": [
       "<IPython.core.display.HTML object>"
      ]
     },
     "metadata": {},
     "output_type": "display_data"
    },
    {
     "data": {
      "text/html": [
       "\n",
       "            <script>\n",
       "                document.getElementById(\"biotrainer_status\").innerHTML = \"2025-10-01 09:24:13,713 INFO \t- precision class 5: 0.04\";\n",
       "            </script>\n",
       "        "
      ],
      "text/plain": [
       "<IPython.core.display.HTML object>"
      ]
     },
     "metadata": {},
     "output_type": "display_data"
    },
    {
     "data": {
      "text/html": [
       "\n",
       "            <script>\n",
       "                document.getElementById(\"biotrainer_status\").innerHTML = \"2025-10-01 09:24:13,714 INFO \t- precision class 6: 0.12\";\n",
       "            </script>\n",
       "        "
      ],
      "text/plain": [
       "<IPython.core.display.HTML object>"
      ]
     },
     "metadata": {},
     "output_type": "display_data"
    },
    {
     "data": {
      "text/html": [
       "\n",
       "            <script>\n",
       "                document.getElementById(\"biotrainer_status\").innerHTML = \"2025-10-01 09:24:13,715 INFO \t- precision class 7: 0.39\";\n",
       "            </script>\n",
       "        "
      ],
      "text/plain": [
       "<IPython.core.display.HTML object>"
      ]
     },
     "metadata": {},
     "output_type": "display_data"
    },
    {
     "data": {
      "text/html": [
       "\n",
       "            <script>\n",
       "                document.getElementById(\"biotrainer_status\").innerHTML = \"2025-10-01 09:24:13,715 INFO \t- precision class 8: 0.00\";\n",
       "            </script>\n",
       "        "
      ],
      "text/plain": [
       "<IPython.core.display.HTML object>"
      ]
     },
     "metadata": {},
     "output_type": "display_data"
    },
    {
     "data": {
      "text/html": [
       "\n",
       "            <script>\n",
       "                document.getElementById(\"biotrainer_status\").innerHTML = \"2025-10-01 09:24:13,716 INFO \t- precision class 9: 0.00\";\n",
       "            </script>\n",
       "        "
      ],
      "text/plain": [
       "<IPython.core.display.HTML object>"
      ]
     },
     "metadata": {},
     "output_type": "display_data"
    },
    {
     "data": {
      "text/html": [
       "\n",
       "            <script>\n",
       "                document.getElementById(\"biotrainer_status\").innerHTML = \"2025-10-01 09:24:13,716 INFO \tmacro-recall: 0.13\";\n",
       "            </script>\n",
       "        "
      ],
      "text/plain": [
       "<IPython.core.display.HTML object>"
      ]
     },
     "metadata": {},
     "output_type": "display_data"
    },
    {
     "data": {
      "text/html": [
       "\n",
       "            <script>\n",
       "                document.getElementById(\"biotrainer_status\").innerHTML = \"2025-10-01 09:24:13,716 INFO \tmicro-recall: 0.18\";\n",
       "            </script>\n",
       "        "
      ],
      "text/plain": [
       "<IPython.core.display.HTML object>"
      ]
     },
     "metadata": {},
     "output_type": "display_data"
    },
    {
     "data": {
      "text/html": [
       "\n",
       "            <script>\n",
       "                document.getElementById(\"biotrainer_status\").innerHTML = \"2025-10-01 09:24:13,717 INFO \t- recall class 0: 0.24\";\n",
       "            </script>\n",
       "        "
      ],
      "text/plain": [
       "<IPython.core.display.HTML object>"
      ]
     },
     "metadata": {},
     "output_type": "display_data"
    },
    {
     "data": {
      "text/html": [
       "\n",
       "            <script>\n",
       "                document.getElementById(\"biotrainer_status\").innerHTML = \"2025-10-01 09:24:13,717 INFO \t- recall class 1: 0.09\";\n",
       "            </script>\n",
       "        "
      ],
      "text/plain": [
       "<IPython.core.display.HTML object>"
      ]
     },
     "metadata": {},
     "output_type": "display_data"
    },
    {
     "data": {
      "text/html": [
       "\n",
       "            <script>\n",
       "                document.getElementById(\"biotrainer_status\").innerHTML = \"2025-10-01 09:24:13,718 INFO \t- recall class 2: 0.21\";\n",
       "            </script>\n",
       "        "
      ],
      "text/plain": [
       "<IPython.core.display.HTML object>"
      ]
     },
     "metadata": {},
     "output_type": "display_data"
    },
    {
     "data": {
      "text/html": [
       "\n",
       "            <script>\n",
       "                document.getElementById(\"biotrainer_status\").innerHTML = \"2025-10-01 09:24:13,718 INFO \t- recall class 3: 0.21\";\n",
       "            </script>\n",
       "        "
      ],
      "text/plain": [
       "<IPython.core.display.HTML object>"
      ]
     },
     "metadata": {},
     "output_type": "display_data"
    },
    {
     "data": {
      "text/html": [
       "\n",
       "            <script>\n",
       "                document.getElementById(\"biotrainer_status\").innerHTML = \"2025-10-01 09:24:13,719 INFO \t- recall class 4: 0.08\";\n",
       "            </script>\n",
       "        "
      ],
      "text/plain": [
       "<IPython.core.display.HTML object>"
      ]
     },
     "metadata": {},
     "output_type": "display_data"
    },
    {
     "data": {
      "text/html": [
       "\n",
       "            <script>\n",
       "                document.getElementById(\"biotrainer_status\").innerHTML = \"2025-10-01 09:24:13,719 INFO \t- recall class 5: 0.03\";\n",
       "            </script>\n",
       "        "
      ],
      "text/plain": [
       "<IPython.core.display.HTML object>"
      ]
     },
     "metadata": {},
     "output_type": "display_data"
    },
    {
     "data": {
      "text/html": [
       "\n",
       "            <script>\n",
       "                document.getElementById(\"biotrainer_status\").innerHTML = \"2025-10-01 09:24:13,719 INFO \t- recall class 6: 0.21\";\n",
       "            </script>\n",
       "        "
      ],
      "text/plain": [
       "<IPython.core.display.HTML object>"
      ]
     },
     "metadata": {},
     "output_type": "display_data"
    },
    {
     "data": {
      "text/html": [
       "\n",
       "            <script>\n",
       "                document.getElementById(\"biotrainer_status\").innerHTML = \"2025-10-01 09:24:13,720 INFO \t- recall class 7: 0.24\";\n",
       "            </script>\n",
       "        "
      ],
      "text/plain": [
       "<IPython.core.display.HTML object>"
      ]
     },
     "metadata": {},
     "output_type": "display_data"
    },
    {
     "data": {
      "text/html": [
       "\n",
       "            <script>\n",
       "                document.getElementById(\"biotrainer_status\").innerHTML = \"2025-10-01 09:24:13,720 INFO \t- recall class 8: 0.00\";\n",
       "            </script>\n",
       "        "
      ],
      "text/plain": [
       "<IPython.core.display.HTML object>"
      ]
     },
     "metadata": {},
     "output_type": "display_data"
    },
    {
     "data": {
      "text/html": [
       "\n",
       "            <script>\n",
       "                document.getElementById(\"biotrainer_status\").innerHTML = \"2025-10-01 09:24:13,721 INFO \t- recall class 9: 0.00\";\n",
       "            </script>\n",
       "        "
      ],
      "text/plain": [
       "<IPython.core.display.HTML object>"
      ]
     },
     "metadata": {},
     "output_type": "display_data"
    },
    {
     "data": {
      "text/html": [
       "\n",
       "            <script>\n",
       "                document.getElementById(\"biotrainer_status\").innerHTML = \"2025-10-01 09:24:13,721 INFO \tmacro-f1_score: 0.12\";\n",
       "            </script>\n",
       "        "
      ],
      "text/plain": [
       "<IPython.core.display.HTML object>"
      ]
     },
     "metadata": {},
     "output_type": "display_data"
    },
    {
     "data": {
      "text/html": [
       "\n",
       "            <script>\n",
       "                document.getElementById(\"biotrainer_status\").innerHTML = \"2025-10-01 09:24:13,722 INFO \tmicro-f1_score: 0.18\";\n",
       "            </script>\n",
       "        "
      ],
      "text/plain": [
       "<IPython.core.display.HTML object>"
      ]
     },
     "metadata": {},
     "output_type": "display_data"
    },
    {
     "data": {
      "text/html": [
       "\n",
       "            <script>\n",
       "                document.getElementById(\"biotrainer_status\").innerHTML = \"2025-10-01 09:24:13,722 INFO \t- f1_score class 0: 0.17\";\n",
       "            </script>\n",
       "        "
      ],
      "text/plain": [
       "<IPython.core.display.HTML object>"
      ]
     },
     "metadata": {},
     "output_type": "display_data"
    },
    {
     "data": {
      "text/html": [
       "\n",
       "            <script>\n",
       "                document.getElementById(\"biotrainer_status\").innerHTML = \"2025-10-01 09:24:13,723 INFO \t- f1_score class 1: 0.12\";\n",
       "            </script>\n",
       "        "
      ],
      "text/plain": [
       "<IPython.core.display.HTML object>"
      ]
     },
     "metadata": {},
     "output_type": "display_data"
    },
    {
     "data": {
      "text/html": [
       "\n",
       "            <script>\n",
       "                document.getElementById(\"biotrainer_status\").innerHTML = \"2025-10-01 09:24:13,723 INFO \t- f1_score class 2: 0.10\";\n",
       "            </script>\n",
       "        "
      ],
      "text/plain": [
       "<IPython.core.display.HTML object>"
      ]
     },
     "metadata": {},
     "output_type": "display_data"
    },
    {
     "data": {
      "text/html": [
       "\n",
       "            <script>\n",
       "                document.getElementById(\"biotrainer_status\").innerHTML = \"2025-10-01 09:24:13,724 INFO \t- f1_score class 3: 0.27\";\n",
       "            </script>\n",
       "        "
      ],
      "text/plain": [
       "<IPython.core.display.HTML object>"
      ]
     },
     "metadata": {},
     "output_type": "display_data"
    },
    {
     "data": {
      "text/html": [
       "\n",
       "            <script>\n",
       "                document.getElementById(\"biotrainer_status\").innerHTML = \"2025-10-01 09:24:13,725 INFO \t- f1_score class 4: 0.03\";\n",
       "            </script>\n",
       "        "
      ],
      "text/plain": [
       "<IPython.core.display.HTML object>"
      ]
     },
     "metadata": {},
     "output_type": "display_data"
    },
    {
     "data": {
      "text/html": [
       "\n",
       "            <script>\n",
       "                document.getElementById(\"biotrainer_status\").innerHTML = \"2025-10-01 09:24:13,725 INFO \t- f1_score class 5: 0.04\";\n",
       "            </script>\n",
       "        "
      ],
      "text/plain": [
       "<IPython.core.display.HTML object>"
      ]
     },
     "metadata": {},
     "output_type": "display_data"
    },
    {
     "data": {
      "text/html": [
       "\n",
       "            <script>\n",
       "                document.getElementById(\"biotrainer_status\").innerHTML = \"2025-10-01 09:24:13,726 INFO \t- f1_score class 6: 0.15\";\n",
       "            </script>\n",
       "        "
      ],
      "text/plain": [
       "<IPython.core.display.HTML object>"
      ]
     },
     "metadata": {},
     "output_type": "display_data"
    },
    {
     "data": {
      "text/html": [
       "\n",
       "            <script>\n",
       "                document.getElementById(\"biotrainer_status\").innerHTML = \"2025-10-01 09:24:13,726 INFO \t- f1_score class 7: 0.29\";\n",
       "            </script>\n",
       "        "
      ],
      "text/plain": [
       "<IPython.core.display.HTML object>"
      ]
     },
     "metadata": {},
     "output_type": "display_data"
    },
    {
     "data": {
      "text/html": [
       "\n",
       "            <script>\n",
       "                document.getElementById(\"biotrainer_status\").innerHTML = \"2025-10-01 09:24:13,727 INFO \t- f1_score class 8: 0.00\";\n",
       "            </script>\n",
       "        "
      ],
      "text/plain": [
       "<IPython.core.display.HTML object>"
      ]
     },
     "metadata": {},
     "output_type": "display_data"
    },
    {
     "data": {
      "text/html": [
       "\n",
       "            <script>\n",
       "                document.getElementById(\"biotrainer_status\").innerHTML = \"2025-10-01 09:24:13,727 INFO \t- f1_score class 9: 0.00\";\n",
       "            </script>\n",
       "        "
      ],
      "text/plain": [
       "<IPython.core.display.HTML object>"
      ]
     },
     "metadata": {},
     "output_type": "display_data"
    },
    {
     "data": {
      "text/html": [
       "\n",
       "            <script>\n",
       "                document.getElementById(\"biotrainer_status\").innerHTML = \"2025-10-01 09:24:13,728 INFO \tspearmans-corr-coeff: 0.06\";\n",
       "            </script>\n",
       "        "
      ],
      "text/plain": [
       "<IPython.core.display.HTML object>"
      ]
     },
     "metadata": {},
     "output_type": "display_data"
    },
    {
     "data": {
      "text/html": [
       "\n",
       "            <script>\n",
       "                document.getElementById(\"biotrainer_status\").innerHTML = \"2025-10-01 09:24:13,729 INFO \tmatthews-corr-coeff: 0.06\";\n",
       "            </script>\n",
       "        "
      ],
      "text/plain": [
       "<IPython.core.display.HTML object>"
      ]
     },
     "metadata": {},
     "output_type": "display_data"
    },
    {
     "data": {
      "text/html": [
       "\n",
       "            <script>\n",
       "                document.getElementById(\"biotrainer_status\").innerHTML = \"2025-10-01 09:24:13,729 INFO Validation results\";\n",
       "            </script>\n",
       "        "
      ],
      "text/plain": [
       "<IPython.core.display.HTML object>"
      ]
     },
     "metadata": {},
     "output_type": "display_data"
    },
    {
     "data": {
      "text/html": [
       "\n",
       "            <script>\n",
       "                document.getElementById(\"biotrainer_status\").innerHTML = \"2025-10-01 09:24:13,730 INFO \tloss: 2.30\";\n",
       "            </script>\n",
       "        "
      ],
      "text/plain": [
       "<IPython.core.display.HTML object>"
      ]
     },
     "metadata": {},
     "output_type": "display_data"
    },
    {
     "data": {
      "text/html": [
       "\n",
       "            <script>\n",
       "                document.getElementById(\"biotrainer_status\").innerHTML = \"2025-10-01 09:24:13,730 INFO \taccuracy: 0.12\";\n",
       "            </script>\n",
       "        "
      ],
      "text/plain": [
       "<IPython.core.display.HTML object>"
      ]
     },
     "metadata": {},
     "output_type": "display_data"
    },
    {
     "data": {
      "text/html": [
       "\n",
       "            <script>\n",
       "                document.getElementById(\"biotrainer_status\").innerHTML = \"2025-10-01 09:24:13,731 INFO \tmacro-precision: 0.16\";\n",
       "            </script>\n",
       "        "
      ],
      "text/plain": [
       "<IPython.core.display.HTML object>"
      ]
     },
     "metadata": {},
     "output_type": "display_data"
    },
    {
     "data": {
      "text/html": [
       "\n",
       "            <script>\n",
       "                document.getElementById(\"biotrainer_status\").innerHTML = \"2025-10-01 09:24:13,731 INFO \tmicro-precision: 0.12\";\n",
       "            </script>\n",
       "        "
      ],
      "text/plain": [
       "<IPython.core.display.HTML object>"
      ]
     },
     "metadata": {},
     "output_type": "display_data"
    },
    {
     "data": {
      "text/html": [
       "\n",
       "            <script>\n",
       "                document.getElementById(\"biotrainer_status\").innerHTML = \"2025-10-01 09:24:13,732 INFO \t- precision class 0: 0.13\";\n",
       "            </script>\n",
       "        "
      ],
      "text/plain": [
       "<IPython.core.display.HTML object>"
      ]
     },
     "metadata": {},
     "output_type": "display_data"
    },
    {
     "data": {
      "text/html": [
       "\n",
       "            <script>\n",
       "                document.getElementById(\"biotrainer_status\").innerHTML = \"2025-10-01 09:24:13,733 INFO \t- precision class 1: 0.26\";\n",
       "            </script>\n",
       "        "
      ],
      "text/plain": [
       "<IPython.core.display.HTML object>"
      ]
     },
     "metadata": {},
     "output_type": "display_data"
    },
    {
     "data": {
      "text/html": [
       "\n",
       "            <script>\n",
       "                document.getElementById(\"biotrainer_status\").innerHTML = \"2025-10-01 09:24:13,733 INFO \t- precision class 2: 0.07\";\n",
       "            </script>\n",
       "        "
      ],
      "text/plain": [
       "<IPython.core.display.HTML object>"
      ]
     },
     "metadata": {},
     "output_type": "display_data"
    },
    {
     "data": {
      "text/html": [
       "\n",
       "            <script>\n",
       "                document.getElementById(\"biotrainer_status\").innerHTML = \"2025-10-01 09:24:13,734 INFO \t- precision class 3: 0.55\";\n",
       "            </script>\n",
       "        "
      ],
      "text/plain": [
       "<IPython.core.display.HTML object>"
      ]
     },
     "metadata": {},
     "output_type": "display_data"
    },
    {
     "data": {
      "text/html": [
       "\n",
       "            <script>\n",
       "                document.getElementById(\"biotrainer_status\").innerHTML = \"2025-10-01 09:24:13,734 INFO \t- precision class 4: 0.04\";\n",
       "            </script>\n",
       "        "
      ],
      "text/plain": [
       "<IPython.core.display.HTML object>"
      ]
     },
     "metadata": {},
     "output_type": "display_data"
    },
    {
     "data": {
      "text/html": [
       "\n",
       "            <script>\n",
       "                document.getElementById(\"biotrainer_status\").innerHTML = \"2025-10-01 09:24:13,735 INFO \t- precision class 5: 0.11\";\n",
       "            </script>\n",
       "        "
      ],
      "text/plain": [
       "<IPython.core.display.HTML object>"
      ]
     },
     "metadata": {},
     "output_type": "display_data"
    },
    {
     "data": {
      "text/html": [
       "\n",
       "            <script>\n",
       "                document.getElementById(\"biotrainer_status\").innerHTML = \"2025-10-01 09:24:13,735 INFO \t- precision class 6: 0.13\";\n",
       "            </script>\n",
       "        "
      ],
      "text/plain": [
       "<IPython.core.display.HTML object>"
      ]
     },
     "metadata": {},
     "output_type": "display_data"
    },
    {
     "data": {
      "text/html": [
       "\n",
       "            <script>\n",
       "                document.getElementById(\"biotrainer_status\").innerHTML = \"2025-10-01 09:24:13,736 INFO \t- precision class 7: 0.37\";\n",
       "            </script>\n",
       "        "
      ],
      "text/plain": [
       "<IPython.core.display.HTML object>"
      ]
     },
     "metadata": {},
     "output_type": "display_data"
    },
    {
     "data": {
      "text/html": [
       "\n",
       "            <script>\n",
       "                document.getElementById(\"biotrainer_status\").innerHTML = \"2025-10-01 09:24:13,737 INFO \t- precision class 8: 0.00\";\n",
       "            </script>\n",
       "        "
      ],
      "text/plain": [
       "<IPython.core.display.HTML object>"
      ]
     },
     "metadata": {},
     "output_type": "display_data"
    },
    {
     "data": {
      "text/html": [
       "\n",
       "            <script>\n",
       "                document.getElementById(\"biotrainer_status\").innerHTML = \"2025-10-01 09:24:13,737 INFO \t- precision class 9: 0.00\";\n",
       "            </script>\n",
       "        "
      ],
      "text/plain": [
       "<IPython.core.display.HTML object>"
      ]
     },
     "metadata": {},
     "output_type": "display_data"
    },
    {
     "data": {
      "text/html": [
       "\n",
       "            <script>\n",
       "                document.getElementById(\"biotrainer_status\").innerHTML = \"2025-10-01 09:24:13,738 INFO \tmacro-recall: 0.13\";\n",
       "            </script>\n",
       "        "
      ],
      "text/plain": [
       "<IPython.core.display.HTML object>"
      ]
     },
     "metadata": {},
     "output_type": "display_data"
    },
    {
     "data": {
      "text/html": [
       "\n",
       "            <script>\n",
       "                document.getElementById(\"biotrainer_status\").innerHTML = \"2025-10-01 09:24:13,738 INFO \tmicro-recall: 0.12\";\n",
       "            </script>\n",
       "        "
      ],
      "text/plain": [
       "<IPython.core.display.HTML object>"
      ]
     },
     "metadata": {},
     "output_type": "display_data"
    },
    {
     "data": {
      "text/html": [
       "\n",
       "            <script>\n",
       "                document.getElementById(\"biotrainer_status\").innerHTML = \"2025-10-01 09:24:13,739 INFO \t- recall class 0: 0.23\";\n",
       "            </script>\n",
       "        "
      ],
      "text/plain": [
       "<IPython.core.display.HTML object>"
      ]
     },
     "metadata": {},
     "output_type": "display_data"
    },
    {
     "data": {
      "text/html": [
       "\n",
       "            <script>\n",
       "                document.getElementById(\"biotrainer_status\").innerHTML = \"2025-10-01 09:24:13,739 INFO \t- recall class 1: 0.07\";\n",
       "            </script>\n",
       "        "
      ],
      "text/plain": [
       "<IPython.core.display.HTML object>"
      ]
     },
     "metadata": {},
     "output_type": "display_data"
    },
    {
     "data": {
      "text/html": [
       "\n",
       "            <script>\n",
       "                document.getElementById(\"biotrainer_status\").innerHTML = \"2025-10-01 09:24:13,740 INFO \t- recall class 2: 0.33\";\n",
       "            </script>\n",
       "        "
      ],
      "text/plain": [
       "<IPython.core.display.HTML object>"
      ]
     },
     "metadata": {},
     "output_type": "display_data"
    },
    {
     "data": {
      "text/html": [
       "\n",
       "            <script>\n",
       "                document.getElementById(\"biotrainer_status\").innerHTML = \"2025-10-01 09:24:13,740 INFO \t- recall class 3: 0.09\";\n",
       "            </script>\n",
       "        "
      ],
      "text/plain": [
       "<IPython.core.display.HTML object>"
      ]
     },
     "metadata": {},
     "output_type": "display_data"
    },
    {
     "data": {
      "text/html": [
       "\n",
       "            <script>\n",
       "                document.getElementById(\"biotrainer_status\").innerHTML = \"2025-10-01 09:24:13,741 INFO \t- recall class 4: 0.29\";\n",
       "            </script>\n",
       "        "
      ],
      "text/plain": [
       "<IPython.core.display.HTML object>"
      ]
     },
     "metadata": {},
     "output_type": "display_data"
    },
    {
     "data": {
      "text/html": [
       "\n",
       "            <script>\n",
       "                document.getElementById(\"biotrainer_status\").innerHTML = \"2025-10-01 09:24:13,741 INFO \t- recall class 5: 0.02\";\n",
       "            </script>\n",
       "        "
      ],
      "text/plain": [
       "<IPython.core.display.HTML object>"
      ]
     },
     "metadata": {},
     "output_type": "display_data"
    },
    {
     "data": {
      "text/html": [
       "\n",
       "            <script>\n",
       "                document.getElementById(\"biotrainer_status\").innerHTML = \"2025-10-01 09:24:13,742 INFO \t- recall class 6: 0.19\";\n",
       "            </script>\n",
       "        "
      ],
      "text/plain": [
       "<IPython.core.display.HTML object>"
      ]
     },
     "metadata": {},
     "output_type": "display_data"
    },
    {
     "data": {
      "text/html": [
       "\n",
       "            <script>\n",
       "                document.getElementById(\"biotrainer_status\").innerHTML = \"2025-10-01 09:24:13,742 INFO \t- recall class 7: 0.09\";\n",
       "            </script>\n",
       "        "
      ],
      "text/plain": [
       "<IPython.core.display.HTML object>"
      ]
     },
     "metadata": {},
     "output_type": "display_data"
    },
    {
     "data": {
      "text/html": [
       "\n",
       "            <script>\n",
       "                document.getElementById(\"biotrainer_status\").innerHTML = \"2025-10-01 09:24:13,743 INFO \t- recall class 8: 0.00\";\n",
       "            </script>\n",
       "        "
      ],
      "text/plain": [
       "<IPython.core.display.HTML object>"
      ]
     },
     "metadata": {},
     "output_type": "display_data"
    },
    {
     "data": {
      "text/html": [
       "\n",
       "            <script>\n",
       "                document.getElementById(\"biotrainer_status\").innerHTML = \"2025-10-01 09:24:13,743 INFO \t- recall class 9: 0.00\";\n",
       "            </script>\n",
       "        "
      ],
      "text/plain": [
       "<IPython.core.display.HTML object>"
      ]
     },
     "metadata": {},
     "output_type": "display_data"
    },
    {
     "data": {
      "text/html": [
       "\n",
       "            <script>\n",
       "                document.getElementById(\"biotrainer_status\").innerHTML = \"2025-10-01 09:24:13,744 INFO \tmacro-f1_score: 0.09\";\n",
       "            </script>\n",
       "        "
      ],
      "text/plain": [
       "<IPython.core.display.HTML object>"
      ]
     },
     "metadata": {},
     "output_type": "display_data"
    },
    {
     "data": {
      "text/html": [
       "\n",
       "            <script>\n",
       "                document.getElementById(\"biotrainer_status\").innerHTML = \"2025-10-01 09:24:13,744 INFO \tmicro-f1_score: 0.12\";\n",
       "            </script>\n",
       "        "
      ],
      "text/plain": [
       "<IPython.core.display.HTML object>"
      ]
     },
     "metadata": {},
     "output_type": "display_data"
    },
    {
     "data": {
      "text/html": [
       "\n",
       "            <script>\n",
       "                document.getElementById(\"biotrainer_status\").innerHTML = \"2025-10-01 09:24:13,745 INFO \t- f1_score class 0: 0.16\";\n",
       "            </script>\n",
       "        "
      ],
      "text/plain": [
       "<IPython.core.display.HTML object>"
      ]
     },
     "metadata": {},
     "output_type": "display_data"
    },
    {
     "data": {
      "text/html": [
       "\n",
       "            <script>\n",
       "                document.getElementById(\"biotrainer_status\").innerHTML = \"2025-10-01 09:24:13,746 INFO \t- f1_score class 1: 0.11\";\n",
       "            </script>\n",
       "        "
      ],
      "text/plain": [
       "<IPython.core.display.HTML object>"
      ]
     },
     "metadata": {},
     "output_type": "display_data"
    },
    {
     "data": {
      "text/html": [
       "\n",
       "            <script>\n",
       "                document.getElementById(\"biotrainer_status\").innerHTML = \"2025-10-01 09:24:13,746 INFO \t- f1_score class 2: 0.11\";\n",
       "            </script>\n",
       "        "
      ],
      "text/plain": [
       "<IPython.core.display.HTML object>"
      ]
     },
     "metadata": {},
     "output_type": "display_data"
    },
    {
     "data": {
      "text/html": [
       "\n",
       "            <script>\n",
       "                document.getElementById(\"biotrainer_status\").innerHTML = \"2025-10-01 09:24:13,747 INFO \t- f1_score class 3: 0.16\";\n",
       "            </script>\n",
       "        "
      ],
      "text/plain": [
       "<IPython.core.display.HTML object>"
      ]
     },
     "metadata": {},
     "output_type": "display_data"
    },
    {
     "data": {
      "text/html": [
       "\n",
       "            <script>\n",
       "                document.getElementById(\"biotrainer_status\").innerHTML = \"2025-10-01 09:24:13,747 INFO \t- f1_score class 4: 0.06\";\n",
       "            </script>\n",
       "        "
      ],
      "text/plain": [
       "<IPython.core.display.HTML object>"
      ]
     },
     "metadata": {},
     "output_type": "display_data"
    },
    {
     "data": {
      "text/html": [
       "\n",
       "            <script>\n",
       "                document.getElementById(\"biotrainer_status\").innerHTML = \"2025-10-01 09:24:13,748 INFO \t- f1_score class 5: 0.04\";\n",
       "            </script>\n",
       "        "
      ],
      "text/plain": [
       "<IPython.core.display.HTML object>"
      ]
     },
     "metadata": {},
     "output_type": "display_data"
    },
    {
     "data": {
      "text/html": [
       "\n",
       "            <script>\n",
       "                document.getElementById(\"biotrainer_status\").innerHTML = \"2025-10-01 09:24:13,748 INFO \t- f1_score class 6: 0.15\";\n",
       "            </script>\n",
       "        "
      ],
      "text/plain": [
       "<IPython.core.display.HTML object>"
      ]
     },
     "metadata": {},
     "output_type": "display_data"
    },
    {
     "data": {
      "text/html": [
       "\n",
       "            <script>\n",
       "                document.getElementById(\"biotrainer_status\").innerHTML = \"2025-10-01 09:24:13,749 INFO \t- f1_score class 7: 0.14\";\n",
       "            </script>\n",
       "        "
      ],
      "text/plain": [
       "<IPython.core.display.HTML object>"
      ]
     },
     "metadata": {},
     "output_type": "display_data"
    },
    {
     "data": {
      "text/html": [
       "\n",
       "            <script>\n",
       "                document.getElementById(\"biotrainer_status\").innerHTML = \"2025-10-01 09:24:13,749 INFO \t- f1_score class 8: 0.00\";\n",
       "            </script>\n",
       "        "
      ],
      "text/plain": [
       "<IPython.core.display.HTML object>"
      ]
     },
     "metadata": {},
     "output_type": "display_data"
    },
    {
     "data": {
      "text/html": [
       "\n",
       "            <script>\n",
       "                document.getElementById(\"biotrainer_status\").innerHTML = \"2025-10-01 09:24:13,750 INFO \t- f1_score class 9: 0.00\";\n",
       "            </script>\n",
       "        "
      ],
      "text/plain": [
       "<IPython.core.display.HTML object>"
      ]
     },
     "metadata": {},
     "output_type": "display_data"
    },
    {
     "data": {
      "text/html": [
       "\n",
       "            <script>\n",
       "                document.getElementById(\"biotrainer_status\").innerHTML = \"2025-10-01 09:24:13,750 INFO \tspearmans-corr-coeff: 0.06\";\n",
       "            </script>\n",
       "        "
      ],
      "text/plain": [
       "<IPython.core.display.HTML object>"
      ]
     },
     "metadata": {},
     "output_type": "display_data"
    },
    {
     "data": {
      "text/html": [
       "\n",
       "            <script>\n",
       "                document.getElementById(\"biotrainer_status\").innerHTML = \"2025-10-01 09:24:13,751 INFO \tmatthews-corr-coeff: 0.04\";\n",
       "            </script>\n",
       "        "
      ],
      "text/plain": [
       "<IPython.core.display.HTML object>"
      ]
     },
     "metadata": {},
     "output_type": "display_data"
    },
    {
     "data": {
      "text/html": [
       "\n",
       "            <script>\n",
       "                document.getElementById(\"biotrainer_status\").innerHTML = \"2025-10-01 09:24:14,379 INFO Epoch 3\";\n",
       "            </script>\n",
       "        "
      ],
      "text/plain": [
       "<IPython.core.display.HTML object>"
      ]
     },
     "metadata": {},
     "output_type": "display_data"
    },
    {
     "data": {
      "text/html": [
       "\n",
       "            <script>\n",
       "                document.getElementById(\"biotrainer_status\").innerHTML = \"2025-10-01 09:24:14,379 INFO Training results\";\n",
       "            </script>\n",
       "        "
      ],
      "text/plain": [
       "<IPython.core.display.HTML object>"
      ]
     },
     "metadata": {},
     "output_type": "display_data"
    },
    {
     "data": {
      "text/html": [
       "\n",
       "            <script>\n",
       "                document.getElementById(\"biotrainer_status\").innerHTML = \"2025-10-01 09:24:14,380 INFO \tloss: 2.29\";\n",
       "            </script>\n",
       "        "
      ],
      "text/plain": [
       "<IPython.core.display.HTML object>"
      ]
     },
     "metadata": {},
     "output_type": "display_data"
    },
    {
     "data": {
      "text/html": [
       "\n",
       "            <script>\n",
       "                document.getElementById(\"biotrainer_status\").innerHTML = \"2025-10-01 09:24:14,380 INFO \taccuracy: 0.20\";\n",
       "            </script>\n",
       "        "
      ],
      "text/plain": [
       "<IPython.core.display.HTML object>"
      ]
     },
     "metadata": {},
     "output_type": "display_data"
    },
    {
     "data": {
      "text/html": [
       "\n",
       "            <script>\n",
       "                document.getElementById(\"biotrainer_status\").innerHTML = \"2025-10-01 09:24:14,381 INFO \tmacro-precision: 0.16\";\n",
       "            </script>\n",
       "        "
      ],
      "text/plain": [
       "<IPython.core.display.HTML object>"
      ]
     },
     "metadata": {},
     "output_type": "display_data"
    },
    {
     "data": {
      "text/html": [
       "\n",
       "            <script>\n",
       "                document.getElementById(\"biotrainer_status\").innerHTML = \"2025-10-01 09:24:14,381 INFO \tmicro-precision: 0.20\";\n",
       "            </script>\n",
       "        "
      ],
      "text/plain": [
       "<IPython.core.display.HTML object>"
      ]
     },
     "metadata": {},
     "output_type": "display_data"
    },
    {
     "data": {
      "text/html": [
       "\n",
       "            <script>\n",
       "                document.getElementById(\"biotrainer_status\").innerHTML = \"2025-10-01 09:24:14,382 INFO \t- precision class 0: 0.15\";\n",
       "            </script>\n",
       "        "
      ],
      "text/plain": [
       "<IPython.core.display.HTML object>"
      ]
     },
     "metadata": {},
     "output_type": "display_data"
    },
    {
     "data": {
      "text/html": [
       "\n",
       "            <script>\n",
       "                document.getElementById(\"biotrainer_status\").innerHTML = \"2025-10-01 09:24:14,382 INFO \t- precision class 1: 0.23\";\n",
       "            </script>\n",
       "        "
      ],
      "text/plain": [
       "<IPython.core.display.HTML object>"
      ]
     },
     "metadata": {},
     "output_type": "display_data"
    },
    {
     "data": {
      "text/html": [
       "\n",
       "            <script>\n",
       "                document.getElementById(\"biotrainer_status\").innerHTML = \"2025-10-01 09:24:14,383 INFO \t- precision class 2: 0.08\";\n",
       "            </script>\n",
       "        "
      ],
      "text/plain": [
       "<IPython.core.display.HTML object>"
      ]
     },
     "metadata": {},
     "output_type": "display_data"
    },
    {
     "data": {
      "text/html": [
       "\n",
       "            <script>\n",
       "                document.getElementById(\"biotrainer_status\").innerHTML = \"2025-10-01 09:24:14,383 INFO \t- precision class 3: 0.39\";\n",
       "            </script>\n",
       "        "
      ],
      "text/plain": [
       "<IPython.core.display.HTML object>"
      ]
     },
     "metadata": {},
     "output_type": "display_data"
    },
    {
     "data": {
      "text/html": [
       "\n",
       "            <script>\n",
       "                document.getElementById(\"biotrainer_status\").innerHTML = \"2025-10-01 09:24:14,384 INFO \t- precision class 4: 0.02\";\n",
       "            </script>\n",
       "        "
      ],
      "text/plain": [
       "<IPython.core.display.HTML object>"
      ]
     },
     "metadata": {},
     "output_type": "display_data"
    },
    {
     "data": {
      "text/html": [
       "\n",
       "            <script>\n",
       "                document.getElementById(\"biotrainer_status\").innerHTML = \"2025-10-01 09:24:14,384 INFO \t- precision class 5: 0.07\";\n",
       "            </script>\n",
       "        "
      ],
      "text/plain": [
       "<IPython.core.display.HTML object>"
      ]
     },
     "metadata": {},
     "output_type": "display_data"
    },
    {
     "data": {
      "text/html": [
       "\n",
       "            <script>\n",
       "                document.getElementById(\"biotrainer_status\").innerHTML = \"2025-10-01 09:24:14,385 INFO \t- precision class 6: 0.11\";\n",
       "            </script>\n",
       "        "
      ],
      "text/plain": [
       "<IPython.core.display.HTML object>"
      ]
     },
     "metadata": {},
     "output_type": "display_data"
    },
    {
     "data": {
      "text/html": [
       "\n",
       "            <script>\n",
       "                document.getElementById(\"biotrainer_status\").innerHTML = \"2025-10-01 09:24:14,385 INFO \t- precision class 7: 0.44\";\n",
       "            </script>\n",
       "        "
      ],
      "text/plain": [
       "<IPython.core.display.HTML object>"
      ]
     },
     "metadata": {},
     "output_type": "display_data"
    },
    {
     "data": {
      "text/html": [
       "\n",
       "            <script>\n",
       "                document.getElementById(\"biotrainer_status\").innerHTML = \"2025-10-01 09:24:14,385 INFO \t- precision class 8: 0.00\";\n",
       "            </script>\n",
       "        "
      ],
      "text/plain": [
       "<IPython.core.display.HTML object>"
      ]
     },
     "metadata": {},
     "output_type": "display_data"
    },
    {
     "data": {
      "text/html": [
       "\n",
       "            <script>\n",
       "                document.getElementById(\"biotrainer_status\").innerHTML = \"2025-10-01 09:24:14,386 INFO \t- precision class 9: 0.09\";\n",
       "            </script>\n",
       "        "
      ],
      "text/plain": [
       "<IPython.core.display.HTML object>"
      ]
     },
     "metadata": {},
     "output_type": "display_data"
    },
    {
     "data": {
      "text/html": [
       "\n",
       "            <script>\n",
       "                document.getElementById(\"biotrainer_status\").innerHTML = \"2025-10-01 09:24:14,386 INFO \tmacro-recall: 0.15\";\n",
       "            </script>\n",
       "        "
      ],
      "text/plain": [
       "<IPython.core.display.HTML object>"
      ]
     },
     "metadata": {},
     "output_type": "display_data"
    },
    {
     "data": {
      "text/html": [
       "\n",
       "            <script>\n",
       "                document.getElementById(\"biotrainer_status\").innerHTML = \"2025-10-01 09:24:14,387 INFO \tmicro-recall: 0.20\";\n",
       "            </script>\n",
       "        "
      ],
      "text/plain": [
       "<IPython.core.display.HTML object>"
      ]
     },
     "metadata": {},
     "output_type": "display_data"
    },
    {
     "data": {
      "text/html": [
       "\n",
       "            <script>\n",
       "                document.getElementById(\"biotrainer_status\").innerHTML = \"2025-10-01 09:24:14,387 INFO \t- recall class 0: 0.37\";\n",
       "            </script>\n",
       "        "
      ],
      "text/plain": [
       "<IPython.core.display.HTML object>"
      ]
     },
     "metadata": {},
     "output_type": "display_data"
    },
    {
     "data": {
      "text/html": [
       "\n",
       "            <script>\n",
       "                document.getElementById(\"biotrainer_status\").innerHTML = \"2025-10-01 09:24:14,388 INFO \t- recall class 1: 0.04\";\n",
       "            </script>\n",
       "        "
      ],
      "text/plain": [
       "<IPython.core.display.HTML object>"
      ]
     },
     "metadata": {},
     "output_type": "display_data"
    },
    {
     "data": {
      "text/html": [
       "\n",
       "            <script>\n",
       "                document.getElementById(\"biotrainer_status\").innerHTML = \"2025-10-01 09:24:14,388 INFO \t- recall class 2: 0.28\";\n",
       "            </script>\n",
       "        "
      ],
      "text/plain": [
       "<IPython.core.display.HTML object>"
      ]
     },
     "metadata": {},
     "output_type": "display_data"
    },
    {
     "data": {
      "text/html": [
       "\n",
       "            <script>\n",
       "                document.getElementById(\"biotrainer_status\").innerHTML = \"2025-10-01 09:24:14,389 INFO \t- recall class 3: 0.34\";\n",
       "            </script>\n",
       "        "
      ],
      "text/plain": [
       "<IPython.core.display.HTML object>"
      ]
     },
     "metadata": {},
     "output_type": "display_data"
    },
    {
     "data": {
      "text/html": [
       "\n",
       "            <script>\n",
       "                document.getElementById(\"biotrainer_status\").innerHTML = \"2025-10-01 09:24:14,389 INFO \t- recall class 4: 0.10\";\n",
       "            </script>\n",
       "        "
      ],
      "text/plain": [
       "<IPython.core.display.HTML object>"
      ]
     },
     "metadata": {},
     "output_type": "display_data"
    },
    {
     "data": {
      "text/html": [
       "\n",
       "            <script>\n",
       "                document.getElementById(\"biotrainer_status\").innerHTML = \"2025-10-01 09:24:14,389 INFO \t- recall class 5: 0.01\";\n",
       "            </script>\n",
       "        "
      ],
      "text/plain": [
       "<IPython.core.display.HTML object>"
      ]
     },
     "metadata": {},
     "output_type": "display_data"
    },
    {
     "data": {
      "text/html": [
       "\n",
       "            <script>\n",
       "                document.getElementById(\"biotrainer_status\").innerHTML = \"2025-10-01 09:24:14,390 INFO \t- recall class 6: 0.09\";\n",
       "            </script>\n",
       "        "
      ],
      "text/plain": [
       "<IPython.core.display.HTML object>"
      ]
     },
     "metadata": {},
     "output_type": "display_data"
    },
    {
     "data": {
      "text/html": [
       "\n",
       "            <script>\n",
       "                document.getElementById(\"biotrainer_status\").innerHTML = \"2025-10-01 09:24:14,390 INFO \t- recall class 7: 0.26\";\n",
       "            </script>\n",
       "        "
      ],
      "text/plain": [
       "<IPython.core.display.HTML object>"
      ]
     },
     "metadata": {},
     "output_type": "display_data"
    },
    {
     "data": {
      "text/html": [
       "\n",
       "            <script>\n",
       "                document.getElementById(\"biotrainer_status\").innerHTML = \"2025-10-01 09:24:14,391 INFO \t- recall class 8: 0.00\";\n",
       "            </script>\n",
       "        "
      ],
      "text/plain": [
       "<IPython.core.display.HTML object>"
      ]
     },
     "metadata": {},
     "output_type": "display_data"
    },
    {
     "data": {
      "text/html": [
       "\n",
       "            <script>\n",
       "                document.getElementById(\"biotrainer_status\").innerHTML = \"2025-10-01 09:24:14,391 INFO \t- recall class 9: 0.01\";\n",
       "            </script>\n",
       "        "
      ],
      "text/plain": [
       "<IPython.core.display.HTML object>"
      ]
     },
     "metadata": {},
     "output_type": "display_data"
    },
    {
     "data": {
      "text/html": [
       "\n",
       "            <script>\n",
       "                document.getElementById(\"biotrainer_status\").innerHTML = \"2025-10-01 09:24:14,391 INFO \tmacro-f1_score: 0.13\";\n",
       "            </script>\n",
       "        "
      ],
      "text/plain": [
       "<IPython.core.display.HTML object>"
      ]
     },
     "metadata": {},
     "output_type": "display_data"
    },
    {
     "data": {
      "text/html": [
       "\n",
       "            <script>\n",
       "                document.getElementById(\"biotrainer_status\").innerHTML = \"2025-10-01 09:24:14,392 INFO \tmicro-f1_score: 0.20\";\n",
       "            </script>\n",
       "        "
      ],
      "text/plain": [
       "<IPython.core.display.HTML object>"
      ]
     },
     "metadata": {},
     "output_type": "display_data"
    },
    {
     "data": {
      "text/html": [
       "\n",
       "            <script>\n",
       "                document.getElementById(\"biotrainer_status\").innerHTML = \"2025-10-01 09:24:14,392 INFO \t- f1_score class 0: 0.21\";\n",
       "            </script>\n",
       "        "
      ],
      "text/plain": [
       "<IPython.core.display.HTML object>"
      ]
     },
     "metadata": {},
     "output_type": "display_data"
    },
    {
     "data": {
      "text/html": [
       "\n",
       "            <script>\n",
       "                document.getElementById(\"biotrainer_status\").innerHTML = \"2025-10-01 09:24:14,393 INFO \t- f1_score class 1: 0.07\";\n",
       "            </script>\n",
       "        "
      ],
      "text/plain": [
       "<IPython.core.display.HTML object>"
      ]
     },
     "metadata": {},
     "output_type": "display_data"
    },
    {
     "data": {
      "text/html": [
       "\n",
       "            <script>\n",
       "                document.getElementById(\"biotrainer_status\").innerHTML = \"2025-10-01 09:24:14,393 INFO \t- f1_score class 2: 0.12\";\n",
       "            </script>\n",
       "        "
      ],
      "text/plain": [
       "<IPython.core.display.HTML object>"
      ]
     },
     "metadata": {},
     "output_type": "display_data"
    },
    {
     "data": {
      "text/html": [
       "\n",
       "            <script>\n",
       "                document.getElementById(\"biotrainer_status\").innerHTML = \"2025-10-01 09:24:14,394 INFO \t- f1_score class 3: 0.36\";\n",
       "            </script>\n",
       "        "
      ],
      "text/plain": [
       "<IPython.core.display.HTML object>"
      ]
     },
     "metadata": {},
     "output_type": "display_data"
    },
    {
     "data": {
      "text/html": [
       "\n",
       "            <script>\n",
       "                document.getElementById(\"biotrainer_status\").innerHTML = \"2025-10-01 09:24:14,395 INFO \t- f1_score class 4: 0.04\";\n",
       "            </script>\n",
       "        "
      ],
      "text/plain": [
       "<IPython.core.display.HTML object>"
      ]
     },
     "metadata": {},
     "output_type": "display_data"
    },
    {
     "data": {
      "text/html": [
       "\n",
       "            <script>\n",
       "                document.getElementById(\"biotrainer_status\").innerHTML = \"2025-10-01 09:24:14,395 INFO \t- f1_score class 5: 0.02\";\n",
       "            </script>\n",
       "        "
      ],
      "text/plain": [
       "<IPython.core.display.HTML object>"
      ]
     },
     "metadata": {},
     "output_type": "display_data"
    },
    {
     "data": {
      "text/html": [
       "\n",
       "            <script>\n",
       "                document.getElementById(\"biotrainer_status\").innerHTML = \"2025-10-01 09:24:14,396 INFO \t- f1_score class 6: 0.10\";\n",
       "            </script>\n",
       "        "
      ],
      "text/plain": [
       "<IPython.core.display.HTML object>"
      ]
     },
     "metadata": {},
     "output_type": "display_data"
    },
    {
     "data": {
      "text/html": [
       "\n",
       "            <script>\n",
       "                document.getElementById(\"biotrainer_status\").innerHTML = \"2025-10-01 09:24:14,396 INFO \t- f1_score class 7: 0.33\";\n",
       "            </script>\n",
       "        "
      ],
      "text/plain": [
       "<IPython.core.display.HTML object>"
      ]
     },
     "metadata": {},
     "output_type": "display_data"
    },
    {
     "data": {
      "text/html": [
       "\n",
       "            <script>\n",
       "                document.getElementById(\"biotrainer_status\").innerHTML = \"2025-10-01 09:24:14,397 INFO \t- f1_score class 8: 0.00\";\n",
       "            </script>\n",
       "        "
      ],
      "text/plain": [
       "<IPython.core.display.HTML object>"
      ]
     },
     "metadata": {},
     "output_type": "display_data"
    },
    {
     "data": {
      "text/html": [
       "\n",
       "            <script>\n",
       "                document.getElementById(\"biotrainer_status\").innerHTML = \"2025-10-01 09:24:14,397 INFO \t- f1_score class 9: 0.02\";\n",
       "            </script>\n",
       "        "
      ],
      "text/plain": [
       "<IPython.core.display.HTML object>"
      ]
     },
     "metadata": {},
     "output_type": "display_data"
    },
    {
     "data": {
      "text/html": [
       "\n",
       "            <script>\n",
       "                document.getElementById(\"biotrainer_status\").innerHTML = \"2025-10-01 09:24:14,398 INFO \tspearmans-corr-coeff: 0.11\";\n",
       "            </script>\n",
       "        "
      ],
      "text/plain": [
       "<IPython.core.display.HTML object>"
      ]
     },
     "metadata": {},
     "output_type": "display_data"
    },
    {
     "data": {
      "text/html": [
       "\n",
       "            <script>\n",
       "                document.getElementById(\"biotrainer_status\").innerHTML = \"2025-10-01 09:24:14,398 INFO \tmatthews-corr-coeff: 0.09\";\n",
       "            </script>\n",
       "        "
      ],
      "text/plain": [
       "<IPython.core.display.HTML object>"
      ]
     },
     "metadata": {},
     "output_type": "display_data"
    },
    {
     "data": {
      "text/html": [
       "\n",
       "            <script>\n",
       "                document.getElementById(\"biotrainer_status\").innerHTML = \"2025-10-01 09:24:14,399 INFO Validation results\";\n",
       "            </script>\n",
       "        "
      ],
      "text/plain": [
       "<IPython.core.display.HTML object>"
      ]
     },
     "metadata": {},
     "output_type": "display_data"
    },
    {
     "data": {
      "text/html": [
       "\n",
       "            <script>\n",
       "                document.getElementById(\"biotrainer_status\").innerHTML = \"2025-10-01 09:24:14,399 INFO \tloss: 2.30\";\n",
       "            </script>\n",
       "        "
      ],
      "text/plain": [
       "<IPython.core.display.HTML object>"
      ]
     },
     "metadata": {},
     "output_type": "display_data"
    },
    {
     "data": {
      "text/html": [
       "\n",
       "            <script>\n",
       "                document.getElementById(\"biotrainer_status\").innerHTML = \"2025-10-01 09:24:14,400 INFO \taccuracy: 0.18\";\n",
       "            </script>\n",
       "        "
      ],
      "text/plain": [
       "<IPython.core.display.HTML object>"
      ]
     },
     "metadata": {},
     "output_type": "display_data"
    },
    {
     "data": {
      "text/html": [
       "\n",
       "            <script>\n",
       "                document.getElementById(\"biotrainer_status\").innerHTML = \"2025-10-01 09:24:14,401 INFO \tmacro-precision: 0.17\";\n",
       "            </script>\n",
       "        "
      ],
      "text/plain": [
       "<IPython.core.display.HTML object>"
      ]
     },
     "metadata": {},
     "output_type": "display_data"
    },
    {
     "data": {
      "text/html": [
       "\n",
       "            <script>\n",
       "                document.getElementById(\"biotrainer_status\").innerHTML = \"2025-10-01 09:24:14,401 INFO \tmicro-precision: 0.18\";\n",
       "            </script>\n",
       "        "
      ],
      "text/plain": [
       "<IPython.core.display.HTML object>"
      ]
     },
     "metadata": {},
     "output_type": "display_data"
    },
    {
     "data": {
      "text/html": [
       "\n",
       "            <script>\n",
       "                document.getElementById(\"biotrainer_status\").innerHTML = \"2025-10-01 09:24:14,402 INFO \t- precision class 0: 0.13\";\n",
       "            </script>\n",
       "        "
      ],
      "text/plain": [
       "<IPython.core.display.HTML object>"
      ]
     },
     "metadata": {},
     "output_type": "display_data"
    },
    {
     "data": {
      "text/html": [
       "\n",
       "            <script>\n",
       "                document.getElementById(\"biotrainer_status\").innerHTML = \"2025-10-01 09:24:14,402 INFO \t- precision class 1: 0.16\";\n",
       "            </script>\n",
       "        "
      ],
      "text/plain": [
       "<IPython.core.display.HTML object>"
      ]
     },
     "metadata": {},
     "output_type": "display_data"
    },
    {
     "data": {
      "text/html": [
       "\n",
       "            <script>\n",
       "                document.getElementById(\"biotrainer_status\").innerHTML = \"2025-10-01 09:24:14,403 INFO \t- precision class 2: 0.05\";\n",
       "            </script>\n",
       "        "
      ],
      "text/plain": [
       "<IPython.core.display.HTML object>"
      ]
     },
     "metadata": {},
     "output_type": "display_data"
    },
    {
     "data": {
      "text/html": [
       "\n",
       "            <script>\n",
       "                document.getElementById(\"biotrainer_status\").innerHTML = \"2025-10-01 09:24:14,403 INFO \t- precision class 3: 0.34\";\n",
       "            </script>\n",
       "        "
      ],
      "text/plain": [
       "<IPython.core.display.HTML object>"
      ]
     },
     "metadata": {},
     "output_type": "display_data"
    },
    {
     "data": {
      "text/html": [
       "\n",
       "            <script>\n",
       "                document.getElementById(\"biotrainer_status\").innerHTML = \"2025-10-01 09:24:14,404 INFO \t- precision class 4: 0.03\";\n",
       "            </script>\n",
       "        "
      ],
      "text/plain": [
       "<IPython.core.display.HTML object>"
      ]
     },
     "metadata": {},
     "output_type": "display_data"
    },
    {
     "data": {
      "text/html": [
       "\n",
       "            <script>\n",
       "                document.getElementById(\"biotrainer_status\").innerHTML = \"2025-10-01 09:24:14,405 INFO \t- precision class 5: 0.00\";\n",
       "            </script>\n",
       "        "
      ],
      "text/plain": [
       "<IPython.core.display.HTML object>"
      ]
     },
     "metadata": {},
     "output_type": "display_data"
    },
    {
     "data": {
      "text/html": [
       "\n",
       "            <script>\n",
       "                document.getElementById(\"biotrainer_status\").innerHTML = \"2025-10-01 09:24:14,405 INFO \t- precision class 6: 0.10\";\n",
       "            </script>\n",
       "        "
      ],
      "text/plain": [
       "<IPython.core.display.HTML object>"
      ]
     },
     "metadata": {},
     "output_type": "display_data"
    },
    {
     "data": {
      "text/html": [
       "\n",
       "            <script>\n",
       "                document.getElementById(\"biotrainer_status\").innerHTML = \"2025-10-01 09:24:14,406 INFO \t- precision class 7: 0.40\";\n",
       "            </script>\n",
       "        "
      ],
      "text/plain": [
       "<IPython.core.display.HTML object>"
      ]
     },
     "metadata": {},
     "output_type": "display_data"
    },
    {
     "data": {
      "text/html": [
       "\n",
       "            <script>\n",
       "                document.getElementById(\"biotrainer_status\").innerHTML = \"2025-10-01 09:24:14,407 INFO \t- precision class 8: 0.00\";\n",
       "            </script>\n",
       "        "
      ],
      "text/plain": [
       "<IPython.core.display.HTML object>"
      ]
     },
     "metadata": {},
     "output_type": "display_data"
    },
    {
     "data": {
      "text/html": [
       "\n",
       "            <script>\n",
       "                document.getElementById(\"biotrainer_status\").innerHTML = \"2025-10-01 09:24:14,407 INFO \t- precision class 9: 0.50\";\n",
       "            </script>\n",
       "        "
      ],
      "text/plain": [
       "<IPython.core.display.HTML object>"
      ]
     },
     "metadata": {},
     "output_type": "display_data"
    },
    {
     "data": {
      "text/html": [
       "\n",
       "            <script>\n",
       "                document.getElementById(\"biotrainer_status\").innerHTML = \"2025-10-01 09:24:14,408 INFO \tmacro-recall: 0.13\";\n",
       "            </script>\n",
       "        "
      ],
      "text/plain": [
       "<IPython.core.display.HTML object>"
      ]
     },
     "metadata": {},
     "output_type": "display_data"
    },
    {
     "data": {
      "text/html": [
       "\n",
       "            <script>\n",
       "                document.getElementById(\"biotrainer_status\").innerHTML = \"2025-10-01 09:24:14,408 INFO \tmicro-recall: 0.18\";\n",
       "            </script>\n",
       "        "
      ],
      "text/plain": [
       "<IPython.core.display.HTML object>"
      ]
     },
     "metadata": {},
     "output_type": "display_data"
    },
    {
     "data": {
      "text/html": [
       "\n",
       "            <script>\n",
       "                document.getElementById(\"biotrainer_status\").innerHTML = \"2025-10-01 09:24:14,409 INFO \t- recall class 0: 0.32\";\n",
       "            </script>\n",
       "        "
      ],
      "text/plain": [
       "<IPython.core.display.HTML object>"
      ]
     },
     "metadata": {},
     "output_type": "display_data"
    },
    {
     "data": {
      "text/html": [
       "\n",
       "            <script>\n",
       "                document.getElementById(\"biotrainer_status\").innerHTML = \"2025-10-01 09:24:14,409 INFO \t- recall class 1: 0.05\";\n",
       "            </script>\n",
       "        "
      ],
      "text/plain": [
       "<IPython.core.display.HTML object>"
      ]
     },
     "metadata": {},
     "output_type": "display_data"
    },
    {
     "data": {
      "text/html": [
       "\n",
       "            <script>\n",
       "                document.getElementById(\"biotrainer_status\").innerHTML = \"2025-10-01 09:24:14,410 INFO \t- recall class 2: 0.12\";\n",
       "            </script>\n",
       "        "
      ],
      "text/plain": [
       "<IPython.core.display.HTML object>"
      ]
     },
     "metadata": {},
     "output_type": "display_data"
    },
    {
     "data": {
      "text/html": [
       "\n",
       "            <script>\n",
       "                document.getElementById(\"biotrainer_status\").innerHTML = \"2025-10-01 09:24:14,410 INFO \t- recall class 3: 0.40\";\n",
       "            </script>\n",
       "        "
      ],
      "text/plain": [
       "<IPython.core.display.HTML object>"
      ]
     },
     "metadata": {},
     "output_type": "display_data"
    },
    {
     "data": {
      "text/html": [
       "\n",
       "            <script>\n",
       "                document.getElementById(\"biotrainer_status\").innerHTML = \"2025-10-01 09:24:14,411 INFO \t- recall class 4: 0.10\";\n",
       "            </script>\n",
       "        "
      ],
      "text/plain": [
       "<IPython.core.display.HTML object>"
      ]
     },
     "metadata": {},
     "output_type": "display_data"
    },
    {
     "data": {
      "text/html": [
       "\n",
       "            <script>\n",
       "                document.getElementById(\"biotrainer_status\").innerHTML = \"2025-10-01 09:24:14,411 INFO \t- recall class 5: 0.00\";\n",
       "            </script>\n",
       "        "
      ],
      "text/plain": [
       "<IPython.core.display.HTML object>"
      ]
     },
     "metadata": {},
     "output_type": "display_data"
    },
    {
     "data": {
      "text/html": [
       "\n",
       "            <script>\n",
       "                document.getElementById(\"biotrainer_status\").innerHTML = \"2025-10-01 09:24:14,412 INFO \t- recall class 6: 0.15\";\n",
       "            </script>\n",
       "        "
      ],
      "text/plain": [
       "<IPython.core.display.HTML object>"
      ]
     },
     "metadata": {},
     "output_type": "display_data"
    },
    {
     "data": {
      "text/html": [
       "\n",
       "            <script>\n",
       "                document.getElementById(\"biotrainer_status\").innerHTML = \"2025-10-01 09:24:14,412 INFO \t- recall class 7: 0.18\";\n",
       "            </script>\n",
       "        "
      ],
      "text/plain": [
       "<IPython.core.display.HTML object>"
      ]
     },
     "metadata": {},
     "output_type": "display_data"
    },
    {
     "data": {
      "text/html": [
       "\n",
       "            <script>\n",
       "                document.getElementById(\"biotrainer_status\").innerHTML = \"2025-10-01 09:24:14,413 INFO \t- recall class 8: 0.00\";\n",
       "            </script>\n",
       "        "
      ],
      "text/plain": [
       "<IPython.core.display.HTML object>"
      ]
     },
     "metadata": {},
     "output_type": "display_data"
    },
    {
     "data": {
      "text/html": [
       "\n",
       "            <script>\n",
       "                document.getElementById(\"biotrainer_status\").innerHTML = \"2025-10-01 09:24:14,413 INFO \t- recall class 9: 0.02\";\n",
       "            </script>\n",
       "        "
      ],
      "text/plain": [
       "<IPython.core.display.HTML object>"
      ]
     },
     "metadata": {},
     "output_type": "display_data"
    },
    {
     "data": {
      "text/html": [
       "\n",
       "            <script>\n",
       "                document.getElementById(\"biotrainer_status\").innerHTML = \"2025-10-01 09:24:14,414 INFO \tmacro-f1_score: 0.12\";\n",
       "            </script>\n",
       "        "
      ],
      "text/plain": [
       "<IPython.core.display.HTML object>"
      ]
     },
     "metadata": {},
     "output_type": "display_data"
    },
    {
     "data": {
      "text/html": [
       "\n",
       "            <script>\n",
       "                document.getElementById(\"biotrainer_status\").innerHTML = \"2025-10-01 09:24:14,414 INFO \tmicro-f1_score: 0.18\";\n",
       "            </script>\n",
       "        "
      ],
      "text/plain": [
       "<IPython.core.display.HTML object>"
      ]
     },
     "metadata": {},
     "output_type": "display_data"
    },
    {
     "data": {
      "text/html": [
       "\n",
       "            <script>\n",
       "                document.getElementById(\"biotrainer_status\").innerHTML = \"2025-10-01 09:24:14,415 INFO \t- f1_score class 0: 0.19\";\n",
       "            </script>\n",
       "        "
      ],
      "text/plain": [
       "<IPython.core.display.HTML object>"
      ]
     },
     "metadata": {},
     "output_type": "display_data"
    },
    {
     "data": {
      "text/html": [
       "\n",
       "            <script>\n",
       "                document.getElementById(\"biotrainer_status\").innerHTML = \"2025-10-01 09:24:14,415 INFO \t- f1_score class 1: 0.08\";\n",
       "            </script>\n",
       "        "
      ],
      "text/plain": [
       "<IPython.core.display.HTML object>"
      ]
     },
     "metadata": {},
     "output_type": "display_data"
    },
    {
     "data": {
      "text/html": [
       "\n",
       "            <script>\n",
       "                document.getElementById(\"biotrainer_status\").innerHTML = \"2025-10-01 09:24:14,416 INFO \t- f1_score class 2: 0.07\";\n",
       "            </script>\n",
       "        "
      ],
      "text/plain": [
       "<IPython.core.display.HTML object>"
      ]
     },
     "metadata": {},
     "output_type": "display_data"
    },
    {
     "data": {
      "text/html": [
       "\n",
       "            <script>\n",
       "                document.getElementById(\"biotrainer_status\").innerHTML = \"2025-10-01 09:24:14,416 INFO \t- f1_score class 3: 0.36\";\n",
       "            </script>\n",
       "        "
      ],
      "text/plain": [
       "<IPython.core.display.HTML object>"
      ]
     },
     "metadata": {},
     "output_type": "display_data"
    },
    {
     "data": {
      "text/html": [
       "\n",
       "            <script>\n",
       "                document.getElementById(\"biotrainer_status\").innerHTML = \"2025-10-01 09:24:14,417 INFO \t- f1_score class 4: 0.05\";\n",
       "            </script>\n",
       "        "
      ],
      "text/plain": [
       "<IPython.core.display.HTML object>"
      ]
     },
     "metadata": {},
     "output_type": "display_data"
    },
    {
     "data": {
      "text/html": [
       "\n",
       "            <script>\n",
       "                document.getElementById(\"biotrainer_status\").innerHTML = \"2025-10-01 09:24:14,417 INFO \t- f1_score class 5: 0.00\";\n",
       "            </script>\n",
       "        "
      ],
      "text/plain": [
       "<IPython.core.display.HTML object>"
      ]
     },
     "metadata": {},
     "output_type": "display_data"
    },
    {
     "data": {
      "text/html": [
       "\n",
       "            <script>\n",
       "                document.getElementById(\"biotrainer_status\").innerHTML = \"2025-10-01 09:24:14,418 INFO \t- f1_score class 6: 0.12\";\n",
       "            </script>\n",
       "        "
      ],
      "text/plain": [
       "<IPython.core.display.HTML object>"
      ]
     },
     "metadata": {},
     "output_type": "display_data"
    },
    {
     "data": {
      "text/html": [
       "\n",
       "            <script>\n",
       "                document.getElementById(\"biotrainer_status\").innerHTML = \"2025-10-01 09:24:14,418 INFO \t- f1_score class 7: 0.25\";\n",
       "            </script>\n",
       "        "
      ],
      "text/plain": [
       "<IPython.core.display.HTML object>"
      ]
     },
     "metadata": {},
     "output_type": "display_data"
    },
    {
     "data": {
      "text/html": [
       "\n",
       "            <script>\n",
       "                document.getElementById(\"biotrainer_status\").innerHTML = \"2025-10-01 09:24:14,419 INFO \t- f1_score class 8: 0.00\";\n",
       "            </script>\n",
       "        "
      ],
      "text/plain": [
       "<IPython.core.display.HTML object>"
      ]
     },
     "metadata": {},
     "output_type": "display_data"
    },
    {
     "data": {
      "text/html": [
       "\n",
       "            <script>\n",
       "                document.getElementById(\"biotrainer_status\").innerHTML = \"2025-10-01 09:24:14,419 INFO \t- f1_score class 9: 0.04\";\n",
       "            </script>\n",
       "        "
      ],
      "text/plain": [
       "<IPython.core.display.HTML object>"
      ]
     },
     "metadata": {},
     "output_type": "display_data"
    },
    {
     "data": {
      "text/html": [
       "\n",
       "            <script>\n",
       "                document.getElementById(\"biotrainer_status\").innerHTML = \"2025-10-01 09:24:14,420 INFO \tspearmans-corr-coeff: 0.03\";\n",
       "            </script>\n",
       "        "
      ],
      "text/plain": [
       "<IPython.core.display.HTML object>"
      ]
     },
     "metadata": {},
     "output_type": "display_data"
    },
    {
     "data": {
      "text/html": [
       "\n",
       "            <script>\n",
       "                document.getElementById(\"biotrainer_status\").innerHTML = \"2025-10-01 09:24:14,420 INFO \tmatthews-corr-coeff: 0.06\";\n",
       "            </script>\n",
       "        "
      ],
      "text/plain": [
       "<IPython.core.display.HTML object>"
      ]
     },
     "metadata": {},
     "output_type": "display_data"
    },
    {
     "data": {
      "text/html": [
       "\n",
       "            <script>\n",
       "                document.getElementById(\"biotrainer_status\").innerHTML = \"2025-10-01 09:24:15,042 INFO Epoch 4\";\n",
       "            </script>\n",
       "        "
      ],
      "text/plain": [
       "<IPython.core.display.HTML object>"
      ]
     },
     "metadata": {},
     "output_type": "display_data"
    },
    {
     "data": {
      "text/html": [
       "\n",
       "            <script>\n",
       "                document.getElementById(\"biotrainer_status\").innerHTML = \"2025-10-01 09:24:15,042 INFO Training results\";\n",
       "            </script>\n",
       "        "
      ],
      "text/plain": [
       "<IPython.core.display.HTML object>"
      ]
     },
     "metadata": {},
     "output_type": "display_data"
    },
    {
     "data": {
      "text/html": [
       "\n",
       "            <script>\n",
       "                document.getElementById(\"biotrainer_status\").innerHTML = \"2025-10-01 09:24:15,043 INFO \tloss: 2.29\";\n",
       "            </script>\n",
       "        "
      ],
      "text/plain": [
       "<IPython.core.display.HTML object>"
      ]
     },
     "metadata": {},
     "output_type": "display_data"
    },
    {
     "data": {
      "text/html": [
       "\n",
       "            <script>\n",
       "                document.getElementById(\"biotrainer_status\").innerHTML = \"2025-10-01 09:24:15,043 INFO \taccuracy: 0.26\";\n",
       "            </script>\n",
       "        "
      ],
      "text/plain": [
       "<IPython.core.display.HTML object>"
      ]
     },
     "metadata": {},
     "output_type": "display_data"
    },
    {
     "data": {
      "text/html": [
       "\n",
       "            <script>\n",
       "                document.getElementById(\"biotrainer_status\").innerHTML = \"2025-10-01 09:24:15,044 INFO \tmacro-precision: 0.17\";\n",
       "            </script>\n",
       "        "
      ],
      "text/plain": [
       "<IPython.core.display.HTML object>"
      ]
     },
     "metadata": {},
     "output_type": "display_data"
    },
    {
     "data": {
      "text/html": [
       "\n",
       "            <script>\n",
       "                document.getElementById(\"biotrainer_status\").innerHTML = \"2025-10-01 09:24:15,044 INFO \tmicro-precision: 0.26\";\n",
       "            </script>\n",
       "        "
      ],
      "text/plain": [
       "<IPython.core.display.HTML object>"
      ]
     },
     "metadata": {},
     "output_type": "display_data"
    },
    {
     "data": {
      "text/html": [
       "\n",
       "            <script>\n",
       "                document.getElementById(\"biotrainer_status\").innerHTML = \"2025-10-01 09:24:15,045 INFO \t- precision class 0: 0.19\";\n",
       "            </script>\n",
       "        "
      ],
      "text/plain": [
       "<IPython.core.display.HTML object>"
      ]
     },
     "metadata": {},
     "output_type": "display_data"
    },
    {
     "data": {
      "text/html": [
       "\n",
       "            <script>\n",
       "                document.getElementById(\"biotrainer_status\").innerHTML = \"2025-10-01 09:24:15,045 INFO \t- precision class 1: 0.24\";\n",
       "            </script>\n",
       "        "
      ],
      "text/plain": [
       "<IPython.core.display.HTML object>"
      ]
     },
     "metadata": {},
     "output_type": "display_data"
    },
    {
     "data": {
      "text/html": [
       "\n",
       "            <script>\n",
       "                document.getElementById(\"biotrainer_status\").innerHTML = \"2025-10-01 09:24:15,046 INFO \t- precision class 2: 0.09\";\n",
       "            </script>\n",
       "        "
      ],
      "text/plain": [
       "<IPython.core.display.HTML object>"
      ]
     },
     "metadata": {},
     "output_type": "display_data"
    },
    {
     "data": {
      "text/html": [
       "\n",
       "            <script>\n",
       "                document.getElementById(\"biotrainer_status\").innerHTML = \"2025-10-01 09:24:15,046 INFO \t- precision class 3: 0.31\";\n",
       "            </script>\n",
       "        "
      ],
      "text/plain": [
       "<IPython.core.display.HTML object>"
      ]
     },
     "metadata": {},
     "output_type": "display_data"
    },
    {
     "data": {
      "text/html": [
       "\n",
       "            <script>\n",
       "                document.getElementById(\"biotrainer_status\").innerHTML = \"2025-10-01 09:24:15,047 INFO \t- precision class 4: 0.03\";\n",
       "            </script>\n",
       "        "
      ],
      "text/plain": [
       "<IPython.core.display.HTML object>"
      ]
     },
     "metadata": {},
     "output_type": "display_data"
    },
    {
     "data": {
      "text/html": [
       "\n",
       "            <script>\n",
       "                document.getElementById(\"biotrainer_status\").innerHTML = \"2025-10-01 09:24:15,047 INFO \t- precision class 5: 0.08\";\n",
       "            </script>\n",
       "        "
      ],
      "text/plain": [
       "<IPython.core.display.HTML object>"
      ]
     },
     "metadata": {},
     "output_type": "display_data"
    },
    {
     "data": {
      "text/html": [
       "\n",
       "            <script>\n",
       "                document.getElementById(\"biotrainer_status\").innerHTML = \"2025-10-01 09:24:15,048 INFO \t- precision class 6: 0.14\";\n",
       "            </script>\n",
       "        "
      ],
      "text/plain": [
       "<IPython.core.display.HTML object>"
      ]
     },
     "metadata": {},
     "output_type": "display_data"
    },
    {
     "data": {
      "text/html": [
       "\n",
       "            <script>\n",
       "                document.getElementById(\"biotrainer_status\").innerHTML = \"2025-10-01 09:24:15,048 INFO \t- precision class 7: 0.47\";\n",
       "            </script>\n",
       "        "
      ],
      "text/plain": [
       "<IPython.core.display.HTML object>"
      ]
     },
     "metadata": {},
     "output_type": "display_data"
    },
    {
     "data": {
      "text/html": [
       "\n",
       "            <script>\n",
       "                document.getElementById(\"biotrainer_status\").innerHTML = \"2025-10-01 09:24:15,048 INFO \t- precision class 8: 0.00\";\n",
       "            </script>\n",
       "        "
      ],
      "text/plain": [
       "<IPython.core.display.HTML object>"
      ]
     },
     "metadata": {},
     "output_type": "display_data"
    },
    {
     "data": {
      "text/html": [
       "\n",
       "            <script>\n",
       "                document.getElementById(\"biotrainer_status\").innerHTML = \"2025-10-01 09:24:15,049 INFO \t- precision class 9: 0.10\";\n",
       "            </script>\n",
       "        "
      ],
      "text/plain": [
       "<IPython.core.display.HTML object>"
      ]
     },
     "metadata": {},
     "output_type": "display_data"
    },
    {
     "data": {
      "text/html": [
       "\n",
       "            <script>\n",
       "                document.getElementById(\"biotrainer_status\").innerHTML = \"2025-10-01 09:24:15,049 INFO \tmacro-recall: 0.17\";\n",
       "            </script>\n",
       "        "
      ],
      "text/plain": [
       "<IPython.core.display.HTML object>"
      ]
     },
     "metadata": {},
     "output_type": "display_data"
    },
    {
     "data": {
      "text/html": [
       "\n",
       "            <script>\n",
       "                document.getElementById(\"biotrainer_status\").innerHTML = \"2025-10-01 09:24:15,050 INFO \tmicro-recall: 0.26\";\n",
       "            </script>\n",
       "        "
      ],
      "text/plain": [
       "<IPython.core.display.HTML object>"
      ]
     },
     "metadata": {},
     "output_type": "display_data"
    },
    {
     "data": {
      "text/html": [
       "\n",
       "            <script>\n",
       "                document.getElementById(\"biotrainer_status\").innerHTML = \"2025-10-01 09:24:15,050 INFO \t- recall class 0: 0.30\";\n",
       "            </script>\n",
       "        "
      ],
      "text/plain": [
       "<IPython.core.display.HTML object>"
      ]
     },
     "metadata": {},
     "output_type": "display_data"
    },
    {
     "data": {
      "text/html": [
       "\n",
       "            <script>\n",
       "                document.getElementById(\"biotrainer_status\").innerHTML = \"2025-10-01 09:24:15,051 INFO \t- recall class 1: 0.18\";\n",
       "            </script>\n",
       "        "
      ],
      "text/plain": [
       "<IPython.core.display.HTML object>"
      ]
     },
     "metadata": {},
     "output_type": "display_data"
    },
    {
     "data": {
      "text/html": [
       "\n",
       "            <script>\n",
       "                document.getElementById(\"biotrainer_status\").innerHTML = \"2025-10-01 09:24:15,051 INFO \t- recall class 2: 0.14\";\n",
       "            </script>\n",
       "        "
      ],
      "text/plain": [
       "<IPython.core.display.HTML object>"
      ]
     },
     "metadata": {},
     "output_type": "display_data"
    },
    {
     "data": {
      "text/html": [
       "\n",
       "            <script>\n",
       "                document.getElementById(\"biotrainer_status\").innerHTML = \"2025-10-01 09:24:15,052 INFO \t- recall class 3: 0.52\";\n",
       "            </script>\n",
       "        "
      ],
      "text/plain": [
       "<IPython.core.display.HTML object>"
      ]
     },
     "metadata": {},
     "output_type": "display_data"
    },
    {
     "data": {
      "text/html": [
       "\n",
       "            <script>\n",
       "                document.getElementById(\"biotrainer_status\").innerHTML = \"2025-10-01 09:24:15,052 INFO \t- recall class 4: 0.07\";\n",
       "            </script>\n",
       "        "
      ],
      "text/plain": [
       "<IPython.core.display.HTML object>"
      ]
     },
     "metadata": {},
     "output_type": "display_data"
    },
    {
     "data": {
      "text/html": [
       "\n",
       "            <script>\n",
       "                document.getElementById(\"biotrainer_status\").innerHTML = \"2025-10-01 09:24:15,052 INFO \t- recall class 5: 0.03\";\n",
       "            </script>\n",
       "        "
      ],
      "text/plain": [
       "<IPython.core.display.HTML object>"
      ]
     },
     "metadata": {},
     "output_type": "display_data"
    },
    {
     "data": {
      "text/html": [
       "\n",
       "            <script>\n",
       "                document.getElementById(\"biotrainer_status\").innerHTML = \"2025-10-01 09:24:15,053 INFO \t- recall class 6: 0.11\";\n",
       "            </script>\n",
       "        "
      ],
      "text/plain": [
       "<IPython.core.display.HTML object>"
      ]
     },
     "metadata": {},
     "output_type": "display_data"
    },
    {
     "data": {
      "text/html": [
       "\n",
       "            <script>\n",
       "                document.getElementById(\"biotrainer_status\").innerHTML = \"2025-10-01 09:24:15,053 INFO \t- recall class 7: 0.34\";\n",
       "            </script>\n",
       "        "
      ],
      "text/plain": [
       "<IPython.core.display.HTML object>"
      ]
     },
     "metadata": {},
     "output_type": "display_data"
    },
    {
     "data": {
      "text/html": [
       "\n",
       "            <script>\n",
       "                document.getElementById(\"biotrainer_status\").innerHTML = \"2025-10-01 09:24:15,054 INFO \t- recall class 8: 0.00\";\n",
       "            </script>\n",
       "        "
      ],
      "text/plain": [
       "<IPython.core.display.HTML object>"
      ]
     },
     "metadata": {},
     "output_type": "display_data"
    },
    {
     "data": {
      "text/html": [
       "\n",
       "            <script>\n",
       "                document.getElementById(\"biotrainer_status\").innerHTML = \"2025-10-01 09:24:15,054 INFO \t- recall class 9: 0.03\";\n",
       "            </script>\n",
       "        "
      ],
      "text/plain": [
       "<IPython.core.display.HTML object>"
      ]
     },
     "metadata": {},
     "output_type": "display_data"
    },
    {
     "data": {
      "text/html": [
       "\n",
       "            <script>\n",
       "                document.getElementById(\"biotrainer_status\").innerHTML = \"2025-10-01 09:24:15,055 INFO \tmacro-f1_score: 0.16\";\n",
       "            </script>\n",
       "        "
      ],
      "text/plain": [
       "<IPython.core.display.HTML object>"
      ]
     },
     "metadata": {},
     "output_type": "display_data"
    },
    {
     "data": {
      "text/html": [
       "\n",
       "            <script>\n",
       "                document.getElementById(\"biotrainer_status\").innerHTML = \"2025-10-01 09:24:15,055 INFO \tmicro-f1_score: 0.26\";\n",
       "            </script>\n",
       "        "
      ],
      "text/plain": [
       "<IPython.core.display.HTML object>"
      ]
     },
     "metadata": {},
     "output_type": "display_data"
    },
    {
     "data": {
      "text/html": [
       "\n",
       "            <script>\n",
       "                document.getElementById(\"biotrainer_status\").innerHTML = \"2025-10-01 09:24:15,056 INFO \t- f1_score class 0: 0.24\";\n",
       "            </script>\n",
       "        "
      ],
      "text/plain": [
       "<IPython.core.display.HTML object>"
      ]
     },
     "metadata": {},
     "output_type": "display_data"
    },
    {
     "data": {
      "text/html": [
       "\n",
       "            <script>\n",
       "                document.getElementById(\"biotrainer_status\").innerHTML = \"2025-10-01 09:24:15,056 INFO \t- f1_score class 1: 0.20\";\n",
       "            </script>\n",
       "        "
      ],
      "text/plain": [
       "<IPython.core.display.HTML object>"
      ]
     },
     "metadata": {},
     "output_type": "display_data"
    },
    {
     "data": {
      "text/html": [
       "\n",
       "            <script>\n",
       "                document.getElementById(\"biotrainer_status\").innerHTML = \"2025-10-01 09:24:15,057 INFO \t- f1_score class 2: 0.11\";\n",
       "            </script>\n",
       "        "
      ],
      "text/plain": [
       "<IPython.core.display.HTML object>"
      ]
     },
     "metadata": {},
     "output_type": "display_data"
    },
    {
     "data": {
      "text/html": [
       "\n",
       "            <script>\n",
       "                document.getElementById(\"biotrainer_status\").innerHTML = \"2025-10-01 09:24:15,057 INFO \t- f1_score class 3: 0.39\";\n",
       "            </script>\n",
       "        "
      ],
      "text/plain": [
       "<IPython.core.display.HTML object>"
      ]
     },
     "metadata": {},
     "output_type": "display_data"
    },
    {
     "data": {
      "text/html": [
       "\n",
       "            <script>\n",
       "                document.getElementById(\"biotrainer_status\").innerHTML = \"2025-10-01 09:24:15,058 INFO \t- f1_score class 4: 0.04\";\n",
       "            </script>\n",
       "        "
      ],
      "text/plain": [
       "<IPython.core.display.HTML object>"
      ]
     },
     "metadata": {},
     "output_type": "display_data"
    },
    {
     "data": {
      "text/html": [
       "\n",
       "            <script>\n",
       "                document.getElementById(\"biotrainer_status\").innerHTML = \"2025-10-01 09:24:15,058 INFO \t- f1_score class 5: 0.04\";\n",
       "            </script>\n",
       "        "
      ],
      "text/plain": [
       "<IPython.core.display.HTML object>"
      ]
     },
     "metadata": {},
     "output_type": "display_data"
    },
    {
     "data": {
      "text/html": [
       "\n",
       "            <script>\n",
       "                document.getElementById(\"biotrainer_status\").innerHTML = \"2025-10-01 09:24:15,059 INFO \t- f1_score class 6: 0.12\";\n",
       "            </script>\n",
       "        "
      ],
      "text/plain": [
       "<IPython.core.display.HTML object>"
      ]
     },
     "metadata": {},
     "output_type": "display_data"
    },
    {
     "data": {
      "text/html": [
       "\n",
       "            <script>\n",
       "                document.getElementById(\"biotrainer_status\").innerHTML = \"2025-10-01 09:24:15,059 INFO \t- f1_score class 7: 0.39\";\n",
       "            </script>\n",
       "        "
      ],
      "text/plain": [
       "<IPython.core.display.HTML object>"
      ]
     },
     "metadata": {},
     "output_type": "display_data"
    },
    {
     "data": {
      "text/html": [
       "\n",
       "            <script>\n",
       "                document.getElementById(\"biotrainer_status\").innerHTML = \"2025-10-01 09:24:15,060 INFO \t- f1_score class 8: 0.00\";\n",
       "            </script>\n",
       "        "
      ],
      "text/plain": [
       "<IPython.core.display.HTML object>"
      ]
     },
     "metadata": {},
     "output_type": "display_data"
    },
    {
     "data": {
      "text/html": [
       "\n",
       "            <script>\n",
       "                document.getElementById(\"biotrainer_status\").innerHTML = \"2025-10-01 09:24:15,061 INFO \t- f1_score class 9: 0.04\";\n",
       "            </script>\n",
       "        "
      ],
      "text/plain": [
       "<IPython.core.display.HTML object>"
      ]
     },
     "metadata": {},
     "output_type": "display_data"
    },
    {
     "data": {
      "text/html": [
       "\n",
       "            <script>\n",
       "                document.getElementById(\"biotrainer_status\").innerHTML = \"2025-10-01 09:24:15,061 INFO \tspearmans-corr-coeff: 0.12\";\n",
       "            </script>\n",
       "        "
      ],
      "text/plain": [
       "<IPython.core.display.HTML object>"
      ]
     },
     "metadata": {},
     "output_type": "display_data"
    },
    {
     "data": {
      "text/html": [
       "\n",
       "            <script>\n",
       "                document.getElementById(\"biotrainer_status\").innerHTML = \"2025-10-01 09:24:15,062 INFO \tmatthews-corr-coeff: 0.13\";\n",
       "            </script>\n",
       "        "
      ],
      "text/plain": [
       "<IPython.core.display.HTML object>"
      ]
     },
     "metadata": {},
     "output_type": "display_data"
    },
    {
     "data": {
      "text/html": [
       "\n",
       "            <script>\n",
       "                document.getElementById(\"biotrainer_status\").innerHTML = \"2025-10-01 09:24:15,062 INFO Validation results\";\n",
       "            </script>\n",
       "        "
      ],
      "text/plain": [
       "<IPython.core.display.HTML object>"
      ]
     },
     "metadata": {},
     "output_type": "display_data"
    },
    {
     "data": {
      "text/html": [
       "\n",
       "            <script>\n",
       "                document.getElementById(\"biotrainer_status\").innerHTML = \"2025-10-01 09:24:15,063 INFO \tloss: 2.29\";\n",
       "            </script>\n",
       "        "
      ],
      "text/plain": [
       "<IPython.core.display.HTML object>"
      ]
     },
     "metadata": {},
     "output_type": "display_data"
    },
    {
     "data": {
      "text/html": [
       "\n",
       "            <script>\n",
       "                document.getElementById(\"biotrainer_status\").innerHTML = \"2025-10-01 09:24:15,063 INFO \taccuracy: 0.25\";\n",
       "            </script>\n",
       "        "
      ],
      "text/plain": [
       "<IPython.core.display.HTML object>"
      ]
     },
     "metadata": {},
     "output_type": "display_data"
    },
    {
     "data": {
      "text/html": [
       "\n",
       "            <script>\n",
       "                document.getElementById(\"biotrainer_status\").innerHTML = \"2025-10-01 09:24:15,064 INFO \tmacro-precision: 0.16\";\n",
       "            </script>\n",
       "        "
      ],
      "text/plain": [
       "<IPython.core.display.HTML object>"
      ]
     },
     "metadata": {},
     "output_type": "display_data"
    },
    {
     "data": {
      "text/html": [
       "\n",
       "            <script>\n",
       "                document.getElementById(\"biotrainer_status\").innerHTML = \"2025-10-01 09:24:15,065 INFO \tmicro-precision: 0.25\";\n",
       "            </script>\n",
       "        "
      ],
      "text/plain": [
       "<IPython.core.display.HTML object>"
      ]
     },
     "metadata": {},
     "output_type": "display_data"
    },
    {
     "data": {
      "text/html": [
       "\n",
       "            <script>\n",
       "                document.getElementById(\"biotrainer_status\").innerHTML = \"2025-10-01 09:24:15,065 INFO \t- precision class 0: 0.18\";\n",
       "            </script>\n",
       "        "
      ],
      "text/plain": [
       "<IPython.core.display.HTML object>"
      ]
     },
     "metadata": {},
     "output_type": "display_data"
    },
    {
     "data": {
      "text/html": [
       "\n",
       "            <script>\n",
       "                document.getElementById(\"biotrainer_status\").innerHTML = \"2025-10-01 09:24:15,065 INFO \t- precision class 1: 0.19\";\n",
       "            </script>\n",
       "        "
      ],
      "text/plain": [
       "<IPython.core.display.HTML object>"
      ]
     },
     "metadata": {},
     "output_type": "display_data"
    },
    {
     "data": {
      "text/html": [
       "\n",
       "            <script>\n",
       "                document.getElementById(\"biotrainer_status\").innerHTML = \"2025-10-01 09:24:15,066 INFO \t- precision class 2: 0.07\";\n",
       "            </script>\n",
       "        "
      ],
      "text/plain": [
       "<IPython.core.display.HTML object>"
      ]
     },
     "metadata": {},
     "output_type": "display_data"
    },
    {
     "data": {
      "text/html": [
       "\n",
       "            <script>\n",
       "                document.getElementById(\"biotrainer_status\").innerHTML = \"2025-10-01 09:24:15,066 INFO \t- precision class 3: 0.36\";\n",
       "            </script>\n",
       "        "
      ],
      "text/plain": [
       "<IPython.core.display.HTML object>"
      ]
     },
     "metadata": {},
     "output_type": "display_data"
    },
    {
     "data": {
      "text/html": [
       "\n",
       "            <script>\n",
       "                document.getElementById(\"biotrainer_status\").innerHTML = \"2025-10-01 09:24:15,067 INFO \t- precision class 4: 0.03\";\n",
       "            </script>\n",
       "        "
      ],
      "text/plain": [
       "<IPython.core.display.HTML object>"
      ]
     },
     "metadata": {},
     "output_type": "display_data"
    },
    {
     "data": {
      "text/html": [
       "\n",
       "            <script>\n",
       "                document.getElementById(\"biotrainer_status\").innerHTML = \"2025-10-01 09:24:15,067 INFO \t- precision class 5: 0.13\";\n",
       "            </script>\n",
       "        "
      ],
      "text/plain": [
       "<IPython.core.display.HTML object>"
      ]
     },
     "metadata": {},
     "output_type": "display_data"
    },
    {
     "data": {
      "text/html": [
       "\n",
       "            <script>\n",
       "                document.getElementById(\"biotrainer_status\").innerHTML = \"2025-10-01 09:24:15,068 INFO \t- precision class 6: 0.16\";\n",
       "            </script>\n",
       "        "
      ],
      "text/plain": [
       "<IPython.core.display.HTML object>"
      ]
     },
     "metadata": {},
     "output_type": "display_data"
    },
    {
     "data": {
      "text/html": [
       "\n",
       "            <script>\n",
       "                document.getElementById(\"biotrainer_status\").innerHTML = \"2025-10-01 09:24:15,068 INFO \t- precision class 7: 0.39\";\n",
       "            </script>\n",
       "        "
      ],
      "text/plain": [
       "<IPython.core.display.HTML object>"
      ]
     },
     "metadata": {},
     "output_type": "display_data"
    },
    {
     "data": {
      "text/html": [
       "\n",
       "            <script>\n",
       "                document.getElementById(\"biotrainer_status\").innerHTML = \"2025-10-01 09:24:15,069 INFO \t- precision class 8: 0.00\";\n",
       "            </script>\n",
       "        "
      ],
      "text/plain": [
       "<IPython.core.display.HTML object>"
      ]
     },
     "metadata": {},
     "output_type": "display_data"
    },
    {
     "data": {
      "text/html": [
       "\n",
       "            <script>\n",
       "                document.getElementById(\"biotrainer_status\").innerHTML = \"2025-10-01 09:24:15,069 INFO \t- precision class 9: 0.10\";\n",
       "            </script>\n",
       "        "
      ],
      "text/plain": [
       "<IPython.core.display.HTML object>"
      ]
     },
     "metadata": {},
     "output_type": "display_data"
    },
    {
     "data": {
      "text/html": [
       "\n",
       "            <script>\n",
       "                document.getElementById(\"biotrainer_status\").innerHTML = \"2025-10-01 09:24:15,070 INFO \tmacro-recall: 0.17\";\n",
       "            </script>\n",
       "        "
      ],
      "text/plain": [
       "<IPython.core.display.HTML object>"
      ]
     },
     "metadata": {},
     "output_type": "display_data"
    },
    {
     "data": {
      "text/html": [
       "\n",
       "            <script>\n",
       "                document.getElementById(\"biotrainer_status\").innerHTML = \"2025-10-01 09:24:15,071 INFO \tmicro-recall: 0.25\";\n",
       "            </script>\n",
       "        "
      ],
      "text/plain": [
       "<IPython.core.display.HTML object>"
      ]
     },
     "metadata": {},
     "output_type": "display_data"
    },
    {
     "data": {
      "text/html": [
       "\n",
       "            <script>\n",
       "                document.getElementById(\"biotrainer_status\").innerHTML = \"2025-10-01 09:24:15,071 INFO \t- recall class 0: 0.29\";\n",
       "            </script>\n",
       "        "
      ],
      "text/plain": [
       "<IPython.core.display.HTML object>"
      ]
     },
     "metadata": {},
     "output_type": "display_data"
    },
    {
     "data": {
      "text/html": [
       "\n",
       "            <script>\n",
       "                document.getElementById(\"biotrainer_status\").innerHTML = \"2025-10-01 09:24:15,072 INFO \t- recall class 1: 0.13\";\n",
       "            </script>\n",
       "        "
      ],
      "text/plain": [
       "<IPython.core.display.HTML object>"
      ]
     },
     "metadata": {},
     "output_type": "display_data"
    },
    {
     "data": {
      "text/html": [
       "\n",
       "            <script>\n",
       "                document.getElementById(\"biotrainer_status\").innerHTML = \"2025-10-01 09:24:15,073 INFO \t- recall class 2: 0.15\";\n",
       "            </script>\n",
       "        "
      ],
      "text/plain": [
       "<IPython.core.display.HTML object>"
      ]
     },
     "metadata": {},
     "output_type": "display_data"
    },
    {
     "data": {
      "text/html": [
       "\n",
       "            <script>\n",
       "                document.getElementById(\"biotrainer_status\").innerHTML = \"2025-10-01 09:24:15,073 INFO \t- recall class 3: 0.50\";\n",
       "            </script>\n",
       "        "
      ],
      "text/plain": [
       "<IPython.core.display.HTML object>"
      ]
     },
     "metadata": {},
     "output_type": "display_data"
    },
    {
     "data": {
      "text/html": [
       "\n",
       "            <script>\n",
       "                document.getElementById(\"biotrainer_status\").innerHTML = \"2025-10-01 09:24:15,074 INFO \t- recall class 4: 0.06\";\n",
       "            </script>\n",
       "        "
      ],
      "text/plain": [
       "<IPython.core.display.HTML object>"
      ]
     },
     "metadata": {},
     "output_type": "display_data"
    },
    {
     "data": {
      "text/html": [
       "\n",
       "            <script>\n",
       "                document.getElementById(\"biotrainer_status\").innerHTML = \"2025-10-01 09:24:15,074 INFO \t- recall class 5: 0.05\";\n",
       "            </script>\n",
       "        "
      ],
      "text/plain": [
       "<IPython.core.display.HTML object>"
      ]
     },
     "metadata": {},
     "output_type": "display_data"
    },
    {
     "data": {
      "text/html": [
       "\n",
       "            <script>\n",
       "                document.getElementById(\"biotrainer_status\").innerHTML = \"2025-10-01 09:24:15,075 INFO \t- recall class 6: 0.09\";\n",
       "            </script>\n",
       "        "
      ],
      "text/plain": [
       "<IPython.core.display.HTML object>"
      ]
     },
     "metadata": {},
     "output_type": "display_data"
    },
    {
     "data": {
      "text/html": [
       "\n",
       "            <script>\n",
       "                document.getElementById(\"biotrainer_status\").innerHTML = \"2025-10-01 09:24:15,075 INFO \t- recall class 7: 0.35\";\n",
       "            </script>\n",
       "        "
      ],
      "text/plain": [
       "<IPython.core.display.HTML object>"
      ]
     },
     "metadata": {},
     "output_type": "display_data"
    },
    {
     "data": {
      "text/html": [
       "\n",
       "            <script>\n",
       "                document.getElementById(\"biotrainer_status\").innerHTML = \"2025-10-01 09:24:15,076 INFO \t- recall class 8: 0.00\";\n",
       "            </script>\n",
       "        "
      ],
      "text/plain": [
       "<IPython.core.display.HTML object>"
      ]
     },
     "metadata": {},
     "output_type": "display_data"
    },
    {
     "data": {
      "text/html": [
       "\n",
       "            <script>\n",
       "                document.getElementById(\"biotrainer_status\").innerHTML = \"2025-10-01 09:24:15,076 INFO \t- recall class 9: 0.04\";\n",
       "            </script>\n",
       "        "
      ],
      "text/plain": [
       "<IPython.core.display.HTML object>"
      ]
     },
     "metadata": {},
     "output_type": "display_data"
    },
    {
     "data": {
      "text/html": [
       "\n",
       "            <script>\n",
       "                document.getElementById(\"biotrainer_status\").innerHTML = \"2025-10-01 09:24:15,077 INFO \tmacro-f1_score: 0.15\";\n",
       "            </script>\n",
       "        "
      ],
      "text/plain": [
       "<IPython.core.display.HTML object>"
      ]
     },
     "metadata": {},
     "output_type": "display_data"
    },
    {
     "data": {
      "text/html": [
       "\n",
       "            <script>\n",
       "                document.getElementById(\"biotrainer_status\").innerHTML = \"2025-10-01 09:24:15,077 INFO \tmicro-f1_score: 0.25\";\n",
       "            </script>\n",
       "        "
      ],
      "text/plain": [
       "<IPython.core.display.HTML object>"
      ]
     },
     "metadata": {},
     "output_type": "display_data"
    },
    {
     "data": {
      "text/html": [
       "\n",
       "            <script>\n",
       "                document.getElementById(\"biotrainer_status\").innerHTML = \"2025-10-01 09:24:15,078 INFO \t- f1_score class 0: 0.22\";\n",
       "            </script>\n",
       "        "
      ],
      "text/plain": [
       "<IPython.core.display.HTML object>"
      ]
     },
     "metadata": {},
     "output_type": "display_data"
    },
    {
     "data": {
      "text/html": [
       "\n",
       "            <script>\n",
       "                document.getElementById(\"biotrainer_status\").innerHTML = \"2025-10-01 09:24:15,078 INFO \t- f1_score class 1: 0.15\";\n",
       "            </script>\n",
       "        "
      ],
      "text/plain": [
       "<IPython.core.display.HTML object>"
      ]
     },
     "metadata": {},
     "output_type": "display_data"
    },
    {
     "data": {
      "text/html": [
       "\n",
       "            <script>\n",
       "                document.getElementById(\"biotrainer_status\").innerHTML = \"2025-10-01 09:24:15,079 INFO \t- f1_score class 2: 0.09\";\n",
       "            </script>\n",
       "        "
      ],
      "text/plain": [
       "<IPython.core.display.HTML object>"
      ]
     },
     "metadata": {},
     "output_type": "display_data"
    },
    {
     "data": {
      "text/html": [
       "\n",
       "            <script>\n",
       "                document.getElementById(\"biotrainer_status\").innerHTML = \"2025-10-01 09:24:15,079 INFO \t- f1_score class 3: 0.42\";\n",
       "            </script>\n",
       "        "
      ],
      "text/plain": [
       "<IPython.core.display.HTML object>"
      ]
     },
     "metadata": {},
     "output_type": "display_data"
    },
    {
     "data": {
      "text/html": [
       "\n",
       "            <script>\n",
       "                document.getElementById(\"biotrainer_status\").innerHTML = \"2025-10-01 09:24:15,080 INFO \t- f1_score class 4: 0.04\";\n",
       "            </script>\n",
       "        "
      ],
      "text/plain": [
       "<IPython.core.display.HTML object>"
      ]
     },
     "metadata": {},
     "output_type": "display_data"
    },
    {
     "data": {
      "text/html": [
       "\n",
       "            <script>\n",
       "                document.getElementById(\"biotrainer_status\").innerHTML = \"2025-10-01 09:24:15,080 INFO \t- f1_score class 5: 0.07\";\n",
       "            </script>\n",
       "        "
      ],
      "text/plain": [
       "<IPython.core.display.HTML object>"
      ]
     },
     "metadata": {},
     "output_type": "display_data"
    },
    {
     "data": {
      "text/html": [
       "\n",
       "            <script>\n",
       "                document.getElementById(\"biotrainer_status\").innerHTML = \"2025-10-01 09:24:15,081 INFO \t- f1_score class 6: 0.12\";\n",
       "            </script>\n",
       "        "
      ],
      "text/plain": [
       "<IPython.core.display.HTML object>"
      ]
     },
     "metadata": {},
     "output_type": "display_data"
    },
    {
     "data": {
      "text/html": [
       "\n",
       "            <script>\n",
       "                document.getElementById(\"biotrainer_status\").innerHTML = \"2025-10-01 09:24:15,081 INFO \t- f1_score class 7: 0.37\";\n",
       "            </script>\n",
       "        "
      ],
      "text/plain": [
       "<IPython.core.display.HTML object>"
      ]
     },
     "metadata": {},
     "output_type": "display_data"
    },
    {
     "data": {
      "text/html": [
       "\n",
       "            <script>\n",
       "                document.getElementById(\"biotrainer_status\").innerHTML = \"2025-10-01 09:24:15,082 INFO \t- f1_score class 8: 0.00\";\n",
       "            </script>\n",
       "        "
      ],
      "text/plain": [
       "<IPython.core.display.HTML object>"
      ]
     },
     "metadata": {},
     "output_type": "display_data"
    },
    {
     "data": {
      "text/html": [
       "\n",
       "            <script>\n",
       "                document.getElementById(\"biotrainer_status\").innerHTML = \"2025-10-01 09:24:15,083 INFO \t- f1_score class 9: 0.06\";\n",
       "            </script>\n",
       "        "
      ],
      "text/plain": [
       "<IPython.core.display.HTML object>"
      ]
     },
     "metadata": {},
     "output_type": "display_data"
    },
    {
     "data": {
      "text/html": [
       "\n",
       "            <script>\n",
       "                document.getElementById(\"biotrainer_status\").innerHTML = \"2025-10-01 09:24:15,083 INFO \tspearmans-corr-coeff: 0.06\";\n",
       "            </script>\n",
       "        "
      ],
      "text/plain": [
       "<IPython.core.display.HTML object>"
      ]
     },
     "metadata": {},
     "output_type": "display_data"
    },
    {
     "data": {
      "text/html": [
       "\n",
       "            <script>\n",
       "                document.getElementById(\"biotrainer_status\").innerHTML = \"2025-10-01 09:24:15,083 INFO \tmatthews-corr-coeff: 0.11\";\n",
       "            </script>\n",
       "        "
      ],
      "text/plain": [
       "<IPython.core.display.HTML object>"
      ]
     },
     "metadata": {},
     "output_type": "display_data"
    },
    {
     "data": {
      "text/html": [
       "\n",
       "            <script>\n",
       "                document.getElementById(\"biotrainer_status\").innerHTML = \"2025-10-01 09:24:15,700 INFO Epoch 5\";\n",
       "            </script>\n",
       "        "
      ],
      "text/plain": [
       "<IPython.core.display.HTML object>"
      ]
     },
     "metadata": {},
     "output_type": "display_data"
    },
    {
     "data": {
      "text/html": [
       "\n",
       "            <script>\n",
       "                document.getElementById(\"biotrainer_status\").innerHTML = \"2025-10-01 09:24:15,700 INFO Training results\";\n",
       "            </script>\n",
       "        "
      ],
      "text/plain": [
       "<IPython.core.display.HTML object>"
      ]
     },
     "metadata": {},
     "output_type": "display_data"
    },
    {
     "data": {
      "text/html": [
       "\n",
       "            <script>\n",
       "                document.getElementById(\"biotrainer_status\").innerHTML = \"2025-10-01 09:24:15,701 INFO \tloss: 2.28\";\n",
       "            </script>\n",
       "        "
      ],
      "text/plain": [
       "<IPython.core.display.HTML object>"
      ]
     },
     "metadata": {},
     "output_type": "display_data"
    },
    {
     "data": {
      "text/html": [
       "\n",
       "            <script>\n",
       "                document.getElementById(\"biotrainer_status\").innerHTML = \"2025-10-01 09:24:15,701 INFO \taccuracy: 0.30\";\n",
       "            </script>\n",
       "        "
      ],
      "text/plain": [
       "<IPython.core.display.HTML object>"
      ]
     },
     "metadata": {},
     "output_type": "display_data"
    },
    {
     "data": {
      "text/html": [
       "\n",
       "            <script>\n",
       "                document.getElementById(\"biotrainer_status\").innerHTML = \"2025-10-01 09:24:15,702 INFO \tmacro-precision: 0.17\";\n",
       "            </script>\n",
       "        "
      ],
      "text/plain": [
       "<IPython.core.display.HTML object>"
      ]
     },
     "metadata": {},
     "output_type": "display_data"
    },
    {
     "data": {
      "text/html": [
       "\n",
       "            <script>\n",
       "                document.getElementById(\"biotrainer_status\").innerHTML = \"2025-10-01 09:24:15,702 INFO \tmicro-precision: 0.30\";\n",
       "            </script>\n",
       "        "
      ],
      "text/plain": [
       "<IPython.core.display.HTML object>"
      ]
     },
     "metadata": {},
     "output_type": "display_data"
    },
    {
     "data": {
      "text/html": [
       "\n",
       "            <script>\n",
       "                document.getElementById(\"biotrainer_status\").innerHTML = \"2025-10-01 09:24:15,703 INFO \t- precision class 0: 0.22\";\n",
       "            </script>\n",
       "        "
      ],
      "text/plain": [
       "<IPython.core.display.HTML object>"
      ]
     },
     "metadata": {},
     "output_type": "display_data"
    },
    {
     "data": {
      "text/html": [
       "\n",
       "            <script>\n",
       "                document.getElementById(\"biotrainer_status\").innerHTML = \"2025-10-01 09:24:15,703 INFO \t- precision class 1: 0.24\";\n",
       "            </script>\n",
       "        "
      ],
      "text/plain": [
       "<IPython.core.display.HTML object>"
      ]
     },
     "metadata": {},
     "output_type": "display_data"
    },
    {
     "data": {
      "text/html": [
       "\n",
       "            <script>\n",
       "                document.getElementById(\"biotrainer_status\").innerHTML = \"2025-10-01 09:24:15,704 INFO \t- precision class 2: 0.10\";\n",
       "            </script>\n",
       "        "
      ],
      "text/plain": [
       "<IPython.core.display.HTML object>"
      ]
     },
     "metadata": {},
     "output_type": "display_data"
    },
    {
     "data": {
      "text/html": [
       "\n",
       "            <script>\n",
       "                document.getElementById(\"biotrainer_status\").innerHTML = \"2025-10-01 09:24:15,704 INFO \t- precision class 3: 0.35\";\n",
       "            </script>\n",
       "        "
      ],
      "text/plain": [
       "<IPython.core.display.HTML object>"
      ]
     },
     "metadata": {},
     "output_type": "display_data"
    },
    {
     "data": {
      "text/html": [
       "\n",
       "            <script>\n",
       "                document.getElementById(\"biotrainer_status\").innerHTML = \"2025-10-01 09:24:15,704 INFO \t- precision class 4: 0.04\";\n",
       "            </script>\n",
       "        "
      ],
      "text/plain": [
       "<IPython.core.display.HTML object>"
      ]
     },
     "metadata": {},
     "output_type": "display_data"
    },
    {
     "data": {
      "text/html": [
       "\n",
       "            <script>\n",
       "                document.getElementById(\"biotrainer_status\").innerHTML = \"2025-10-01 09:24:15,705 INFO \t- precision class 5: 0.03\";\n",
       "            </script>\n",
       "        "
      ],
      "text/plain": [
       "<IPython.core.display.HTML object>"
      ]
     },
     "metadata": {},
     "output_type": "display_data"
    },
    {
     "data": {
      "text/html": [
       "\n",
       "            <script>\n",
       "                document.getElementById(\"biotrainer_status\").innerHTML = \"2025-10-01 09:24:15,705 INFO \t- precision class 6: 0.15\";\n",
       "            </script>\n",
       "        "
      ],
      "text/plain": [
       "<IPython.core.display.HTML object>"
      ]
     },
     "metadata": {},
     "output_type": "display_data"
    },
    {
     "data": {
      "text/html": [
       "\n",
       "            <script>\n",
       "                document.getElementById(\"biotrainer_status\").innerHTML = \"2025-10-01 09:24:15,706 INFO \t- precision class 7: 0.46\";\n",
       "            </script>\n",
       "        "
      ],
      "text/plain": [
       "<IPython.core.display.HTML object>"
      ]
     },
     "metadata": {},
     "output_type": "display_data"
    },
    {
     "data": {
      "text/html": [
       "\n",
       "            <script>\n",
       "                document.getElementById(\"biotrainer_status\").innerHTML = \"2025-10-01 09:24:15,706 INFO \t- precision class 8: 0.00\";\n",
       "            </script>\n",
       "        "
      ],
      "text/plain": [
       "<IPython.core.display.HTML object>"
      ]
     },
     "metadata": {},
     "output_type": "display_data"
    },
    {
     "data": {
      "text/html": [
       "\n",
       "            <script>\n",
       "                document.getElementById(\"biotrainer_status\").innerHTML = \"2025-10-01 09:24:15,707 INFO \t- precision class 9: 0.08\";\n",
       "            </script>\n",
       "        "
      ],
      "text/plain": [
       "<IPython.core.display.HTML object>"
      ]
     },
     "metadata": {},
     "output_type": "display_data"
    },
    {
     "data": {
      "text/html": [
       "\n",
       "            <script>\n",
       "                document.getElementById(\"biotrainer_status\").innerHTML = \"2025-10-01 09:24:15,707 INFO \tmacro-recall: 0.18\";\n",
       "            </script>\n",
       "        "
      ],
      "text/plain": [
       "<IPython.core.display.HTML object>"
      ]
     },
     "metadata": {},
     "output_type": "display_data"
    },
    {
     "data": {
      "text/html": [
       "\n",
       "            <script>\n",
       "                document.getElementById(\"biotrainer_status\").innerHTML = \"2025-10-01 09:24:15,708 INFO \tmicro-recall: 0.30\";\n",
       "            </script>\n",
       "        "
      ],
      "text/plain": [
       "<IPython.core.display.HTML object>"
      ]
     },
     "metadata": {},
     "output_type": "display_data"
    },
    {
     "data": {
      "text/html": [
       "\n",
       "            <script>\n",
       "                document.getElementById(\"biotrainer_status\").innerHTML = \"2025-10-01 09:24:15,708 INFO \t- recall class 0: 0.31\";\n",
       "            </script>\n",
       "        "
      ],
      "text/plain": [
       "<IPython.core.display.HTML object>"
      ]
     },
     "metadata": {},
     "output_type": "display_data"
    },
    {
     "data": {
      "text/html": [
       "\n",
       "            <script>\n",
       "                document.getElementById(\"biotrainer_status\").innerHTML = \"2025-10-01 09:24:15,709 INFO \t- recall class 1: 0.08\";\n",
       "            </script>\n",
       "        "
      ],
      "text/plain": [
       "<IPython.core.display.HTML object>"
      ]
     },
     "metadata": {},
     "output_type": "display_data"
    },
    {
     "data": {
      "text/html": [
       "\n",
       "            <script>\n",
       "                document.getElementById(\"biotrainer_status\").innerHTML = \"2025-10-01 09:24:15,709 INFO \t- recall class 2: 0.15\";\n",
       "            </script>\n",
       "        "
      ],
      "text/plain": [
       "<IPython.core.display.HTML object>"
      ]
     },
     "metadata": {},
     "output_type": "display_data"
    },
    {
     "data": {
      "text/html": [
       "\n",
       "            <script>\n",
       "                document.getElementById(\"biotrainer_status\").innerHTML = \"2025-10-01 09:24:15,709 INFO \t- recall class 3: 0.58\";\n",
       "            </script>\n",
       "        "
      ],
      "text/plain": [
       "<IPython.core.display.HTML object>"
      ]
     },
     "metadata": {},
     "output_type": "display_data"
    },
    {
     "data": {
      "text/html": [
       "\n",
       "            <script>\n",
       "                document.getElementById(\"biotrainer_status\").innerHTML = \"2025-10-01 09:24:15,710 INFO \t- recall class 4: 0.04\";\n",
       "            </script>\n",
       "        "
      ],
      "text/plain": [
       "<IPython.core.display.HTML object>"
      ]
     },
     "metadata": {},
     "output_type": "display_data"
    },
    {
     "data": {
      "text/html": [
       "\n",
       "            <script>\n",
       "                document.getElementById(\"biotrainer_status\").innerHTML = \"2025-10-01 09:24:15,710 INFO \t- recall class 5: 0.01\";\n",
       "            </script>\n",
       "        "
      ],
      "text/plain": [
       "<IPython.core.display.HTML object>"
      ]
     },
     "metadata": {},
     "output_type": "display_data"
    },
    {
     "data": {
      "text/html": [
       "\n",
       "            <script>\n",
       "                document.getElementById(\"biotrainer_status\").innerHTML = \"2025-10-01 09:24:15,711 INFO \t- recall class 6: 0.14\";\n",
       "            </script>\n",
       "        "
      ],
      "text/plain": [
       "<IPython.core.display.HTML object>"
      ]
     },
     "metadata": {},
     "output_type": "display_data"
    },
    {
     "data": {
      "text/html": [
       "\n",
       "            <script>\n",
       "                document.getElementById(\"biotrainer_status\").innerHTML = \"2025-10-01 09:24:15,711 INFO \t- recall class 7: 0.51\";\n",
       "            </script>\n",
       "        "
      ],
      "text/plain": [
       "<IPython.core.display.HTML object>"
      ]
     },
     "metadata": {},
     "output_type": "display_data"
    },
    {
     "data": {
      "text/html": [
       "\n",
       "            <script>\n",
       "                document.getElementById(\"biotrainer_status\").innerHTML = \"2025-10-01 09:24:15,711 INFO \t- recall class 8: 0.00\";\n",
       "            </script>\n",
       "        "
      ],
      "text/plain": [
       "<IPython.core.display.HTML object>"
      ]
     },
     "metadata": {},
     "output_type": "display_data"
    },
    {
     "data": {
      "text/html": [
       "\n",
       "            <script>\n",
       "                document.getElementById(\"biotrainer_status\").innerHTML = \"2025-10-01 09:24:15,712 INFO \t- recall class 9: 0.01\";\n",
       "            </script>\n",
       "        "
      ],
      "text/plain": [
       "<IPython.core.display.HTML object>"
      ]
     },
     "metadata": {},
     "output_type": "display_data"
    },
    {
     "data": {
      "text/html": [
       "\n",
       "            <script>\n",
       "                document.getElementById(\"biotrainer_status\").innerHTML = \"2025-10-01 09:24:15,712 INFO \tmacro-f1_score: 0.16\";\n",
       "            </script>\n",
       "        "
      ],
      "text/plain": [
       "<IPython.core.display.HTML object>"
      ]
     },
     "metadata": {},
     "output_type": "display_data"
    },
    {
     "data": {
      "text/html": [
       "\n",
       "            <script>\n",
       "                document.getElementById(\"biotrainer_status\").innerHTML = \"2025-10-01 09:24:15,713 INFO \tmicro-f1_score: 0.30\";\n",
       "            </script>\n",
       "        "
      ],
      "text/plain": [
       "<IPython.core.display.HTML object>"
      ]
     },
     "metadata": {},
     "output_type": "display_data"
    },
    {
     "data": {
      "text/html": [
       "\n",
       "            <script>\n",
       "                document.getElementById(\"biotrainer_status\").innerHTML = \"2025-10-01 09:24:15,713 INFO \t- f1_score class 0: 0.25\";\n",
       "            </script>\n",
       "        "
      ],
      "text/plain": [
       "<IPython.core.display.HTML object>"
      ]
     },
     "metadata": {},
     "output_type": "display_data"
    },
    {
     "data": {
      "text/html": [
       "\n",
       "            <script>\n",
       "                document.getElementById(\"biotrainer_status\").innerHTML = \"2025-10-01 09:24:15,714 INFO \t- f1_score class 1: 0.12\";\n",
       "            </script>\n",
       "        "
      ],
      "text/plain": [
       "<IPython.core.display.HTML object>"
      ]
     },
     "metadata": {},
     "output_type": "display_data"
    },
    {
     "data": {
      "text/html": [
       "\n",
       "            <script>\n",
       "                document.getElementById(\"biotrainer_status\").innerHTML = \"2025-10-01 09:24:15,714 INFO \t- f1_score class 2: 0.12\";\n",
       "            </script>\n",
       "        "
      ],
      "text/plain": [
       "<IPython.core.display.HTML object>"
      ]
     },
     "metadata": {},
     "output_type": "display_data"
    },
    {
     "data": {
      "text/html": [
       "\n",
       "            <script>\n",
       "                document.getElementById(\"biotrainer_status\").innerHTML = \"2025-10-01 09:24:15,715 INFO \t- f1_score class 3: 0.44\";\n",
       "            </script>\n",
       "        "
      ],
      "text/plain": [
       "<IPython.core.display.HTML object>"
      ]
     },
     "metadata": {},
     "output_type": "display_data"
    },
    {
     "data": {
      "text/html": [
       "\n",
       "            <script>\n",
       "                document.getElementById(\"biotrainer_status\").innerHTML = \"2025-10-01 09:24:15,715 INFO \t- f1_score class 4: 0.04\";\n",
       "            </script>\n",
       "        "
      ],
      "text/plain": [
       "<IPython.core.display.HTML object>"
      ]
     },
     "metadata": {},
     "output_type": "display_data"
    },
    {
     "data": {
      "text/html": [
       "\n",
       "            <script>\n",
       "                document.getElementById(\"biotrainer_status\").innerHTML = \"2025-10-01 09:24:15,716 INFO \t- f1_score class 5: 0.02\";\n",
       "            </script>\n",
       "        "
      ],
      "text/plain": [
       "<IPython.core.display.HTML object>"
      ]
     },
     "metadata": {},
     "output_type": "display_data"
    },
    {
     "data": {
      "text/html": [
       "\n",
       "            <script>\n",
       "                document.getElementById(\"biotrainer_status\").innerHTML = \"2025-10-01 09:24:15,717 INFO \t- f1_score class 6: 0.15\";\n",
       "            </script>\n",
       "        "
      ],
      "text/plain": [
       "<IPython.core.display.HTML object>"
      ]
     },
     "metadata": {},
     "output_type": "display_data"
    },
    {
     "data": {
      "text/html": [
       "\n",
       "            <script>\n",
       "                document.getElementById(\"biotrainer_status\").innerHTML = \"2025-10-01 09:24:15,717 INFO \t- f1_score class 7: 0.48\";\n",
       "            </script>\n",
       "        "
      ],
      "text/plain": [
       "<IPython.core.display.HTML object>"
      ]
     },
     "metadata": {},
     "output_type": "display_data"
    },
    {
     "data": {
      "text/html": [
       "\n",
       "            <script>\n",
       "                document.getElementById(\"biotrainer_status\").innerHTML = \"2025-10-01 09:24:15,718 INFO \t- f1_score class 8: 0.00\";\n",
       "            </script>\n",
       "        "
      ],
      "text/plain": [
       "<IPython.core.display.HTML object>"
      ]
     },
     "metadata": {},
     "output_type": "display_data"
    },
    {
     "data": {
      "text/html": [
       "\n",
       "            <script>\n",
       "                document.getElementById(\"biotrainer_status\").innerHTML = \"2025-10-01 09:24:15,718 INFO \t- f1_score class 9: 0.02\";\n",
       "            </script>\n",
       "        "
      ],
      "text/plain": [
       "<IPython.core.display.HTML object>"
      ]
     },
     "metadata": {},
     "output_type": "display_data"
    },
    {
     "data": {
      "text/html": [
       "\n",
       "            <script>\n",
       "                document.getElementById(\"biotrainer_status\").innerHTML = \"2025-10-01 09:24:15,719 INFO \tspearmans-corr-coeff: 0.16\";\n",
       "            </script>\n",
       "        "
      ],
      "text/plain": [
       "<IPython.core.display.HTML object>"
      ]
     },
     "metadata": {},
     "output_type": "display_data"
    },
    {
     "data": {
      "text/html": [
       "\n",
       "            <script>\n",
       "                document.getElementById(\"biotrainer_status\").innerHTML = \"2025-10-01 09:24:15,719 INFO \tmatthews-corr-coeff: 0.16\";\n",
       "            </script>\n",
       "        "
      ],
      "text/plain": [
       "<IPython.core.display.HTML object>"
      ]
     },
     "metadata": {},
     "output_type": "display_data"
    },
    {
     "data": {
      "text/html": [
       "\n",
       "            <script>\n",
       "                document.getElementById(\"biotrainer_status\").innerHTML = \"2025-10-01 09:24:15,720 INFO Validation results\";\n",
       "            </script>\n",
       "        "
      ],
      "text/plain": [
       "<IPython.core.display.HTML object>"
      ]
     },
     "metadata": {},
     "output_type": "display_data"
    },
    {
     "data": {
      "text/html": [
       "\n",
       "            <script>\n",
       "                document.getElementById(\"biotrainer_status\").innerHTML = \"2025-10-01 09:24:15,720 INFO \tloss: 2.29\";\n",
       "            </script>\n",
       "        "
      ],
      "text/plain": [
       "<IPython.core.display.HTML object>"
      ]
     },
     "metadata": {},
     "output_type": "display_data"
    },
    {
     "data": {
      "text/html": [
       "\n",
       "            <script>\n",
       "                document.getElementById(\"biotrainer_status\").innerHTML = \"2025-10-01 09:24:15,721 INFO \taccuracy: 0.29\";\n",
       "            </script>\n",
       "        "
      ],
      "text/plain": [
       "<IPython.core.display.HTML object>"
      ]
     },
     "metadata": {},
     "output_type": "display_data"
    },
    {
     "data": {
      "text/html": [
       "\n",
       "            <script>\n",
       "                document.getElementById(\"biotrainer_status\").innerHTML = \"2025-10-01 09:24:15,721 INFO \tmacro-precision: 0.17\";\n",
       "            </script>\n",
       "        "
      ],
      "text/plain": [
       "<IPython.core.display.HTML object>"
      ]
     },
     "metadata": {},
     "output_type": "display_data"
    },
    {
     "data": {
      "text/html": [
       "\n",
       "            <script>\n",
       "                document.getElementById(\"biotrainer_status\").innerHTML = \"2025-10-01 09:24:15,722 INFO \tmicro-precision: 0.29\";\n",
       "            </script>\n",
       "        "
      ],
      "text/plain": [
       "<IPython.core.display.HTML object>"
      ]
     },
     "metadata": {},
     "output_type": "display_data"
    },
    {
     "data": {
      "text/html": [
       "\n",
       "            <script>\n",
       "                document.getElementById(\"biotrainer_status\").innerHTML = \"2025-10-01 09:24:15,722 INFO \t- precision class 0: 0.19\";\n",
       "            </script>\n",
       "        "
      ],
      "text/plain": [
       "<IPython.core.display.HTML object>"
      ]
     },
     "metadata": {},
     "output_type": "display_data"
    },
    {
     "data": {
      "text/html": [
       "\n",
       "            <script>\n",
       "                document.getElementById(\"biotrainer_status\").innerHTML = \"2025-10-01 09:24:15,723 INFO \t- precision class 1: 0.24\";\n",
       "            </script>\n",
       "        "
      ],
      "text/plain": [
       "<IPython.core.display.HTML object>"
      ]
     },
     "metadata": {},
     "output_type": "display_data"
    },
    {
     "data": {
      "text/html": [
       "\n",
       "            <script>\n",
       "                document.getElementById(\"biotrainer_status\").innerHTML = \"2025-10-01 09:24:15,723 INFO \t- precision class 2: 0.11\";\n",
       "            </script>\n",
       "        "
      ],
      "text/plain": [
       "<IPython.core.display.HTML object>"
      ]
     },
     "metadata": {},
     "output_type": "display_data"
    },
    {
     "data": {
      "text/html": [
       "\n",
       "            <script>\n",
       "                document.getElementById(\"biotrainer_status\").innerHTML = \"2025-10-01 09:24:15,723 INFO \t- precision class 3: 0.35\";\n",
       "            </script>\n",
       "        "
      ],
      "text/plain": [
       "<IPython.core.display.HTML object>"
      ]
     },
     "metadata": {},
     "output_type": "display_data"
    },
    {
     "data": {
      "text/html": [
       "\n",
       "            <script>\n",
       "                document.getElementById(\"biotrainer_status\").innerHTML = \"2025-10-01 09:24:15,724 INFO \t- precision class 4: 0.08\";\n",
       "            </script>\n",
       "        "
      ],
      "text/plain": [
       "<IPython.core.display.HTML object>"
      ]
     },
     "metadata": {},
     "output_type": "display_data"
    },
    {
     "data": {
      "text/html": [
       "\n",
       "            <script>\n",
       "                document.getElementById(\"biotrainer_status\").innerHTML = \"2025-10-01 09:24:15,724 INFO \t- precision class 5: 0.05\";\n",
       "            </script>\n",
       "        "
      ],
      "text/plain": [
       "<IPython.core.display.HTML object>"
      ]
     },
     "metadata": {},
     "output_type": "display_data"
    },
    {
     "data": {
      "text/html": [
       "\n",
       "            <script>\n",
       "                document.getElementById(\"biotrainer_status\").innerHTML = \"2025-10-01 09:24:15,725 INFO \t- precision class 6: 0.16\";\n",
       "            </script>\n",
       "        "
      ],
      "text/plain": [
       "<IPython.core.display.HTML object>"
      ]
     },
     "metadata": {},
     "output_type": "display_data"
    },
    {
     "data": {
      "text/html": [
       "\n",
       "            <script>\n",
       "                document.getElementById(\"biotrainer_status\").innerHTML = \"2025-10-01 09:24:15,725 INFO \t- precision class 7: 0.44\";\n",
       "            </script>\n",
       "        "
      ],
      "text/plain": [
       "<IPython.core.display.HTML object>"
      ]
     },
     "metadata": {},
     "output_type": "display_data"
    },
    {
     "data": {
      "text/html": [
       "\n",
       "            <script>\n",
       "                document.getElementById(\"biotrainer_status\").innerHTML = \"2025-10-01 09:24:15,726 INFO \t- precision class 8: 0.00\";\n",
       "            </script>\n",
       "        "
      ],
      "text/plain": [
       "<IPython.core.display.HTML object>"
      ]
     },
     "metadata": {},
     "output_type": "display_data"
    },
    {
     "data": {
      "text/html": [
       "\n",
       "            <script>\n",
       "                document.getElementById(\"biotrainer_status\").innerHTML = \"2025-10-01 09:24:15,726 INFO \t- precision class 9: 0.08\";\n",
       "            </script>\n",
       "        "
      ],
      "text/plain": [
       "<IPython.core.display.HTML object>"
      ]
     },
     "metadata": {},
     "output_type": "display_data"
    },
    {
     "data": {
      "text/html": [
       "\n",
       "            <script>\n",
       "                document.getElementById(\"biotrainer_status\").innerHTML = \"2025-10-01 09:24:15,727 INFO \tmacro-recall: 0.18\";\n",
       "            </script>\n",
       "        "
      ],
      "text/plain": [
       "<IPython.core.display.HTML object>"
      ]
     },
     "metadata": {},
     "output_type": "display_data"
    },
    {
     "data": {
      "text/html": [
       "\n",
       "            <script>\n",
       "                document.getElementById(\"biotrainer_status\").innerHTML = \"2025-10-01 09:24:15,727 INFO \tmicro-recall: 0.29\";\n",
       "            </script>\n",
       "        "
      ],
      "text/plain": [
       "<IPython.core.display.HTML object>"
      ]
     },
     "metadata": {},
     "output_type": "display_data"
    },
    {
     "data": {
      "text/html": [
       "\n",
       "            <script>\n",
       "                document.getElementById(\"biotrainer_status\").innerHTML = \"2025-10-01 09:24:15,727 INFO \t- recall class 0: 0.20\";\n",
       "            </script>\n",
       "        "
      ],
      "text/plain": [
       "<IPython.core.display.HTML object>"
      ]
     },
     "metadata": {},
     "output_type": "display_data"
    },
    {
     "data": {
      "text/html": [
       "\n",
       "            <script>\n",
       "                document.getElementById(\"biotrainer_status\").innerHTML = \"2025-10-01 09:24:15,728 INFO \t- recall class 1: 0.11\";\n",
       "            </script>\n",
       "        "
      ],
      "text/plain": [
       "<IPython.core.display.HTML object>"
      ]
     },
     "metadata": {},
     "output_type": "display_data"
    },
    {
     "data": {
      "text/html": [
       "\n",
       "            <script>\n",
       "                document.getElementById(\"biotrainer_status\").innerHTML = \"2025-10-01 09:24:15,729 INFO \t- recall class 2: 0.14\";\n",
       "            </script>\n",
       "        "
      ],
      "text/plain": [
       "<IPython.core.display.HTML object>"
      ]
     },
     "metadata": {},
     "output_type": "display_data"
    },
    {
     "data": {
      "text/html": [
       "\n",
       "            <script>\n",
       "                document.getElementById(\"biotrainer_status\").innerHTML = \"2025-10-01 09:24:15,729 INFO \t- recall class 3: 0.60\";\n",
       "            </script>\n",
       "        "
      ],
      "text/plain": [
       "<IPython.core.display.HTML object>"
      ]
     },
     "metadata": {},
     "output_type": "display_data"
    },
    {
     "data": {
      "text/html": [
       "\n",
       "            <script>\n",
       "                document.getElementById(\"biotrainer_status\").innerHTML = \"2025-10-01 09:24:15,730 INFO \t- recall class 4: 0.10\";\n",
       "            </script>\n",
       "        "
      ],
      "text/plain": [
       "<IPython.core.display.HTML object>"
      ]
     },
     "metadata": {},
     "output_type": "display_data"
    },
    {
     "data": {
      "text/html": [
       "\n",
       "            <script>\n",
       "                document.getElementById(\"biotrainer_status\").innerHTML = \"2025-10-01 09:24:15,730 INFO \t- recall class 5: 0.02\";\n",
       "            </script>\n",
       "        "
      ],
      "text/plain": [
       "<IPython.core.display.HTML object>"
      ]
     },
     "metadata": {},
     "output_type": "display_data"
    },
    {
     "data": {
      "text/html": [
       "\n",
       "            <script>\n",
       "                document.getElementById(\"biotrainer_status\").innerHTML = \"2025-10-01 09:24:15,731 INFO \t- recall class 6: 0.17\";\n",
       "            </script>\n",
       "        "
      ],
      "text/plain": [
       "<IPython.core.display.HTML object>"
      ]
     },
     "metadata": {},
     "output_type": "display_data"
    },
    {
     "data": {
      "text/html": [
       "\n",
       "            <script>\n",
       "                document.getElementById(\"biotrainer_status\").innerHTML = \"2025-10-01 09:24:15,732 INFO \t- recall class 7: 0.48\";\n",
       "            </script>\n",
       "        "
      ],
      "text/plain": [
       "<IPython.core.display.HTML object>"
      ]
     },
     "metadata": {},
     "output_type": "display_data"
    },
    {
     "data": {
      "text/html": [
       "\n",
       "            <script>\n",
       "                document.getElementById(\"biotrainer_status\").innerHTML = \"2025-10-01 09:24:15,732 INFO \t- recall class 8: 0.00\";\n",
       "            </script>\n",
       "        "
      ],
      "text/plain": [
       "<IPython.core.display.HTML object>"
      ]
     },
     "metadata": {},
     "output_type": "display_data"
    },
    {
     "data": {
      "text/html": [
       "\n",
       "            <script>\n",
       "                document.getElementById(\"biotrainer_status\").innerHTML = \"2025-10-01 09:24:15,733 INFO \t- recall class 9: 0.02\";\n",
       "            </script>\n",
       "        "
      ],
      "text/plain": [
       "<IPython.core.display.HTML object>"
      ]
     },
     "metadata": {},
     "output_type": "display_data"
    },
    {
     "data": {
      "text/html": [
       "\n",
       "            <script>\n",
       "                document.getElementById(\"biotrainer_status\").innerHTML = \"2025-10-01 09:24:15,733 INFO \tmacro-f1_score: 0.17\";\n",
       "            </script>\n",
       "        "
      ],
      "text/plain": [
       "<IPython.core.display.HTML object>"
      ]
     },
     "metadata": {},
     "output_type": "display_data"
    },
    {
     "data": {
      "text/html": [
       "\n",
       "            <script>\n",
       "                document.getElementById(\"biotrainer_status\").innerHTML = \"2025-10-01 09:24:15,734 INFO \tmicro-f1_score: 0.29\";\n",
       "            </script>\n",
       "        "
      ],
      "text/plain": [
       "<IPython.core.display.HTML object>"
      ]
     },
     "metadata": {},
     "output_type": "display_data"
    },
    {
     "data": {
      "text/html": [
       "\n",
       "            <script>\n",
       "                document.getElementById(\"biotrainer_status\").innerHTML = \"2025-10-01 09:24:15,734 INFO \t- f1_score class 0: 0.20\";\n",
       "            </script>\n",
       "        "
      ],
      "text/plain": [
       "<IPython.core.display.HTML object>"
      ]
     },
     "metadata": {},
     "output_type": "display_data"
    },
    {
     "data": {
      "text/html": [
       "\n",
       "            <script>\n",
       "                document.getElementById(\"biotrainer_status\").innerHTML = \"2025-10-01 09:24:15,735 INFO \t- f1_score class 1: 0.15\";\n",
       "            </script>\n",
       "        "
      ],
      "text/plain": [
       "<IPython.core.display.HTML object>"
      ]
     },
     "metadata": {},
     "output_type": "display_data"
    },
    {
     "data": {
      "text/html": [
       "\n",
       "            <script>\n",
       "                document.getElementById(\"biotrainer_status\").innerHTML = \"2025-10-01 09:24:15,735 INFO \t- f1_score class 2: 0.12\";\n",
       "            </script>\n",
       "        "
      ],
      "text/plain": [
       "<IPython.core.display.HTML object>"
      ]
     },
     "metadata": {},
     "output_type": "display_data"
    },
    {
     "data": {
      "text/html": [
       "\n",
       "            <script>\n",
       "                document.getElementById(\"biotrainer_status\").innerHTML = \"2025-10-01 09:24:15,736 INFO \t- f1_score class 3: 0.44\";\n",
       "            </script>\n",
       "        "
      ],
      "text/plain": [
       "<IPython.core.display.HTML object>"
      ]
     },
     "metadata": {},
     "output_type": "display_data"
    },
    {
     "data": {
      "text/html": [
       "\n",
       "            <script>\n",
       "                document.getElementById(\"biotrainer_status\").innerHTML = \"2025-10-01 09:24:15,736 INFO \t- f1_score class 4: 0.09\";\n",
       "            </script>\n",
       "        "
      ],
      "text/plain": [
       "<IPython.core.display.HTML object>"
      ]
     },
     "metadata": {},
     "output_type": "display_data"
    },
    {
     "data": {
      "text/html": [
       "\n",
       "            <script>\n",
       "                document.getElementById(\"biotrainer_status\").innerHTML = \"2025-10-01 09:24:15,737 INFO \t- f1_score class 5: 0.03\";\n",
       "            </script>\n",
       "        "
      ],
      "text/plain": [
       "<IPython.core.display.HTML object>"
      ]
     },
     "metadata": {},
     "output_type": "display_data"
    },
    {
     "data": {
      "text/html": [
       "\n",
       "            <script>\n",
       "                document.getElementById(\"biotrainer_status\").innerHTML = \"2025-10-01 09:24:15,737 INFO \t- f1_score class 6: 0.17\";\n",
       "            </script>\n",
       "        "
      ],
      "text/plain": [
       "<IPython.core.display.HTML object>"
      ]
     },
     "metadata": {},
     "output_type": "display_data"
    },
    {
     "data": {
      "text/html": [
       "\n",
       "            <script>\n",
       "                document.getElementById(\"biotrainer_status\").innerHTML = \"2025-10-01 09:24:15,738 INFO \t- f1_score class 7: 0.46\";\n",
       "            </script>\n",
       "        "
      ],
      "text/plain": [
       "<IPython.core.display.HTML object>"
      ]
     },
     "metadata": {},
     "output_type": "display_data"
    },
    {
     "data": {
      "text/html": [
       "\n",
       "            <script>\n",
       "                document.getElementById(\"biotrainer_status\").innerHTML = \"2025-10-01 09:24:15,738 INFO \t- f1_score class 8: 0.00\";\n",
       "            </script>\n",
       "        "
      ],
      "text/plain": [
       "<IPython.core.display.HTML object>"
      ]
     },
     "metadata": {},
     "output_type": "display_data"
    },
    {
     "data": {
      "text/html": [
       "\n",
       "            <script>\n",
       "                document.getElementById(\"biotrainer_status\").innerHTML = \"2025-10-01 09:24:15,739 INFO \t- f1_score class 9: 0.03\";\n",
       "            </script>\n",
       "        "
      ],
      "text/plain": [
       "<IPython.core.display.HTML object>"
      ]
     },
     "metadata": {},
     "output_type": "display_data"
    },
    {
     "data": {
      "text/html": [
       "\n",
       "            <script>\n",
       "                document.getElementById(\"biotrainer_status\").innerHTML = \"2025-10-01 09:24:15,739 INFO \tspearmans-corr-coeff: 0.12\";\n",
       "            </script>\n",
       "        "
      ],
      "text/plain": [
       "<IPython.core.display.HTML object>"
      ]
     },
     "metadata": {},
     "output_type": "display_data"
    },
    {
     "data": {
      "text/html": [
       "\n",
       "            <script>\n",
       "                document.getElementById(\"biotrainer_status\").innerHTML = \"2025-10-01 09:24:15,740 INFO \tmatthews-corr-coeff: 0.15\";\n",
       "            </script>\n",
       "        "
      ],
      "text/plain": [
       "<IPython.core.display.HTML object>"
      ]
     },
     "metadata": {},
     "output_type": "display_data"
    },
    {
     "data": {
      "text/html": [
       "\n",
       "            <script>\n",
       "                document.getElementById(\"biotrainer_status\").innerHTML = \"2025-10-01 09:24:16,344 INFO Epoch 6\";\n",
       "            </script>\n",
       "        "
      ],
      "text/plain": [
       "<IPython.core.display.HTML object>"
      ]
     },
     "metadata": {},
     "output_type": "display_data"
    },
    {
     "data": {
      "text/html": [
       "\n",
       "            <script>\n",
       "                document.getElementById(\"biotrainer_status\").innerHTML = \"2025-10-01 09:24:16,344 INFO Training results\";\n",
       "            </script>\n",
       "        "
      ],
      "text/plain": [
       "<IPython.core.display.HTML object>"
      ]
     },
     "metadata": {},
     "output_type": "display_data"
    },
    {
     "data": {
      "text/html": [
       "\n",
       "            <script>\n",
       "                document.getElementById(\"biotrainer_status\").innerHTML = \"2025-10-01 09:24:16,345 INFO \tloss: 2.26\";\n",
       "            </script>\n",
       "        "
      ],
      "text/plain": [
       "<IPython.core.display.HTML object>"
      ]
     },
     "metadata": {},
     "output_type": "display_data"
    },
    {
     "data": {
      "text/html": [
       "\n",
       "            <script>\n",
       "                document.getElementById(\"biotrainer_status\").innerHTML = \"2025-10-01 09:24:16,345 INFO \taccuracy: 0.30\";\n",
       "            </script>\n",
       "        "
      ],
      "text/plain": [
       "<IPython.core.display.HTML object>"
      ]
     },
     "metadata": {},
     "output_type": "display_data"
    },
    {
     "data": {
      "text/html": [
       "\n",
       "            <script>\n",
       "                document.getElementById(\"biotrainer_status\").innerHTML = \"2025-10-01 09:24:16,346 INFO \tmacro-precision: 0.17\";\n",
       "            </script>\n",
       "        "
      ],
      "text/plain": [
       "<IPython.core.display.HTML object>"
      ]
     },
     "metadata": {},
     "output_type": "display_data"
    },
    {
     "data": {
      "text/html": [
       "\n",
       "            <script>\n",
       "                document.getElementById(\"biotrainer_status\").innerHTML = \"2025-10-01 09:24:16,346 INFO \tmicro-precision: 0.30\";\n",
       "            </script>\n",
       "        "
      ],
      "text/plain": [
       "<IPython.core.display.HTML object>"
      ]
     },
     "metadata": {},
     "output_type": "display_data"
    },
    {
     "data": {
      "text/html": [
       "\n",
       "            <script>\n",
       "                document.getElementById(\"biotrainer_status\").innerHTML = \"2025-10-01 09:24:16,347 INFO \t- precision class 0: 0.21\";\n",
       "            </script>\n",
       "        "
      ],
      "text/plain": [
       "<IPython.core.display.HTML object>"
      ]
     },
     "metadata": {},
     "output_type": "display_data"
    },
    {
     "data": {
      "text/html": [
       "\n",
       "            <script>\n",
       "                document.getElementById(\"biotrainer_status\").innerHTML = \"2025-10-01 09:24:16,347 INFO \t- precision class 1: 0.26\";\n",
       "            </script>\n",
       "        "
      ],
      "text/plain": [
       "<IPython.core.display.HTML object>"
      ]
     },
     "metadata": {},
     "output_type": "display_data"
    },
    {
     "data": {
      "text/html": [
       "\n",
       "            <script>\n",
       "                document.getElementById(\"biotrainer_status\").innerHTML = \"2025-10-01 09:24:16,348 INFO \t- precision class 2: 0.08\";\n",
       "            </script>\n",
       "        "
      ],
      "text/plain": [
       "<IPython.core.display.HTML object>"
      ]
     },
     "metadata": {},
     "output_type": "display_data"
    },
    {
     "data": {
      "text/html": [
       "\n",
       "            <script>\n",
       "                document.getElementById(\"biotrainer_status\").innerHTML = \"2025-10-01 09:24:16,348 INFO \t- precision class 3: 0.35\";\n",
       "            </script>\n",
       "        "
      ],
      "text/plain": [
       "<IPython.core.display.HTML object>"
      ]
     },
     "metadata": {},
     "output_type": "display_data"
    },
    {
     "data": {
      "text/html": [
       "\n",
       "            <script>\n",
       "                document.getElementById(\"biotrainer_status\").innerHTML = \"2025-10-01 09:24:16,349 INFO \t- precision class 4: 0.04\";\n",
       "            </script>\n",
       "        "
      ],
      "text/plain": [
       "<IPython.core.display.HTML object>"
      ]
     },
     "metadata": {},
     "output_type": "display_data"
    },
    {
     "data": {
      "text/html": [
       "\n",
       "            <script>\n",
       "                document.getElementById(\"biotrainer_status\").innerHTML = \"2025-10-01 09:24:16,349 INFO \t- precision class 5: 0.03\";\n",
       "            </script>\n",
       "        "
      ],
      "text/plain": [
       "<IPython.core.display.HTML object>"
      ]
     },
     "metadata": {},
     "output_type": "display_data"
    },
    {
     "data": {
      "text/html": [
       "\n",
       "            <script>\n",
       "                document.getElementById(\"biotrainer_status\").innerHTML = \"2025-10-01 09:24:16,350 INFO \t- precision class 6: 0.14\";\n",
       "            </script>\n",
       "        "
      ],
      "text/plain": [
       "<IPython.core.display.HTML object>"
      ]
     },
     "metadata": {},
     "output_type": "display_data"
    },
    {
     "data": {
      "text/html": [
       "\n",
       "            <script>\n",
       "                document.getElementById(\"biotrainer_status\").innerHTML = \"2025-10-01 09:24:16,350 INFO \t- precision class 7: 0.49\";\n",
       "            </script>\n",
       "        "
      ],
      "text/plain": [
       "<IPython.core.display.HTML object>"
      ]
     },
     "metadata": {},
     "output_type": "display_data"
    },
    {
     "data": {
      "text/html": [
       "\n",
       "            <script>\n",
       "                document.getElementById(\"biotrainer_status\").innerHTML = \"2025-10-01 09:24:16,350 INFO \t- precision class 8: 0.00\";\n",
       "            </script>\n",
       "        "
      ],
      "text/plain": [
       "<IPython.core.display.HTML object>"
      ]
     },
     "metadata": {},
     "output_type": "display_data"
    },
    {
     "data": {
      "text/html": [
       "\n",
       "            <script>\n",
       "                document.getElementById(\"biotrainer_status\").innerHTML = \"2025-10-01 09:24:16,351 INFO \t- precision class 9: 0.09\";\n",
       "            </script>\n",
       "        "
      ],
      "text/plain": [
       "<IPython.core.display.HTML object>"
      ]
     },
     "metadata": {},
     "output_type": "display_data"
    },
    {
     "data": {
      "text/html": [
       "\n",
       "            <script>\n",
       "                document.getElementById(\"biotrainer_status\").innerHTML = \"2025-10-01 09:24:16,351 INFO \tmacro-recall: 0.19\";\n",
       "            </script>\n",
       "        "
      ],
      "text/plain": [
       "<IPython.core.display.HTML object>"
      ]
     },
     "metadata": {},
     "output_type": "display_data"
    },
    {
     "data": {
      "text/html": [
       "\n",
       "            <script>\n",
       "                document.getElementById(\"biotrainer_status\").innerHTML = \"2025-10-01 09:24:16,352 INFO \tmicro-recall: 0.30\";\n",
       "            </script>\n",
       "        "
      ],
      "text/plain": [
       "<IPython.core.display.HTML object>"
      ]
     },
     "metadata": {},
     "output_type": "display_data"
    },
    {
     "data": {
      "text/html": [
       "\n",
       "            <script>\n",
       "                document.getElementById(\"biotrainer_status\").innerHTML = \"2025-10-01 09:24:16,352 INFO \t- recall class 0: 0.42\";\n",
       "            </script>\n",
       "        "
      ],
      "text/plain": [
       "<IPython.core.display.HTML object>"
      ]
     },
     "metadata": {},
     "output_type": "display_data"
    },
    {
     "data": {
      "text/html": [
       "\n",
       "            <script>\n",
       "                document.getElementById(\"biotrainer_status\").innerHTML = \"2025-10-01 09:24:16,352 INFO \t- recall class 1: 0.09\";\n",
       "            </script>\n",
       "        "
      ],
      "text/plain": [
       "<IPython.core.display.HTML object>"
      ]
     },
     "metadata": {},
     "output_type": "display_data"
    },
    {
     "data": {
      "text/html": [
       "\n",
       "            <script>\n",
       "                document.getElementById(\"biotrainer_status\").innerHTML = \"2025-10-01 09:24:16,353 INFO \t- recall class 2: 0.06\";\n",
       "            </script>\n",
       "        "
      ],
      "text/plain": [
       "<IPython.core.display.HTML object>"
      ]
     },
     "metadata": {},
     "output_type": "display_data"
    },
    {
     "data": {
      "text/html": [
       "\n",
       "            <script>\n",
       "                document.getElementById(\"biotrainer_status\").innerHTML = \"2025-10-01 09:24:16,353 INFO \t- recall class 3: 0.57\";\n",
       "            </script>\n",
       "        "
      ],
      "text/plain": [
       "<IPython.core.display.HTML object>"
      ]
     },
     "metadata": {},
     "output_type": "display_data"
    },
    {
     "data": {
      "text/html": [
       "\n",
       "            <script>\n",
       "                document.getElementById(\"biotrainer_status\").innerHTML = \"2025-10-01 09:24:16,354 INFO \t- recall class 4: 0.01\";\n",
       "            </script>\n",
       "        "
      ],
      "text/plain": [
       "<IPython.core.display.HTML object>"
      ]
     },
     "metadata": {},
     "output_type": "display_data"
    },
    {
     "data": {
      "text/html": [
       "\n",
       "            <script>\n",
       "                document.getElementById(\"biotrainer_status\").innerHTML = \"2025-10-01 09:24:16,354 INFO \t- recall class 5: 0.01\";\n",
       "            </script>\n",
       "        "
      ],
      "text/plain": [
       "<IPython.core.display.HTML object>"
      ]
     },
     "metadata": {},
     "output_type": "display_data"
    },
    {
     "data": {
      "text/html": [
       "\n",
       "            <script>\n",
       "                document.getElementById(\"biotrainer_status\").innerHTML = \"2025-10-01 09:24:16,355 INFO \t- recall class 6: 0.19\";\n",
       "            </script>\n",
       "        "
      ],
      "text/plain": [
       "<IPython.core.display.HTML object>"
      ]
     },
     "metadata": {},
     "output_type": "display_data"
    },
    {
     "data": {
      "text/html": [
       "\n",
       "            <script>\n",
       "                document.getElementById(\"biotrainer_status\").innerHTML = \"2025-10-01 09:24:16,355 INFO \t- recall class 7: 0.47\";\n",
       "            </script>\n",
       "        "
      ],
      "text/plain": [
       "<IPython.core.display.HTML object>"
      ]
     },
     "metadata": {},
     "output_type": "display_data"
    },
    {
     "data": {
      "text/html": [
       "\n",
       "            <script>\n",
       "                document.getElementById(\"biotrainer_status\").innerHTML = \"2025-10-01 09:24:16,355 INFO \t- recall class 8: 0.00\";\n",
       "            </script>\n",
       "        "
      ],
      "text/plain": [
       "<IPython.core.display.HTML object>"
      ]
     },
     "metadata": {},
     "output_type": "display_data"
    },
    {
     "data": {
      "text/html": [
       "\n",
       "            <script>\n",
       "                document.getElementById(\"biotrainer_status\").innerHTML = \"2025-10-01 09:24:16,356 INFO \t- recall class 9: 0.05\";\n",
       "            </script>\n",
       "        "
      ],
      "text/plain": [
       "<IPython.core.display.HTML object>"
      ]
     },
     "metadata": {},
     "output_type": "display_data"
    },
    {
     "data": {
      "text/html": [
       "\n",
       "            <script>\n",
       "                document.getElementById(\"biotrainer_status\").innerHTML = \"2025-10-01 09:24:16,356 INFO \tmacro-f1_score: 0.17\";\n",
       "            </script>\n",
       "        "
      ],
      "text/plain": [
       "<IPython.core.display.HTML object>"
      ]
     },
     "metadata": {},
     "output_type": "display_data"
    },
    {
     "data": {
      "text/html": [
       "\n",
       "            <script>\n",
       "                document.getElementById(\"biotrainer_status\").innerHTML = \"2025-10-01 09:24:16,357 INFO \tmicro-f1_score: 0.30\";\n",
       "            </script>\n",
       "        "
      ],
      "text/plain": [
       "<IPython.core.display.HTML object>"
      ]
     },
     "metadata": {},
     "output_type": "display_data"
    },
    {
     "data": {
      "text/html": [
       "\n",
       "            <script>\n",
       "                document.getElementById(\"biotrainer_status\").innerHTML = \"2025-10-01 09:24:16,357 INFO \t- f1_score class 0: 0.28\";\n",
       "            </script>\n",
       "        "
      ],
      "text/plain": [
       "<IPython.core.display.HTML object>"
      ]
     },
     "metadata": {},
     "output_type": "display_data"
    },
    {
     "data": {
      "text/html": [
       "\n",
       "            <script>\n",
       "                document.getElementById(\"biotrainer_status\").innerHTML = \"2025-10-01 09:24:16,358 INFO \t- f1_score class 1: 0.13\";\n",
       "            </script>\n",
       "        "
      ],
      "text/plain": [
       "<IPython.core.display.HTML object>"
      ]
     },
     "metadata": {},
     "output_type": "display_data"
    },
    {
     "data": {
      "text/html": [
       "\n",
       "            <script>\n",
       "                document.getElementById(\"biotrainer_status\").innerHTML = \"2025-10-01 09:24:16,358 INFO \t- f1_score class 2: 0.07\";\n",
       "            </script>\n",
       "        "
      ],
      "text/plain": [
       "<IPython.core.display.HTML object>"
      ]
     },
     "metadata": {},
     "output_type": "display_data"
    },
    {
     "data": {
      "text/html": [
       "\n",
       "            <script>\n",
       "                document.getElementById(\"biotrainer_status\").innerHTML = \"2025-10-01 09:24:16,358 INFO \t- f1_score class 3: 0.44\";\n",
       "            </script>\n",
       "        "
      ],
      "text/plain": [
       "<IPython.core.display.HTML object>"
      ]
     },
     "metadata": {},
     "output_type": "display_data"
    },
    {
     "data": {
      "text/html": [
       "\n",
       "            <script>\n",
       "                document.getElementById(\"biotrainer_status\").innerHTML = \"2025-10-01 09:24:16,359 INFO \t- f1_score class 4: 0.02\";\n",
       "            </script>\n",
       "        "
      ],
      "text/plain": [
       "<IPython.core.display.HTML object>"
      ]
     },
     "metadata": {},
     "output_type": "display_data"
    },
    {
     "data": {
      "text/html": [
       "\n",
       "            <script>\n",
       "                document.getElementById(\"biotrainer_status\").innerHTML = \"2025-10-01 09:24:16,359 INFO \t- f1_score class 5: 0.02\";\n",
       "            </script>\n",
       "        "
      ],
      "text/plain": [
       "<IPython.core.display.HTML object>"
      ]
     },
     "metadata": {},
     "output_type": "display_data"
    },
    {
     "data": {
      "text/html": [
       "\n",
       "            <script>\n",
       "                document.getElementById(\"biotrainer_status\").innerHTML = \"2025-10-01 09:24:16,360 INFO \t- f1_score class 6: 0.16\";\n",
       "            </script>\n",
       "        "
      ],
      "text/plain": [
       "<IPython.core.display.HTML object>"
      ]
     },
     "metadata": {},
     "output_type": "display_data"
    },
    {
     "data": {
      "text/html": [
       "\n",
       "            <script>\n",
       "                document.getElementById(\"biotrainer_status\").innerHTML = \"2025-10-01 09:24:16,360 INFO \t- f1_score class 7: 0.48\";\n",
       "            </script>\n",
       "        "
      ],
      "text/plain": [
       "<IPython.core.display.HTML object>"
      ]
     },
     "metadata": {},
     "output_type": "display_data"
    },
    {
     "data": {
      "text/html": [
       "\n",
       "            <script>\n",
       "                document.getElementById(\"biotrainer_status\").innerHTML = \"2025-10-01 09:24:16,360 INFO \t- f1_score class 8: 0.00\";\n",
       "            </script>\n",
       "        "
      ],
      "text/plain": [
       "<IPython.core.display.HTML object>"
      ]
     },
     "metadata": {},
     "output_type": "display_data"
    },
    {
     "data": {
      "text/html": [
       "\n",
       "            <script>\n",
       "                document.getElementById(\"biotrainer_status\").innerHTML = \"2025-10-01 09:24:16,361 INFO \t- f1_score class 9: 0.06\";\n",
       "            </script>\n",
       "        "
      ],
      "text/plain": [
       "<IPython.core.display.HTML object>"
      ]
     },
     "metadata": {},
     "output_type": "display_data"
    },
    {
     "data": {
      "text/html": [
       "\n",
       "            <script>\n",
       "                document.getElementById(\"biotrainer_status\").innerHTML = \"2025-10-01 09:24:16,361 INFO \tspearmans-corr-coeff: 0.15\";\n",
       "            </script>\n",
       "        "
      ],
      "text/plain": [
       "<IPython.core.display.HTML object>"
      ]
     },
     "metadata": {},
     "output_type": "display_data"
    },
    {
     "data": {
      "text/html": [
       "\n",
       "            <script>\n",
       "                document.getElementById(\"biotrainer_status\").innerHTML = \"2025-10-01 09:24:16,362 INFO \tmatthews-corr-coeff: 0.17\";\n",
       "            </script>\n",
       "        "
      ],
      "text/plain": [
       "<IPython.core.display.HTML object>"
      ]
     },
     "metadata": {},
     "output_type": "display_data"
    },
    {
     "data": {
      "text/html": [
       "\n",
       "            <script>\n",
       "                document.getElementById(\"biotrainer_status\").innerHTML = \"2025-10-01 09:24:16,362 INFO Validation results\";\n",
       "            </script>\n",
       "        "
      ],
      "text/plain": [
       "<IPython.core.display.HTML object>"
      ]
     },
     "metadata": {},
     "output_type": "display_data"
    },
    {
     "data": {
      "text/html": [
       "\n",
       "            <script>\n",
       "                document.getElementById(\"biotrainer_status\").innerHTML = \"2025-10-01 09:24:16,363 INFO \tloss: 2.27\";\n",
       "            </script>\n",
       "        "
      ],
      "text/plain": [
       "<IPython.core.display.HTML object>"
      ]
     },
     "metadata": {},
     "output_type": "display_data"
    },
    {
     "data": {
      "text/html": [
       "\n",
       "            <script>\n",
       "                document.getElementById(\"biotrainer_status\").innerHTML = \"2025-10-01 09:24:16,363 INFO \taccuracy: 0.28\";\n",
       "            </script>\n",
       "        "
      ],
      "text/plain": [
       "<IPython.core.display.HTML object>"
      ]
     },
     "metadata": {},
     "output_type": "display_data"
    },
    {
     "data": {
      "text/html": [
       "\n",
       "            <script>\n",
       "                document.getElementById(\"biotrainer_status\").innerHTML = \"2025-10-01 09:24:16,363 INFO \tmacro-precision: 0.18\";\n",
       "            </script>\n",
       "        "
      ],
      "text/plain": [
       "<IPython.core.display.HTML object>"
      ]
     },
     "metadata": {},
     "output_type": "display_data"
    },
    {
     "data": {
      "text/html": [
       "\n",
       "            <script>\n",
       "                document.getElementById(\"biotrainer_status\").innerHTML = \"2025-10-01 09:24:16,364 INFO \tmicro-precision: 0.28\";\n",
       "            </script>\n",
       "        "
      ],
      "text/plain": [
       "<IPython.core.display.HTML object>"
      ]
     },
     "metadata": {},
     "output_type": "display_data"
    },
    {
     "data": {
      "text/html": [
       "\n",
       "            <script>\n",
       "                document.getElementById(\"biotrainer_status\").innerHTML = \"2025-10-01 09:24:16,364 INFO \t- precision class 0: 0.19\";\n",
       "            </script>\n",
       "        "
      ],
      "text/plain": [
       "<IPython.core.display.HTML object>"
      ]
     },
     "metadata": {},
     "output_type": "display_data"
    },
    {
     "data": {
      "text/html": [
       "\n",
       "            <script>\n",
       "                document.getElementById(\"biotrainer_status\").innerHTML = \"2025-10-01 09:24:16,364 INFO \t- precision class 1: 0.26\";\n",
       "            </script>\n",
       "        "
      ],
      "text/plain": [
       "<IPython.core.display.HTML object>"
      ]
     },
     "metadata": {},
     "output_type": "display_data"
    },
    {
     "data": {
      "text/html": [
       "\n",
       "            <script>\n",
       "                document.getElementById(\"biotrainer_status\").innerHTML = \"2025-10-01 09:24:16,365 INFO \t- precision class 2: 0.11\";\n",
       "            </script>\n",
       "        "
      ],
      "text/plain": [
       "<IPython.core.display.HTML object>"
      ]
     },
     "metadata": {},
     "output_type": "display_data"
    },
    {
     "data": {
      "text/html": [
       "\n",
       "            <script>\n",
       "                document.getElementById(\"biotrainer_status\").innerHTML = \"2025-10-01 09:24:16,365 INFO \t- precision class 3: 0.36\";\n",
       "            </script>\n",
       "        "
      ],
      "text/plain": [
       "<IPython.core.display.HTML object>"
      ]
     },
     "metadata": {},
     "output_type": "display_data"
    },
    {
     "data": {
      "text/html": [
       "\n",
       "            <script>\n",
       "                document.getElementById(\"biotrainer_status\").innerHTML = \"2025-10-01 09:24:16,366 INFO \t- precision class 4: 0.08\";\n",
       "            </script>\n",
       "        "
      ],
      "text/plain": [
       "<IPython.core.display.HTML object>"
      ]
     },
     "metadata": {},
     "output_type": "display_data"
    },
    {
     "data": {
      "text/html": [
       "\n",
       "            <script>\n",
       "                document.getElementById(\"biotrainer_status\").innerHTML = \"2025-10-01 09:24:16,366 INFO \t- precision class 5: 0.05\";\n",
       "            </script>\n",
       "        "
      ],
      "text/plain": [
       "<IPython.core.display.HTML object>"
      ]
     },
     "metadata": {},
     "output_type": "display_data"
    },
    {
     "data": {
      "text/html": [
       "\n",
       "            <script>\n",
       "                document.getElementById(\"biotrainer_status\").innerHTML = \"2025-10-01 09:24:16,367 INFO \t- precision class 6: 0.17\";\n",
       "            </script>\n",
       "        "
      ],
      "text/plain": [
       "<IPython.core.display.HTML object>"
      ]
     },
     "metadata": {},
     "output_type": "display_data"
    },
    {
     "data": {
      "text/html": [
       "\n",
       "            <script>\n",
       "                document.getElementById(\"biotrainer_status\").innerHTML = \"2025-10-01 09:24:16,367 INFO \t- precision class 7: 0.46\";\n",
       "            </script>\n",
       "        "
      ],
      "text/plain": [
       "<IPython.core.display.HTML object>"
      ]
     },
     "metadata": {},
     "output_type": "display_data"
    },
    {
     "data": {
      "text/html": [
       "\n",
       "            <script>\n",
       "                document.getElementById(\"biotrainer_status\").innerHTML = \"2025-10-01 09:24:16,367 INFO \t- precision class 8: 0.00\";\n",
       "            </script>\n",
       "        "
      ],
      "text/plain": [
       "<IPython.core.display.HTML object>"
      ]
     },
     "metadata": {},
     "output_type": "display_data"
    },
    {
     "data": {
      "text/html": [
       "\n",
       "            <script>\n",
       "                document.getElementById(\"biotrainer_status\").innerHTML = \"2025-10-01 09:24:16,368 INFO \t- precision class 9: 0.10\";\n",
       "            </script>\n",
       "        "
      ],
      "text/plain": [
       "<IPython.core.display.HTML object>"
      ]
     },
     "metadata": {},
     "output_type": "display_data"
    },
    {
     "data": {
      "text/html": [
       "\n",
       "            <script>\n",
       "                document.getElementById(\"biotrainer_status\").innerHTML = \"2025-10-01 09:24:16,368 INFO \tmacro-recall: 0.19\";\n",
       "            </script>\n",
       "        "
      ],
      "text/plain": [
       "<IPython.core.display.HTML object>"
      ]
     },
     "metadata": {},
     "output_type": "display_data"
    },
    {
     "data": {
      "text/html": [
       "\n",
       "            <script>\n",
       "                document.getElementById(\"biotrainer_status\").innerHTML = \"2025-10-01 09:24:16,369 INFO \tmicro-recall: 0.28\";\n",
       "            </script>\n",
       "        "
      ],
      "text/plain": [
       "<IPython.core.display.HTML object>"
      ]
     },
     "metadata": {},
     "output_type": "display_data"
    },
    {
     "data": {
      "text/html": [
       "\n",
       "            <script>\n",
       "                document.getElementById(\"biotrainer_status\").innerHTML = \"2025-10-01 09:24:16,369 INFO \t- recall class 0: 0.37\";\n",
       "            </script>\n",
       "        "
      ],
      "text/plain": [
       "<IPython.core.display.HTML object>"
      ]
     },
     "metadata": {},
     "output_type": "display_data"
    },
    {
     "data": {
      "text/html": [
       "\n",
       "            <script>\n",
       "                document.getElementById(\"biotrainer_status\").innerHTML = \"2025-10-01 09:24:16,369 INFO \t- recall class 1: 0.07\";\n",
       "            </script>\n",
       "        "
      ],
      "text/plain": [
       "<IPython.core.display.HTML object>"
      ]
     },
     "metadata": {},
     "output_type": "display_data"
    },
    {
     "data": {
      "text/html": [
       "\n",
       "            <script>\n",
       "                document.getElementById(\"biotrainer_status\").innerHTML = \"2025-10-01 09:24:16,370 INFO \t- recall class 2: 0.15\";\n",
       "            </script>\n",
       "        "
      ],
      "text/plain": [
       "<IPython.core.display.HTML object>"
      ]
     },
     "metadata": {},
     "output_type": "display_data"
    },
    {
     "data": {
      "text/html": [
       "\n",
       "            <script>\n",
       "                document.getElementById(\"biotrainer_status\").innerHTML = \"2025-10-01 09:24:16,370 INFO \t- recall class 3: 0.55\";\n",
       "            </script>\n",
       "        "
      ],
      "text/plain": [
       "<IPython.core.display.HTML object>"
      ]
     },
     "metadata": {},
     "output_type": "display_data"
    },
    {
     "data": {
      "text/html": [
       "\n",
       "            <script>\n",
       "                document.getElementById(\"biotrainer_status\").innerHTML = \"2025-10-01 09:24:16,371 INFO \t- recall class 4: 0.06\";\n",
       "            </script>\n",
       "        "
      ],
      "text/plain": [
       "<IPython.core.display.HTML object>"
      ]
     },
     "metadata": {},
     "output_type": "display_data"
    },
    {
     "data": {
      "text/html": [
       "\n",
       "            <script>\n",
       "                document.getElementById(\"biotrainer_status\").innerHTML = \"2025-10-01 09:24:16,371 INFO \t- recall class 5: 0.05\";\n",
       "            </script>\n",
       "        "
      ],
      "text/plain": [
       "<IPython.core.display.HTML object>"
      ]
     },
     "metadata": {},
     "output_type": "display_data"
    },
    {
     "data": {
      "text/html": [
       "\n",
       "            <script>\n",
       "                document.getElementById(\"biotrainer_status\").innerHTML = \"2025-10-01 09:24:16,372 INFO \t- recall class 6: 0.17\";\n",
       "            </script>\n",
       "        "
      ],
      "text/plain": [
       "<IPython.core.display.HTML object>"
      ]
     },
     "metadata": {},
     "output_type": "display_data"
    },
    {
     "data": {
      "text/html": [
       "\n",
       "            <script>\n",
       "                document.getElementById(\"biotrainer_status\").innerHTML = \"2025-10-01 09:24:16,372 INFO \t- recall class 7: 0.41\";\n",
       "            </script>\n",
       "        "
      ],
      "text/plain": [
       "<IPython.core.display.HTML object>"
      ]
     },
     "metadata": {},
     "output_type": "display_data"
    },
    {
     "data": {
      "text/html": [
       "\n",
       "            <script>\n",
       "                document.getElementById(\"biotrainer_status\").innerHTML = \"2025-10-01 09:24:16,372 INFO \t- recall class 8: 0.00\";\n",
       "            </script>\n",
       "        "
      ],
      "text/plain": [
       "<IPython.core.display.HTML object>"
      ]
     },
     "metadata": {},
     "output_type": "display_data"
    },
    {
     "data": {
      "text/html": [
       "\n",
       "            <script>\n",
       "                document.getElementById(\"biotrainer_status\").innerHTML = \"2025-10-01 09:24:16,373 INFO \t- recall class 9: 0.08\";\n",
       "            </script>\n",
       "        "
      ],
      "text/plain": [
       "<IPython.core.display.HTML object>"
      ]
     },
     "metadata": {},
     "output_type": "display_data"
    },
    {
     "data": {
      "text/html": [
       "\n",
       "            <script>\n",
       "                document.getElementById(\"biotrainer_status\").innerHTML = \"2025-10-01 09:24:16,373 INFO \tmacro-f1_score: 0.17\";\n",
       "            </script>\n",
       "        "
      ],
      "text/plain": [
       "<IPython.core.display.HTML object>"
      ]
     },
     "metadata": {},
     "output_type": "display_data"
    },
    {
     "data": {
      "text/html": [
       "\n",
       "            <script>\n",
       "                document.getElementById(\"biotrainer_status\").innerHTML = \"2025-10-01 09:24:16,374 INFO \tmicro-f1_score: 0.28\";\n",
       "            </script>\n",
       "        "
      ],
      "text/plain": [
       "<IPython.core.display.HTML object>"
      ]
     },
     "metadata": {},
     "output_type": "display_data"
    },
    {
     "data": {
      "text/html": [
       "\n",
       "            <script>\n",
       "                document.getElementById(\"biotrainer_status\").innerHTML = \"2025-10-01 09:24:16,374 INFO \t- f1_score class 0: 0.25\";\n",
       "            </script>\n",
       "        "
      ],
      "text/plain": [
       "<IPython.core.display.HTML object>"
      ]
     },
     "metadata": {},
     "output_type": "display_data"
    },
    {
     "data": {
      "text/html": [
       "\n",
       "            <script>\n",
       "                document.getElementById(\"biotrainer_status\").innerHTML = \"2025-10-01 09:24:16,374 INFO \t- f1_score class 1: 0.11\";\n",
       "            </script>\n",
       "        "
      ],
      "text/plain": [
       "<IPython.core.display.HTML object>"
      ]
     },
     "metadata": {},
     "output_type": "display_data"
    },
    {
     "data": {
      "text/html": [
       "\n",
       "            <script>\n",
       "                document.getElementById(\"biotrainer_status\").innerHTML = \"2025-10-01 09:24:16,375 INFO \t- f1_score class 2: 0.13\";\n",
       "            </script>\n",
       "        "
      ],
      "text/plain": [
       "<IPython.core.display.HTML object>"
      ]
     },
     "metadata": {},
     "output_type": "display_data"
    },
    {
     "data": {
      "text/html": [
       "\n",
       "            <script>\n",
       "                document.getElementById(\"biotrainer_status\").innerHTML = \"2025-10-01 09:24:16,375 INFO \t- f1_score class 3: 0.44\";\n",
       "            </script>\n",
       "        "
      ],
      "text/plain": [
       "<IPython.core.display.HTML object>"
      ]
     },
     "metadata": {},
     "output_type": "display_data"
    },
    {
     "data": {
      "text/html": [
       "\n",
       "            <script>\n",
       "                document.getElementById(\"biotrainer_status\").innerHTML = \"2025-10-01 09:24:16,376 INFO \t- f1_score class 4: 0.07\";\n",
       "            </script>\n",
       "        "
      ],
      "text/plain": [
       "<IPython.core.display.HTML object>"
      ]
     },
     "metadata": {},
     "output_type": "display_data"
    },
    {
     "data": {
      "text/html": [
       "\n",
       "            <script>\n",
       "                document.getElementById(\"biotrainer_status\").innerHTML = \"2025-10-01 09:24:16,376 INFO \t- f1_score class 5: 0.05\";\n",
       "            </script>\n",
       "        "
      ],
      "text/plain": [
       "<IPython.core.display.HTML object>"
      ]
     },
     "metadata": {},
     "output_type": "display_data"
    },
    {
     "data": {
      "text/html": [
       "\n",
       "            <script>\n",
       "                document.getElementById(\"biotrainer_status\").innerHTML = \"2025-10-01 09:24:16,376 INFO \t- f1_score class 6: 0.17\";\n",
       "            </script>\n",
       "        "
      ],
      "text/plain": [
       "<IPython.core.display.HTML object>"
      ]
     },
     "metadata": {},
     "output_type": "display_data"
    },
    {
     "data": {
      "text/html": [
       "\n",
       "            <script>\n",
       "                document.getElementById(\"biotrainer_status\").innerHTML = \"2025-10-01 09:24:16,377 INFO \t- f1_score class 7: 0.44\";\n",
       "            </script>\n",
       "        "
      ],
      "text/plain": [
       "<IPython.core.display.HTML object>"
      ]
     },
     "metadata": {},
     "output_type": "display_data"
    },
    {
     "data": {
      "text/html": [
       "\n",
       "            <script>\n",
       "                document.getElementById(\"biotrainer_status\").innerHTML = \"2025-10-01 09:24:16,377 INFO \t- f1_score class 8: 0.00\";\n",
       "            </script>\n",
       "        "
      ],
      "text/plain": [
       "<IPython.core.display.HTML object>"
      ]
     },
     "metadata": {},
     "output_type": "display_data"
    },
    {
     "data": {
      "text/html": [
       "\n",
       "            <script>\n",
       "                document.getElementById(\"biotrainer_status\").innerHTML = \"2025-10-01 09:24:16,377 INFO \t- f1_score class 9: 0.09\";\n",
       "            </script>\n",
       "        "
      ],
      "text/plain": [
       "<IPython.core.display.HTML object>"
      ]
     },
     "metadata": {},
     "output_type": "display_data"
    },
    {
     "data": {
      "text/html": [
       "\n",
       "            <script>\n",
       "                document.getElementById(\"biotrainer_status\").innerHTML = \"2025-10-01 09:24:16,378 INFO \tspearmans-corr-coeff: 0.09\";\n",
       "            </script>\n",
       "        "
      ],
      "text/plain": [
       "<IPython.core.display.HTML object>"
      ]
     },
     "metadata": {},
     "output_type": "display_data"
    },
    {
     "data": {
      "text/html": [
       "\n",
       "            <script>\n",
       "                document.getElementById(\"biotrainer_status\").innerHTML = \"2025-10-01 09:24:16,378 INFO \tmatthews-corr-coeff: 0.15\";\n",
       "            </script>\n",
       "        "
      ],
      "text/plain": [
       "<IPython.core.display.HTML object>"
      ]
     },
     "metadata": {},
     "output_type": "display_data"
    },
    {
     "data": {
      "text/html": [
       "\n",
       "            <script>\n",
       "                document.getElementById(\"biotrainer_status\").innerHTML = \"2025-10-01 09:24:16,978 INFO Epoch 7\";\n",
       "            </script>\n",
       "        "
      ],
      "text/plain": [
       "<IPython.core.display.HTML object>"
      ]
     },
     "metadata": {},
     "output_type": "display_data"
    },
    {
     "data": {
      "text/html": [
       "\n",
       "            <script>\n",
       "                document.getElementById(\"biotrainer_status\").innerHTML = \"2025-10-01 09:24:16,978 INFO Training results\";\n",
       "            </script>\n",
       "        "
      ],
      "text/plain": [
       "<IPython.core.display.HTML object>"
      ]
     },
     "metadata": {},
     "output_type": "display_data"
    },
    {
     "data": {
      "text/html": [
       "\n",
       "            <script>\n",
       "                document.getElementById(\"biotrainer_status\").innerHTML = \"2025-10-01 09:24:16,979 INFO \tloss: 2.25\";\n",
       "            </script>\n",
       "        "
      ],
      "text/plain": [
       "<IPython.core.display.HTML object>"
      ]
     },
     "metadata": {},
     "output_type": "display_data"
    },
    {
     "data": {
      "text/html": [
       "\n",
       "            <script>\n",
       "                document.getElementById(\"biotrainer_status\").innerHTML = \"2025-10-01 09:24:16,979 INFO \taccuracy: 0.33\";\n",
       "            </script>\n",
       "        "
      ],
      "text/plain": [
       "<IPython.core.display.HTML object>"
      ]
     },
     "metadata": {},
     "output_type": "display_data"
    },
    {
     "data": {
      "text/html": [
       "\n",
       "            <script>\n",
       "                document.getElementById(\"biotrainer_status\").innerHTML = \"2025-10-01 09:24:16,980 INFO \tmacro-precision: 0.18\";\n",
       "            </script>\n",
       "        "
      ],
      "text/plain": [
       "<IPython.core.display.HTML object>"
      ]
     },
     "metadata": {},
     "output_type": "display_data"
    },
    {
     "data": {
      "text/html": [
       "\n",
       "            <script>\n",
       "                document.getElementById(\"biotrainer_status\").innerHTML = \"2025-10-01 09:24:16,980 INFO \tmicro-precision: 0.33\";\n",
       "            </script>\n",
       "        "
      ],
      "text/plain": [
       "<IPython.core.display.HTML object>"
      ]
     },
     "metadata": {},
     "output_type": "display_data"
    },
    {
     "data": {
      "text/html": [
       "\n",
       "            <script>\n",
       "                document.getElementById(\"biotrainer_status\").innerHTML = \"2025-10-01 09:24:16,981 INFO \t- precision class 0: 0.23\";\n",
       "            </script>\n",
       "        "
      ],
      "text/plain": [
       "<IPython.core.display.HTML object>"
      ]
     },
     "metadata": {},
     "output_type": "display_data"
    },
    {
     "data": {
      "text/html": [
       "\n",
       "            <script>\n",
       "                document.getElementById(\"biotrainer_status\").innerHTML = \"2025-10-01 09:24:16,981 INFO \t- precision class 1: 0.26\";\n",
       "            </script>\n",
       "        "
      ],
      "text/plain": [
       "<IPython.core.display.HTML object>"
      ]
     },
     "metadata": {},
     "output_type": "display_data"
    },
    {
     "data": {
      "text/html": [
       "\n",
       "            <script>\n",
       "                document.getElementById(\"biotrainer_status\").innerHTML = \"2025-10-01 09:24:16,982 INFO \t- precision class 2: 0.12\";\n",
       "            </script>\n",
       "        "
      ],
      "text/plain": [
       "<IPython.core.display.HTML object>"
      ]
     },
     "metadata": {},
     "output_type": "display_data"
    },
    {
     "data": {
      "text/html": [
       "\n",
       "            <script>\n",
       "                document.getElementById(\"biotrainer_status\").innerHTML = \"2025-10-01 09:24:16,982 INFO \t- precision class 3: 0.35\";\n",
       "            </script>\n",
       "        "
      ],
      "text/plain": [
       "<IPython.core.display.HTML object>"
      ]
     },
     "metadata": {},
     "output_type": "display_data"
    },
    {
     "data": {
      "text/html": [
       "\n",
       "            <script>\n",
       "                document.getElementById(\"biotrainer_status\").innerHTML = \"2025-10-01 09:24:16,983 INFO \t- precision class 4: 0.04\";\n",
       "            </script>\n",
       "        "
      ],
      "text/plain": [
       "<IPython.core.display.HTML object>"
      ]
     },
     "metadata": {},
     "output_type": "display_data"
    },
    {
     "data": {
      "text/html": [
       "\n",
       "            <script>\n",
       "                document.getElementById(\"biotrainer_status\").innerHTML = \"2025-10-01 09:24:16,983 INFO \t- precision class 5: 0.06\";\n",
       "            </script>\n",
       "        "
      ],
      "text/plain": [
       "<IPython.core.display.HTML object>"
      ]
     },
     "metadata": {},
     "output_type": "display_data"
    },
    {
     "data": {
      "text/html": [
       "\n",
       "            <script>\n",
       "                document.getElementById(\"biotrainer_status\").innerHTML = \"2025-10-01 09:24:16,984 INFO \t- precision class 6: 0.17\";\n",
       "            </script>\n",
       "        "
      ],
      "text/plain": [
       "<IPython.core.display.HTML object>"
      ]
     },
     "metadata": {},
     "output_type": "display_data"
    },
    {
     "data": {
      "text/html": [
       "\n",
       "            <script>\n",
       "                document.getElementById(\"biotrainer_status\").innerHTML = \"2025-10-01 09:24:16,984 INFO \t- precision class 7: 0.48\";\n",
       "            </script>\n",
       "        "
      ],
      "text/plain": [
       "<IPython.core.display.HTML object>"
      ]
     },
     "metadata": {},
     "output_type": "display_data"
    },
    {
     "data": {
      "text/html": [
       "\n",
       "            <script>\n",
       "                document.getElementById(\"biotrainer_status\").innerHTML = \"2025-10-01 09:24:16,985 INFO \t- precision class 8: 0.00\";\n",
       "            </script>\n",
       "        "
      ],
      "text/plain": [
       "<IPython.core.display.HTML object>"
      ]
     },
     "metadata": {},
     "output_type": "display_data"
    },
    {
     "data": {
      "text/html": [
       "\n",
       "            <script>\n",
       "                document.getElementById(\"biotrainer_status\").innerHTML = \"2025-10-01 09:24:16,985 INFO \t- precision class 9: 0.11\";\n",
       "            </script>\n",
       "        "
      ],
      "text/plain": [
       "<IPython.core.display.HTML object>"
      ]
     },
     "metadata": {},
     "output_type": "display_data"
    },
    {
     "data": {
      "text/html": [
       "\n",
       "            <script>\n",
       "                document.getElementById(\"biotrainer_status\").innerHTML = \"2025-10-01 09:24:16,985 INFO \tmacro-recall: 0.20\";\n",
       "            </script>\n",
       "        "
      ],
      "text/plain": [
       "<IPython.core.display.HTML object>"
      ]
     },
     "metadata": {},
     "output_type": "display_data"
    },
    {
     "data": {
      "text/html": [
       "\n",
       "            <script>\n",
       "                document.getElementById(\"biotrainer_status\").innerHTML = \"2025-10-01 09:24:16,986 INFO \tmicro-recall: 0.33\";\n",
       "            </script>\n",
       "        "
      ],
      "text/plain": [
       "<IPython.core.display.HTML object>"
      ]
     },
     "metadata": {},
     "output_type": "display_data"
    },
    {
     "data": {
      "text/html": [
       "\n",
       "            <script>\n",
       "                document.getElementById(\"biotrainer_status\").innerHTML = \"2025-10-01 09:24:16,986 INFO \t- recall class 0: 0.27\";\n",
       "            </script>\n",
       "        "
      ],
      "text/plain": [
       "<IPython.core.display.HTML object>"
      ]
     },
     "metadata": {},
     "output_type": "display_data"
    },
    {
     "data": {
      "text/html": [
       "\n",
       "            <script>\n",
       "                document.getElementById(\"biotrainer_status\").innerHTML = \"2025-10-01 09:24:16,987 INFO \t- recall class 1: 0.06\";\n",
       "            </script>\n",
       "        "
      ],
      "text/plain": [
       "<IPython.core.display.HTML object>"
      ]
     },
     "metadata": {},
     "output_type": "display_data"
    },
    {
     "data": {
      "text/html": [
       "\n",
       "            <script>\n",
       "                document.getElementById(\"biotrainer_status\").innerHTML = \"2025-10-01 09:24:16,987 INFO \t- recall class 2: 0.09\";\n",
       "            </script>\n",
       "        "
      ],
      "text/plain": [
       "<IPython.core.display.HTML object>"
      ]
     },
     "metadata": {},
     "output_type": "display_data"
    },
    {
     "data": {
      "text/html": [
       "\n",
       "            <script>\n",
       "                document.getElementById(\"biotrainer_status\").innerHTML = \"2025-10-01 09:24:16,988 INFO \t- recall class 3: 0.60\";\n",
       "            </script>\n",
       "        "
      ],
      "text/plain": [
       "<IPython.core.display.HTML object>"
      ]
     },
     "metadata": {},
     "output_type": "display_data"
    },
    {
     "data": {
      "text/html": [
       "\n",
       "            <script>\n",
       "                document.getElementById(\"biotrainer_status\").innerHTML = \"2025-10-01 09:24:16,988 INFO \t- recall class 4: 0.02\";\n",
       "            </script>\n",
       "        "
      ],
      "text/plain": [
       "<IPython.core.display.HTML object>"
      ]
     },
     "metadata": {},
     "output_type": "display_data"
    },
    {
     "data": {
      "text/html": [
       "\n",
       "            <script>\n",
       "                document.getElementById(\"biotrainer_status\").innerHTML = \"2025-10-01 09:24:16,989 INFO \t- recall class 5: 0.25\";\n",
       "            </script>\n",
       "        "
      ],
      "text/plain": [
       "<IPython.core.display.HTML object>"
      ]
     },
     "metadata": {},
     "output_type": "display_data"
    },
    {
     "data": {
      "text/html": [
       "\n",
       "            <script>\n",
       "                document.getElementById(\"biotrainer_status\").innerHTML = \"2025-10-01 09:24:16,989 INFO \t- recall class 6: 0.08\";\n",
       "            </script>\n",
       "        "
      ],
      "text/plain": [
       "<IPython.core.display.HTML object>"
      ]
     },
     "metadata": {},
     "output_type": "display_data"
    },
    {
     "data": {
      "text/html": [
       "\n",
       "            <script>\n",
       "                document.getElementById(\"biotrainer_status\").innerHTML = \"2025-10-01 09:24:16,989 INFO \t- recall class 7: 0.63\";\n",
       "            </script>\n",
       "        "
      ],
      "text/plain": [
       "<IPython.core.display.HTML object>"
      ]
     },
     "metadata": {},
     "output_type": "display_data"
    },
    {
     "data": {
      "text/html": [
       "\n",
       "            <script>\n",
       "                document.getElementById(\"biotrainer_status\").innerHTML = \"2025-10-01 09:24:16,990 INFO \t- recall class 8: 0.00\";\n",
       "            </script>\n",
       "        "
      ],
      "text/plain": [
       "<IPython.core.display.HTML object>"
      ]
     },
     "metadata": {},
     "output_type": "display_data"
    },
    {
     "data": {
      "text/html": [
       "\n",
       "            <script>\n",
       "                document.getElementById(\"biotrainer_status\").innerHTML = \"2025-10-01 09:24:16,990 INFO \t- recall class 9: 0.05\";\n",
       "            </script>\n",
       "        "
      ],
      "text/plain": [
       "<IPython.core.display.HTML object>"
      ]
     },
     "metadata": {},
     "output_type": "display_data"
    },
    {
     "data": {
      "text/html": [
       "\n",
       "            <script>\n",
       "                document.getElementById(\"biotrainer_status\").innerHTML = \"2025-10-01 09:24:16,991 INFO \tmacro-f1_score: 0.17\";\n",
       "            </script>\n",
       "        "
      ],
      "text/plain": [
       "<IPython.core.display.HTML object>"
      ]
     },
     "metadata": {},
     "output_type": "display_data"
    },
    {
     "data": {
      "text/html": [
       "\n",
       "            <script>\n",
       "                document.getElementById(\"biotrainer_status\").innerHTML = \"2025-10-01 09:24:16,991 INFO \tmicro-f1_score: 0.33\";\n",
       "            </script>\n",
       "        "
      ],
      "text/plain": [
       "<IPython.core.display.HTML object>"
      ]
     },
     "metadata": {},
     "output_type": "display_data"
    },
    {
     "data": {
      "text/html": [
       "\n",
       "            <script>\n",
       "                document.getElementById(\"biotrainer_status\").innerHTML = \"2025-10-01 09:24:16,991 INFO \t- f1_score class 0: 0.25\";\n",
       "            </script>\n",
       "        "
      ],
      "text/plain": [
       "<IPython.core.display.HTML object>"
      ]
     },
     "metadata": {},
     "output_type": "display_data"
    },
    {
     "data": {
      "text/html": [
       "\n",
       "            <script>\n",
       "                document.getElementById(\"biotrainer_status\").innerHTML = \"2025-10-01 09:24:16,992 INFO \t- f1_score class 1: 0.10\";\n",
       "            </script>\n",
       "        "
      ],
      "text/plain": [
       "<IPython.core.display.HTML object>"
      ]
     },
     "metadata": {},
     "output_type": "display_data"
    },
    {
     "data": {
      "text/html": [
       "\n",
       "            <script>\n",
       "                document.getElementById(\"biotrainer_status\").innerHTML = \"2025-10-01 09:24:16,992 INFO \t- f1_score class 2: 0.10\";\n",
       "            </script>\n",
       "        "
      ],
      "text/plain": [
       "<IPython.core.display.HTML object>"
      ]
     },
     "metadata": {},
     "output_type": "display_data"
    },
    {
     "data": {
      "text/html": [
       "\n",
       "            <script>\n",
       "                document.getElementById(\"biotrainer_status\").innerHTML = \"2025-10-01 09:24:16,992 INFO \t- f1_score class 3: 0.44\";\n",
       "            </script>\n",
       "        "
      ],
      "text/plain": [
       "<IPython.core.display.HTML object>"
      ]
     },
     "metadata": {},
     "output_type": "display_data"
    },
    {
     "data": {
      "text/html": [
       "\n",
       "            <script>\n",
       "                document.getElementById(\"biotrainer_status\").innerHTML = \"2025-10-01 09:24:16,993 INFO \t- f1_score class 4: 0.03\";\n",
       "            </script>\n",
       "        "
      ],
      "text/plain": [
       "<IPython.core.display.HTML object>"
      ]
     },
     "metadata": {},
     "output_type": "display_data"
    },
    {
     "data": {
      "text/html": [
       "\n",
       "            <script>\n",
       "                document.getElementById(\"biotrainer_status\").innerHTML = \"2025-10-01 09:24:16,993 INFO \t- f1_score class 5: 0.09\";\n",
       "            </script>\n",
       "        "
      ],
      "text/plain": [
       "<IPython.core.display.HTML object>"
      ]
     },
     "metadata": {},
     "output_type": "display_data"
    },
    {
     "data": {
      "text/html": [
       "\n",
       "            <script>\n",
       "                document.getElementById(\"biotrainer_status\").innerHTML = \"2025-10-01 09:24:16,994 INFO \t- f1_score class 6: 0.11\";\n",
       "            </script>\n",
       "        "
      ],
      "text/plain": [
       "<IPython.core.display.HTML object>"
      ]
     },
     "metadata": {},
     "output_type": "display_data"
    },
    {
     "data": {
      "text/html": [
       "\n",
       "            <script>\n",
       "                document.getElementById(\"biotrainer_status\").innerHTML = \"2025-10-01 09:24:16,994 INFO \t- f1_score class 7: 0.55\";\n",
       "            </script>\n",
       "        "
      ],
      "text/plain": [
       "<IPython.core.display.HTML object>"
      ]
     },
     "metadata": {},
     "output_type": "display_data"
    },
    {
     "data": {
      "text/html": [
       "\n",
       "            <script>\n",
       "                document.getElementById(\"biotrainer_status\").innerHTML = \"2025-10-01 09:24:16,994 INFO \t- f1_score class 8: 0.00\";\n",
       "            </script>\n",
       "        "
      ],
      "text/plain": [
       "<IPython.core.display.HTML object>"
      ]
     },
     "metadata": {},
     "output_type": "display_data"
    },
    {
     "data": {
      "text/html": [
       "\n",
       "            <script>\n",
       "                document.getElementById(\"biotrainer_status\").innerHTML = \"2025-10-01 09:24:16,995 INFO \t- f1_score class 9: 0.07\";\n",
       "            </script>\n",
       "        "
      ],
      "text/plain": [
       "<IPython.core.display.HTML object>"
      ]
     },
     "metadata": {},
     "output_type": "display_data"
    },
    {
     "data": {
      "text/html": [
       "\n",
       "            <script>\n",
       "                document.getElementById(\"biotrainer_status\").innerHTML = \"2025-10-01 09:24:16,995 INFO \tspearmans-corr-coeff: 0.17\";\n",
       "            </script>\n",
       "        "
      ],
      "text/plain": [
       "<IPython.core.display.HTML object>"
      ]
     },
     "metadata": {},
     "output_type": "display_data"
    },
    {
     "data": {
      "text/html": [
       "\n",
       "            <script>\n",
       "                document.getElementById(\"biotrainer_status\").innerHTML = \"2025-10-01 09:24:16,996 INFO \tmatthews-corr-coeff: 0.19\";\n",
       "            </script>\n",
       "        "
      ],
      "text/plain": [
       "<IPython.core.display.HTML object>"
      ]
     },
     "metadata": {},
     "output_type": "display_data"
    },
    {
     "data": {
      "text/html": [
       "\n",
       "            <script>\n",
       "                document.getElementById(\"biotrainer_status\").innerHTML = \"2025-10-01 09:24:16,997 INFO Validation results\";\n",
       "            </script>\n",
       "        "
      ],
      "text/plain": [
       "<IPython.core.display.HTML object>"
      ]
     },
     "metadata": {},
     "output_type": "display_data"
    },
    {
     "data": {
      "text/html": [
       "\n",
       "            <script>\n",
       "                document.getElementById(\"biotrainer_status\").innerHTML = \"2025-10-01 09:24:16,998 INFO \tloss: 2.26\";\n",
       "            </script>\n",
       "        "
      ],
      "text/plain": [
       "<IPython.core.display.HTML object>"
      ]
     },
     "metadata": {},
     "output_type": "display_data"
    },
    {
     "data": {
      "text/html": [
       "\n",
       "            <script>\n",
       "                document.getElementById(\"biotrainer_status\").innerHTML = \"2025-10-01 09:24:16,998 INFO \taccuracy: 0.34\";\n",
       "            </script>\n",
       "        "
      ],
      "text/plain": [
       "<IPython.core.display.HTML object>"
      ]
     },
     "metadata": {},
     "output_type": "display_data"
    },
    {
     "data": {
      "text/html": [
       "\n",
       "            <script>\n",
       "                document.getElementById(\"biotrainer_status\").innerHTML = \"2025-10-01 09:24:16,999 INFO \tmacro-precision: 0.18\";\n",
       "            </script>\n",
       "        "
      ],
      "text/plain": [
       "<IPython.core.display.HTML object>"
      ]
     },
     "metadata": {},
     "output_type": "display_data"
    },
    {
     "data": {
      "text/html": [
       "\n",
       "            <script>\n",
       "                document.getElementById(\"biotrainer_status\").innerHTML = \"2025-10-01 09:24:16,999 INFO \tmicro-precision: 0.34\";\n",
       "            </script>\n",
       "        "
      ],
      "text/plain": [
       "<IPython.core.display.HTML object>"
      ]
     },
     "metadata": {},
     "output_type": "display_data"
    },
    {
     "data": {
      "text/html": [
       "\n",
       "            <script>\n",
       "                document.getElementById(\"biotrainer_status\").innerHTML = \"2025-10-01 09:24:16,999 INFO \t- precision class 0: 0.23\";\n",
       "            </script>\n",
       "        "
      ],
      "text/plain": [
       "<IPython.core.display.HTML object>"
      ]
     },
     "metadata": {},
     "output_type": "display_data"
    },
    {
     "data": {
      "text/html": [
       "\n",
       "            <script>\n",
       "                document.getElementById(\"biotrainer_status\").innerHTML = \"2025-10-01 09:24:17,000 INFO \t- precision class 1: 0.26\";\n",
       "            </script>\n",
       "        "
      ],
      "text/plain": [
       "<IPython.core.display.HTML object>"
      ]
     },
     "metadata": {},
     "output_type": "display_data"
    },
    {
     "data": {
      "text/html": [
       "\n",
       "            <script>\n",
       "                document.getElementById(\"biotrainer_status\").innerHTML = \"2025-10-01 09:24:17,000 INFO \t- precision class 2: 0.11\";\n",
       "            </script>\n",
       "        "
      ],
      "text/plain": [
       "<IPython.core.display.HTML object>"
      ]
     },
     "metadata": {},
     "output_type": "display_data"
    },
    {
     "data": {
      "text/html": [
       "\n",
       "            <script>\n",
       "                document.getElementById(\"biotrainer_status\").innerHTML = \"2025-10-01 09:24:17,001 INFO \t- precision class 3: 0.39\";\n",
       "            </script>\n",
       "        "
      ],
      "text/plain": [
       "<IPython.core.display.HTML object>"
      ]
     },
     "metadata": {},
     "output_type": "display_data"
    },
    {
     "data": {
      "text/html": [
       "\n",
       "            <script>\n",
       "                document.getElementById(\"biotrainer_status\").innerHTML = \"2025-10-01 09:24:17,001 INFO \t- precision class 4: 0.00\";\n",
       "            </script>\n",
       "        "
      ],
      "text/plain": [
       "<IPython.core.display.HTML object>"
      ]
     },
     "metadata": {},
     "output_type": "display_data"
    },
    {
     "data": {
      "text/html": [
       "\n",
       "            <script>\n",
       "                document.getElementById(\"biotrainer_status\").innerHTML = \"2025-10-01 09:24:17,002 INFO \t- precision class 5: 0.04\";\n",
       "            </script>\n",
       "        "
      ],
      "text/plain": [
       "<IPython.core.display.HTML object>"
      ]
     },
     "metadata": {},
     "output_type": "display_data"
    },
    {
     "data": {
      "text/html": [
       "\n",
       "            <script>\n",
       "                document.getElementById(\"biotrainer_status\").innerHTML = \"2025-10-01 09:24:17,002 INFO \t- precision class 6: 0.28\";\n",
       "            </script>\n",
       "        "
      ],
      "text/plain": [
       "<IPython.core.display.HTML object>"
      ]
     },
     "metadata": {},
     "output_type": "display_data"
    },
    {
     "data": {
      "text/html": [
       "\n",
       "            <script>\n",
       "                document.getElementById(\"biotrainer_status\").innerHTML = \"2025-10-01 09:24:17,003 INFO \t- precision class 7: 0.45\";\n",
       "            </script>\n",
       "        "
      ],
      "text/plain": [
       "<IPython.core.display.HTML object>"
      ]
     },
     "metadata": {},
     "output_type": "display_data"
    },
    {
     "data": {
      "text/html": [
       "\n",
       "            <script>\n",
       "                document.getElementById(\"biotrainer_status\").innerHTML = \"2025-10-01 09:24:17,004 INFO \t- precision class 8: 0.00\";\n",
       "            </script>\n",
       "        "
      ],
      "text/plain": [
       "<IPython.core.display.HTML object>"
      ]
     },
     "metadata": {},
     "output_type": "display_data"
    },
    {
     "data": {
      "text/html": [
       "\n",
       "            <script>\n",
       "                document.getElementById(\"biotrainer_status\").innerHTML = \"2025-10-01 09:24:17,005 INFO \t- precision class 9: 0.06\";\n",
       "            </script>\n",
       "        "
      ],
      "text/plain": [
       "<IPython.core.display.HTML object>"
      ]
     },
     "metadata": {},
     "output_type": "display_data"
    },
    {
     "data": {
      "text/html": [
       "\n",
       "            <script>\n",
       "                document.getElementById(\"biotrainer_status\").innerHTML = \"2025-10-01 09:24:17,006 INFO \tmacro-recall: 0.20\";\n",
       "            </script>\n",
       "        "
      ],
      "text/plain": [
       "<IPython.core.display.HTML object>"
      ]
     },
     "metadata": {},
     "output_type": "display_data"
    },
    {
     "data": {
      "text/html": [
       "\n",
       "            <script>\n",
       "                document.getElementById(\"biotrainer_status\").innerHTML = \"2025-10-01 09:24:17,006 INFO \tmicro-recall: 0.34\";\n",
       "            </script>\n",
       "        "
      ],
      "text/plain": [
       "<IPython.core.display.HTML object>"
      ]
     },
     "metadata": {},
     "output_type": "display_data"
    },
    {
     "data": {
      "text/html": [
       "\n",
       "            <script>\n",
       "                document.getElementById(\"biotrainer_status\").innerHTML = \"2025-10-01 09:24:17,006 INFO \t- recall class 0: 0.33\";\n",
       "            </script>\n",
       "        "
      ],
      "text/plain": [
       "<IPython.core.display.HTML object>"
      ]
     },
     "metadata": {},
     "output_type": "display_data"
    },
    {
     "data": {
      "text/html": [
       "\n",
       "            <script>\n",
       "                document.getElementById(\"biotrainer_status\").innerHTML = \"2025-10-01 09:24:17,008 INFO \t- recall class 1: 0.10\";\n",
       "            </script>\n",
       "        "
      ],
      "text/plain": [
       "<IPython.core.display.HTML object>"
      ]
     },
     "metadata": {},
     "output_type": "display_data"
    },
    {
     "data": {
      "text/html": [
       "\n",
       "            <script>\n",
       "                document.getElementById(\"biotrainer_status\").innerHTML = \"2025-10-01 09:24:17,009 INFO \t- recall class 2: 0.12\";\n",
       "            </script>\n",
       "        "
      ],
      "text/plain": [
       "<IPython.core.display.HTML object>"
      ]
     },
     "metadata": {},
     "output_type": "display_data"
    },
    {
     "data": {
      "text/html": [
       "\n",
       "            <script>\n",
       "                document.getElementById(\"biotrainer_status\").innerHTML = \"2025-10-01 09:24:17,010 INFO \t- recall class 3: 0.60\";\n",
       "            </script>\n",
       "        "
      ],
      "text/plain": [
       "<IPython.core.display.HTML object>"
      ]
     },
     "metadata": {},
     "output_type": "display_data"
    },
    {
     "data": {
      "text/html": [
       "\n",
       "            <script>\n",
       "                document.getElementById(\"biotrainer_status\").innerHTML = \"2025-10-01 09:24:17,010 INFO \t- recall class 4: 0.00\";\n",
       "            </script>\n",
       "        "
      ],
      "text/plain": [
       "<IPython.core.display.HTML object>"
      ]
     },
     "metadata": {},
     "output_type": "display_data"
    },
    {
     "data": {
      "text/html": [
       "\n",
       "            <script>\n",
       "                document.getElementById(\"biotrainer_status\").innerHTML = \"2025-10-01 09:24:17,011 INFO \t- recall class 5: 0.02\";\n",
       "            </script>\n",
       "        "
      ],
      "text/plain": [
       "<IPython.core.display.HTML object>"
      ]
     },
     "metadata": {},
     "output_type": "display_data"
    },
    {
     "data": {
      "text/html": [
       "\n",
       "            <script>\n",
       "                document.getElementById(\"biotrainer_status\").innerHTML = \"2025-10-01 09:24:17,011 INFO \t- recall class 6: 0.12\";\n",
       "            </script>\n",
       "        "
      ],
      "text/plain": [
       "<IPython.core.display.HTML object>"
      ]
     },
     "metadata": {},
     "output_type": "display_data"
    },
    {
     "data": {
      "text/html": [
       "\n",
       "            <script>\n",
       "                document.getElementById(\"biotrainer_status\").innerHTML = \"2025-10-01 09:24:17,012 INFO \t- recall class 7: 0.62\";\n",
       "            </script>\n",
       "        "
      ],
      "text/plain": [
       "<IPython.core.display.HTML object>"
      ]
     },
     "metadata": {},
     "output_type": "display_data"
    },
    {
     "data": {
      "text/html": [
       "\n",
       "            <script>\n",
       "                document.getElementById(\"biotrainer_status\").innerHTML = \"2025-10-01 09:24:17,013 INFO \t- recall class 8: 0.00\";\n",
       "            </script>\n",
       "        "
      ],
      "text/plain": [
       "<IPython.core.display.HTML object>"
      ]
     },
     "metadata": {},
     "output_type": "display_data"
    },
    {
     "data": {
      "text/html": [
       "\n",
       "            <script>\n",
       "                document.getElementById(\"biotrainer_status\").innerHTML = \"2025-10-01 09:24:17,013 INFO \t- recall class 9: 0.05\";\n",
       "            </script>\n",
       "        "
      ],
      "text/plain": [
       "<IPython.core.display.HTML object>"
      ]
     },
     "metadata": {},
     "output_type": "display_data"
    },
    {
     "data": {
      "text/html": [
       "\n",
       "            <script>\n",
       "                document.getElementById(\"biotrainer_status\").innerHTML = \"2025-10-01 09:24:17,014 INFO \tmacro-f1_score: 0.18\";\n",
       "            </script>\n",
       "        "
      ],
      "text/plain": [
       "<IPython.core.display.HTML object>"
      ]
     },
     "metadata": {},
     "output_type": "display_data"
    },
    {
     "data": {
      "text/html": [
       "\n",
       "            <script>\n",
       "                document.getElementById(\"biotrainer_status\").innerHTML = \"2025-10-01 09:24:17,014 INFO \tmicro-f1_score: 0.34\";\n",
       "            </script>\n",
       "        "
      ],
      "text/plain": [
       "<IPython.core.display.HTML object>"
      ]
     },
     "metadata": {},
     "output_type": "display_data"
    },
    {
     "data": {
      "text/html": [
       "\n",
       "            <script>\n",
       "                document.getElementById(\"biotrainer_status\").innerHTML = \"2025-10-01 09:24:17,015 INFO \t- f1_score class 0: 0.27\";\n",
       "            </script>\n",
       "        "
      ],
      "text/plain": [
       "<IPython.core.display.HTML object>"
      ]
     },
     "metadata": {},
     "output_type": "display_data"
    },
    {
     "data": {
      "text/html": [
       "\n",
       "            <script>\n",
       "                document.getElementById(\"biotrainer_status\").innerHTML = \"2025-10-01 09:24:17,015 INFO \t- f1_score class 1: 0.14\";\n",
       "            </script>\n",
       "        "
      ],
      "text/plain": [
       "<IPython.core.display.HTML object>"
      ]
     },
     "metadata": {},
     "output_type": "display_data"
    },
    {
     "data": {
      "text/html": [
       "\n",
       "            <script>\n",
       "                document.getElementById(\"biotrainer_status\").innerHTML = \"2025-10-01 09:24:17,016 INFO \t- f1_score class 2: 0.11\";\n",
       "            </script>\n",
       "        "
      ],
      "text/plain": [
       "<IPython.core.display.HTML object>"
      ]
     },
     "metadata": {},
     "output_type": "display_data"
    },
    {
     "data": {
      "text/html": [
       "\n",
       "            <script>\n",
       "                document.getElementById(\"biotrainer_status\").innerHTML = \"2025-10-01 09:24:17,016 INFO \t- f1_score class 3: 0.48\";\n",
       "            </script>\n",
       "        "
      ],
      "text/plain": [
       "<IPython.core.display.HTML object>"
      ]
     },
     "metadata": {},
     "output_type": "display_data"
    },
    {
     "data": {
      "text/html": [
       "\n",
       "            <script>\n",
       "                document.getElementById(\"biotrainer_status\").innerHTML = \"2025-10-01 09:24:17,016 INFO \t- f1_score class 4: 0.00\";\n",
       "            </script>\n",
       "        "
      ],
      "text/plain": [
       "<IPython.core.display.HTML object>"
      ]
     },
     "metadata": {},
     "output_type": "display_data"
    },
    {
     "data": {
      "text/html": [
       "\n",
       "            <script>\n",
       "                document.getElementById(\"biotrainer_status\").innerHTML = \"2025-10-01 09:24:17,017 INFO \t- f1_score class 5: 0.03\";\n",
       "            </script>\n",
       "        "
      ],
      "text/plain": [
       "<IPython.core.display.HTML object>"
      ]
     },
     "metadata": {},
     "output_type": "display_data"
    },
    {
     "data": {
      "text/html": [
       "\n",
       "            <script>\n",
       "                document.getElementById(\"biotrainer_status\").innerHTML = \"2025-10-01 09:24:17,017 INFO \t- f1_score class 6: 0.17\";\n",
       "            </script>\n",
       "        "
      ],
      "text/plain": [
       "<IPython.core.display.HTML object>"
      ]
     },
     "metadata": {},
     "output_type": "display_data"
    },
    {
     "data": {
      "text/html": [
       "\n",
       "            <script>\n",
       "                document.getElementById(\"biotrainer_status\").innerHTML = \"2025-10-01 09:24:17,018 INFO \t- f1_score class 7: 0.52\";\n",
       "            </script>\n",
       "        "
      ],
      "text/plain": [
       "<IPython.core.display.HTML object>"
      ]
     },
     "metadata": {},
     "output_type": "display_data"
    },
    {
     "data": {
      "text/html": [
       "\n",
       "            <script>\n",
       "                document.getElementById(\"biotrainer_status\").innerHTML = \"2025-10-01 09:24:17,018 INFO \t- f1_score class 8: 0.00\";\n",
       "            </script>\n",
       "        "
      ],
      "text/plain": [
       "<IPython.core.display.HTML object>"
      ]
     },
     "metadata": {},
     "output_type": "display_data"
    },
    {
     "data": {
      "text/html": [
       "\n",
       "            <script>\n",
       "                document.getElementById(\"biotrainer_status\").innerHTML = \"2025-10-01 09:24:17,019 INFO \t- f1_score class 9: 0.06\";\n",
       "            </script>\n",
       "        "
      ],
      "text/plain": [
       "<IPython.core.display.HTML object>"
      ]
     },
     "metadata": {},
     "output_type": "display_data"
    },
    {
     "data": {
      "text/html": [
       "\n",
       "            <script>\n",
       "                document.getElementById(\"biotrainer_status\").innerHTML = \"2025-10-01 09:24:17,019 INFO \tspearmans-corr-coeff: 0.14\";\n",
       "            </script>\n",
       "        "
      ],
      "text/plain": [
       "<IPython.core.display.HTML object>"
      ]
     },
     "metadata": {},
     "output_type": "display_data"
    },
    {
     "data": {
      "text/html": [
       "\n",
       "            <script>\n",
       "                document.getElementById(\"biotrainer_status\").innerHTML = \"2025-10-01 09:24:17,020 INFO \tmatthews-corr-coeff: 0.19\";\n",
       "            </script>\n",
       "        "
      ],
      "text/plain": [
       "<IPython.core.display.HTML object>"
      ]
     },
     "metadata": {},
     "output_type": "display_data"
    },
    {
     "data": {
      "text/html": [
       "\n",
       "            <script>\n",
       "                document.getElementById(\"biotrainer_status\").innerHTML = \"2025-10-01 09:24:17,648 INFO Epoch 8\";\n",
       "            </script>\n",
       "        "
      ],
      "text/plain": [
       "<IPython.core.display.HTML object>"
      ]
     },
     "metadata": {},
     "output_type": "display_data"
    },
    {
     "data": {
      "text/html": [
       "\n",
       "            <script>\n",
       "                document.getElementById(\"biotrainer_status\").innerHTML = \"2025-10-01 09:24:17,649 INFO Training results\";\n",
       "            </script>\n",
       "        "
      ],
      "text/plain": [
       "<IPython.core.display.HTML object>"
      ]
     },
     "metadata": {},
     "output_type": "display_data"
    },
    {
     "data": {
      "text/html": [
       "\n",
       "            <script>\n",
       "                document.getElementById(\"biotrainer_status\").innerHTML = \"2025-10-01 09:24:17,650 INFO \tloss: 2.22\";\n",
       "            </script>\n",
       "        "
      ],
      "text/plain": [
       "<IPython.core.display.HTML object>"
      ]
     },
     "metadata": {},
     "output_type": "display_data"
    },
    {
     "data": {
      "text/html": [
       "\n",
       "            <script>\n",
       "                document.getElementById(\"biotrainer_status\").innerHTML = \"2025-10-01 09:24:17,650 INFO \taccuracy: 0.36\";\n",
       "            </script>\n",
       "        "
      ],
      "text/plain": [
       "<IPython.core.display.HTML object>"
      ]
     },
     "metadata": {},
     "output_type": "display_data"
    },
    {
     "data": {
      "text/html": [
       "\n",
       "            <script>\n",
       "                document.getElementById(\"biotrainer_status\").innerHTML = \"2025-10-01 09:24:17,651 INFO \tmacro-precision: 0.20\";\n",
       "            </script>\n",
       "        "
      ],
      "text/plain": [
       "<IPython.core.display.HTML object>"
      ]
     },
     "metadata": {},
     "output_type": "display_data"
    },
    {
     "data": {
      "text/html": [
       "\n",
       "            <script>\n",
       "                document.getElementById(\"biotrainer_status\").innerHTML = \"2025-10-01 09:24:17,651 INFO \tmicro-precision: 0.36\";\n",
       "            </script>\n",
       "        "
      ],
      "text/plain": [
       "<IPython.core.display.HTML object>"
      ]
     },
     "metadata": {},
     "output_type": "display_data"
    },
    {
     "data": {
      "text/html": [
       "\n",
       "            <script>\n",
       "                document.getElementById(\"biotrainer_status\").innerHTML = \"2025-10-01 09:24:17,652 INFO \t- precision class 0: 0.26\";\n",
       "            </script>\n",
       "        "
      ],
      "text/plain": [
       "<IPython.core.display.HTML object>"
      ]
     },
     "metadata": {},
     "output_type": "display_data"
    },
    {
     "data": {
      "text/html": [
       "\n",
       "            <script>\n",
       "                document.getElementById(\"biotrainer_status\").innerHTML = \"2025-10-01 09:24:17,652 INFO \t- precision class 1: 0.24\";\n",
       "            </script>\n",
       "        "
      ],
      "text/plain": [
       "<IPython.core.display.HTML object>"
      ]
     },
     "metadata": {},
     "output_type": "display_data"
    },
    {
     "data": {
      "text/html": [
       "\n",
       "            <script>\n",
       "                document.getElementById(\"biotrainer_status\").innerHTML = \"2025-10-01 09:24:17,653 INFO \t- precision class 2: 0.19\";\n",
       "            </script>\n",
       "        "
      ],
      "text/plain": [
       "<IPython.core.display.HTML object>"
      ]
     },
     "metadata": {},
     "output_type": "display_data"
    },
    {
     "data": {
      "text/html": [
       "\n",
       "            <script>\n",
       "                document.getElementById(\"biotrainer_status\").innerHTML = \"2025-10-01 09:24:17,653 INFO \t- precision class 3: 0.39\";\n",
       "            </script>\n",
       "        "
      ],
      "text/plain": [
       "<IPython.core.display.HTML object>"
      ]
     },
     "metadata": {},
     "output_type": "display_data"
    },
    {
     "data": {
      "text/html": [
       "\n",
       "            <script>\n",
       "                document.getElementById(\"biotrainer_status\").innerHTML = \"2025-10-01 09:24:17,654 INFO \t- precision class 4: 0.02\";\n",
       "            </script>\n",
       "        "
      ],
      "text/plain": [
       "<IPython.core.display.HTML object>"
      ]
     },
     "metadata": {},
     "output_type": "display_data"
    },
    {
     "data": {
      "text/html": [
       "\n",
       "            <script>\n",
       "                document.getElementById(\"biotrainer_status\").innerHTML = \"2025-10-01 09:24:17,654 INFO \t- precision class 5: 0.08\";\n",
       "            </script>\n",
       "        "
      ],
      "text/plain": [
       "<IPython.core.display.HTML object>"
      ]
     },
     "metadata": {},
     "output_type": "display_data"
    },
    {
     "data": {
      "text/html": [
       "\n",
       "            <script>\n",
       "                document.getElementById(\"biotrainer_status\").innerHTML = \"2025-10-01 09:24:17,655 INFO \t- precision class 6: 0.22\";\n",
       "            </script>\n",
       "        "
      ],
      "text/plain": [
       "<IPython.core.display.HTML object>"
      ]
     },
     "metadata": {},
     "output_type": "display_data"
    },
    {
     "data": {
      "text/html": [
       "\n",
       "            <script>\n",
       "                document.getElementById(\"biotrainer_status\").innerHTML = \"2025-10-01 09:24:17,655 INFO \t- precision class 7: 0.46\";\n",
       "            </script>\n",
       "        "
      ],
      "text/plain": [
       "<IPython.core.display.HTML object>"
      ]
     },
     "metadata": {},
     "output_type": "display_data"
    },
    {
     "data": {
      "text/html": [
       "\n",
       "            <script>\n",
       "                document.getElementById(\"biotrainer_status\").innerHTML = \"2025-10-01 09:24:17,655 INFO \t- precision class 8: 0.00\";\n",
       "            </script>\n",
       "        "
      ],
      "text/plain": [
       "<IPython.core.display.HTML object>"
      ]
     },
     "metadata": {},
     "output_type": "display_data"
    },
    {
     "data": {
      "text/html": [
       "\n",
       "            <script>\n",
       "                document.getElementById(\"biotrainer_status\").innerHTML = \"2025-10-01 09:24:17,656 INFO \t- precision class 9: 0.14\";\n",
       "            </script>\n",
       "        "
      ],
      "text/plain": [
       "<IPython.core.display.HTML object>"
      ]
     },
     "metadata": {},
     "output_type": "display_data"
    },
    {
     "data": {
      "text/html": [
       "\n",
       "            <script>\n",
       "                document.getElementById(\"biotrainer_status\").innerHTML = \"2025-10-01 09:24:17,656 INFO \tmacro-recall: 0.21\";\n",
       "            </script>\n",
       "        "
      ],
      "text/plain": [
       "<IPython.core.display.HTML object>"
      ]
     },
     "metadata": {},
     "output_type": "display_data"
    },
    {
     "data": {
      "text/html": [
       "\n",
       "            <script>\n",
       "                document.getElementById(\"biotrainer_status\").innerHTML = \"2025-10-01 09:24:17,657 INFO \tmicro-recall: 0.36\";\n",
       "            </script>\n",
       "        "
      ],
      "text/plain": [
       "<IPython.core.display.HTML object>"
      ]
     },
     "metadata": {},
     "output_type": "display_data"
    },
    {
     "data": {
      "text/html": [
       "\n",
       "            <script>\n",
       "                document.getElementById(\"biotrainer_status\").innerHTML = \"2025-10-01 09:24:17,657 INFO \t- recall class 0: 0.35\";\n",
       "            </script>\n",
       "        "
      ],
      "text/plain": [
       "<IPython.core.display.HTML object>"
      ]
     },
     "metadata": {},
     "output_type": "display_data"
    },
    {
     "data": {
      "text/html": [
       "\n",
       "            <script>\n",
       "                document.getElementById(\"biotrainer_status\").innerHTML = \"2025-10-01 09:24:17,658 INFO \t- recall class 1: 0.04\";\n",
       "            </script>\n",
       "        "
      ],
      "text/plain": [
       "<IPython.core.display.HTML object>"
      ]
     },
     "metadata": {},
     "output_type": "display_data"
    },
    {
     "data": {
      "text/html": [
       "\n",
       "            <script>\n",
       "                document.getElementById(\"biotrainer_status\").innerHTML = \"2025-10-01 09:24:17,659 INFO \t- recall class 2: 0.12\";\n",
       "            </script>\n",
       "        "
      ],
      "text/plain": [
       "<IPython.core.display.HTML object>"
      ]
     },
     "metadata": {},
     "output_type": "display_data"
    },
    {
     "data": {
      "text/html": [
       "\n",
       "            <script>\n",
       "                document.getElementById(\"biotrainer_status\").innerHTML = \"2025-10-01 09:24:17,659 INFO \t- recall class 3: 0.60\";\n",
       "            </script>\n",
       "        "
      ],
      "text/plain": [
       "<IPython.core.display.HTML object>"
      ]
     },
     "metadata": {},
     "output_type": "display_data"
    },
    {
     "data": {
      "text/html": [
       "\n",
       "            <script>\n",
       "                document.getElementById(\"biotrainer_status\").innerHTML = \"2025-10-01 09:24:17,659 INFO \t- recall class 4: 0.01\";\n",
       "            </script>\n",
       "        "
      ],
      "text/plain": [
       "<IPython.core.display.HTML object>"
      ]
     },
     "metadata": {},
     "output_type": "display_data"
    },
    {
     "data": {
      "text/html": [
       "\n",
       "            <script>\n",
       "                document.getElementById(\"biotrainer_status\").innerHTML = \"2025-10-01 09:24:17,660 INFO \t- recall class 5: 0.07\";\n",
       "            </script>\n",
       "        "
      ],
      "text/plain": [
       "<IPython.core.display.HTML object>"
      ]
     },
     "metadata": {},
     "output_type": "display_data"
    },
    {
     "data": {
      "text/html": [
       "\n",
       "            <script>\n",
       "                document.getElementById(\"biotrainer_status\").innerHTML = \"2025-10-01 09:24:17,660 INFO \t- recall class 6: 0.11\";\n",
       "            </script>\n",
       "        "
      ],
      "text/plain": [
       "<IPython.core.display.HTML object>"
      ]
     },
     "metadata": {},
     "output_type": "display_data"
    },
    {
     "data": {
      "text/html": [
       "\n",
       "            <script>\n",
       "                document.getElementById(\"biotrainer_status\").innerHTML = \"2025-10-01 09:24:17,661 INFO \t- recall class 7: 0.72\";\n",
       "            </script>\n",
       "        "
      ],
      "text/plain": [
       "<IPython.core.display.HTML object>"
      ]
     },
     "metadata": {},
     "output_type": "display_data"
    },
    {
     "data": {
      "text/html": [
       "\n",
       "            <script>\n",
       "                document.getElementById(\"biotrainer_status\").innerHTML = \"2025-10-01 09:24:17,661 INFO \t- recall class 8: 0.00\";\n",
       "            </script>\n",
       "        "
      ],
      "text/plain": [
       "<IPython.core.display.HTML object>"
      ]
     },
     "metadata": {},
     "output_type": "display_data"
    },
    {
     "data": {
      "text/html": [
       "\n",
       "            <script>\n",
       "                document.getElementById(\"biotrainer_status\").innerHTML = \"2025-10-01 09:24:17,662 INFO \t- recall class 9: 0.10\";\n",
       "            </script>\n",
       "        "
      ],
      "text/plain": [
       "<IPython.core.display.HTML object>"
      ]
     },
     "metadata": {},
     "output_type": "display_data"
    },
    {
     "data": {
      "text/html": [
       "\n",
       "            <script>\n",
       "                document.getElementById(\"biotrainer_status\").innerHTML = \"2025-10-01 09:24:17,662 INFO \tmacro-f1_score: 0.19\";\n",
       "            </script>\n",
       "        "
      ],
      "text/plain": [
       "<IPython.core.display.HTML object>"
      ]
     },
     "metadata": {},
     "output_type": "display_data"
    },
    {
     "data": {
      "text/html": [
       "\n",
       "            <script>\n",
       "                document.getElementById(\"biotrainer_status\").innerHTML = \"2025-10-01 09:24:17,662 INFO \tmicro-f1_score: 0.36\";\n",
       "            </script>\n",
       "        "
      ],
      "text/plain": [
       "<IPython.core.display.HTML object>"
      ]
     },
     "metadata": {},
     "output_type": "display_data"
    },
    {
     "data": {
      "text/html": [
       "\n",
       "            <script>\n",
       "                document.getElementById(\"biotrainer_status\").innerHTML = \"2025-10-01 09:24:17,663 INFO \t- f1_score class 0: 0.30\";\n",
       "            </script>\n",
       "        "
      ],
      "text/plain": [
       "<IPython.core.display.HTML object>"
      ]
     },
     "metadata": {},
     "output_type": "display_data"
    },
    {
     "data": {
      "text/html": [
       "\n",
       "            <script>\n",
       "                document.getElementById(\"biotrainer_status\").innerHTML = \"2025-10-01 09:24:17,663 INFO \t- f1_score class 1: 0.07\";\n",
       "            </script>\n",
       "        "
      ],
      "text/plain": [
       "<IPython.core.display.HTML object>"
      ]
     },
     "metadata": {},
     "output_type": "display_data"
    },
    {
     "data": {
      "text/html": [
       "\n",
       "            <script>\n",
       "                document.getElementById(\"biotrainer_status\").innerHTML = \"2025-10-01 09:24:17,664 INFO \t- f1_score class 2: 0.14\";\n",
       "            </script>\n",
       "        "
      ],
      "text/plain": [
       "<IPython.core.display.HTML object>"
      ]
     },
     "metadata": {},
     "output_type": "display_data"
    },
    {
     "data": {
      "text/html": [
       "\n",
       "            <script>\n",
       "                document.getElementById(\"biotrainer_status\").innerHTML = \"2025-10-01 09:24:17,664 INFO \t- f1_score class 3: 0.47\";\n",
       "            </script>\n",
       "        "
      ],
      "text/plain": [
       "<IPython.core.display.HTML object>"
      ]
     },
     "metadata": {},
     "output_type": "display_data"
    },
    {
     "data": {
      "text/html": [
       "\n",
       "            <script>\n",
       "                document.getElementById(\"biotrainer_status\").innerHTML = \"2025-10-01 09:24:17,665 INFO \t- f1_score class 4: 0.02\";\n",
       "            </script>\n",
       "        "
      ],
      "text/plain": [
       "<IPython.core.display.HTML object>"
      ]
     },
     "metadata": {},
     "output_type": "display_data"
    },
    {
     "data": {
      "text/html": [
       "\n",
       "            <script>\n",
       "                document.getElementById(\"biotrainer_status\").innerHTML = \"2025-10-01 09:24:17,665 INFO \t- f1_score class 5: 0.08\";\n",
       "            </script>\n",
       "        "
      ],
      "text/plain": [
       "<IPython.core.display.HTML object>"
      ]
     },
     "metadata": {},
     "output_type": "display_data"
    },
    {
     "data": {
      "text/html": [
       "\n",
       "            <script>\n",
       "                document.getElementById(\"biotrainer_status\").innerHTML = \"2025-10-01 09:24:17,666 INFO \t- f1_score class 6: 0.15\";\n",
       "            </script>\n",
       "        "
      ],
      "text/plain": [
       "<IPython.core.display.HTML object>"
      ]
     },
     "metadata": {},
     "output_type": "display_data"
    },
    {
     "data": {
      "text/html": [
       "\n",
       "            <script>\n",
       "                document.getElementById(\"biotrainer_status\").innerHTML = \"2025-10-01 09:24:17,666 INFO \t- f1_score class 7: 0.56\";\n",
       "            </script>\n",
       "        "
      ],
      "text/plain": [
       "<IPython.core.display.HTML object>"
      ]
     },
     "metadata": {},
     "output_type": "display_data"
    },
    {
     "data": {
      "text/html": [
       "\n",
       "            <script>\n",
       "                document.getElementById(\"biotrainer_status\").innerHTML = \"2025-10-01 09:24:17,667 INFO \t- f1_score class 8: 0.00\";\n",
       "            </script>\n",
       "        "
      ],
      "text/plain": [
       "<IPython.core.display.HTML object>"
      ]
     },
     "metadata": {},
     "output_type": "display_data"
    },
    {
     "data": {
      "text/html": [
       "\n",
       "            <script>\n",
       "                document.getElementById(\"biotrainer_status\").innerHTML = \"2025-10-01 09:24:17,667 INFO \t- f1_score class 9: 0.12\";\n",
       "            </script>\n",
       "        "
      ],
      "text/plain": [
       "<IPython.core.display.HTML object>"
      ]
     },
     "metadata": {},
     "output_type": "display_data"
    },
    {
     "data": {
      "text/html": [
       "\n",
       "            <script>\n",
       "                document.getElementById(\"biotrainer_status\").innerHTML = \"2025-10-01 09:24:17,668 INFO \tspearmans-corr-coeff: 0.20\";\n",
       "            </script>\n",
       "        "
      ],
      "text/plain": [
       "<IPython.core.display.HTML object>"
      ]
     },
     "metadata": {},
     "output_type": "display_data"
    },
    {
     "data": {
      "text/html": [
       "\n",
       "            <script>\n",
       "                document.getElementById(\"biotrainer_status\").innerHTML = \"2025-10-01 09:24:17,668 INFO \tmatthews-corr-coeff: 0.22\";\n",
       "            </script>\n",
       "        "
      ],
      "text/plain": [
       "<IPython.core.display.HTML object>"
      ]
     },
     "metadata": {},
     "output_type": "display_data"
    },
    {
     "data": {
      "text/html": [
       "\n",
       "            <script>\n",
       "                document.getElementById(\"biotrainer_status\").innerHTML = \"2025-10-01 09:24:17,668 INFO Validation results\";\n",
       "            </script>\n",
       "        "
      ],
      "text/plain": [
       "<IPython.core.display.HTML object>"
      ]
     },
     "metadata": {},
     "output_type": "display_data"
    },
    {
     "data": {
      "text/html": [
       "\n",
       "            <script>\n",
       "                document.getElementById(\"biotrainer_status\").innerHTML = \"2025-10-01 09:24:17,669 INFO \tloss: 2.24\";\n",
       "            </script>\n",
       "        "
      ],
      "text/plain": [
       "<IPython.core.display.HTML object>"
      ]
     },
     "metadata": {},
     "output_type": "display_data"
    },
    {
     "data": {
      "text/html": [
       "\n",
       "            <script>\n",
       "                document.getElementById(\"biotrainer_status\").innerHTML = \"2025-10-01 09:24:17,669 INFO \taccuracy: 0.34\";\n",
       "            </script>\n",
       "        "
      ],
      "text/plain": [
       "<IPython.core.display.HTML object>"
      ]
     },
     "metadata": {},
     "output_type": "display_data"
    },
    {
     "data": {
      "text/html": [
       "\n",
       "            <script>\n",
       "                document.getElementById(\"biotrainer_status\").innerHTML = \"2025-10-01 09:24:17,670 INFO \tmacro-precision: 0.18\";\n",
       "            </script>\n",
       "        "
      ],
      "text/plain": [
       "<IPython.core.display.HTML object>"
      ]
     },
     "metadata": {},
     "output_type": "display_data"
    },
    {
     "data": {
      "text/html": [
       "\n",
       "            <script>\n",
       "                document.getElementById(\"biotrainer_status\").innerHTML = \"2025-10-01 09:24:17,670 INFO \tmicro-precision: 0.34\";\n",
       "            </script>\n",
       "        "
      ],
      "text/plain": [
       "<IPython.core.display.HTML object>"
      ]
     },
     "metadata": {},
     "output_type": "display_data"
    },
    {
     "data": {
      "text/html": [
       "\n",
       "            <script>\n",
       "                document.getElementById(\"biotrainer_status\").innerHTML = \"2025-10-01 09:24:17,671 INFO \t- precision class 0: 0.24\";\n",
       "            </script>\n",
       "        "
      ],
      "text/plain": [
       "<IPython.core.display.HTML object>"
      ]
     },
     "metadata": {},
     "output_type": "display_data"
    },
    {
     "data": {
      "text/html": [
       "\n",
       "            <script>\n",
       "                document.getElementById(\"biotrainer_status\").innerHTML = \"2025-10-01 09:24:17,671 INFO \t- precision class 1: 0.24\";\n",
       "            </script>\n",
       "        "
      ],
      "text/plain": [
       "<IPython.core.display.HTML object>"
      ]
     },
     "metadata": {},
     "output_type": "display_data"
    },
    {
     "data": {
      "text/html": [
       "\n",
       "            <script>\n",
       "                document.getElementById(\"biotrainer_status\").innerHTML = \"2025-10-01 09:24:17,671 INFO \t- precision class 2: 0.16\";\n",
       "            </script>\n",
       "        "
      ],
      "text/plain": [
       "<IPython.core.display.HTML object>"
      ]
     },
     "metadata": {},
     "output_type": "display_data"
    },
    {
     "data": {
      "text/html": [
       "\n",
       "            <script>\n",
       "                document.getElementById(\"biotrainer_status\").innerHTML = \"2025-10-01 09:24:17,672 INFO \t- precision class 3: 0.36\";\n",
       "            </script>\n",
       "        "
      ],
      "text/plain": [
       "<IPython.core.display.HTML object>"
      ]
     },
     "metadata": {},
     "output_type": "display_data"
    },
    {
     "data": {
      "text/html": [
       "\n",
       "            <script>\n",
       "                document.getElementById(\"biotrainer_status\").innerHTML = \"2025-10-01 09:24:17,672 INFO \t- precision class 4: 0.00\";\n",
       "            </script>\n",
       "        "
      ],
      "text/plain": [
       "<IPython.core.display.HTML object>"
      ]
     },
     "metadata": {},
     "output_type": "display_data"
    },
    {
     "data": {
      "text/html": [
       "\n",
       "            <script>\n",
       "                document.getElementById(\"biotrainer_status\").innerHTML = \"2025-10-01 09:24:17,673 INFO \t- precision class 5: 0.06\";\n",
       "            </script>\n",
       "        "
      ],
      "text/plain": [
       "<IPython.core.display.HTML object>"
      ]
     },
     "metadata": {},
     "output_type": "display_data"
    },
    {
     "data": {
      "text/html": [
       "\n",
       "            <script>\n",
       "                document.getElementById(\"biotrainer_status\").innerHTML = \"2025-10-01 09:24:17,673 INFO \t- precision class 6: 0.21\";\n",
       "            </script>\n",
       "        "
      ],
      "text/plain": [
       "<IPython.core.display.HTML object>"
      ]
     },
     "metadata": {},
     "output_type": "display_data"
    },
    {
     "data": {
      "text/html": [
       "\n",
       "            <script>\n",
       "                document.getElementById(\"biotrainer_status\").innerHTML = \"2025-10-01 09:24:17,673 INFO \t- precision class 7: 0.42\";\n",
       "            </script>\n",
       "        "
      ],
      "text/plain": [
       "<IPython.core.display.HTML object>"
      ]
     },
     "metadata": {},
     "output_type": "display_data"
    },
    {
     "data": {
      "text/html": [
       "\n",
       "            <script>\n",
       "                document.getElementById(\"biotrainer_status\").innerHTML = \"2025-10-01 09:24:17,674 INFO \t- precision class 8: 0.00\";\n",
       "            </script>\n",
       "        "
      ],
      "text/plain": [
       "<IPython.core.display.HTML object>"
      ]
     },
     "metadata": {},
     "output_type": "display_data"
    },
    {
     "data": {
      "text/html": [
       "\n",
       "            <script>\n",
       "                document.getElementById(\"biotrainer_status\").innerHTML = \"2025-10-01 09:24:17,674 INFO \t- precision class 9: 0.07\";\n",
       "            </script>\n",
       "        "
      ],
      "text/plain": [
       "<IPython.core.display.HTML object>"
      ]
     },
     "metadata": {},
     "output_type": "display_data"
    },
    {
     "data": {
      "text/html": [
       "\n",
       "            <script>\n",
       "                document.getElementById(\"biotrainer_status\").innerHTML = \"2025-10-01 09:24:17,675 INFO \tmacro-recall: 0.19\";\n",
       "            </script>\n",
       "        "
      ],
      "text/plain": [
       "<IPython.core.display.HTML object>"
      ]
     },
     "metadata": {},
     "output_type": "display_data"
    },
    {
     "data": {
      "text/html": [
       "\n",
       "            <script>\n",
       "                document.getElementById(\"biotrainer_status\").innerHTML = \"2025-10-01 09:24:17,675 INFO \tmicro-recall: 0.34\";\n",
       "            </script>\n",
       "        "
      ],
      "text/plain": [
       "<IPython.core.display.HTML object>"
      ]
     },
     "metadata": {},
     "output_type": "display_data"
    },
    {
     "data": {
      "text/html": [
       "\n",
       "            <script>\n",
       "                document.getElementById(\"biotrainer_status\").innerHTML = \"2025-10-01 09:24:17,676 INFO \t- recall class 0: 0.27\";\n",
       "            </script>\n",
       "        "
      ],
      "text/plain": [
       "<IPython.core.display.HTML object>"
      ]
     },
     "metadata": {},
     "output_type": "display_data"
    },
    {
     "data": {
      "text/html": [
       "\n",
       "            <script>\n",
       "                document.getElementById(\"biotrainer_status\").innerHTML = \"2025-10-01 09:24:17,676 INFO \t- recall class 1: 0.07\";\n",
       "            </script>\n",
       "        "
      ],
      "text/plain": [
       "<IPython.core.display.HTML object>"
      ]
     },
     "metadata": {},
     "output_type": "display_data"
    },
    {
     "data": {
      "text/html": [
       "\n",
       "            <script>\n",
       "                document.getElementById(\"biotrainer_status\").innerHTML = \"2025-10-01 09:24:17,677 INFO \t- recall class 2: 0.05\";\n",
       "            </script>\n",
       "        "
      ],
      "text/plain": [
       "<IPython.core.display.HTML object>"
      ]
     },
     "metadata": {},
     "output_type": "display_data"
    },
    {
     "data": {
      "text/html": [
       "\n",
       "            <script>\n",
       "                document.getElementById(\"biotrainer_status\").innerHTML = \"2025-10-01 09:24:17,677 INFO \t- recall class 3: 0.65\";\n",
       "            </script>\n",
       "        "
      ],
      "text/plain": [
       "<IPython.core.display.HTML object>"
      ]
     },
     "metadata": {},
     "output_type": "display_data"
    },
    {
     "data": {
      "text/html": [
       "\n",
       "            <script>\n",
       "                document.getElementById(\"biotrainer_status\").innerHTML = \"2025-10-01 09:24:17,677 INFO \t- recall class 4: 0.00\";\n",
       "            </script>\n",
       "        "
      ],
      "text/plain": [
       "<IPython.core.display.HTML object>"
      ]
     },
     "metadata": {},
     "output_type": "display_data"
    },
    {
     "data": {
      "text/html": [
       "\n",
       "            <script>\n",
       "                document.getElementById(\"biotrainer_status\").innerHTML = \"2025-10-01 09:24:17,678 INFO \t- recall class 5: 0.07\";\n",
       "            </script>\n",
       "        "
      ],
      "text/plain": [
       "<IPython.core.display.HTML object>"
      ]
     },
     "metadata": {},
     "output_type": "display_data"
    },
    {
     "data": {
      "text/html": [
       "\n",
       "            <script>\n",
       "                document.getElementById(\"biotrainer_status\").innerHTML = \"2025-10-01 09:24:17,678 INFO \t- recall class 6: 0.03\";\n",
       "            </script>\n",
       "        "
      ],
      "text/plain": [
       "<IPython.core.display.HTML object>"
      ]
     },
     "metadata": {},
     "output_type": "display_data"
    },
    {
     "data": {
      "text/html": [
       "\n",
       "            <script>\n",
       "                document.getElementById(\"biotrainer_status\").innerHTML = \"2025-10-01 09:24:17,679 INFO \t- recall class 7: 0.70\";\n",
       "            </script>\n",
       "        "
      ],
      "text/plain": [
       "<IPython.core.display.HTML object>"
      ]
     },
     "metadata": {},
     "output_type": "display_data"
    },
    {
     "data": {
      "text/html": [
       "\n",
       "            <script>\n",
       "                document.getElementById(\"biotrainer_status\").innerHTML = \"2025-10-01 09:24:17,679 INFO \t- recall class 8: 0.00\";\n",
       "            </script>\n",
       "        "
      ],
      "text/plain": [
       "<IPython.core.display.HTML object>"
      ]
     },
     "metadata": {},
     "output_type": "display_data"
    },
    {
     "data": {
      "text/html": [
       "\n",
       "            <script>\n",
       "                document.getElementById(\"biotrainer_status\").innerHTML = \"2025-10-01 09:24:17,680 INFO \t- recall class 9: 0.03\";\n",
       "            </script>\n",
       "        "
      ],
      "text/plain": [
       "<IPython.core.display.HTML object>"
      ]
     },
     "metadata": {},
     "output_type": "display_data"
    },
    {
     "data": {
      "text/html": [
       "\n",
       "            <script>\n",
       "                document.getElementById(\"biotrainer_status\").innerHTML = \"2025-10-01 09:24:17,680 INFO \tmacro-f1_score: 0.16\";\n",
       "            </script>\n",
       "        "
      ],
      "text/plain": [
       "<IPython.core.display.HTML object>"
      ]
     },
     "metadata": {},
     "output_type": "display_data"
    },
    {
     "data": {
      "text/html": [
       "\n",
       "            <script>\n",
       "                document.getElementById(\"biotrainer_status\").innerHTML = \"2025-10-01 09:24:17,680 INFO \tmicro-f1_score: 0.34\";\n",
       "            </script>\n",
       "        "
      ],
      "text/plain": [
       "<IPython.core.display.HTML object>"
      ]
     },
     "metadata": {},
     "output_type": "display_data"
    },
    {
     "data": {
      "text/html": [
       "\n",
       "            <script>\n",
       "                document.getElementById(\"biotrainer_status\").innerHTML = \"2025-10-01 09:24:17,681 INFO \t- f1_score class 0: 0.26\";\n",
       "            </script>\n",
       "        "
      ],
      "text/plain": [
       "<IPython.core.display.HTML object>"
      ]
     },
     "metadata": {},
     "output_type": "display_data"
    },
    {
     "data": {
      "text/html": [
       "\n",
       "            <script>\n",
       "                document.getElementById(\"biotrainer_status\").innerHTML = \"2025-10-01 09:24:17,681 INFO \t- f1_score class 1: 0.10\";\n",
       "            </script>\n",
       "        "
      ],
      "text/plain": [
       "<IPython.core.display.HTML object>"
      ]
     },
     "metadata": {},
     "output_type": "display_data"
    },
    {
     "data": {
      "text/html": [
       "\n",
       "            <script>\n",
       "                document.getElementById(\"biotrainer_status\").innerHTML = \"2025-10-01 09:24:17,681 INFO \t- f1_score class 2: 0.08\";\n",
       "            </script>\n",
       "        "
      ],
      "text/plain": [
       "<IPython.core.display.HTML object>"
      ]
     },
     "metadata": {},
     "output_type": "display_data"
    },
    {
     "data": {
      "text/html": [
       "\n",
       "            <script>\n",
       "                document.getElementById(\"biotrainer_status\").innerHTML = \"2025-10-01 09:24:17,682 INFO \t- f1_score class 3: 0.47\";\n",
       "            </script>\n",
       "        "
      ],
      "text/plain": [
       "<IPython.core.display.HTML object>"
      ]
     },
     "metadata": {},
     "output_type": "display_data"
    },
    {
     "data": {
      "text/html": [
       "\n",
       "            <script>\n",
       "                document.getElementById(\"biotrainer_status\").innerHTML = \"2025-10-01 09:24:17,682 INFO \t- f1_score class 4: 0.00\";\n",
       "            </script>\n",
       "        "
      ],
      "text/plain": [
       "<IPython.core.display.HTML object>"
      ]
     },
     "metadata": {},
     "output_type": "display_data"
    },
    {
     "data": {
      "text/html": [
       "\n",
       "            <script>\n",
       "                document.getElementById(\"biotrainer_status\").innerHTML = \"2025-10-01 09:24:17,683 INFO \t- f1_score class 5: 0.07\";\n",
       "            </script>\n",
       "        "
      ],
      "text/plain": [
       "<IPython.core.display.HTML object>"
      ]
     },
     "metadata": {},
     "output_type": "display_data"
    },
    {
     "data": {
      "text/html": [
       "\n",
       "            <script>\n",
       "                document.getElementById(\"biotrainer_status\").innerHTML = \"2025-10-01 09:24:17,683 INFO \t- f1_score class 6: 0.05\";\n",
       "            </script>\n",
       "        "
      ],
      "text/plain": [
       "<IPython.core.display.HTML object>"
      ]
     },
     "metadata": {},
     "output_type": "display_data"
    },
    {
     "data": {
      "text/html": [
       "\n",
       "            <script>\n",
       "                document.getElementById(\"biotrainer_status\").innerHTML = \"2025-10-01 09:24:17,684 INFO \t- f1_score class 7: 0.52\";\n",
       "            </script>\n",
       "        "
      ],
      "text/plain": [
       "<IPython.core.display.HTML object>"
      ]
     },
     "metadata": {},
     "output_type": "display_data"
    },
    {
     "data": {
      "text/html": [
       "\n",
       "            <script>\n",
       "                document.getElementById(\"biotrainer_status\").innerHTML = \"2025-10-01 09:24:17,684 INFO \t- f1_score class 8: 0.00\";\n",
       "            </script>\n",
       "        "
      ],
      "text/plain": [
       "<IPython.core.display.HTML object>"
      ]
     },
     "metadata": {},
     "output_type": "display_data"
    },
    {
     "data": {
      "text/html": [
       "\n",
       "            <script>\n",
       "                document.getElementById(\"biotrainer_status\").innerHTML = \"2025-10-01 09:24:17,685 INFO \t- f1_score class 9: 0.04\";\n",
       "            </script>\n",
       "        "
      ],
      "text/plain": [
       "<IPython.core.display.HTML object>"
      ]
     },
     "metadata": {},
     "output_type": "display_data"
    },
    {
     "data": {
      "text/html": [
       "\n",
       "            <script>\n",
       "                document.getElementById(\"biotrainer_status\").innerHTML = \"2025-10-01 09:24:17,685 INFO \tspearmans-corr-coeff: 0.12\";\n",
       "            </script>\n",
       "        "
      ],
      "text/plain": [
       "<IPython.core.display.HTML object>"
      ]
     },
     "metadata": {},
     "output_type": "display_data"
    },
    {
     "data": {
      "text/html": [
       "\n",
       "            <script>\n",
       "                document.getElementById(\"biotrainer_status\").innerHTML = \"2025-10-01 09:24:17,685 INFO \tmatthews-corr-coeff: 0.19\";\n",
       "            </script>\n",
       "        "
      ],
      "text/plain": [
       "<IPython.core.display.HTML object>"
      ]
     },
     "metadata": {},
     "output_type": "display_data"
    },
    {
     "data": {
      "text/html": [
       "\n",
       "            <script>\n",
       "                document.getElementById(\"biotrainer_status\").innerHTML = \"2025-10-01 09:24:18,296 INFO Epoch 9\";\n",
       "            </script>\n",
       "        "
      ],
      "text/plain": [
       "<IPython.core.display.HTML object>"
      ]
     },
     "metadata": {},
     "output_type": "display_data"
    },
    {
     "data": {
      "text/html": [
       "\n",
       "            <script>\n",
       "                document.getElementById(\"biotrainer_status\").innerHTML = \"2025-10-01 09:24:18,297 INFO Training results\";\n",
       "            </script>\n",
       "        "
      ],
      "text/plain": [
       "<IPython.core.display.HTML object>"
      ]
     },
     "metadata": {},
     "output_type": "display_data"
    },
    {
     "data": {
      "text/html": [
       "\n",
       "            <script>\n",
       "                document.getElementById(\"biotrainer_status\").innerHTML = \"2025-10-01 09:24:18,297 INFO \tloss: 2.20\";\n",
       "            </script>\n",
       "        "
      ],
      "text/plain": [
       "<IPython.core.display.HTML object>"
      ]
     },
     "metadata": {},
     "output_type": "display_data"
    },
    {
     "data": {
      "text/html": [
       "\n",
       "            <script>\n",
       "                document.getElementById(\"biotrainer_status\").innerHTML = \"2025-10-01 09:24:18,298 INFO \taccuracy: 0.35\";\n",
       "            </script>\n",
       "        "
      ],
      "text/plain": [
       "<IPython.core.display.HTML object>"
      ]
     },
     "metadata": {},
     "output_type": "display_data"
    },
    {
     "data": {
      "text/html": [
       "\n",
       "            <script>\n",
       "                document.getElementById(\"biotrainer_status\").innerHTML = \"2025-10-01 09:24:18,298 INFO \tmacro-precision: 0.19\";\n",
       "            </script>\n",
       "        "
      ],
      "text/plain": [
       "<IPython.core.display.HTML object>"
      ]
     },
     "metadata": {},
     "output_type": "display_data"
    },
    {
     "data": {
      "text/html": [
       "\n",
       "            <script>\n",
       "                document.getElementById(\"biotrainer_status\").innerHTML = \"2025-10-01 09:24:18,299 INFO \tmicro-precision: 0.35\";\n",
       "            </script>\n",
       "        "
      ],
      "text/plain": [
       "<IPython.core.display.HTML object>"
      ]
     },
     "metadata": {},
     "output_type": "display_data"
    },
    {
     "data": {
      "text/html": [
       "\n",
       "            <script>\n",
       "                document.getElementById(\"biotrainer_status\").innerHTML = \"2025-10-01 09:24:18,299 INFO \t- precision class 0: 0.26\";\n",
       "            </script>\n",
       "        "
      ],
      "text/plain": [
       "<IPython.core.display.HTML object>"
      ]
     },
     "metadata": {},
     "output_type": "display_data"
    },
    {
     "data": {
      "text/html": [
       "\n",
       "            <script>\n",
       "                document.getElementById(\"biotrainer_status\").innerHTML = \"2025-10-01 09:24:18,300 INFO \t- precision class 1: 0.27\";\n",
       "            </script>\n",
       "        "
      ],
      "text/plain": [
       "<IPython.core.display.HTML object>"
      ]
     },
     "metadata": {},
     "output_type": "display_data"
    },
    {
     "data": {
      "text/html": [
       "\n",
       "            <script>\n",
       "                document.getElementById(\"biotrainer_status\").innerHTML = \"2025-10-01 09:24:18,300 INFO \t- precision class 2: 0.15\";\n",
       "            </script>\n",
       "        "
      ],
      "text/plain": [
       "<IPython.core.display.HTML object>"
      ]
     },
     "metadata": {},
     "output_type": "display_data"
    },
    {
     "data": {
      "text/html": [
       "\n",
       "            <script>\n",
       "                document.getElementById(\"biotrainer_status\").innerHTML = \"2025-10-01 09:24:18,301 INFO \t- precision class 3: 0.37\";\n",
       "            </script>\n",
       "        "
      ],
      "text/plain": [
       "<IPython.core.display.HTML object>"
      ]
     },
     "metadata": {},
     "output_type": "display_data"
    },
    {
     "data": {
      "text/html": [
       "\n",
       "            <script>\n",
       "                document.getElementById(\"biotrainer_status\").innerHTML = \"2025-10-01 09:24:18,301 INFO \t- precision class 4: 0.01\";\n",
       "            </script>\n",
       "        "
      ],
      "text/plain": [
       "<IPython.core.display.HTML object>"
      ]
     },
     "metadata": {},
     "output_type": "display_data"
    },
    {
     "data": {
      "text/html": [
       "\n",
       "            <script>\n",
       "                document.getElementById(\"biotrainer_status\").innerHTML = \"2025-10-01 09:24:18,302 INFO \t- precision class 5: 0.05\";\n",
       "            </script>\n",
       "        "
      ],
      "text/plain": [
       "<IPython.core.display.HTML object>"
      ]
     },
     "metadata": {},
     "output_type": "display_data"
    },
    {
     "data": {
      "text/html": [
       "\n",
       "            <script>\n",
       "                document.getElementById(\"biotrainer_status\").innerHTML = \"2025-10-01 09:24:18,302 INFO \t- precision class 6: 0.18\";\n",
       "            </script>\n",
       "        "
      ],
      "text/plain": [
       "<IPython.core.display.HTML object>"
      ]
     },
     "metadata": {},
     "output_type": "display_data"
    },
    {
     "data": {
      "text/html": [
       "\n",
       "            <script>\n",
       "                document.getElementById(\"biotrainer_status\").innerHTML = \"2025-10-01 09:24:18,303 INFO \t- precision class 7: 0.51\";\n",
       "            </script>\n",
       "        "
      ],
      "text/plain": [
       "<IPython.core.display.HTML object>"
      ]
     },
     "metadata": {},
     "output_type": "display_data"
    },
    {
     "data": {
      "text/html": [
       "\n",
       "            <script>\n",
       "                document.getElementById(\"biotrainer_status\").innerHTML = \"2025-10-01 09:24:18,303 INFO \t- precision class 8: 0.00\";\n",
       "            </script>\n",
       "        "
      ],
      "text/plain": [
       "<IPython.core.display.HTML object>"
      ]
     },
     "metadata": {},
     "output_type": "display_data"
    },
    {
     "data": {
      "text/html": [
       "\n",
       "            <script>\n",
       "                document.getElementById(\"biotrainer_status\").innerHTML = \"2025-10-01 09:24:18,304 INFO \t- precision class 9: 0.09\";\n",
       "            </script>\n",
       "        "
      ],
      "text/plain": [
       "<IPython.core.display.HTML object>"
      ]
     },
     "metadata": {},
     "output_type": "display_data"
    },
    {
     "data": {
      "text/html": [
       "\n",
       "            <script>\n",
       "                document.getElementById(\"biotrainer_status\").innerHTML = \"2025-10-01 09:24:18,304 INFO \tmacro-recall: 0.21\";\n",
       "            </script>\n",
       "        "
      ],
      "text/plain": [
       "<IPython.core.display.HTML object>"
      ]
     },
     "metadata": {},
     "output_type": "display_data"
    },
    {
     "data": {
      "text/html": [
       "\n",
       "            <script>\n",
       "                document.getElementById(\"biotrainer_status\").innerHTML = \"2025-10-01 09:24:18,304 INFO \tmicro-recall: 0.35\";\n",
       "            </script>\n",
       "        "
      ],
      "text/plain": [
       "<IPython.core.display.HTML object>"
      ]
     },
     "metadata": {},
     "output_type": "display_data"
    },
    {
     "data": {
      "text/html": [
       "\n",
       "            <script>\n",
       "                document.getElementById(\"biotrainer_status\").innerHTML = \"2025-10-01 09:24:18,305 INFO \t- recall class 0: 0.35\";\n",
       "            </script>\n",
       "        "
      ],
      "text/plain": [
       "<IPython.core.display.HTML object>"
      ]
     },
     "metadata": {},
     "output_type": "display_data"
    },
    {
     "data": {
      "text/html": [
       "\n",
       "            <script>\n",
       "                document.getElementById(\"biotrainer_status\").innerHTML = \"2025-10-01 09:24:18,305 INFO \t- recall class 1: 0.07\";\n",
       "            </script>\n",
       "        "
      ],
      "text/plain": [
       "<IPython.core.display.HTML object>"
      ]
     },
     "metadata": {},
     "output_type": "display_data"
    },
    {
     "data": {
      "text/html": [
       "\n",
       "            <script>\n",
       "                document.getElementById(\"biotrainer_status\").innerHTML = \"2025-10-01 09:24:18,306 INFO \t- recall class 2: 0.07\";\n",
       "            </script>\n",
       "        "
      ],
      "text/plain": [
       "<IPython.core.display.HTML object>"
      ]
     },
     "metadata": {},
     "output_type": "display_data"
    },
    {
     "data": {
      "text/html": [
       "\n",
       "            <script>\n",
       "                document.getElementById(\"biotrainer_status\").innerHTML = \"2025-10-01 09:24:18,306 INFO \t- recall class 3: 0.64\";\n",
       "            </script>\n",
       "        "
      ],
      "text/plain": [
       "<IPython.core.display.HTML object>"
      ]
     },
     "metadata": {},
     "output_type": "display_data"
    },
    {
     "data": {
      "text/html": [
       "\n",
       "            <script>\n",
       "                document.getElementById(\"biotrainer_status\").innerHTML = \"2025-10-01 09:24:18,307 INFO \t- recall class 4: 0.01\";\n",
       "            </script>\n",
       "        "
      ],
      "text/plain": [
       "<IPython.core.display.HTML object>"
      ]
     },
     "metadata": {},
     "output_type": "display_data"
    },
    {
     "data": {
      "text/html": [
       "\n",
       "            <script>\n",
       "                document.getElementById(\"biotrainer_status\").innerHTML = \"2025-10-01 09:24:18,307 INFO \t- recall class 5: 0.10\";\n",
       "            </script>\n",
       "        "
      ],
      "text/plain": [
       "<IPython.core.display.HTML object>"
      ]
     },
     "metadata": {},
     "output_type": "display_data"
    },
    {
     "data": {
      "text/html": [
       "\n",
       "            <script>\n",
       "                document.getElementById(\"biotrainer_status\").innerHTML = \"2025-10-01 09:24:18,307 INFO \t- recall class 6: 0.18\";\n",
       "            </script>\n",
       "        "
      ],
      "text/plain": [
       "<IPython.core.display.HTML object>"
      ]
     },
     "metadata": {},
     "output_type": "display_data"
    },
    {
     "data": {
      "text/html": [
       "\n",
       "            <script>\n",
       "                document.getElementById(\"biotrainer_status\").innerHTML = \"2025-10-01 09:24:18,308 INFO \t- recall class 7: 0.66\";\n",
       "            </script>\n",
       "        "
      ],
      "text/plain": [
       "<IPython.core.display.HTML object>"
      ]
     },
     "metadata": {},
     "output_type": "display_data"
    },
    {
     "data": {
      "text/html": [
       "\n",
       "            <script>\n",
       "                document.getElementById(\"biotrainer_status\").innerHTML = \"2025-10-01 09:24:18,308 INFO \t- recall class 8: 0.00\";\n",
       "            </script>\n",
       "        "
      ],
      "text/plain": [
       "<IPython.core.display.HTML object>"
      ]
     },
     "metadata": {},
     "output_type": "display_data"
    },
    {
     "data": {
      "text/html": [
       "\n",
       "            <script>\n",
       "                document.getElementById(\"biotrainer_status\").innerHTML = \"2025-10-01 09:24:18,309 INFO \t- recall class 9: 0.02\";\n",
       "            </script>\n",
       "        "
      ],
      "text/plain": [
       "<IPython.core.display.HTML object>"
      ]
     },
     "metadata": {},
     "output_type": "display_data"
    },
    {
     "data": {
      "text/html": [
       "\n",
       "            <script>\n",
       "                document.getElementById(\"biotrainer_status\").innerHTML = \"2025-10-01 09:24:18,309 INFO \tmacro-f1_score: 0.18\";\n",
       "            </script>\n",
       "        "
      ],
      "text/plain": [
       "<IPython.core.display.HTML object>"
      ]
     },
     "metadata": {},
     "output_type": "display_data"
    },
    {
     "data": {
      "text/html": [
       "\n",
       "            <script>\n",
       "                document.getElementById(\"biotrainer_status\").innerHTML = \"2025-10-01 09:24:18,309 INFO \tmicro-f1_score: 0.35\";\n",
       "            </script>\n",
       "        "
      ],
      "text/plain": [
       "<IPython.core.display.HTML object>"
      ]
     },
     "metadata": {},
     "output_type": "display_data"
    },
    {
     "data": {
      "text/html": [
       "\n",
       "            <script>\n",
       "                document.getElementById(\"biotrainer_status\").innerHTML = \"2025-10-01 09:24:18,311 INFO \t- f1_score class 0: 0.30\";\n",
       "            </script>\n",
       "        "
      ],
      "text/plain": [
       "<IPython.core.display.HTML object>"
      ]
     },
     "metadata": {},
     "output_type": "display_data"
    },
    {
     "data": {
      "text/html": [
       "\n",
       "            <script>\n",
       "                document.getElementById(\"biotrainer_status\").innerHTML = \"2025-10-01 09:24:18,312 INFO \t- f1_score class 1: 0.11\";\n",
       "            </script>\n",
       "        "
      ],
      "text/plain": [
       "<IPython.core.display.HTML object>"
      ]
     },
     "metadata": {},
     "output_type": "display_data"
    },
    {
     "data": {
      "text/html": [
       "\n",
       "            <script>\n",
       "                document.getElementById(\"biotrainer_status\").innerHTML = \"2025-10-01 09:24:18,312 INFO \t- f1_score class 2: 0.10\";\n",
       "            </script>\n",
       "        "
      ],
      "text/plain": [
       "<IPython.core.display.HTML object>"
      ]
     },
     "metadata": {},
     "output_type": "display_data"
    },
    {
     "data": {
      "text/html": [
       "\n",
       "            <script>\n",
       "                document.getElementById(\"biotrainer_status\").innerHTML = \"2025-10-01 09:24:18,313 INFO \t- f1_score class 3: 0.47\";\n",
       "            </script>\n",
       "        "
      ],
      "text/plain": [
       "<IPython.core.display.HTML object>"
      ]
     },
     "metadata": {},
     "output_type": "display_data"
    },
    {
     "data": {
      "text/html": [
       "\n",
       "            <script>\n",
       "                document.getElementById(\"biotrainer_status\").innerHTML = \"2025-10-01 09:24:18,313 INFO \t- f1_score class 4: 0.01\";\n",
       "            </script>\n",
       "        "
      ],
      "text/plain": [
       "<IPython.core.display.HTML object>"
      ]
     },
     "metadata": {},
     "output_type": "display_data"
    },
    {
     "data": {
      "text/html": [
       "\n",
       "            <script>\n",
       "                document.getElementById(\"biotrainer_status\").innerHTML = \"2025-10-01 09:24:18,314 INFO \t- f1_score class 5: 0.07\";\n",
       "            </script>\n",
       "        "
      ],
      "text/plain": [
       "<IPython.core.display.HTML object>"
      ]
     },
     "metadata": {},
     "output_type": "display_data"
    },
    {
     "data": {
      "text/html": [
       "\n",
       "            <script>\n",
       "                document.getElementById(\"biotrainer_status\").innerHTML = \"2025-10-01 09:24:18,315 INFO \t- f1_score class 6: 0.18\";\n",
       "            </script>\n",
       "        "
      ],
      "text/plain": [
       "<IPython.core.display.HTML object>"
      ]
     },
     "metadata": {},
     "output_type": "display_data"
    },
    {
     "data": {
      "text/html": [
       "\n",
       "            <script>\n",
       "                document.getElementById(\"biotrainer_status\").innerHTML = \"2025-10-01 09:24:18,316 INFO \t- f1_score class 7: 0.57\";\n",
       "            </script>\n",
       "        "
      ],
      "text/plain": [
       "<IPython.core.display.HTML object>"
      ]
     },
     "metadata": {},
     "output_type": "display_data"
    },
    {
     "data": {
      "text/html": [
       "\n",
       "            <script>\n",
       "                document.getElementById(\"biotrainer_status\").innerHTML = \"2025-10-01 09:24:18,317 INFO \t- f1_score class 8: 0.00\";\n",
       "            </script>\n",
       "        "
      ],
      "text/plain": [
       "<IPython.core.display.HTML object>"
      ]
     },
     "metadata": {},
     "output_type": "display_data"
    },
    {
     "data": {
      "text/html": [
       "\n",
       "            <script>\n",
       "                document.getElementById(\"biotrainer_status\").innerHTML = \"2025-10-01 09:24:18,317 INFO \t- f1_score class 9: 0.04\";\n",
       "            </script>\n",
       "        "
      ],
      "text/plain": [
       "<IPython.core.display.HTML object>"
      ]
     },
     "metadata": {},
     "output_type": "display_data"
    },
    {
     "data": {
      "text/html": [
       "\n",
       "            <script>\n",
       "                document.getElementById(\"biotrainer_status\").innerHTML = \"2025-10-01 09:24:18,318 INFO \tspearmans-corr-coeff: 0.21\";\n",
       "            </script>\n",
       "        "
      ],
      "text/plain": [
       "<IPython.core.display.HTML object>"
      ]
     },
     "metadata": {},
     "output_type": "display_data"
    },
    {
     "data": {
      "text/html": [
       "\n",
       "            <script>\n",
       "                document.getElementById(\"biotrainer_status\").innerHTML = \"2025-10-01 09:24:18,318 INFO \tmatthews-corr-coeff: 0.22\";\n",
       "            </script>\n",
       "        "
      ],
      "text/plain": [
       "<IPython.core.display.HTML object>"
      ]
     },
     "metadata": {},
     "output_type": "display_data"
    },
    {
     "data": {
      "text/html": [
       "\n",
       "            <script>\n",
       "                document.getElementById(\"biotrainer_status\").innerHTML = \"2025-10-01 09:24:18,319 INFO Validation results\";\n",
       "            </script>\n",
       "        "
      ],
      "text/plain": [
       "<IPython.core.display.HTML object>"
      ]
     },
     "metadata": {},
     "output_type": "display_data"
    },
    {
     "data": {
      "text/html": [
       "\n",
       "            <script>\n",
       "                document.getElementById(\"biotrainer_status\").innerHTML = \"2025-10-01 09:24:18,319 INFO \tloss: 2.21\";\n",
       "            </script>\n",
       "        "
      ],
      "text/plain": [
       "<IPython.core.display.HTML object>"
      ]
     },
     "metadata": {},
     "output_type": "display_data"
    },
    {
     "data": {
      "text/html": [
       "\n",
       "            <script>\n",
       "                document.getElementById(\"biotrainer_status\").innerHTML = \"2025-10-01 09:24:18,320 INFO \taccuracy: 0.33\";\n",
       "            </script>\n",
       "        "
      ],
      "text/plain": [
       "<IPython.core.display.HTML object>"
      ]
     },
     "metadata": {},
     "output_type": "display_data"
    },
    {
     "data": {
      "text/html": [
       "\n",
       "            <script>\n",
       "                document.getElementById(\"biotrainer_status\").innerHTML = \"2025-10-01 09:24:18,320 INFO \tmacro-precision: 0.19\";\n",
       "            </script>\n",
       "        "
      ],
      "text/plain": [
       "<IPython.core.display.HTML object>"
      ]
     },
     "metadata": {},
     "output_type": "display_data"
    },
    {
     "data": {
      "text/html": [
       "\n",
       "            <script>\n",
       "                document.getElementById(\"biotrainer_status\").innerHTML = \"2025-10-01 09:24:18,320 INFO \tmicro-precision: 0.33\";\n",
       "            </script>\n",
       "        "
      ],
      "text/plain": [
       "<IPython.core.display.HTML object>"
      ]
     },
     "metadata": {},
     "output_type": "display_data"
    },
    {
     "data": {
      "text/html": [
       "\n",
       "            <script>\n",
       "                document.getElementById(\"biotrainer_status\").innerHTML = \"2025-10-01 09:24:18,321 INFO \t- precision class 0: 0.24\";\n",
       "            </script>\n",
       "        "
      ],
      "text/plain": [
       "<IPython.core.display.HTML object>"
      ]
     },
     "metadata": {},
     "output_type": "display_data"
    },
    {
     "data": {
      "text/html": [
       "\n",
       "            <script>\n",
       "                document.getElementById(\"biotrainer_status\").innerHTML = \"2025-10-01 09:24:18,321 INFO \t- precision class 1: 0.26\";\n",
       "            </script>\n",
       "        "
      ],
      "text/plain": [
       "<IPython.core.display.HTML object>"
      ]
     },
     "metadata": {},
     "output_type": "display_data"
    },
    {
     "data": {
      "text/html": [
       "\n",
       "            <script>\n",
       "                document.getElementById(\"biotrainer_status\").innerHTML = \"2025-10-01 09:24:18,322 INFO \t- precision class 2: 0.18\";\n",
       "            </script>\n",
       "        "
      ],
      "text/plain": [
       "<IPython.core.display.HTML object>"
      ]
     },
     "metadata": {},
     "output_type": "display_data"
    },
    {
     "data": {
      "text/html": [
       "\n",
       "            <script>\n",
       "                document.getElementById(\"biotrainer_status\").innerHTML = \"2025-10-01 09:24:18,323 INFO \t- precision class 3: 0.32\";\n",
       "            </script>\n",
       "        "
      ],
      "text/plain": [
       "<IPython.core.display.HTML object>"
      ]
     },
     "metadata": {},
     "output_type": "display_data"
    },
    {
     "data": {
      "text/html": [
       "\n",
       "            <script>\n",
       "                document.getElementById(\"biotrainer_status\").innerHTML = \"2025-10-01 09:24:18,324 INFO \t- precision class 4: 0.05\";\n",
       "            </script>\n",
       "        "
      ],
      "text/plain": [
       "<IPython.core.display.HTML object>"
      ]
     },
     "metadata": {},
     "output_type": "display_data"
    },
    {
     "data": {
      "text/html": [
       "\n",
       "            <script>\n",
       "                document.getElementById(\"biotrainer_status\").innerHTML = \"2025-10-01 09:24:18,324 INFO \t- precision class 5: 0.07\";\n",
       "            </script>\n",
       "        "
      ],
      "text/plain": [
       "<IPython.core.display.HTML object>"
      ]
     },
     "metadata": {},
     "output_type": "display_data"
    },
    {
     "data": {
      "text/html": [
       "\n",
       "            <script>\n",
       "                document.getElementById(\"biotrainer_status\").innerHTML = \"2025-10-01 09:24:18,325 INFO \t- precision class 6: 0.21\";\n",
       "            </script>\n",
       "        "
      ],
      "text/plain": [
       "<IPython.core.display.HTML object>"
      ]
     },
     "metadata": {},
     "output_type": "display_data"
    },
    {
     "data": {
      "text/html": [
       "\n",
       "            <script>\n",
       "                document.getElementById(\"biotrainer_status\").innerHTML = \"2025-10-01 09:24:18,325 INFO \t- precision class 7: 0.51\";\n",
       "            </script>\n",
       "        "
      ],
      "text/plain": [
       "<IPython.core.display.HTML object>"
      ]
     },
     "metadata": {},
     "output_type": "display_data"
    },
    {
     "data": {
      "text/html": [
       "\n",
       "            <script>\n",
       "                document.getElementById(\"biotrainer_status\").innerHTML = \"2025-10-01 09:24:18,326 INFO \t- precision class 8: 0.00\";\n",
       "            </script>\n",
       "        "
      ],
      "text/plain": [
       "<IPython.core.display.HTML object>"
      ]
     },
     "metadata": {},
     "output_type": "display_data"
    },
    {
     "data": {
      "text/html": [
       "\n",
       "            <script>\n",
       "                document.getElementById(\"biotrainer_status\").innerHTML = \"2025-10-01 09:24:18,327 INFO \t- precision class 9: 0.12\";\n",
       "            </script>\n",
       "        "
      ],
      "text/plain": [
       "<IPython.core.display.HTML object>"
      ]
     },
     "metadata": {},
     "output_type": "display_data"
    },
    {
     "data": {
      "text/html": [
       "\n",
       "            <script>\n",
       "                document.getElementById(\"biotrainer_status\").innerHTML = \"2025-10-01 09:24:18,327 INFO \tmacro-recall: 0.21\";\n",
       "            </script>\n",
       "        "
      ],
      "text/plain": [
       "<IPython.core.display.HTML object>"
      ]
     },
     "metadata": {},
     "output_type": "display_data"
    },
    {
     "data": {
      "text/html": [
       "\n",
       "            <script>\n",
       "                document.getElementById(\"biotrainer_status\").innerHTML = \"2025-10-01 09:24:18,327 INFO \tmicro-recall: 0.33\";\n",
       "            </script>\n",
       "        "
      ],
      "text/plain": [
       "<IPython.core.display.HTML object>"
      ]
     },
     "metadata": {},
     "output_type": "display_data"
    },
    {
     "data": {
      "text/html": [
       "\n",
       "            <script>\n",
       "                document.getElementById(\"biotrainer_status\").innerHTML = \"2025-10-01 09:24:18,328 INFO \t- recall class 0: 0.47\";\n",
       "            </script>\n",
       "        "
      ],
      "text/plain": [
       "<IPython.core.display.HTML object>"
      ]
     },
     "metadata": {},
     "output_type": "display_data"
    },
    {
     "data": {
      "text/html": [
       "\n",
       "            <script>\n",
       "                document.getElementById(\"biotrainer_status\").innerHTML = \"2025-10-01 09:24:18,328 INFO \t- recall class 1: 0.05\";\n",
       "            </script>\n",
       "        "
      ],
      "text/plain": [
       "<IPython.core.display.HTML object>"
      ]
     },
     "metadata": {},
     "output_type": "display_data"
    },
    {
     "data": {
      "text/html": [
       "\n",
       "            <script>\n",
       "                document.getElementById(\"biotrainer_status\").innerHTML = \"2025-10-01 09:24:18,329 INFO \t- recall class 2: 0.16\";\n",
       "            </script>\n",
       "        "
      ],
      "text/plain": [
       "<IPython.core.display.HTML object>"
      ]
     },
     "metadata": {},
     "output_type": "display_data"
    },
    {
     "data": {
      "text/html": [
       "\n",
       "            <script>\n",
       "                document.getElementById(\"biotrainer_status\").innerHTML = \"2025-10-01 09:24:18,329 INFO \t- recall class 3: 0.61\";\n",
       "            </script>\n",
       "        "
      ],
      "text/plain": [
       "<IPython.core.display.HTML object>"
      ]
     },
     "metadata": {},
     "output_type": "display_data"
    },
    {
     "data": {
      "text/html": [
       "\n",
       "            <script>\n",
       "                document.getElementById(\"biotrainer_status\").innerHTML = \"2025-10-01 09:24:18,330 INFO \t- recall class 4: 0.02\";\n",
       "            </script>\n",
       "        "
      ],
      "text/plain": [
       "<IPython.core.display.HTML object>"
      ]
     },
     "metadata": {},
     "output_type": "display_data"
    },
    {
     "data": {
      "text/html": [
       "\n",
       "            <script>\n",
       "                document.getElementById(\"biotrainer_status\").innerHTML = \"2025-10-01 09:24:18,330 INFO \t- recall class 5: 0.07\";\n",
       "            </script>\n",
       "        "
      ],
      "text/plain": [
       "<IPython.core.display.HTML object>"
      ]
     },
     "metadata": {},
     "output_type": "display_data"
    },
    {
     "data": {
      "text/html": [
       "\n",
       "            <script>\n",
       "                document.getElementById(\"biotrainer_status\").innerHTML = \"2025-10-01 09:24:18,331 INFO \t- recall class 6: 0.14\";\n",
       "            </script>\n",
       "        "
      ],
      "text/plain": [
       "<IPython.core.display.HTML object>"
      ]
     },
     "metadata": {},
     "output_type": "display_data"
    },
    {
     "data": {
      "text/html": [
       "\n",
       "            <script>\n",
       "                document.getElementById(\"biotrainer_status\").innerHTML = \"2025-10-01 09:24:18,331 INFO \t- recall class 7: 0.55\";\n",
       "            </script>\n",
       "        "
      ],
      "text/plain": [
       "<IPython.core.display.HTML object>"
      ]
     },
     "metadata": {},
     "output_type": "display_data"
    },
    {
     "data": {
      "text/html": [
       "\n",
       "            <script>\n",
       "                document.getElementById(\"biotrainer_status\").innerHTML = \"2025-10-01 09:24:18,332 INFO \t- recall class 8: 0.00\";\n",
       "            </script>\n",
       "        "
      ],
      "text/plain": [
       "<IPython.core.display.HTML object>"
      ]
     },
     "metadata": {},
     "output_type": "display_data"
    },
    {
     "data": {
      "text/html": [
       "\n",
       "            <script>\n",
       "                document.getElementById(\"biotrainer_status\").innerHTML = \"2025-10-01 09:24:18,332 INFO \t- recall class 9: 0.05\";\n",
       "            </script>\n",
       "        "
      ],
      "text/plain": [
       "<IPython.core.display.HTML object>"
      ]
     },
     "metadata": {},
     "output_type": "display_data"
    },
    {
     "data": {
      "text/html": [
       "\n",
       "            <script>\n",
       "                document.getElementById(\"biotrainer_status\").innerHTML = \"2025-10-01 09:24:18,333 INFO \tmacro-f1_score: 0.19\";\n",
       "            </script>\n",
       "        "
      ],
      "text/plain": [
       "<IPython.core.display.HTML object>"
      ]
     },
     "metadata": {},
     "output_type": "display_data"
    },
    {
     "data": {
      "text/html": [
       "\n",
       "            <script>\n",
       "                document.getElementById(\"biotrainer_status\").innerHTML = \"2025-10-01 09:24:18,333 INFO \tmicro-f1_score: 0.33\";\n",
       "            </script>\n",
       "        "
      ],
      "text/plain": [
       "<IPython.core.display.HTML object>"
      ]
     },
     "metadata": {},
     "output_type": "display_data"
    },
    {
     "data": {
      "text/html": [
       "\n",
       "            <script>\n",
       "                document.getElementById(\"biotrainer_status\").innerHTML = \"2025-10-01 09:24:18,333 INFO \t- f1_score class 0: 0.32\";\n",
       "            </script>\n",
       "        "
      ],
      "text/plain": [
       "<IPython.core.display.HTML object>"
      ]
     },
     "metadata": {},
     "output_type": "display_data"
    },
    {
     "data": {
      "text/html": [
       "\n",
       "            <script>\n",
       "                document.getElementById(\"biotrainer_status\").innerHTML = \"2025-10-01 09:24:18,334 INFO \t- f1_score class 1: 0.08\";\n",
       "            </script>\n",
       "        "
      ],
      "text/plain": [
       "<IPython.core.display.HTML object>"
      ]
     },
     "metadata": {},
     "output_type": "display_data"
    },
    {
     "data": {
      "text/html": [
       "\n",
       "            <script>\n",
       "                document.getElementById(\"biotrainer_status\").innerHTML = \"2025-10-01 09:24:18,334 INFO \t- f1_score class 2: 0.17\";\n",
       "            </script>\n",
       "        "
      ],
      "text/plain": [
       "<IPython.core.display.HTML object>"
      ]
     },
     "metadata": {},
     "output_type": "display_data"
    },
    {
     "data": {
      "text/html": [
       "\n",
       "            <script>\n",
       "                document.getElementById(\"biotrainer_status\").innerHTML = \"2025-10-01 09:24:18,335 INFO \t- f1_score class 3: 0.42\";\n",
       "            </script>\n",
       "        "
      ],
      "text/plain": [
       "<IPython.core.display.HTML object>"
      ]
     },
     "metadata": {},
     "output_type": "display_data"
    },
    {
     "data": {
      "text/html": [
       "\n",
       "            <script>\n",
       "                document.getElementById(\"biotrainer_status\").innerHTML = \"2025-10-01 09:24:18,335 INFO \t- f1_score class 4: 0.03\";\n",
       "            </script>\n",
       "        "
      ],
      "text/plain": [
       "<IPython.core.display.HTML object>"
      ]
     },
     "metadata": {},
     "output_type": "display_data"
    },
    {
     "data": {
      "text/html": [
       "\n",
       "            <script>\n",
       "                document.getElementById(\"biotrainer_status\").innerHTML = \"2025-10-01 09:24:18,335 INFO \t- f1_score class 5: 0.07\";\n",
       "            </script>\n",
       "        "
      ],
      "text/plain": [
       "<IPython.core.display.HTML object>"
      ]
     },
     "metadata": {},
     "output_type": "display_data"
    },
    {
     "data": {
      "text/html": [
       "\n",
       "            <script>\n",
       "                document.getElementById(\"biotrainer_status\").innerHTML = \"2025-10-01 09:24:18,336 INFO \t- f1_score class 6: 0.16\";\n",
       "            </script>\n",
       "        "
      ],
      "text/plain": [
       "<IPython.core.display.HTML object>"
      ]
     },
     "metadata": {},
     "output_type": "display_data"
    },
    {
     "data": {
      "text/html": [
       "\n",
       "            <script>\n",
       "                document.getElementById(\"biotrainer_status\").innerHTML = \"2025-10-01 09:24:18,336 INFO \t- f1_score class 7: 0.53\";\n",
       "            </script>\n",
       "        "
      ],
      "text/plain": [
       "<IPython.core.display.HTML object>"
      ]
     },
     "metadata": {},
     "output_type": "display_data"
    },
    {
     "data": {
      "text/html": [
       "\n",
       "            <script>\n",
       "                document.getElementById(\"biotrainer_status\").innerHTML = \"2025-10-01 09:24:18,337 INFO \t- f1_score class 8: 0.00\";\n",
       "            </script>\n",
       "        "
      ],
      "text/plain": [
       "<IPython.core.display.HTML object>"
      ]
     },
     "metadata": {},
     "output_type": "display_data"
    },
    {
     "data": {
      "text/html": [
       "\n",
       "            <script>\n",
       "                document.getElementById(\"biotrainer_status\").innerHTML = \"2025-10-01 09:24:18,337 INFO \t- f1_score class 9: 0.08\";\n",
       "            </script>\n",
       "        "
      ],
      "text/plain": [
       "<IPython.core.display.HTML object>"
      ]
     },
     "metadata": {},
     "output_type": "display_data"
    },
    {
     "data": {
      "text/html": [
       "\n",
       "            <script>\n",
       "                document.getElementById(\"biotrainer_status\").innerHTML = \"2025-10-01 09:24:18,337 INFO \tspearmans-corr-coeff: 0.20\";\n",
       "            </script>\n",
       "        "
      ],
      "text/plain": [
       "<IPython.core.display.HTML object>"
      ]
     },
     "metadata": {},
     "output_type": "display_data"
    },
    {
     "data": {
      "text/html": [
       "\n",
       "            <script>\n",
       "                document.getElementById(\"biotrainer_status\").innerHTML = \"2025-10-01 09:24:18,338 INFO \tmatthews-corr-coeff: 0.20\";\n",
       "            </script>\n",
       "        "
      ],
      "text/plain": [
       "<IPython.core.display.HTML object>"
      ]
     },
     "metadata": {},
     "output_type": "display_data"
    },
    {
     "data": {
      "text/html": [
       "\n",
       "            <script>\n",
       "                document.getElementById(\"biotrainer_status\").innerHTML = \"2025-10-01 09:24:18,348 INFO Total training time for split hold_out: 6.7251625419994525 [s]\";\n",
       "            </script>\n",
       "        "
      ],
      "text/plain": [
       "<IPython.core.display.HTML object>"
      ]
     },
     "metadata": {},
     "output_type": "display_data"
    },
    {
     "data": {
      "text/html": [
       "\n",
       "            <script>\n",
       "                document.getElementById(\"biotrainer_status\").innerHTML = \"2025-10-01 09:24:18,349 INFO Total elapsed time for training: 6.739466832998005 [s]\";\n",
       "            </script>\n",
       "        "
      ],
      "text/plain": [
       "<IPython.core.display.HTML object>"
      ]
     },
     "metadata": {},
     "output_type": "display_data"
    },
    {
     "data": {
      "text/html": [
       "\n",
       "            <script>\n",
       "                document.getElementById(\"biotrainer_status\").innerHTML = \"2025-10-01 09:24:18,349 INFO Executing step: TestingStep\";\n",
       "            </script>\n",
       "        "
      ],
      "text/plain": [
       "<IPython.core.display.HTML object>"
      ]
     },
     "metadata": {},
     "output_type": "display_data"
    },
    {
     "data": {
      "text/html": [
       "\n",
       "            <script>\n",
       "                document.getElementById(\"biotrainer_status\").innerHTML = \"2025-10-01 09:24:18,350 INFO Running final evaluation on the best model\";\n",
       "            </script>\n",
       "        "
      ],
      "text/plain": [
       "<IPython.core.display.HTML object>"
      ]
     },
     "metadata": {},
     "output_type": "display_data"
    },
    {
     "data": {
      "text/html": [
       "\n",
       "            <script>\n",
       "                document.getElementById(\"biotrainer_status\").innerHTML = \"2025-10-01 09:24:18,352 INFO Loaded model from epoch: 9\";\n",
       "            </script>\n",
       "        "
      ],
      "text/plain": [
       "<IPython.core.display.HTML object>"
      ]
     },
     "metadata": {},
     "output_type": "display_data"
    },
    {
     "data": {
      "text/html": [
       "\n",
       "            <script>\n",
       "                document.getElementById(\"biotrainer_status\").innerHTML = \"2025-10-01 09:24:18,398 INFO Test set test metrics: {'loss': 2.272177994251251, 'accuracy': 0.30000001192092896, 'macro-precision': 0.15013743937015533, 'micro-precision': 0.30000001192092896, '- precision class 0': 0.5, '- precision class 1': 0.0, '- precision class 2': 0.18518517911434174, '- precision class 3': 0.42307692766189575, '- precision class 4': 0.0, '- precision class 5': 0.0, '- precision class 6': 0.0625, '- precision class 7': 0.3306122422218323, '- precision class 8': 0.0, '- precision class 9': 0.0, 'macro-recall': 0.2141105681657791, 'micro-recall': 0.30000001192092896, '- recall class 0': 0.33673468232154846, '- recall class 1': 0.0, '- recall class 2': 0.14705882966518402, '- recall class 3': 0.239130437374115, '- recall class 4': 0.0, '- recall class 5': 0.0, '- recall class 6': 0.6000000238418579, '- recall class 7': 0.8181818127632141, '- recall class 8': 0.0, '- recall class 9': 0.0, 'macro-f1_score': 0.14560668170452118, 'micro-f1_score': 0.30000001192092896, '- f1_score class 0': 0.40243902802467346, '- f1_score class 1': 0.0, '- f1_score class 2': 0.16393442451953888, '- f1_score class 3': 0.3055555522441864, '- f1_score class 4': 0.0, '- f1_score class 5': 0.0, '- f1_score class 6': 0.11320754885673523, '- f1_score class 7': 0.47093021869659424, '- f1_score class 8': 0.0, '- f1_score class 9': 0.0, 'spearmans-corr-coeff': 0.13797076046466827, 'matthews-corr-coeff': 0.19309991598129272}\";\n",
       "            </script>\n",
       "        "
      ],
      "text/plain": [
       "<IPython.core.display.HTML object>"
      ]
     },
     "metadata": {},
     "output_type": "display_data"
    },
    {
     "data": {
      "text/html": [
       "\n",
       "            <script>\n",
       "                document.getElementById(\"biotrainer_status\").innerHTML = \"2025-10-01 09:24:18,401 INFO Running bootstrapping evaluation on the best model for test set (test)\";\n",
       "            </script>\n",
       "        "
      ],
      "text/plain": [
       "<IPython.core.display.HTML object>"
      ]
     },
     "metadata": {},
     "output_type": "display_data"
    },
    {
     "data": {
      "text/html": [
       "\n",
       "            <script>\n",
       "                document.getElementById(\"biotrainer_status\").innerHTML = \"2025-10-01 09:24:18,694 INFO Bootstrapping results for test set (test): {'results': {'accuracy': {'mean': 0.308349609375, 'error': 0.0435791015625}, 'macro-precision': {'mean': 0.153564453125, 'error': 0.0252532958984375}, 'micro-precision': {'mean': 0.308349609375, 'error': 0.0435791015625}, '- precision class 0': {'mean': 0.509765625, 'error': 0.11700439453125}, '- precision class 1': {'mean': 0.0, 'error': 0.0}, '- precision class 2': {'mean': 0.1728515625, 'error': 0.126220703125}, '- precision class 3': {'mean': 0.438720703125, 'error': 0.12890625}, '- precision class 4': {'mean': 0.0, 'error': 0.0}, '- precision class 5': {'mean': 0.0, 'error': 0.0}, '- precision class 6': {'mean': 0.0625, 'error': 0.050689697265625}, '- precision class 7': {'mean': 0.34130859375, 'error': 0.06036376953125}, '- precision class 8': {'mean': 0.0, 'error': 0.0}, '- precision class 9': {'mean': 0.0, 'error': 0.0}, 'macro-recall': {'mean': 0.2230224609375, 'error': 0.0323486328125}, 'micro-recall': {'mean': 0.308349609375, 'error': 0.0435791015625}, '- recall class 0': {'mean': 0.353515625, 'error': 0.08441162109375}, '- recall class 1': {'mean': 0.0, 'error': 0.0}, '- recall class 2': {'mean': 0.1461181640625, 'error': 0.10296630859375}, '- recall class 3': {'mean': 0.2431640625, 'error': 0.08013916015625}, '- recall class 4': {'mean': 0.0, 'error': 0.0}, '- recall class 5': {'mean': 0.0, 'error': 0.0}, '- recall class 6': {'mean': 0.64111328125, 'error': 0.31201171875}, '- recall class 7': {'mean': 0.8310546875, 'error': 0.0775146484375}, '- recall class 8': {'mean': 0.0, 'error': 0.0}, '- recall class 9': {'mean': 0.0, 'error': 0.0}, 'macro-f1_score': {'mean': 0.1490478515625, 'error': 0.018951416015625}, 'micro-f1_score': {'mean': 0.308349609375, 'error': 0.0435791015625}, '- f1_score class 0': {'mean': 0.416259765625, 'error': 0.0872802734375}, '- f1_score class 1': {'mean': 0.0, 'error': 0.0}, '- f1_score class 2': {'mean': 0.15673828125, 'error': 0.1082763671875}, '- f1_score class 3': {'mean': 0.311279296875, 'error': 0.0894775390625}, '- f1_score class 4': {'mean': 0.0, 'error': 0.0}, '- f1_score class 5': {'mean': 0.0, 'error': 0.0}, '- f1_score class 6': {'mean': 0.11297607421875, 'error': 0.08721923828125}, '- f1_score class 7': {'mean': 0.483154296875, 'error': 0.06689453125}, '- f1_score class 8': {'mean': 0.0, 'error': 0.0}, '- f1_score class 9': {'mean': 0.0, 'error': 0.0}, 'spearmans-corr-coeff': {'mean': 0.147705078125, 'error': 0.1065673828125}, 'matthews-corr-coeff': {'mean': 0.2025146484375, 'error': 0.0416259765625}}, 'iterations': 30, 'sample_size': 490, 'confidence_level': 0.05}\";\n",
       "            </script>\n",
       "        "
      ],
      "text/plain": [
       "<IPython.core.display.HTML object>"
      ]
     },
     "metadata": {},
     "output_type": "display_data"
    },
    {
     "data": {
      "text/html": [
       "\n",
       "            <script>\n",
       "                document.getElementById(\"biotrainer_status\").innerHTML = \"2025-10-01 09:24:18,695 INFO Running sanity checks on test set results (test) ..\";\n",
       "            </script>\n",
       "        "
      ],
      "text/plain": [
       "<IPython.core.display.HTML object>"
      ]
     },
     "metadata": {},
     "output_type": "display_data"
    },
    {
     "data": {
      "text/html": [
       "\n",
       "            <script>\n",
       "                document.getElementById(\"biotrainer_status\").innerHTML = \"2025-10-01 09:24:18,969 INFO Random-Model Baseline: {'results': {'accuracy': {'mean': 0.1114501953125, 'error': 0.0263519287109375}, 'macro-precision': {'mean': 0.0435791015625, 'error': 0.03057861328125}, 'micro-precision': {'mean': 0.1114501953125, 'error': 0.0263519287109375}, '- precision class 0': {'mean': 0.0, 'error': 0.0}, '- precision class 1': {'mean': 0.0, 'error': 0.0}, '- precision class 2': {'mean': 0.0, 'error': 0.0}, '- precision class 3': {'mean': 0.266357421875, 'error': 0.07427978515625}, '- precision class 4': {'mean': 0.0, 'error': 0.0}, '- precision class 5': {'mean': 0.0230255126953125, 'error': 0.013702392578125}, '- precision class 6': {'mean': 0.0, 'error': 0.0}, '- precision class 7': {'mean': 0.142822265625, 'error': 0.292724609375}, '- precision class 8': {'mean': 0.0, 'error': 0.0}, '- precision class 9': {'mean': 0.0, 'error': 0.0}, 'macro-recall': {'mean': 0.10589599609375, 'error': 0.024871826171875}, 'micro-recall': {'mean': 0.1114501953125, 'error': 0.0263519287109375}, '- recall class 0': {'mean': 0.0, 'error': 0.0}, '- recall class 1': {'mean': 0.0, 'error': 0.0}, '- recall class 2': {'mean': 0.0, 'error': 0.0}, '- recall class 3': {'mean': 0.517578125, 'error': 0.09600830078125}, '- recall class 4': {'mean': 0.0, 'error': 0.0}, '- recall class 5': {'mean': 0.52490234375, 'error': 0.2425537109375}, '- recall class 6': {'mean': 0.0, 'error': 0.0}, '- recall class 7': {'mean': 0.0092010498046875, 'error': 0.018341064453125}, '- recall class 8': {'mean': 0.0, 'error': 0.0}, '- recall class 9': {'mean': 0.0, 'error': 0.0}, 'macro-f1_score': {'mean': 0.041534423828125, 'error': 0.00901031494140625}, 'micro-f1_score': {'mean': 0.1114501953125, 'error': 0.0263519287109375}, '- f1_score class 0': {'mean': 0.0, 'error': 0.0}, '- f1_score class 1': {'mean': 0.0, 'error': 0.0}, '- f1_score class 2': {'mean': 0.0, 'error': 0.0}, '- f1_score class 3': {'mean': 0.35107421875, 'error': 0.0821533203125}, '- f1_score class 4': {'mean': 0.0, 'error': 0.0}, '- f1_score class 5': {'mean': 0.0439453125, 'error': 0.0253448486328125}, '- f1_score class 6': {'mean': 0.0, 'error': 0.0}, '- f1_score class 7': {'mean': 0.0172119140625, 'error': 0.03424072265625}, '- f1_score class 8': {'mean': 0.0, 'error': 0.0}, '- f1_score class 9': {'mean': 0.0, 'error': 0.0}, 'spearmans-corr-coeff': {'mean': -0.06475830078125, 'error': 0.08990478515625}, 'matthews-corr-coeff': {'mean': 0.0406494140625, 'error': 0.034210205078125}}, 'iterations': 30, 'sample_size': 490, 'confidence_level': 0.05}\";\n",
       "            </script>\n",
       "        "
      ],
      "text/plain": [
       "<IPython.core.display.HTML object>"
      ]
     },
     "metadata": {},
     "output_type": "display_data"
    },
    {
     "data": {
      "text/html": [
       "\n",
       "            <script>\n",
       "                document.getElementById(\"biotrainer_status\").innerHTML = \"2025-10-01 09:24:18,970 INFO Sanity check on test results (test) finished!\";\n",
       "            </script>\n",
       "        "
      ],
      "text/plain": [
       "<IPython.core.display.HTML object>"
      ]
     },
     "metadata": {},
     "output_type": "display_data"
    },
    {
     "data": {
      "text/html": [
       "\n",
       "            <script>\n",
       "                document.getElementById(\"biotrainer_status\").innerHTML = \"2025-10-01 09:24:18,971 INFO Executing step: PostProcessStep\";\n",
       "            </script>\n",
       "        "
      ],
      "text/plain": [
       "<IPython.core.display.HTML object>"
      ]
     },
     "metadata": {},
     "output_type": "display_data"
    },
    {
     "data": {
      "text/html": [
       "\n",
       "            <script>\n",
       "                document.getElementById(\"biotrainer_status\").innerHTML = \"2025-10-01 09:24:18,994 INFO Pipeline end time: 2025-10-01T09:24:18.994433\";\n",
       "            </script>\n",
       "        "
      ],
      "text/plain": [
       "<IPython.core.display.HTML object>"
      ]
     },
     "metadata": {},
     "output_type": "display_data"
    },
    {
     "data": {
      "text/html": [
       "\n",
       "            <script>\n",
       "                document.getElementById(\"biotrainer_status\").innerHTML = \"2025-10-01 09:24:18,994 INFO Total elapsed time for pipeline: 9.109506332999445 [s]\";\n",
       "            </script>\n",
       "        "
      ],
      "text/plain": [
       "<IPython.core.display.HTML object>"
      ]
     },
     "metadata": {},
     "output_type": "display_data"
    },
    {
     "data": {
      "text/html": [
       "\n",
       "            <script>\n",
       "                document.getElementById(\"biotrainer_status\").innerHTML = \"2025-10-01 09:24:18,995 INFO Extensive output information can be found at /Users/michael.heinzinger/scripts/biotrainer/output/out.yml\";\n",
       "            </script>\n",
       "        "
      ],
      "text/plain": [
       "<IPython.core.display.HTML object>"
      ]
     },
     "metadata": {},
     "output_type": "display_data"
    }
   ],
   "source": [
    "from biotrainer.utilities.cli import train\n",
    "result_ohe=train(biotrainer_config_ohe)\n",
    "# the command creates an \"output\" directory which holds\n",
    "# - weights of your trained model (e.g. \"FNN\" subdirectory in \"output\")\n",
    "# - information on the training (file named \"logger_out.yaml\" holds e.g. data set statistics, filtering based on sequence lenghts, performance over training, etc)\n",
    "# - different metrics for individual classes (e.g. \"runs\" subdirectory in \"output\"). can be loaded via tensorboard\n",
    "# - embeddings, can be recycled for subsequent runs to speed up training (e.g. \"sequence_to_class\" subdir. in \"output\")"
   ]
  },
  {
   "cell_type": "code",
   "execution_count": 7,
   "id": "7095153e",
   "metadata": {},
   "outputs": [
    {
     "name": "stdout",
     "output_type": "stream",
     "text": [
      "dict_keys(['config', 'database_type', 'derived_values', 'training_results', 'test_results', 'predictions'])\n"
     ]
    }
   ],
   "source": [
    "# You can further explore what other metrics are stored by checking the elements in the nested dictionary\n",
    "print(result_ohe.keys())"
   ]
  },
  {
   "cell_type": "code",
   "execution_count": 8,
   "id": "ac13df7f",
   "metadata": {},
   "outputs": [
    {
     "name": "stdout",
     "output_type": "stream",
     "text": [
      "{'auto_resume': False, 'batch_size': 128, 'bootstrapping_iterations': 30, 'cross_validation_config': {'method': 'hold_out', 'choose_by': 'loss'}, 'device': 'mps', 'disable_pytorch_compile': True, 'dropout_rate': 0.25, 'embedder_name': 'one_hot_encoding', 'epsilon': 0.001, 'external_writer': 'tensorboard', 'ignore_file_inconsistencies': False, 'input_file': '/Users/michael.heinzinger/scripts/biotrainer/converted.fasta', 'learning_rate': 0.001, 'limited_sample_size': -1, 'log_dir': '/Users/michael.heinzinger/scripts/biotrainer/output/FNN/one_hot_encoding', 'loss_choice': 'cross_entropy_loss', 'model_choice': 'FNN', 'num_epochs': 10, 'optimizer_choice': 'adam', 'output_dir': '/Users/michael.heinzinger/scripts/biotrainer/output', 'patience': 10, 'protocol': 'sequence_to_class', 'sanity_check': True, 'save_split_ids': False, 'seed': 42, 'shuffle': True, 'use_class_weights': False, 'use_half_precision': False, 'validate_input': True}\n"
     ]
    }
   ],
   "source": [
    "# The config, for example, summarizes your training setup\n",
    "print(result_ohe[\"config\"])"
   ]
  },
  {
   "cell_type": "code",
   "execution_count": 9,
   "id": "5c18bdea",
   "metadata": {},
   "outputs": [
    {
     "name": "stdout",
     "output_type": "stream",
     "text": [
      "{'biotrainer_version': '1.0.0', 'class_int2str': {0: 'Cell_membrane', 1: 'Cytoplasm', 2: 'Endoplasmic_reticulum', 3: 'Extracellular', 4: 'Golgi_apparatus', 5: 'Lysosome', 6: 'Mitochondrion', 7: 'Nucleus', 8: 'Peroxisome', 9: 'Plastid'}, 'class_str2int': {'Cell_membrane': 0, 'Cytoplasm': 1, 'Endoplasmic_reticulum': 2, 'Extracellular': 3, 'Golgi_apparatus': 4, 'Lysosome': 5, 'Mitochondrion': 6, 'Nucleus': 7, 'Peroxisome': 8, 'Plastid': 9}, 'computed_class_weights': {0: 1.0488961935043335, 1: 0.5103651881217957, 2: 1.5998317003250122, 3: 0.7188351154327393, 4: 3.9928572177886963, 5: 4.440654277801514, 6: 0.9474576115608215, 7: 0.3453125059604645, 8: 9.408910751342773, 9: 1.8596868515014648}, 'embeddings_file': '/Users/michael.heinzinger/scripts/biotrainer/output/sequence_to_class/one_hot_encoding/reduced_embeddings_file_one_hot_encoding.h5', 'model_hash': 'b8f136cd115817d3', 'n_classes': 10, 'n_features': 21, 'n_testing_ids': 490, 'pipeline_elapsed_time': 9.109506332999445, 'pipeline_end_time': '2025-10-01T09:24:18.994433', 'pipeline_start_time': '2025-10-01T09:24:09.884924', 'training_elapsed_time': 6.739466832998005}\n"
     ]
    }
   ],
   "source": [
    "# The cderived_values, give you the mapping of your initial classes to integers and vice-versa. \n",
    "# Also, it shows that we used class weights\n",
    "print(result_ohe[\"derived_values\"])"
   ]
  },
  {
   "cell_type": "code",
   "execution_count": 10,
   "id": "ae3f32a6",
   "metadata": {},
   "outputs": [
    {
     "name": "stdout",
     "output_type": "stream",
     "text": [
      "OHE: Accuracy Mean: 0.308 CI: 0.044\n"
     ]
    }
   ],
   "source": [
    "# Let's look at our models test set accuracy and confidence interval (estimated via bootstrapping)\n",
    "bootstrapping_ohe_dict = result_ohe[\"test_results\"][\"test\"][\"bootstrapping\"][\"results\"]\n",
    "ohe_rmse_mean = bootstrapping_ohe_dict[\"accuracy\"][\"mean\"]\n",
    "ohe_rmse_ci = bootstrapping_ohe_dict[\"accuracy\"][\"error\"]\n",
    "\n",
    "print(f\"OHE: Accuracy Mean: {ohe_rmse_mean:.3f} CI: {ohe_rmse_ci:.3f}\")"
   ]
  },
  {
   "cell_type": "code",
   "execution_count": 11,
   "id": "49034262",
   "metadata": {},
   "outputs": [
    {
     "name": "stdout",
     "output_type": "stream",
     "text": [
      "dict_keys(['accuracy', 'macro-precision', 'micro-precision', '- precision class 0', '- precision class 1', '- precision class 2', '- precision class 3', '- precision class 4', '- precision class 5', '- precision class 6', '- precision class 7', '- precision class 8', '- precision class 9', 'macro-recall', 'micro-recall', '- recall class 0', '- recall class 1', '- recall class 2', '- recall class 3', '- recall class 4', '- recall class 5', '- recall class 6', '- recall class 7', '- recall class 8', '- recall class 9', 'macro-f1_score', 'micro-f1_score', '- f1_score class 0', '- f1_score class 1', '- f1_score class 2', '- f1_score class 3', '- f1_score class 4', '- f1_score class 5', '- f1_score class 6', '- f1_score class 7', '- f1_score class 8', '- f1_score class 9', 'spearmans-corr-coeff', 'matthews-corr-coeff'])\n"
     ]
    }
   ],
   "source": [
    "# You can further explore what other metrics are stored by checking the elements in the nested dictionary\n",
    "print(bootstrapping_ohe_dict.keys())"
   ]
  },
  {
   "cell_type": "code",
   "execution_count": null,
   "id": "eb883d0a",
   "metadata": {},
   "outputs": [],
   "source": [
    "# From here onwards the notebook is experimental because I could not run it on my MacOS. Do not worry if it breaks.\n",
    "# Idea being that we now run the training on actual embeddings, not one-hot-encoding\n",
    "# For this, we need to truncate our protein sequences. Here we do this after the first\n",
    "# 256 residues to speed up training but in real world scenarios, pLMs are also limited to e.g. 1k residues.\n",
    "# The problem is that the underlying architecture scales quadratically with input length w.r.t. runtime and memory \n",
    "# which is why very few but very long sequences lead to out-of-memory and add disproportionally much compute time.\n",
    "filtered_data=dict()\n",
    "existing_seqs=set()\n",
    "max_len=256\n",
    "with open(\"converted.fasta\", \"r\") as in_f:\n",
    "    for line in in_f:\n",
    "        if line.startswith(\">\"):\n",
    "            seq=next(in_f)\n",
    "            if len(seq) > max_len:\n",
    "                if seq[:max_len] + \"\\n\" in existing_seqs:\n",
    "                    continue\n",
    "                else:\n",
    "                    filtered_data[line]=seq[:max_len] + \"\\n\"   \n",
    "            else:\n",
    "                if seq in existing_seqs:\n",
    "                    continue\n",
    "                else:\n",
    "                    filtered_data[line]=seq\n",
    "            existing_seqs.add(filtered_data[line])\n",
    "with open(\"converted_filtered.fasta\", \"w+\") as out_f:\n",
    "    out_f.write( \"\".join([ id + seq for id, seq in filtered_data.items()]) )"
   ]
  },
  {
   "cell_type": "code",
   "execution_count": null,
   "id": "96703b71",
   "metadata": {},
   "outputs": [
    {
     "data": {
      "text/plain": [
       "''"
      ]
     },
     "metadata": {},
     "output_type": "display_data"
    },
    {
     "data": {
      "text/html": [
       "\n",
       "                <div id=\"biotrainer_status\" style=\"margin: 10px 0;\">\n",
       "                    Biotrainer Training Running...\n",
       "                </div>\n",
       "            "
      ],
      "text/plain": [
       "<IPython.core.display.HTML object>"
      ]
     },
     "metadata": {},
     "output_type": "display_data"
    },
    {
     "data": {
      "text/html": [
       "\n",
       "            <script>\n",
       "                document.getElementById(\"biotrainer_status\").innerHTML = \"2025-09-30 20:53:35,502 INFO ** Running biotrainer (v1.0.0) training routine **\";\n",
       "            </script>\n",
       "        "
      ],
      "text/plain": [
       "<IPython.core.display.HTML object>"
      ]
     },
     "metadata": {},
     "output_type": "display_data"
    },
    {
     "data": {
      "text/html": [
       "\n",
       "            <script>\n",
       "                document.getElementById(\"biotrainer_status\").innerHTML = \"2025-09-30 20:53:35,502 INFO Pipeline start time: 2025-09-30T20:53:35.499639\";\n",
       "            </script>\n",
       "        "
      ],
      "text/plain": [
       "<IPython.core.display.HTML object>"
      ]
     },
     "metadata": {},
     "output_type": "display_data"
    },
    {
     "data": {
      "text/html": [
       "\n",
       "            <script>\n",
       "                document.getElementById(\"biotrainer_status\").innerHTML = \"2025-09-30 20:53:35,505 INFO Training model with hash: 5f6753d6169acac3\";\n",
       "            </script>\n",
       "        "
      ],
      "text/plain": [
       "<IPython.core.display.HTML object>"
      ]
     },
     "metadata": {},
     "output_type": "display_data"
    },
    {
     "data": {
      "text/html": [
       "\n",
       "            <script>\n",
       "                document.getElementById(\"biotrainer_status\").innerHTML = \"2025-09-30 20:53:35,506 INFO Using seed: 42\";\n",
       "            </script>\n",
       "        "
      ],
      "text/plain": [
       "<IPython.core.display.HTML object>"
      ]
     },
     "metadata": {},
     "output_type": "display_data"
    },
    {
     "data": {
      "text/html": [
       "\n",
       "            <script>\n",
       "                document.getElementById(\"biotrainer_status\").innerHTML = \"2025-09-30 20:53:35,506 INFO Using device: mps\";\n",
       "            </script>\n",
       "        "
      ],
      "text/plain": [
       "<IPython.core.display.HTML object>"
      ]
     },
     "metadata": {},
     "output_type": "display_data"
    },
    {
     "data": {
      "text/html": [
       "\n",
       "            <script>\n",
       "                document.getElementById(\"biotrainer_status\").innerHTML = \"2025-09-30 20:53:35,507 INFO Executing step: InputValidationStep\";\n",
       "            </script>\n",
       "        "
      ],
      "text/plain": [
       "<IPython.core.display.HTML object>"
      ]
     },
     "metadata": {},
     "output_type": "display_data"
    },
    {
     "data": {
      "text/html": [
       "\n",
       "            <script>\n",
       "                document.getElementById(\"biotrainer_status\").innerHTML = \"2025-09-30 20:53:35,536 INFO Executing step: EmbeddingStep\";\n",
       "            </script>\n",
       "        "
      ],
      "text/plain": [
       "<IPython.core.display.HTML object>"
      ]
     },
     "metadata": {},
     "output_type": "display_data"
    },
    {
     "data": {
      "text/html": [
       "\n",
       "            <script>\n",
       "                document.getElementById(\"biotrainer_status\").innerHTML = \"2025-09-30 20:53:35,537 INFO Embeddings file was found at /Users/michael.heinzinger/scripts/biotrainer/output/sequence_to_class/prot_t5_xl_uniref50/reduced_embeddings_file_prot_t5_xl_uniref50_half.h5. Embeddings have not been computed.\";\n",
       "            </script>\n",
       "        "
      ],
      "text/plain": [
       "<IPython.core.display.HTML object>"
      ]
     },
     "metadata": {},
     "output_type": "display_data"
    },
    {
     "data": {
      "text/html": [
       "\n",
       "            <script>\n",
       "                document.getElementById(\"biotrainer_status\").innerHTML = \"2025-09-30 20:53:35,538 INFO Loading embeddings from: /Users/michael.heinzinger/scripts/biotrainer/output/sequence_to_class/prot_t5_xl_uniref50/reduced_embeddings_file_prot_t5_xl_uniref50_half.h5\";\n",
       "            </script>\n",
       "        "
      ],
      "text/plain": [
       "<IPython.core.display.HTML object>"
      ]
     },
     "metadata": {},
     "output_type": "display_data"
    },
    {
     "data": {
      "text/html": [
       "\n",
       "            <script>\n",
       "                document.getElementById(\"biotrainer_status\").innerHTML = \"2025-09-30 20:53:36,056 INFO Read 11640 entries.\";\n",
       "            </script>\n",
       "        "
      ],
      "text/plain": [
       "<IPython.core.display.HTML object>"
      ]
     },
     "metadata": {},
     "output_type": "display_data"
    },
    {
     "data": {
      "text/html": [
       "\n",
       "            <script>\n",
       "                document.getElementById(\"biotrainer_status\").innerHTML = \"2025-09-30 20:53:36,057 INFO Time elapsed for reading embeddings: 0.5[s]\";\n",
       "            </script>\n",
       "        "
      ],
      "text/plain": [
       "<IPython.core.display.HTML object>"
      ]
     },
     "metadata": {},
     "output_type": "display_data"
    },
    {
     "data": {
      "text/html": [
       "\n",
       "            <script>\n",
       "                document.getElementById(\"biotrainer_status\").innerHTML = \"2025-09-30 20:53:36,066 INFO Executing step: ProjectionStep\";\n",
       "            </script>\n",
       "        "
      ],
      "text/plain": [
       "<IPython.core.display.HTML object>"
      ]
     },
     "metadata": {},
     "output_type": "display_data"
    },
    {
     "data": {
      "text/html": [
       "\n",
       "            <script>\n",
       "                document.getElementById(\"biotrainer_status\").innerHTML = \"2025-09-30 20:53:36,067 INFO No dimension reduction performed (as configured).\";\n",
       "            </script>\n",
       "        "
      ],
      "text/plain": [
       "<IPython.core.display.HTML object>"
      ]
     },
     "metadata": {},
     "output_type": "display_data"
    },
    {
     "data": {
      "text/html": [
       "\n",
       "            <script>\n",
       "                document.getElementById(\"biotrainer_status\").innerHTML = \"2025-09-30 20:53:36,067 INFO Executing step: DataLoadingStep\";\n",
       "            </script>\n",
       "        "
      ],
      "text/plain": [
       "<IPython.core.display.HTML object>"
      ]
     },
     "metadata": {},
     "output_type": "display_data"
    },
    {
     "data": {
      "text/html": [
       "\n",
       "            <script>\n",
       "                document.getElementById(\"biotrainer_status\").innerHTML = \"2025-09-30 20:53:36,196 INFO Number of features: 1024\";\n",
       "            </script>\n",
       "        "
      ],
      "text/plain": [
       "<IPython.core.display.HTML object>"
      ]
     },
     "metadata": {},
     "output_type": "display_data"
    },
    {
     "data": {
      "text/html": [
       "\n",
       "            <script>\n",
       "                document.getElementById(\"biotrainer_status\").innerHTML = \"2025-09-30 20:53:36,196 INFO Number of outputs (i.e. classes, equals 1 for regression): 10\";\n",
       "            </script>\n",
       "        "
      ],
      "text/plain": [
       "<IPython.core.display.HTML object>"
      ]
     },
     "metadata": {},
     "output_type": "display_data"
    },
    {
     "data": {
      "text/html": [
       "\n",
       "            <script>\n",
       "                document.getElementById(\"biotrainer_status\").innerHTML = \"2025-09-30 20:53:36,199 INFO Total number of sequences/residues: 9475\";\n",
       "            </script>\n",
       "        "
      ],
      "text/plain": [
       "<IPython.core.display.HTML object>"
      ]
     },
     "metadata": {},
     "output_type": "display_data"
    },
    {
     "data": {
      "text/html": [
       "\n",
       "            <script>\n",
       "                document.getElementById(\"biotrainer_status\").innerHTML = \"2025-09-30 20:53:36,199 INFO Individual class counts and weights (training set):\";\n",
       "            </script>\n",
       "        "
      ],
      "text/plain": [
       "<IPython.core.display.HTML object>"
      ]
     },
     "metadata": {},
     "output_type": "display_data"
    },
    {
     "data": {
      "text/html": [
       "\n",
       "            <script>\n",
       "                document.getElementById(\"biotrainer_status\").innerHTML = \"2025-09-30 20:53:36,200 INFO \tCell_membrane : 903 (1.049)\";\n",
       "            </script>\n",
       "        "
      ],
      "text/plain": [
       "<IPython.core.display.HTML object>"
      ]
     },
     "metadata": {},
     "output_type": "display_data"
    },
    {
     "data": {
      "text/html": [
       "\n",
       "            <script>\n",
       "                document.getElementById(\"biotrainer_status\").innerHTML = \"2025-09-30 20:53:36,200 INFO \tCytoplasm : 1853 (0.511)\";\n",
       "            </script>\n",
       "        "
      ],
      "text/plain": [
       "<IPython.core.display.HTML object>"
      ]
     },
     "metadata": {},
     "output_type": "display_data"
    },
    {
     "data": {
      "text/html": [
       "\n",
       "            <script>\n",
       "                document.getElementById(\"biotrainer_status\").innerHTML = \"2025-09-30 20:53:36,201 INFO \tEndoplasmic_reticulum : 593 (1.598)\";\n",
       "            </script>\n",
       "        "
      ],
      "text/plain": [
       "<IPython.core.display.HTML object>"
      ]
     },
     "metadata": {},
     "output_type": "display_data"
    },
    {
     "data": {
      "text/html": [
       "\n",
       "            <script>\n",
       "                document.getElementById(\"biotrainer_status\").innerHTML = \"2025-09-30 20:53:36,201 INFO \tExtracellular : 1318 (0.719)\";\n",
       "            </script>\n",
       "        "
      ],
      "text/plain": [
       "<IPython.core.display.HTML object>"
      ]
     },
     "metadata": {},
     "output_type": "display_data"
    },
    {
     "data": {
      "text/html": [
       "\n",
       "            <script>\n",
       "                document.getElementById(\"biotrainer_status\").innerHTML = \"2025-09-30 20:53:36,201 INFO \tGolgi_apparatus : 238 (3.981)\";\n",
       "            </script>\n",
       "        "
      ],
      "text/plain": [
       "<IPython.core.display.HTML object>"
      ]
     },
     "metadata": {},
     "output_type": "display_data"
    },
    {
     "data": {
      "text/html": [
       "\n",
       "            <script>\n",
       "                document.getElementById(\"biotrainer_status\").innerHTML = \"2025-09-30 20:53:36,202 INFO \tLysosome : 213 (4.448)\";\n",
       "            </script>\n",
       "        "
      ],
      "text/plain": [
       "<IPython.core.display.HTML object>"
      ]
     },
     "metadata": {},
     "output_type": "display_data"
    },
    {
     "data": {
      "text/html": [
       "\n",
       "            <script>\n",
       "                document.getElementById(\"biotrainer_status\").innerHTML = \"2025-09-30 20:53:36,202 INFO \tMitochondrion : 1003 (0.945)\";\n",
       "            </script>\n",
       "        "
      ],
      "text/plain": [
       "<IPython.core.display.HTML object>"
      ]
     },
     "metadata": {},
     "output_type": "display_data"
    },
    {
     "data": {
      "text/html": [
       "\n",
       "            <script>\n",
       "                document.getElementById(\"biotrainer_status\").innerHTML = \"2025-09-30 20:53:36,203 INFO \tNucleus : 2742 (0.346)\";\n",
       "            </script>\n",
       "        "
      ],
      "text/plain": [
       "<IPython.core.display.HTML object>"
      ]
     },
     "metadata": {},
     "output_type": "display_data"
    },
    {
     "data": {
      "text/html": [
       "\n",
       "            <script>\n",
       "                document.getElementById(\"biotrainer_status\").innerHTML = \"2025-09-30 20:53:36,203 INFO \tPeroxisome : 101 (9.381)\";\n",
       "            </script>\n",
       "        "
      ],
      "text/plain": [
       "<IPython.core.display.HTML object>"
      ]
     },
     "metadata": {},
     "output_type": "display_data"
    },
    {
     "data": {
      "text/html": [
       "\n",
       "            <script>\n",
       "                document.getElementById(\"biotrainer_status\").innerHTML = \"2025-09-30 20:53:36,204 INFO \tPlastid : 511 (1.854)\";\n",
       "            </script>\n",
       "        "
      ],
      "text/plain": [
       "<IPython.core.display.HTML object>"
      ]
     },
     "metadata": {},
     "output_type": "display_data"
    },
    {
     "data": {
      "text/html": [
       "\n",
       "            <script>\n",
       "                document.getElementById(\"biotrainer_status\").innerHTML = \"2025-09-30 20:53:36,204 INFO Executing step: TrainingStep\";\n",
       "            </script>\n",
       "        "
      ],
      "text/plain": [
       "<IPython.core.display.HTML object>"
      ]
     },
     "metadata": {},
     "output_type": "display_data"
    },
    {
     "data": {
      "text/html": [
       "\n",
       "            <script>\n",
       "                document.getElementById(\"biotrainer_status\").innerHTML = \"2025-09-30 20:53:36,205 INFO Training model for split hold_out:\";\n",
       "            </script>\n",
       "        "
      ],
      "text/plain": [
       "<IPython.core.display.HTML object>"
      ]
     },
     "metadata": {},
     "output_type": "display_data"
    },
    {
     "data": {
      "text/html": [
       "\n",
       "            <script>\n",
       "                document.getElementById(\"biotrainer_status\").innerHTML = \"2025-09-30 20:53:36,213 INFO Checkpoint(s) will be stored at /Users/michael.heinzinger/scripts/biotrainer/output/FNN/prot_t5_xl_uniref50/hold_out_checkpoint.safetensors\";\n",
       "            </script>\n",
       "        "
      ],
      "text/plain": [
       "<IPython.core.display.HTML object>"
      ]
     },
     "metadata": {},
     "output_type": "display_data"
    }
   ],
   "source": [
    "biotrainer_config_prott5 = {\n",
    "    \"protocol\": task_protocol.name,  # We have a per-sequence classification task, so sequence_to_class\n",
    "    \"input_file\": \"converted_filtered.fasta\",  # The path (or file name if within the same directory as this notebook) to your dataset file\n",
    "    \"model_choice\": \"FNN\",  # Train a fully connected neural netowrk\n",
    "    \"embedder_name\": \"Rostlab/prot_t5_xl_uniref50\",  # Name of the embedding model; here: one-hot-encoding as example. alternatively pLM name from huggingface: Rostlab/prot_t5_xl_uniref50 \n",
    "    \"num_epochs\": 10,  # Define how long we want to train at max (will be stopped by early-stopping)\n",
    "    \"loss_choice\": \"cross_entropy_loss\", # which loss function to use for training\n",
    "    \"learning_rate\": 1e-3,  # Default: 1e-3\n",
    "    \"dropout_rate\": 0.25,  # Default: 0.25\n",
    "    \"use_half_precision\" : True, # run the model in half-precision \n",
    "    \"bootstrapping_iterations\": 30 # adds error bars based on bootstrapping to assess statistical signicance between different results\n",
    "}\n",
    "# for more options see: \n",
    "# https://github.com/sacdallago/biotrainer/blob/main/docs/config_file_options_overview.md\n",
    "result_prott5=train(biotrainer_config_prott5)"
   ]
  },
  {
   "cell_type": "code",
   "execution_count": null,
   "id": "86d09d45",
   "metadata": {},
   "outputs": [
    {
     "name": "stdout",
     "output_type": "stream",
     "text": [
      "ProtT5: Accuracy Mean: 0.2 CI: 0.01\n",
      "OHE: Accuracy Mean: 0.302 CI: 0.038\n"
     ]
    }
   ],
   "source": [
    "# First we get the bootstrapping results\n",
    "bootstrapping_prott5_dict = result_prott5[\"test_results\"][\"test\"][\"bootstrapping\"][\"results\"]\n",
    "prott5_rmse_mean = bootstrapping_prott5_dict[\"accuracy\"][\"mean\"]\n",
    "prott5_rmse_ci = bootstrapping_prott5_dict[\"accuracy\"][\"error\"]\n",
    "print(f\"OHE: Accuracy Mean: {prott5_rmse_mean:.3f} CI: {prott5_rmse_ci:.3f}\")"
   ]
  }
 ],
 "metadata": {
  "kernelspec": {
   "display_name": "biotrainer (uv)",
   "language": "python",
   "name": "biotrainer-kernel"
  },
  "language_info": {
   "codemirror_mode": {
    "name": "ipython",
    "version": 3
   },
   "file_extension": ".py",
   "mimetype": "text/x-python",
   "name": "python",
   "nbconvert_exporter": "python",
   "pygments_lexer": "ipython3",
   "version": "3.11.13"
  }
 },
 "nbformat": 4,
 "nbformat_minor": 5
}
